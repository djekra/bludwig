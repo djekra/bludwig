{
 "cells": [
  {
   "cell_type": "markdown",
   "id": "22e29754-c05d-4ca9-8ecd-723bc79be6ba",
   "metadata": {},
   "source": [
    "# bludwig\n",
    "Some boring helper for Ludwig\n"
   ]
  },
  {
   "cell_type": "code",
   "execution_count": null,
   "id": "7a33a15e-5d78-4a16-b033-1f2e324ac747",
   "metadata": {},
   "outputs": [],
   "source": []
  }
 ],
 "metadata": {
  "kernelspec": {
   "display_name": "Python 3 (ipykernel)",
   "language": "python",
   "name": "python3"
  },
  "language_info": {
   "codemirror_mode": {
    "name": "ipython",
    "version": 3
   },
   "file_extension": ".py",
   "mimetype": "text/x-python",
   "name": "python",
   "nbconvert_exporter": "python",
   "pygments_lexer": "ipython3",
   "version": "3.10.11"
  }
 },
 "nbformat": 4,
 "nbformat_minor": 5
}

{
 "cells": [
  {
   "cell_type": "code",
   "execution_count": 1,
   "id": "368b880d-213c-4683-b7ac-22b4105e57ff",
   "metadata": {
    "execution": {
     "iopub.execute_input": "2023-06-17T19:38:50.965661Z",
     "iopub.status.busy": "2023-06-17T19:38:50.963547Z",
     "iopub.status.idle": "2023-06-17T19:38:51.918643Z",
     "shell.execute_reply": "2023-06-17T19:38:51.918002Z",
     "shell.execute_reply.started": "2023-06-17T19:38:50.965588Z"
    }
   },
   "outputs": [
    {
     "name": "stdout",
     "output_type": "stream",
     "text": [
      "blab init\n",
      "environment['in_colab']     = False\n",
      "environment['dropbox_path'] = /home/me/Data_Linux/Dropbox\n",
      "environment['lib_path']     = /home/me/Data_Linux/Dropbox/31_Projekte/01_Python/libs\n",
      "Start Time: 21:38:51\n"
     ]
    },
    {
     "data": {
      "text/html": [
       "<img src onerror=\"var cell = this.closest('.jp-CodeCell');var editor = cell.querySelector('.jp-Editor');editor.style.background='Beige';this.parentNode.removeChild(this)\">"
      ],
      "text/plain": [
       "<IPython.core.display.HTML object>"
      ]
     },
     "metadata": {},
     "output_type": "display_data"
    }
   ],
   "source": [
    "# blab init\n",
    "try:\n",
    "    import blab\n",
    "    startup_notebook = blab.blab_startup()\n",
    "    %run $startup_notebook\n",
    "except:\n",
    "    pass"
   ]
  },
  {
   "cell_type": "markdown",
   "id": "41b097a3-0873-40c9-867b-d778af1ca94c",
   "metadata": {},
   "source": [
    "# Publish bludwig"
   ]
  },
  {
   "cell_type": "code",
   "execution_count": 2,
   "id": "34f1b593-061c-4992-b962-b369063c0dae",
   "metadata": {
    "execution": {
     "iopub.execute_input": "2023-06-17T19:38:51.920220Z",
     "iopub.status.busy": "2023-06-17T19:38:51.919898Z",
     "iopub.status.idle": "2023-06-17T19:38:51.944920Z",
     "shell.execute_reply": "2023-06-17T19:38:51.943351Z",
     "shell.execute_reply.started": "2023-06-17T19:38:51.920197Z"
    },
    "executionInfo": {
     "elapsed": 463,
     "status": "ok",
     "timestamp": 1686173335567,
     "user": {
      "displayName": "Familie Klippstein",
      "userId": "08973939190628445877"
     },
     "user_tz": -120
    },
    "id": "wj1f-u_vOvsK"
   },
   "outputs": [
    {
     "data": {
      "text/html": [
       "<img src onerror=\"var cell = this.closest('.jp-CodeCell');var editor = cell.querySelector('.jp-Editor');editor.style.background='Beige';this.parentNode.removeChild(this)\">"
      ],
      "text/plain": [
       "<IPython.core.display.HTML object>"
      ]
     },
     "metadata": {},
     "output_type": "display_data"
    }
   ],
   "source": [
    "# Settings\n",
    "commit_message = 'Analyse training data & automatically config'  # \"ֹ\"\n",
    "\n",
    "bgc('Beige')"
   ]
  },
  {
   "cell_type": "markdown",
   "id": "3fd10409-2f5f-4628-8768-3a7e489d33b4",
   "metadata": {},
   "source": [
    "## Create README"
   ]
  },
  {
   "cell_type": "code",
   "execution_count": 3,
   "id": "14ea296b-20d0-4bfe-ada6-64aca05ca146",
   "metadata": {
    "execution": {
     "iopub.execute_input": "2023-06-17T19:38:51.948930Z",
     "iopub.status.busy": "2023-06-17T19:38:51.946192Z",
     "iopub.status.idle": "2023-06-17T19:38:54.383216Z",
     "shell.execute_reply": "2023-06-17T19:38:54.382460Z",
     "shell.execute_reply.started": "2023-06-17T19:38:51.948860Z"
    }
   },
   "outputs": [
    {
     "name": "stdout",
     "output_type": "stream",
     "text": [
      "[NbConvertApp] Converting notebook README.ipynb to markdown\n",
      "[NbConvertApp] Writing 58 bytes to README.md\n"
     ]
    }
   ],
   "source": [
    "!jupyter nbconvert --ClearMetadataPreprocessor.enabled=True --ClearOutput.enabled=True --to markdown README.ipynb"
   ]
  },
  {
   "cell_type": "markdown",
   "id": "a4547f78-251b-45b5-a478-27dc691d193b",
   "metadata": {},
   "source": [
    "## Local install"
   ]
  },
  {
   "cell_type": "code",
   "execution_count": 4,
   "id": "30be06b0-90b1-41b1-a63d-9cec8e4a05ab",
   "metadata": {
    "execution": {
     "iopub.execute_input": "2023-06-17T19:38:54.390822Z",
     "iopub.status.busy": "2023-06-17T19:38:54.388618Z",
     "iopub.status.idle": "2023-06-17T19:38:58.389383Z",
     "shell.execute_reply": "2023-06-17T19:38:58.388643Z",
     "shell.execute_reply.started": "2023-06-17T19:38:54.390782Z"
    }
   },
   "outputs": [
    {
     "name": "stdout",
     "output_type": "stream",
     "text": [
      "Found existing installation: bludwig 0.0.4\n",
      "Uninstalling bludwig-0.0.4:\n",
      "  Successfully uninstalled bludwig-0.0.4\n"
     ]
    }
   ],
   "source": [
    "# uninstall\n",
    "!pip uninstall -y bludwig"
   ]
  },
  {
   "cell_type": "code",
   "execution_count": 5,
   "id": "f345ee0f-748f-40be-8578-8ad4ac4d9fe3",
   "metadata": {
    "execution": {
     "iopub.execute_input": "2023-06-17T19:38:58.390596Z",
     "iopub.status.busy": "2023-06-17T19:38:58.390355Z",
     "iopub.status.idle": "2023-06-17T19:39:11.527230Z",
     "shell.execute_reply": "2023-06-17T19:39:11.524923Z",
     "shell.execute_reply.started": "2023-06-17T19:38:58.390573Z"
    }
   },
   "outputs": [
    {
     "name": "stdout",
     "output_type": "stream",
     "text": [
      "Obtaining file:///home/me/Data_Linux/Dropbox/31_Projekte/01_Python/git/bludwig\n",
      "  Installing build dependencies ... \u001b[?25ldone\n",
      "\u001b[?25h  Checking if build backend supports build_editable ... \u001b[?25ldone\n",
      "\u001b[?25h  Getting requirements to build editable ... \u001b[?25ldone\n",
      "\u001b[?25h  Preparing editable metadata (pyproject.toml) ... \u001b[?25ldone\n",
      "\u001b[?25hRequirement already satisfied: pandasklar in /home/me/mambaforge/envs/python_07/lib/python3.10/site-packages (from bludwig==0.0.5) (0.3.4)\n",
      "Requirement already satisfied: munch in /home/me/mambaforge/envs/python_07/lib/python3.10/site-packages (from bludwig==0.0.5) (3.0.0)\n",
      "Requirement already satisfied: six in /home/me/mambaforge/envs/python_07/lib/python3.10/site-packages (from munch->bludwig==0.0.5) (1.16.0)\n",
      "Requirement already satisfied: pandas in /home/me/mambaforge/envs/python_07/lib/python3.10/site-packages (from pandasklar->bludwig==0.0.5) (2.0.2)\n",
      "Requirement already satisfied: numpy in /home/me/mambaforge/envs/python_07/lib/python3.10/site-packages (from pandasklar->bludwig==0.0.5) (1.24.3)\n",
      "Requirement already satisfied: perlin-noise in /home/me/mambaforge/envs/python_07/lib/python3.10/site-packages (from pandasklar->bludwig==0.0.5) (1.12)\n",
      "Requirement already satisfied: termcolor in /home/me/mambaforge/envs/python_07/lib/python3.10/site-packages (from pandasklar->bludwig==0.0.5) (2.3.0)\n",
      "Requirement already satisfied: bpyth in /home/me/mambaforge/envs/python_07/lib/python3.10/site-packages (from pandasklar->bludwig==0.0.5) (0.1.9)\n",
      "Requirement already satisfied: blab in /home/me/mambaforge/envs/python_07/lib/python3.10/site-packages (from pandasklar->bludwig==0.0.5) (0.1.6)\n",
      "Requirement already satisfied: nbformat in /home/me/mambaforge/envs/python_07/lib/python3.10/site-packages (from blab->pandasklar->bludwig==0.0.5) (5.9.0)\n",
      "Requirement already satisfied: nbconvert in /home/me/mambaforge/envs/python_07/lib/python3.10/site-packages (from blab->pandasklar->bludwig==0.0.5) (7.4.0)\n",
      "Requirement already satisfied: ipytest in /home/me/mambaforge/envs/python_07/lib/python3.10/site-packages (from blab->pandasklar->bludwig==0.0.5) (0.13.3)\n",
      "Requirement already satisfied: matplotlib in /home/me/mambaforge/envs/python_07/lib/python3.10/site-packages (from blab->pandasklar->bludwig==0.0.5) (3.6.3)\n",
      "Requirement already satisfied: python-dateutil>=2.8.2 in /home/me/mambaforge/envs/python_07/lib/python3.10/site-packages (from pandas->pandasklar->bludwig==0.0.5) (2.8.2)\n",
      "Requirement already satisfied: pytz>=2020.1 in /home/me/mambaforge/envs/python_07/lib/python3.10/site-packages (from pandas->pandasklar->bludwig==0.0.5) (2023.3)\n",
      "Requirement already satisfied: tzdata>=2022.1 in /home/me/mambaforge/envs/python_07/lib/python3.10/site-packages (from pandas->pandasklar->bludwig==0.0.5) (2023.3)\n",
      "Requirement already satisfied: ipython in /home/me/mambaforge/envs/python_07/lib/python3.10/site-packages (from ipytest->blab->pandasklar->bludwig==0.0.5) (8.14.0)\n",
      "Requirement already satisfied: packaging in /home/me/mambaforge/envs/python_07/lib/python3.10/site-packages (from ipytest->blab->pandasklar->bludwig==0.0.5) (23.1)\n",
      "Requirement already satisfied: pytest>=5.4 in /home/me/mambaforge/envs/python_07/lib/python3.10/site-packages (from ipytest->blab->pandasklar->bludwig==0.0.5) (7.3.1)\n",
      "Requirement already satisfied: contourpy>=1.0.1 in /home/me/mambaforge/envs/python_07/lib/python3.10/site-packages (from matplotlib->blab->pandasklar->bludwig==0.0.5) (1.0.7)\n",
      "Requirement already satisfied: cycler>=0.10 in /home/me/mambaforge/envs/python_07/lib/python3.10/site-packages (from matplotlib->blab->pandasklar->bludwig==0.0.5) (0.11.0)\n",
      "Requirement already satisfied: fonttools>=4.22.0 in /home/me/mambaforge/envs/python_07/lib/python3.10/site-packages (from matplotlib->blab->pandasklar->bludwig==0.0.5) (4.39.4)\n",
      "Requirement already satisfied: kiwisolver>=1.0.1 in /home/me/mambaforge/envs/python_07/lib/python3.10/site-packages (from matplotlib->blab->pandasklar->bludwig==0.0.5) (1.4.4)\n",
      "Requirement already satisfied: pillow>=6.2.0 in /home/me/mambaforge/envs/python_07/lib/python3.10/site-packages (from matplotlib->blab->pandasklar->bludwig==0.0.5) (9.5.0)\n",
      "Requirement already satisfied: pyparsing>=2.2.1 in /home/me/mambaforge/envs/python_07/lib/python3.10/site-packages (from matplotlib->blab->pandasklar->bludwig==0.0.5) (3.0.9)\n",
      "Requirement already satisfied: beautifulsoup4 in /home/me/mambaforge/envs/python_07/lib/python3.10/site-packages (from nbconvert->blab->pandasklar->bludwig==0.0.5) (4.12.2)\n",
      "Requirement already satisfied: bleach in /home/me/mambaforge/envs/python_07/lib/python3.10/site-packages (from nbconvert->blab->pandasklar->bludwig==0.0.5) (6.0.0)\n",
      "Requirement already satisfied: defusedxml in /home/me/mambaforge/envs/python_07/lib/python3.10/site-packages (from nbconvert->blab->pandasklar->bludwig==0.0.5) (0.7.1)\n",
      "Requirement already satisfied: jinja2>=3.0 in /home/me/mambaforge/envs/python_07/lib/python3.10/site-packages (from nbconvert->blab->pandasklar->bludwig==0.0.5) (3.1.2)\n",
      "Requirement already satisfied: jupyter-core>=4.7 in /home/me/mambaforge/envs/python_07/lib/python3.10/site-packages (from nbconvert->blab->pandasklar->bludwig==0.0.5) (5.3.0)\n",
      "Requirement already satisfied: jupyterlab-pygments in /home/me/mambaforge/envs/python_07/lib/python3.10/site-packages (from nbconvert->blab->pandasklar->bludwig==0.0.5) (0.2.2)\n",
      "Requirement already satisfied: markupsafe>=2.0 in /home/me/mambaforge/envs/python_07/lib/python3.10/site-packages (from nbconvert->blab->pandasklar->bludwig==0.0.5) (2.1.3)\n",
      "Requirement already satisfied: mistune<3,>=2.0.3 in /home/me/mambaforge/envs/python_07/lib/python3.10/site-packages (from nbconvert->blab->pandasklar->bludwig==0.0.5) (2.0.5)\n",
      "Requirement already satisfied: nbclient>=0.5.0 in /home/me/mambaforge/envs/python_07/lib/python3.10/site-packages (from nbconvert->blab->pandasklar->bludwig==0.0.5) (0.8.0)\n",
      "Requirement already satisfied: pandocfilters>=1.4.1 in /home/me/mambaforge/envs/python_07/lib/python3.10/site-packages (from nbconvert->blab->pandasklar->bludwig==0.0.5) (1.5.0)\n",
      "Requirement already satisfied: pygments>=2.4.1 in /home/me/mambaforge/envs/python_07/lib/python3.10/site-packages (from nbconvert->blab->pandasklar->bludwig==0.0.5) (2.15.1)\n",
      "Requirement already satisfied: tinycss2 in /home/me/mambaforge/envs/python_07/lib/python3.10/site-packages (from nbconvert->blab->pandasklar->bludwig==0.0.5) (1.2.1)\n",
      "Requirement already satisfied: traitlets>=5.0 in /home/me/mambaforge/envs/python_07/lib/python3.10/site-packages (from nbconvert->blab->pandasklar->bludwig==0.0.5) (5.9.0)\n",
      "Requirement already satisfied: fastjsonschema in /home/me/mambaforge/envs/python_07/lib/python3.10/site-packages (from nbformat->blab->pandasklar->bludwig==0.0.5) (2.17.1)\n",
      "Requirement already satisfied: jsonschema>=2.6 in /home/me/mambaforge/envs/python_07/lib/python3.10/site-packages (from nbformat->blab->pandasklar->bludwig==0.0.5) (4.6.2)\n",
      "Requirement already satisfied: attrs>=17.4.0 in /home/me/mambaforge/envs/python_07/lib/python3.10/site-packages (from jsonschema>=2.6->nbformat->blab->pandasklar->bludwig==0.0.5) (23.1.0)\n",
      "Requirement already satisfied: pyrsistent!=0.17.0,!=0.17.1,!=0.17.2,>=0.14.0 in /home/me/mambaforge/envs/python_07/lib/python3.10/site-packages (from jsonschema>=2.6->nbformat->blab->pandasklar->bludwig==0.0.5) (0.19.3)\n",
      "Requirement already satisfied: platformdirs>=2.5 in /home/me/mambaforge/envs/python_07/lib/python3.10/site-packages (from jupyter-core>=4.7->nbconvert->blab->pandasklar->bludwig==0.0.5) (3.5.1)\n",
      "Requirement already satisfied: jupyter-client>=6.1.12 in /home/me/mambaforge/envs/python_07/lib/python3.10/site-packages (from nbclient>=0.5.0->nbconvert->blab->pandasklar->bludwig==0.0.5) (8.2.0)\n",
      "Requirement already satisfied: iniconfig in /home/me/mambaforge/envs/python_07/lib/python3.10/site-packages (from pytest>=5.4->ipytest->blab->pandasklar->bludwig==0.0.5) (2.0.0)\n",
      "Requirement already satisfied: pluggy<2.0,>=0.12 in /home/me/mambaforge/envs/python_07/lib/python3.10/site-packages (from pytest>=5.4->ipytest->blab->pandasklar->bludwig==0.0.5) (1.0.0)\n",
      "Requirement already satisfied: exceptiongroup>=1.0.0rc8 in /home/me/mambaforge/envs/python_07/lib/python3.10/site-packages (from pytest>=5.4->ipytest->blab->pandasklar->bludwig==0.0.5) (1.1.1)\n",
      "Requirement already satisfied: tomli>=1.0.0 in /home/me/mambaforge/envs/python_07/lib/python3.10/site-packages (from pytest>=5.4->ipytest->blab->pandasklar->bludwig==0.0.5) (2.0.1)\n",
      "Requirement already satisfied: soupsieve>1.2 in /home/me/mambaforge/envs/python_07/lib/python3.10/site-packages (from beautifulsoup4->nbconvert->blab->pandasklar->bludwig==0.0.5) (2.3.2.post1)\n",
      "Requirement already satisfied: webencodings in /home/me/mambaforge/envs/python_07/lib/python3.10/site-packages (from bleach->nbconvert->blab->pandasklar->bludwig==0.0.5) (0.5.1)\n",
      "Requirement already satisfied: backcall in /home/me/mambaforge/envs/python_07/lib/python3.10/site-packages (from ipython->ipytest->blab->pandasklar->bludwig==0.0.5) (0.2.0)\n",
      "Requirement already satisfied: decorator in /home/me/mambaforge/envs/python_07/lib/python3.10/site-packages (from ipython->ipytest->blab->pandasklar->bludwig==0.0.5) (5.1.1)\n",
      "Requirement already satisfied: jedi>=0.16 in /home/me/mambaforge/envs/python_07/lib/python3.10/site-packages (from ipython->ipytest->blab->pandasklar->bludwig==0.0.5) (0.18.2)\n",
      "Requirement already satisfied: matplotlib-inline in /home/me/mambaforge/envs/python_07/lib/python3.10/site-packages (from ipython->ipytest->blab->pandasklar->bludwig==0.0.5) (0.1.6)\n",
      "Requirement already satisfied: pickleshare in /home/me/mambaforge/envs/python_07/lib/python3.10/site-packages (from ipython->ipytest->blab->pandasklar->bludwig==0.0.5) (0.7.5)\n",
      "Requirement already satisfied: prompt-toolkit!=3.0.37,<3.1.0,>=3.0.30 in /home/me/mambaforge/envs/python_07/lib/python3.10/site-packages (from ipython->ipytest->blab->pandasklar->bludwig==0.0.5) (3.0.38)\n",
      "Requirement already satisfied: stack-data in /home/me/mambaforge/envs/python_07/lib/python3.10/site-packages (from ipython->ipytest->blab->pandasklar->bludwig==0.0.5) (0.6.2)\n",
      "Requirement already satisfied: pexpect>4.3 in /home/me/mambaforge/envs/python_07/lib/python3.10/site-packages (from ipython->ipytest->blab->pandasklar->bludwig==0.0.5) (4.8.0)\n",
      "Requirement already satisfied: parso<0.9.0,>=0.8.0 in /home/me/mambaforge/envs/python_07/lib/python3.10/site-packages (from jedi>=0.16->ipython->ipytest->blab->pandasklar->bludwig==0.0.5) (0.8.3)\n",
      "Requirement already satisfied: pyzmq>=23.0 in /home/me/mambaforge/envs/python_07/lib/python3.10/site-packages (from jupyter-client>=6.1.12->nbclient>=0.5.0->nbconvert->blab->pandasklar->bludwig==0.0.5) (25.1.0)\n",
      "Requirement already satisfied: tornado>=6.2 in /home/me/mambaforge/envs/python_07/lib/python3.10/site-packages (from jupyter-client>=6.1.12->nbclient>=0.5.0->nbconvert->blab->pandasklar->bludwig==0.0.5) (6.3.2)\n",
      "Requirement already satisfied: ptyprocess>=0.5 in /home/me/mambaforge/envs/python_07/lib/python3.10/site-packages (from pexpect>4.3->ipython->ipytest->blab->pandasklar->bludwig==0.0.5) (0.7.0)\n",
      "Requirement already satisfied: wcwidth in /home/me/mambaforge/envs/python_07/lib/python3.10/site-packages (from prompt-toolkit!=3.0.37,<3.1.0,>=3.0.30->ipython->ipytest->blab->pandasklar->bludwig==0.0.5) (0.2.6)\n",
      "Requirement already satisfied: executing>=1.2.0 in /home/me/mambaforge/envs/python_07/lib/python3.10/site-packages (from stack-data->ipython->ipytest->blab->pandasklar->bludwig==0.0.5) (1.2.0)\n",
      "Requirement already satisfied: asttokens>=2.1.0 in /home/me/mambaforge/envs/python_07/lib/python3.10/site-packages (from stack-data->ipython->ipytest->blab->pandasklar->bludwig==0.0.5) (2.2.1)\n",
      "Requirement already satisfied: pure-eval in /home/me/mambaforge/envs/python_07/lib/python3.10/site-packages (from stack-data->ipython->ipytest->blab->pandasklar->bludwig==0.0.5) (0.2.2)\n",
      "Building wheels for collected packages: bludwig\n",
      "  Building editable for bludwig (pyproject.toml) ... \u001b[?25ldone\n",
      "\u001b[?25h  Created wheel for bludwig: filename=bludwig-0.0.5-0.editable-py3-none-any.whl size=2533 sha256=ce121b666dfc0364e053880d0c9dab0260dc8c3e63a90518d68a9838ff17b654\n",
      "  Stored in directory: /tmp/pip-ephem-wheel-cache-cvwbi6y7/wheels/31/c8/39/b8d8ccca181137b2e2cd8a9a90ef63beec8de943fe06e6bed3\n",
      "Successfully built bludwig\n",
      "Installing collected packages: bludwig\n",
      "Successfully installed bludwig-0.0.5\n"
     ]
    }
   ],
   "source": [
    "# install locally\n",
    "!python -m pip install -e ."
   ]
  },
  {
   "cell_type": "code",
   "execution_count": 6,
   "id": "8cec0e88-e3c2-4020-b9c9-176bcd255c46",
   "metadata": {
    "execution": {
     "iopub.execute_input": "2023-06-17T19:39:11.532506Z",
     "iopub.status.busy": "2023-06-17T19:39:11.530971Z",
     "iopub.status.idle": "2023-06-17T19:39:15.835290Z",
     "shell.execute_reply": "2023-06-17T19:39:15.833841Z",
     "shell.execute_reply.started": "2023-06-17T19:39:11.532437Z"
    }
   },
   "outputs": [
    {
     "name": "stdout",
     "output_type": "stream",
     "text": [
      "Name: bludwig\n",
      "Version: 0.0.5\n",
      "Summary: Some helper for Ludwig AI\n",
      "Home-page: \n",
      "Author: \n",
      "Author-email: djekra <hopsalla@gmail.com>\n",
      "License: MIT\n",
      "Location: /home/me/mambaforge/envs/python_07/lib/python3.10/site-packages\n",
      "Editable project location: /home/me/Data_Linux/Dropbox/31_Projekte/01_Python/git/bludwig\n",
      "Requires: munch, pandasklar\n",
      "Required-by: \n"
     ]
    }
   ],
   "source": [
    "# show\n",
    "!pip show bludwig"
   ]
  },
  {
   "cell_type": "code",
   "execution_count": 7,
   "id": "baf8f2b6-2bb4-4460-b654-f4454bfec48f",
   "metadata": {
    "execution": {
     "iopub.execute_input": "2023-06-17T19:39:15.848435Z",
     "iopub.status.busy": "2023-06-17T19:39:15.840807Z",
     "iopub.status.idle": "2023-06-17T19:39:29.535408Z",
     "shell.execute_reply": "2023-06-17T19:39:29.534583Z",
     "shell.execute_reply.started": "2023-06-17T19:39:15.848374Z"
    }
   },
   "outputs": [],
   "source": [
    "# test import\n",
    "# Wenn dies failed: Restart Kernel and Run all Cells\n",
    "import bludwig"
   ]
  },
  {
   "cell_type": "code",
   "execution_count": 8,
   "id": "43f0bbdd-2df6-4534-a86e-77657d0329da",
   "metadata": {
    "execution": {
     "iopub.execute_input": "2023-06-17T19:39:29.537225Z",
     "iopub.status.busy": "2023-06-17T19:39:29.536332Z",
     "iopub.status.idle": "2023-06-17T19:39:45.644043Z",
     "shell.execute_reply": "2023-06-17T19:39:45.641972Z",
     "shell.execute_reply.started": "2023-06-17T19:39:29.537194Z"
    }
   },
   "outputs": [
    {
     "name": "stdout",
     "output_type": "stream",
     "text": [
      "Hello bludwig 0.0.5\n",
      "\u001b[0m"
     ]
    }
   ],
   "source": [
    "# test script\n",
    "!bludwig"
   ]
  },
  {
   "cell_type": "code",
   "execution_count": 9,
   "id": "d0c4ca23-ef67-439e-b389-eef9814f9e9b",
   "metadata": {
    "execution": {
     "iopub.execute_input": "2023-06-17T19:39:45.648527Z",
     "iopub.status.busy": "2023-06-17T19:39:45.645746Z",
     "iopub.status.idle": "2023-06-17T19:39:45.718006Z",
     "shell.execute_reply": "2023-06-17T19:39:45.715314Z",
     "shell.execute_reply.started": "2023-06-17T19:39:45.648470Z"
    }
   },
   "outputs": [
    {
     "name": "stdout",
     "output_type": "stream",
     "text": [
      "Stop Time:  21:39:45\n",
      "Elapsed:    54 secs\n"
     ]
    },
    {
     "data": {
      "text/html": [
       "<img src onerror=\"var cell = this.closest('.jp-CodeCell');var editor = cell.querySelector('.jp-Editor');editor.style.background='DarkGray';this.parentNode.removeChild(this)\">"
      ],
      "text/plain": [
       "<IPython.core.display.HTML object>"
      ]
     },
     "metadata": {},
     "output_type": "display_data"
    }
   ],
   "source": [
    "raise Stop"
   ]
  },
  {
   "cell_type": "markdown",
   "id": "efa2c656-785f-45b7-a3b5-a9ae251bce06",
   "metadata": {},
   "source": [
    "## build"
   ]
  },
  {
   "cell_type": "code",
   "execution_count": 10,
   "id": "f20cbd4d-b38b-4bc9-a750-b14851fb174b",
   "metadata": {
    "execution": {
     "iopub.execute_input": "2023-06-17T19:39:52.352512Z",
     "iopub.status.busy": "2023-06-17T19:39:52.351180Z",
     "iopub.status.idle": "2023-06-17T19:39:57.133754Z",
     "shell.execute_reply": "2023-06-17T19:39:57.130357Z",
     "shell.execute_reply.started": "2023-06-17T19:39:52.352466Z"
    }
   },
   "outputs": [],
   "source": [
    "!pip install -q build"
   ]
  },
  {
   "cell_type": "code",
   "execution_count": 11,
   "id": "c745f5da-d6e4-408a-aa73-1166ccc6fd5b",
   "metadata": {
    "execution": {
     "iopub.execute_input": "2023-06-17T19:39:57.142619Z",
     "iopub.status.busy": "2023-06-17T19:39:57.140372Z",
     "iopub.status.idle": "2023-06-17T19:40:05.313437Z",
     "shell.execute_reply": "2023-06-17T19:40:05.311570Z",
     "shell.execute_reply.started": "2023-06-17T19:39:57.142527Z"
    }
   },
   "outputs": [
    {
     "name": "stdout",
     "output_type": "stream",
     "text": [
      "\u001b[1m* Creating virtualenv isolated environment...\u001b[0m\n",
      "\u001b[1m* Installing packages in isolated environment... (setuptools>=61.0.0, wheel)\u001b[0m\n",
      "\u001b[1m* Getting build dependencies for sdist...\u001b[0m\n",
      "/tmp/build-env-0crw3ya5/lib/python3.10/site-packages/setuptools/config/pyprojecttoml.py:66: _BetaConfiguration: Support for `[tool.setuptools]` in `pyproject.toml` is still *beta*.\n",
      "  config = read_configuration(filepath, True, ignore_option_errors, dist)\n",
      "running egg_info\n",
      "writing src/bludwig.egg-info/PKG-INFO\n",
      "writing dependency_links to src/bludwig.egg-info/dependency_links.txt\n",
      "writing entry points to src/bludwig.egg-info/entry_points.txt\n",
      "writing requirements to src/bludwig.egg-info/requires.txt\n",
      "writing top-level names to src/bludwig.egg-info/top_level.txt\n",
      "reading manifest file 'src/bludwig.egg-info/SOURCES.txt'\n",
      "adding license file 'LICENSE'\n",
      "writing manifest file 'src/bludwig.egg-info/SOURCES.txt'\n",
      "\u001b[1m* Building sdist...\u001b[0m\n",
      "/tmp/build-env-0crw3ya5/lib/python3.10/site-packages/setuptools/config/pyprojecttoml.py:66: _BetaConfiguration: Support for `[tool.setuptools]` in `pyproject.toml` is still *beta*.\n",
      "  config = read_configuration(filepath, True, ignore_option_errors, dist)\n",
      "running sdist\n",
      "running egg_info\n",
      "writing src/bludwig.egg-info/PKG-INFO\n",
      "writing dependency_links to src/bludwig.egg-info/dependency_links.txt\n",
      "writing entry points to src/bludwig.egg-info/entry_points.txt\n",
      "writing requirements to src/bludwig.egg-info/requires.txt\n",
      "writing top-level names to src/bludwig.egg-info/top_level.txt\n",
      "reading manifest file 'src/bludwig.egg-info/SOURCES.txt'\n",
      "adding license file 'LICENSE'\n",
      "writing manifest file 'src/bludwig.egg-info/SOURCES.txt'\n",
      "running check\n",
      "creating bludwig-0.0.5\n",
      "creating bludwig-0.0.5/src\n",
      "creating bludwig-0.0.5/src/bludwig\n",
      "creating bludwig-0.0.5/src/bludwig.egg-info\n",
      "copying files to bludwig-0.0.5...\n",
      "copying LICENSE -> bludwig-0.0.5\n",
      "copying README.md -> bludwig-0.0.5\n",
      "copying pyproject.toml -> bludwig-0.0.5\n",
      "copying src/bludwig/LudwigJob.py -> bludwig-0.0.5/src/bludwig\n",
      "copying src/bludwig/__init__.py -> bludwig-0.0.5/src/bludwig\n",
      "copying src/bludwig/__main__.py -> bludwig-0.0.5/src/bludwig\n",
      "copying src/bludwig/helper.py -> bludwig-0.0.5/src/bludwig\n",
      "copying src/bludwig.egg-info/PKG-INFO -> bludwig-0.0.5/src/bludwig.egg-info\n",
      "copying src/bludwig.egg-info/SOURCES.txt -> bludwig-0.0.5/src/bludwig.egg-info\n",
      "copying src/bludwig.egg-info/dependency_links.txt -> bludwig-0.0.5/src/bludwig.egg-info\n",
      "copying src/bludwig.egg-info/entry_points.txt -> bludwig-0.0.5/src/bludwig.egg-info\n",
      "copying src/bludwig.egg-info/requires.txt -> bludwig-0.0.5/src/bludwig.egg-info\n",
      "copying src/bludwig.egg-info/top_level.txt -> bludwig-0.0.5/src/bludwig.egg-info\n",
      "Writing bludwig-0.0.5/setup.cfg\n",
      "Creating tar archive\n",
      "removing 'bludwig-0.0.5' (and everything under it)\n",
      "\u001b[1m* Building wheel from sdist\u001b[0m\n",
      "\u001b[1m* Creating virtualenv isolated environment...\u001b[0m\n",
      "\u001b[1m* Installing packages in isolated environment... (setuptools>=61.0.0, wheel)\u001b[0m\n",
      "\u001b[1m* Getting build dependencies for wheel...\u001b[0m\n",
      "/tmp/build-env-o19ofb1y/lib/python3.10/site-packages/setuptools/config/pyprojecttoml.py:66: _BetaConfiguration: Support for `[tool.setuptools]` in `pyproject.toml` is still *beta*.\n",
      "  config = read_configuration(filepath, True, ignore_option_errors, dist)\n",
      "running egg_info\n",
      "writing src/bludwig.egg-info/PKG-INFO\n",
      "writing dependency_links to src/bludwig.egg-info/dependency_links.txt\n",
      "writing entry points to src/bludwig.egg-info/entry_points.txt\n",
      "writing requirements to src/bludwig.egg-info/requires.txt\n",
      "writing top-level names to src/bludwig.egg-info/top_level.txt\n",
      "reading manifest file 'src/bludwig.egg-info/SOURCES.txt'\n",
      "adding license file 'LICENSE'\n",
      "writing manifest file 'src/bludwig.egg-info/SOURCES.txt'\n",
      "\u001b[1m* Installing packages in isolated environment... (wheel)\u001b[0m\n",
      "\u001b[1m* Building wheel...\u001b[0m\n",
      "/tmp/build-env-o19ofb1y/lib/python3.10/site-packages/setuptools/config/pyprojecttoml.py:66: _BetaConfiguration: Support for `[tool.setuptools]` in `pyproject.toml` is still *beta*.\n",
      "  config = read_configuration(filepath, True, ignore_option_errors, dist)\n",
      "running bdist_wheel\n",
      "running build\n",
      "running build_py\n",
      "creating build\n",
      "creating build/lib\n",
      "creating build/lib/bludwig\n",
      "copying src/bludwig/__main__.py -> build/lib/bludwig\n",
      "copying src/bludwig/helper.py -> build/lib/bludwig\n",
      "copying src/bludwig/LudwigJob.py -> build/lib/bludwig\n",
      "copying src/bludwig/__init__.py -> build/lib/bludwig\n",
      "running egg_info\n",
      "writing src/bludwig.egg-info/PKG-INFO\n",
      "writing dependency_links to src/bludwig.egg-info/dependency_links.txt\n",
      "writing entry points to src/bludwig.egg-info/entry_points.txt\n",
      "writing requirements to src/bludwig.egg-info/requires.txt\n",
      "writing top-level names to src/bludwig.egg-info/top_level.txt\n",
      "reading manifest file 'src/bludwig.egg-info/SOURCES.txt'\n",
      "adding license file 'LICENSE'\n",
      "writing manifest file 'src/bludwig.egg-info/SOURCES.txt'\n",
      "installing to build/bdist.linux-x86_64/wheel\n",
      "running install\n",
      "running install_lib\n",
      "creating build/bdist.linux-x86_64\n",
      "creating build/bdist.linux-x86_64/wheel\n",
      "creating build/bdist.linux-x86_64/wheel/bludwig\n",
      "copying build/lib/bludwig/__main__.py -> build/bdist.linux-x86_64/wheel/bludwig\n",
      "copying build/lib/bludwig/helper.py -> build/bdist.linux-x86_64/wheel/bludwig\n",
      "copying build/lib/bludwig/LudwigJob.py -> build/bdist.linux-x86_64/wheel/bludwig\n",
      "copying build/lib/bludwig/__init__.py -> build/bdist.linux-x86_64/wheel/bludwig\n",
      "running install_egg_info\n",
      "Copying src/bludwig.egg-info to build/bdist.linux-x86_64/wheel/bludwig-0.0.5-py3.10.egg-info\n",
      "running install_scripts\n",
      "creating build/bdist.linux-x86_64/wheel/bludwig-0.0.5.dist-info/WHEEL\n",
      "creating '/home/me/Data_Linux/Dropbox/31_Projekte/01_Python/git/bludwig/dist/.tmp-4163b89p/bludwig-0.0.5-py3-none-any.whl' and adding 'build/bdist.linux-x86_64/wheel' to it\n",
      "adding 'bludwig/LudwigJob.py'\n",
      "adding 'bludwig/__init__.py'\n",
      "adding 'bludwig/__main__.py'\n",
      "adding 'bludwig/helper.py'\n",
      "adding 'bludwig-0.0.5.dist-info/LICENSE'\n",
      "adding 'bludwig-0.0.5.dist-info/METADATA'\n",
      "adding 'bludwig-0.0.5.dist-info/WHEEL'\n",
      "adding 'bludwig-0.0.5.dist-info/entry_points.txt'\n",
      "adding 'bludwig-0.0.5.dist-info/top_level.txt'\n",
      "adding 'bludwig-0.0.5.dist-info/RECORD'\n",
      "removing build/bdist.linux-x86_64/wheel\n",
      "\u001b[1m\u001b[92mSuccessfully built \u001b[4mbludwig-0.0.5.tar.gz\u001b[0m\u001b[1m\u001b[92m and \u001b[4mbludwig-0.0.5-py3-none-any.whl\u001b[0m\u001b[1m\u001b[92m\u001b[0m\n"
     ]
    }
   ],
   "source": [
    "!python -m build"
   ]
  },
  {
   "cell_type": "markdown",
   "id": "e6b13397-01f2-4ffb-9668-dc9a58196db9",
   "metadata": {},
   "source": [
    "## Publish on github"
   ]
  },
  {
   "cell_type": "code",
   "execution_count": 36,
   "id": "d444d5d8-ddb6-451e-9300-fa6424dde8f0",
   "metadata": {
    "execution": {
     "iopub.execute_input": "2023-06-17T20:40:11.566842Z",
     "iopub.status.busy": "2023-06-17T20:40:11.565773Z",
     "iopub.status.idle": "2023-06-17T20:40:11.830490Z",
     "shell.execute_reply": "2023-06-17T20:40:11.829059Z",
     "shell.execute_reply.started": "2023-06-17T20:40:11.566805Z"
    }
   },
   "outputs": [
    {
     "name": "stdout",
     "output_type": "stream",
     "text": [
      "Auf Branch main\n",
      "Ihr Branch ist auf demselben Stand wie 'origin/main'.\n",
      "\n",
      "Änderungen, die nicht zum Commit vorgemerkt sind:\n",
      "  (benutzen Sie \"git add <Datei>...\", um die Änderungen zum Commit vorzumerken)\n",
      "  (benutzen Sie \"git restore <Datei>...\", um die Änderungen im Arbeitsverzeichnis zu verwerfen)\n",
      "\t\u001b[31mgeändert:       publish_bludwig.ipynb\u001b[m\n",
      "\n",
      "keine Änderungen zum Commit vorgemerkt (benutzen Sie \"git add\" und/oder \"git commit -a\")\n"
     ]
    }
   ],
   "source": [
    "!git status"
   ]
  },
  {
   "cell_type": "code",
   "execution_count": 37,
   "id": "3d4b6e41-d98d-467c-981c-72405459c542",
   "metadata": {
    "execution": {
     "iopub.execute_input": "2023-06-17T20:40:18.621508Z",
     "iopub.status.busy": "2023-06-17T20:40:18.616813Z",
     "iopub.status.idle": "2023-06-17T20:40:18.872532Z",
     "shell.execute_reply": "2023-06-17T20:40:18.871545Z",
     "shell.execute_reply.started": "2023-06-17T20:40:18.621431Z"
    }
   },
   "outputs": [],
   "source": [
    "!git config credential.helper store"
   ]
  },
  {
   "cell_type": "code",
   "execution_count": 32,
   "id": "a9a7e740-2661-43c1-9743-bef78afaba54",
   "metadata": {
    "execution": {
     "iopub.execute_input": "2023-06-17T20:38:02.146057Z",
     "iopub.status.busy": "2023-06-17T20:38:02.145726Z",
     "iopub.status.idle": "2023-06-17T20:38:02.417054Z",
     "shell.execute_reply": "2023-06-17T20:38:02.415361Z",
     "shell.execute_reply.started": "2023-06-17T20:38:02.146031Z"
    }
   },
   "outputs": [],
   "source": [
    "!git add --all"
   ]
  },
  {
   "cell_type": "code",
   "execution_count": 33,
   "id": "fbfaaaaa-f75a-459d-b2f3-3a8d337ee310",
   "metadata": {
    "execution": {
     "iopub.execute_input": "2023-06-17T20:38:02.421662Z",
     "iopub.status.busy": "2023-06-17T20:38:02.421039Z",
     "iopub.status.idle": "2023-06-17T20:38:02.741691Z",
     "shell.execute_reply": "2023-06-17T20:38:02.740950Z",
     "shell.execute_reply.started": "2023-06-17T20:38:02.421603Z"
    }
   },
   "outputs": [
    {
     "name": "stdout",
     "output_type": "stream",
     "text": [
      "[main f2c8869] commit_message\n",
      " 3 files changed, 121 insertions(+), 39 deletions(-)\n"
     ]
    }
   ],
   "source": [
    "# Commit message eintragen und run\n",
    "!git commit -m commit_message"
   ]
  },
  {
   "cell_type": "code",
   "execution_count": 34,
   "id": "9c24bc9a-6a3b-4eda-86f4-27a2b4b21a8c",
   "metadata": {
    "execution": {
     "iopub.execute_input": "2023-06-17T20:38:02.747845Z",
     "iopub.status.busy": "2023-06-17T20:38:02.746393Z",
     "iopub.status.idle": "2023-06-17T20:38:04.007080Z",
     "shell.execute_reply": "2023-06-17T20:38:04.005438Z",
     "shell.execute_reply.started": "2023-06-17T20:38:02.747772Z"
    },
    "tags": []
   },
   "outputs": [
    {
     "name": "stdout",
     "output_type": "stream",
     "text": [
      "Objekte aufzählen: 11, fertig.\n",
      "Zähle Objekte: 100% (11/11), fertig.\n",
      "Delta-Kompression verwendet bis zu 2 Threads.\n",
      "Komprimiere Objekte: 100% (6/6), fertig.\n",
      "Schreibe Objekte: 100% (6/6), 1.89 KiB | 1.89 MiB/s, fertig.\n",
      "Gesamt 6 (Delta 4), Wiederverwendet 0 (Delta 0), Pack wiederverwendet 0\n",
      "remote: Resolving deltas: 100% (4/4), completed with 4 local objects.\u001b[K\n",
      "To https://github.com/djekra/bludwig.git\n",
      "   b76e584..f2c8869  main -> main\n"
     ]
    }
   ],
   "source": [
    "!git push origin main"
   ]
  },
  {
   "cell_type": "code",
   "execution_count": 35,
   "id": "fc1bb674-46b3-4d13-98aa-d24f62df0bf7",
   "metadata": {
    "execution": {
     "iopub.execute_input": "2023-06-17T20:38:04.010931Z",
     "iopub.status.busy": "2023-06-17T20:38:04.009915Z",
     "iopub.status.idle": "2023-06-17T20:38:04.099239Z",
     "shell.execute_reply": "2023-06-17T20:38:04.096948Z",
     "shell.execute_reply.started": "2023-06-17T20:38:04.010882Z"
    }
   },
   "outputs": [
    {
     "name": "stdout",
     "output_type": "stream",
     "text": [
      "Stop Time:  22:38:04\n",
      "Elapsed:    59 mins, 12 secs\n"
     ]
    },
    {
     "data": {
      "text/html": [
       "<img src onerror=\"var cell = this.closest('.jp-CodeCell');var editor = cell.querySelector('.jp-Editor');editor.style.background='DarkGray';this.parentNode.removeChild(this)\">"
      ],
      "text/plain": [
       "<IPython.core.display.HTML object>"
      ]
     },
     "metadata": {},
     "output_type": "display_data"
    }
   ],
   "source": [
    "raise Stop"
   ]
  },
  {
   "cell_type": "markdown",
   "id": "d610974a-6298-4078-83f9-822dd1678330",
   "metadata": {},
   "source": [
    "Falls das nicht klappt:\n",
    "* Terminal ins Verzeichnis öffnen\n",
    "* `git push origin main`\n",
    "* Personal Access Token verwenden statt Passwort\n",
    "* überprüfen: https://github.com/djekra/bludwig"
   ]
  },
  {
   "cell_type": "markdown",
   "id": "aec9a4fc-d8e5-4db5-b5c7-0ecb627cd670",
   "metadata": {},
   "source": [
    "## Publish on pypi.org\n",
    "* Terminal ins Verzeichnis öffnen\n",
    "* `python -m twine upload --skip-existing dist/*` \n",
    "* Version überprüfen: https://pypi.org/project/bludwig/"
   ]
  },
  {
   "cell_type": "markdown",
   "id": "16c9f64f-40af-41ac-90db-f802bb8f73c1",
   "metadata": {},
   "source": [
    "## Test from PyPi"
   ]
  },
  {
   "cell_type": "code",
   "execution_count": null,
   "id": "3af8896f-3f40-4d28-a365-fc4c0cb4228f",
   "metadata": {
    "execution": {
     "iopub.status.busy": "2023-06-17T20:38:04.102675Z",
     "iopub.status.idle": "2023-06-17T20:38:04.103026Z",
     "shell.execute_reply": "2023-06-17T20:38:04.102872Z",
     "shell.execute_reply.started": "2023-06-17T20:38:04.102857Z"
    }
   },
   "outputs": [],
   "source": [
    "# uninstall\n",
    "!pip uninstall -y bludwig"
   ]
  },
  {
   "cell_type": "code",
   "execution_count": null,
   "id": "8ea8f83c-6970-424a-993d-f8e378e5faa9",
   "metadata": {
    "execution": {
     "iopub.status.busy": "2023-06-17T20:38:04.105451Z",
     "iopub.status.idle": "2023-06-17T20:38:04.107063Z",
     "shell.execute_reply": "2023-06-17T20:38:04.106710Z",
     "shell.execute_reply.started": "2023-06-17T20:38:04.106668Z"
    }
   },
   "outputs": [],
   "source": [
    "!pip install bludwig --no-cache-dir "
   ]
  },
  {
   "cell_type": "code",
   "execution_count": null,
   "id": "5655c1d6-916d-4f5a-90aa-1877b6a5317b",
   "metadata": {
    "execution": {
     "iopub.status.busy": "2023-06-17T20:38:04.108491Z",
     "iopub.status.idle": "2023-06-17T20:38:04.110024Z",
     "shell.execute_reply": "2023-06-17T20:38:04.109715Z",
     "shell.execute_reply.started": "2023-06-17T20:38:04.109678Z"
    }
   },
   "outputs": [],
   "source": [
    "# test import\n",
    "import bludwig"
   ]
  },
  {
   "cell_type": "code",
   "execution_count": null,
   "id": "b1a1633d-62ad-4088-8b90-6447cc84daf6",
   "metadata": {
    "execution": {
     "iopub.status.busy": "2023-06-17T20:38:04.111938Z",
     "iopub.status.idle": "2023-06-17T20:38:04.112870Z",
     "shell.execute_reply": "2023-06-17T20:38:04.112547Z",
     "shell.execute_reply.started": "2023-06-17T20:38:04.112510Z"
    }
   },
   "outputs": [],
   "source": [
    "# test script\n",
    "!bludwig"
   ]
  },
  {
   "cell_type": "code",
   "execution_count": null,
   "id": "d734da84-24da-4fa9-8a12-139486f7bf76",
   "metadata": {
    "execution": {
     "iopub.status.busy": "2023-06-17T20:38:04.117172Z",
     "iopub.status.idle": "2023-06-17T20:38:04.118969Z",
     "shell.execute_reply": "2023-06-17T20:38:04.118729Z",
     "shell.execute_reply.started": "2023-06-17T20:38:04.118691Z"
    },
    "tags": []
   },
   "outputs": [],
   "source": [
    "# show version\n",
    "#from importlib.metadata import version  \n",
    "#version('bludwig')  "
   ]
  },
  {
   "cell_type": "code",
   "execution_count": null,
   "id": "504dfa9c-eddc-43c4-b9e9-4b567c2b8d97",
   "metadata": {
    "execution": {
     "iopub.status.busy": "2023-06-17T20:38:04.119580Z",
     "iopub.status.idle": "2023-06-17T20:38:04.120222Z",
     "shell.execute_reply": "2023-06-17T20:38:04.120075Z",
     "shell.execute_reply.started": "2023-06-17T20:38:04.120057Z"
    }
   },
   "outputs": [],
   "source": [
    "raise Stop"
   ]
  },
  {
   "cell_type": "markdown",
   "id": "6d3da235-c217-47bd-a6fa-542516d9af30",
   "metadata": {},
   "source": [
    "## Neues Repository auf GitHub\n",
    "* Darauf achten, dass main als Hauptbranch verwendet wird! Nicht master!"
   ]
  },
  {
   "cell_type": "markdown",
   "id": "faa92e97-41bf-46a1-9d27-385959a1856b",
   "metadata": {},
   "source": [
    "Um ein neues Repository auf GitHub zu erstellen und es mit einem lokalen Verzeichnis zu verbinden, kannst du die folgenden Schritte befolgen:\n",
    "1. Gehe auf die GitHub-Website (https://github.com) und melde dich in deinem Konto an.\n",
    "2. Klicke auf das Pluszeichen (+) in der oberen rechten Ecke des Bildschirms und wähle \"New repository\" aus.\n",
    "3. Gib einen Namen für das Repository ein und füge optional eine Beschreibung hinzu.\n",
    "4. Wähle die Sichtbarkeit des Repositories (öffentlich oder privat) aus.\n",
    "5. Wähle die Option \"Initialize this repository with a README\" aus, um eine README-Datei für das Repository zu erstellen. Dies ist optional, aber oft nützlich, um Informationen über das Projekt bereitzustellen.\n",
    "6. Klicke auf die Schaltfläche \"Create repository\", um das neue Repository zu erstellen.\n",
    "\n",
    "Nachdem du das Repository erstellt hast, kannst du es mit deinem lokalen Verzeichnis verbinden, indem du Git verwendest. Hier sind die grundlegenden Schritte:\n",
    "1. Öffne das Terminal oder die Befehlszeile auf deinem Computer.\n",
    "2. Navigiere zum lokalen Verzeichnis, das du mit dem GitHub-Repository verbinden möchtest.\n",
    "3. Führe die folgenden Git-Befehle aus, um das Repository zu initialisieren, den Remote-Repository hinzuzufügen und die Dateien hochzuladen:\n",
    "\n",
    "```shell\n",
    "git init\n",
    "git branch -m main\n",
    "git remote add origin https://github.com/djekra/bludwig.git\n",
    "git branch -M main\n",
    "git add .\n",
    "git commit -m \"Initial commit\"\n",
    "git push -u origin main\n",
    "```\n",
    "Ersetze `<URL des Remote-Repositorys>` durch die URL des neu erstellten GitHub-Repositories. Du findest die URL auf der GitHub-Website unter dem Abschnitt \"Quick setup\" auf der Repository-Seite.\n",
    "\n",
    "Nachdem du diese Schritte befolgt hast, sollte dein lokales Verzeichnis mit dem Remote-Repository verbunden sein, und du kannst Änderungen an deinen Dateien vornehmen und sie mit `git push` auf GitHub hochladen."
   ]
  },
  {
   "cell_type": "code",
   "execution_count": null,
   "id": "bb2bc292-bdb4-431a-babd-790f231891e7",
   "metadata": {},
   "outputs": [],
   "source": []
  }
 ],
 "metadata": {
  "kernelspec": {
   "display_name": "Python 3 (ipykernel)",
   "language": "python",
   "name": "python3"
  },
  "language_info": {
   "codemirror_mode": {
    "name": "ipython",
    "version": 3
   },
   "file_extension": ".py",
   "mimetype": "text/x-python",
   "name": "python",
   "nbconvert_exporter": "python",
   "pygments_lexer": "ipython3",
   "version": "3.10.11"
  }
 },
 "nbformat": 4,
 "nbformat_minor": 5
}

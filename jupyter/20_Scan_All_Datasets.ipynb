{
 "cells": [
  {
   "cell_type": "markdown",
   "id": "a4a0d35d-ff00-4015-8f9b-1ff04a1cad57",
   "metadata": {},
   "source": [
    "__[Open and try this file online (Colab)](https://colab.research.google.com/github/djekra/bludwig/blob/main/jupyter/20_Scan_All_Datasets.ipynb)__"
   ]
  },
  {
   "cell_type": "code",
   "execution_count": 9,
   "id": "081dcaba-ecc8-47eb-9345-fb0c2e8ba6c2",
   "metadata": {
    "execution": {
     "iopub.execute_input": "2023-06-18T06:00:33.585491Z",
     "iopub.status.busy": "2023-06-18T06:00:33.585175Z",
     "iopub.status.idle": "2023-06-18T06:00:33.702562Z",
     "shell.execute_reply": "2023-06-18T06:00:33.701918Z",
     "shell.execute_reply.started": "2023-06-18T06:00:33.585468Z"
    }
   },
   "outputs": [
    {
     "name": "stdout",
     "output_type": "stream",
     "text": [
      "blab init\n",
      "environment['in_colab']     = False\n",
      "environment['dropbox_path'] = /home/me/Dropbox\n",
      "environment['lib_path']     = /home/me/Dropbox/31_Projekte/01_Python/libs\n",
      "Start Time: 08:00:33\n"
     ]
    },
    {
     "data": {
      "text/html": [
       "<img src onerror=\"var cell = this.closest('.jp-CodeCell');var editor = cell.querySelector('.jp-Editor');editor.style.background='Beige';this.parentNode.removeChild(this)\">"
      ],
      "text/plain": [
       "<IPython.core.display.HTML object>"
      ]
     },
     "metadata": {},
     "output_type": "display_data"
    }
   ],
   "source": [
    "# blab init\n",
    "try:\n",
    "    import blab\n",
    "except ImportError as e:\n",
    "    !pip install blab\n",
    "    import blab    \n",
    "startup_notebook = blab.blab_startup()\n",
    "%run $startup_notebook "
   ]
  },
  {
   "cell_type": "markdown",
   "id": "1e2b413c-6302-4c39-b4c6-b60a80f59733",
   "metadata": {},
   "source": [
    "# Scan all Datasets"
   ]
  },
  {
   "cell_type": "code",
   "execution_count": 10,
   "id": "20e93f16-512d-4c6f-97bb-3a61a5358458",
   "metadata": {
    "execution": {
     "iopub.execute_input": "2023-06-18T06:00:33.703874Z",
     "iopub.status.busy": "2023-06-18T06:00:33.703661Z",
     "iopub.status.idle": "2023-06-18T06:00:33.744489Z",
     "shell.execute_reply": "2023-06-18T06:00:33.743887Z",
     "shell.execute_reply.started": "2023-06-18T06:00:33.703853Z"
    },
    "executionInfo": {
     "elapsed": 463,
     "status": "ok",
     "timestamp": 1686173335567,
     "user": {
      "displayName": "Familie Klippstein",
      "userId": "08973939190628445877"
     },
     "user_tz": -120
    },
    "id": "wj1f-u_vOvsK"
   },
   "outputs": [
    {
     "data": {
      "text/html": [
       "<img src onerror=\"var cell = this.closest('.jp-CodeCell');var editor = cell.querySelector('.jp-Editor');editor.style.background='Beige';this.parentNode.removeChild(this)\">"
      ],
      "text/plain": [
       "<IPython.core.display.HTML object>"
      ]
     },
     "metadata": {},
     "output_type": "display_data"
    }
   ],
   "source": [
    "# Settings\n",
    "do_not_scan  = ['amazon_review_polarity','amazon_reviews','jigsaw_unintended_bias','mercari_price_suggestion', 'yahoo_answers']  ## very long\n",
    "\n",
    "bgc('Beige')"
   ]
  },
  {
   "cell_type": "code",
   "execution_count": 11,
   "id": "b6fbd4a4-175a-40ee-835f-6c1c5b351efb",
   "metadata": {
    "colab": {
     "base_uri": "https://localhost:8080/"
    },
    "execution": {
     "iopub.execute_input": "2023-06-18T06:00:33.745113Z",
     "iopub.status.busy": "2023-06-18T06:00:33.744954Z",
     "iopub.status.idle": "2023-06-18T06:00:33.779145Z",
     "shell.execute_reply": "2023-06-18T06:00:33.778581Z",
     "shell.execute_reply.started": "2023-06-18T06:00:33.745097Z"
    },
    "executionInfo": {
     "elapsed": 23608,
     "status": "ok",
     "timestamp": 1686173335132,
     "user": {
      "displayName": "Familie Klippstein",
      "userId": "08973939190628445877"
     },
     "user_tz": -120
    },
    "id": "DiBUpR-GPcys",
    "outputId": "c57587a6-02d9-4fb1-cced-852f95d6c5f7"
   },
   "outputs": [],
   "source": [
    "# Colab? >> Install the latest version of Ludwig\n",
    "if environment['in_colab']:\n",
    "  !pip uninstall -y tensorflow --quiet\n",
    "  !python -m pip install git+https://github.com/ludwig-ai/ludwig.git --quiet \n",
    "  !pip install ptitprince --quiet \n",
    "  !pip install bludwig --quiet "
   ]
  },
  {
   "cell_type": "code",
   "execution_count": 12,
   "id": "a34ca0cb-fcb0-402f-a564-ceae7b29945a",
   "metadata": {
    "colab": {
     "base_uri": "https://localhost:8080/"
    },
    "execution": {
     "iopub.execute_input": "2023-06-18T06:00:33.780374Z",
     "iopub.status.busy": "2023-06-18T06:00:33.780155Z",
     "iopub.status.idle": "2023-06-18T06:00:33.812536Z",
     "shell.execute_reply": "2023-06-18T06:00:33.811944Z",
     "shell.execute_reply.started": "2023-06-18T06:00:33.780357Z"
    },
    "executionInfo": {
     "elapsed": 16727,
     "status": "ok",
     "timestamp": 1686256022749,
     "user": {
      "displayName": "Familie Klippstein",
      "userId": "08973939190628445877"
     },
     "user_tz": -120
    },
    "id": "n3WFMAGxOvsI",
    "outputId": "64989a50-9319-47e9-e8b0-d29a06e19abe"
   },
   "outputs": [],
   "source": [
    "# import \n",
    "import yaml\n",
    "import pandas as pd\n",
    "import pandasklar as pak\n",
    "import bludwig"
   ]
  },
  {
   "cell_type": "markdown",
   "id": "8ac4255f-d950-40ac-a751-73fa1a079395",
   "metadata": {},
   "source": [
    "## get_datasets()"
   ]
  },
  {
   "cell_type": "code",
   "execution_count": 13,
   "id": "85fb1623-35d1-4540-bc23-b17475e652f8",
   "metadata": {
    "execution": {
     "iopub.execute_input": "2023-06-18T06:00:33.813342Z",
     "iopub.status.busy": "2023-06-18T06:00:33.813196Z",
     "iopub.status.idle": "2023-06-18T06:00:33.859460Z",
     "shell.execute_reply": "2023-06-18T06:00:33.858960Z",
     "shell.execute_reply.started": "2023-06-18T06:00:33.813328Z"
    }
   },
   "outputs": [
    {
     "data": {
      "text/plain": [
       "\u001b[0;31mSignature:\u001b[0m \u001b[0mbludwig\u001b[0m\u001b[0;34m.\u001b[0m\u001b[0mget_datasets\u001b[0m\u001b[0;34m(\u001b[0m\u001b[0mremove_failed\u001b[0m\u001b[0;34m=\u001b[0m\u001b[0;32mTrue\u001b[0m\u001b[0;34m)\u001b[0m\u001b[0;34m\u001b[0m\u001b[0;34m\u001b[0m\u001b[0m\n",
       "\u001b[0;31mDocstring:\u001b[0m List all datasets available in Ludwig.\n",
       "\u001b[0;31mFile:\u001b[0m      ~/Dropbox/31_Projekte/01_Python/git/bludwig/src/bludwig/helper.py\n",
       "\u001b[0;31mType:\u001b[0m      function"
      ]
     },
     "metadata": {},
     "output_type": "display_data"
    }
   ],
   "source": [
    "?bludwig.get_datasets"
   ]
  },
  {
   "cell_type": "code",
   "execution_count": 14,
   "id": "28ccddda-605b-4e9b-ba4a-cbc24e5046e7",
   "metadata": {
    "execution": {
     "iopub.execute_input": "2023-06-18T06:00:33.860212Z",
     "iopub.status.busy": "2023-06-18T06:00:33.860026Z",
     "iopub.status.idle": "2023-06-18T06:00:33.893717Z",
     "shell.execute_reply": "2023-06-18T06:00:33.893240Z",
     "shell.execute_reply.started": "2023-06-18T06:00:33.860197Z"
    }
   },
   "outputs": [
    {
     "name": "stdout",
     "output_type": "stream",
     "text": [
      "41 scanable datasets found\n",
      "['adult_census_income', 'ae_price_prediction', 'agnews', 'alpaca', 'bookprice_prediction', 'california_house_price', 'data_scientist_salary', 'dbpedia', 'electricity', 'ethos_binary', 'fake_job_postings2', 'flickr8k', 'goemotions', 'goodbooks_books', 'google_qa_answer_type_reason_explanation', 'google_qa_question_type_reason_explanation', 'iris', 'irony', 'jc_penney_products', 'kick_starter_funding', 'melbourne_airbnb', 'mercari_price_suggestion100K', 'mnist', 'mushroom_edibility', 'naval', 'news_channel', 'news_popularity2', 'ohsumed_cmu', 'poker_hand', 'product_sentiment_machine_hack', 'protein', 'reuters_cmu', 'sarcos', 'sst2', 'sst3', 'sst5', 'wine_reviews', 'women_clothing_review', 'yelp_review_polarity', 'yelp_reviews', 'yosemite']\n"
     ]
    }
   ],
   "source": [
    "# get all datasets available\n",
    "dataset_names = bludwig.get_datasets()\n",
    "dataset_names = [x for x in dataset_names if x not in do_not_scan]\n",
    "print(len(dataset_names),'scanable datasets found')\n",
    "print(dataset_names)"
   ]
  },
  {
   "cell_type": "markdown",
   "id": "d0f5e2bf-bbc9-4d80-a0fe-1c039c8d883f",
   "metadata": {},
   "source": [
    "## scan_datasets()"
   ]
  },
  {
   "cell_type": "code",
   "execution_count": 15,
   "id": "56e18b32-22f9-4987-a214-f3fbd5e70a4b",
   "metadata": {
    "execution": {
     "iopub.execute_input": "2023-06-18T06:00:33.894444Z",
     "iopub.status.busy": "2023-06-18T06:00:33.894298Z",
     "iopub.status.idle": "2023-06-18T06:00:33.929370Z",
     "shell.execute_reply": "2023-06-18T06:00:33.928882Z",
     "shell.execute_reply.started": "2023-06-18T06:00:33.894429Z"
    }
   },
   "outputs": [
    {
     "data": {
      "text/plain": [
       "\u001b[0;31mSignature:\u001b[0m \u001b[0mbludwig\u001b[0m\u001b[0;34m.\u001b[0m\u001b[0mscan_datasets\u001b[0m\u001b[0;34m(\u001b[0m\u001b[0mdataset_names\u001b[0m\u001b[0;34m,\u001b[0m \u001b[0mget_elements_to_remove\u001b[0m\u001b[0;34m=\u001b[0m\u001b[0;32mFalse\u001b[0m\u001b[0;34m)\u001b[0m\u001b[0;34m\u001b[0m\u001b[0;34m\u001b[0m\u001b[0m\n",
       "\u001b[0;31mDocstring:\u001b[0m Scan and analyse Ludwig's database zoo. \n",
       "\u001b[0;31mFile:\u001b[0m      ~/Dropbox/31_Projekte/01_Python/git/bludwig/src/bludwig/helper.py\n",
       "\u001b[0;31mType:\u001b[0m      function"
      ]
     },
     "metadata": {},
     "output_type": "display_data"
    }
   ],
   "source": [
    "?bludwig.scan_datasets"
   ]
  },
  {
   "cell_type": "code",
   "execution_count": 16,
   "id": "996b4f0a-28d2-49a9-969f-e6768cdcab69",
   "metadata": {
    "execution": {
     "iopub.execute_input": "2023-06-18T06:00:33.930196Z",
     "iopub.status.busy": "2023-06-18T06:00:33.929982Z",
     "iopub.status.idle": "2023-06-18T06:01:48.284682Z",
     "shell.execute_reply": "2023-06-18T06:01:48.284190Z",
     "shell.execute_reply.started": "2023-06-18T06:00:33.930180Z"
    }
   },
   "outputs": [
    {
     "name": "stdout",
     "output_type": "stream",
     "text": [
      "loading adult_census_income\n",
      "loading ae_price_prediction\n",
      "loading agnews\n",
      "loading alpaca\n",
      "No sha256 digest provided for dataset alpaca, cannot verify.\n",
      "Contents:\n",
      "    alpaca_data.json: 2eddafc6b977608d778aaab8dfc7e50e547b3af9826dfb9e909d9fc362e4a419\n",
      "loading bookprice_prediction\n",
      "loading california_house_price\n",
      "loading data_scientist_salary\n",
      "loading dbpedia\n",
      "loading electricity\n",
      "loading ethos_binary\n",
      "loading fake_job_postings2\n",
      "loading flickr8k\n",
      "loading goemotions\n",
      "loading goodbooks_books\n",
      "loading google_qa_answer_type_reason_explanation\n",
      "loading google_qa_question_type_reason_explanation\n",
      "loading iris\n",
      "loading irony\n",
      "loading jc_penney_products\n",
      "loading kick_starter_funding\n",
      "loading melbourne_airbnb\n",
      "loading mercari_price_suggestion100K\n",
      "loading mnist\n",
      "loading mushroom_edibility\n",
      "loading naval\n",
      "loading news_channel\n",
      "loading news_popularity2\n",
      "loading ohsumed_cmu\n",
      "loading poker_hand\n",
      "loading product_sentiment_machine_hack\n",
      "loading protein\n",
      "loading reuters_cmu\n",
      "loading sarcos\n",
      "loading sst2\n",
      "loading sst3\n",
      "loading sst5\n",
      "loading wine_reviews\n",
      "loading women_clothing_review\n",
      "loading yelp_review_polarity\n",
      "loading yelp_reviews\n",
      "loading yosemite\n"
     ]
    }
   ],
   "source": [
    "# scan_datasets\n",
    "datasets = bludwig.scan_datasets(dataset_names)\n",
    "#datasets, failed = bludwig.scan_datasets(dataset_names, get_elements_to_remove=True)"
   ]
  },
  {
   "cell_type": "code",
   "execution_count": 17,
   "id": "8f132f64-68cc-4528-a907-5ee3fda94016",
   "metadata": {
    "execution": {
     "iopub.execute_input": "2023-06-18T06:01:48.285526Z",
     "iopub.status.busy": "2023-06-18T06:01:48.285322Z",
     "iopub.status.idle": "2023-06-18T06:01:48.410011Z",
     "shell.execute_reply": "2023-06-18T06:01:48.409554Z",
     "shell.execute_reply.started": "2023-06-18T06:01:48.285511Z"
    }
   },
   "outputs": [
    {
     "name": "stdout",
     "output_type": "stream",
     "text": [
      "41 rows\n"
     ]
    },
    {
     "data": {
      "text/html": [
       "\n",
       "        <iframe\n",
       "            width=\"100%\"\n",
       "            height=\"475\"\n",
       "            src=\"http://pop-os:40001/dtale/iframe/1\"\n",
       "            frameborder=\"0\"\n",
       "            allowfullscreen\n",
       "            \n",
       "        ></iframe>\n",
       "        "
      ],
      "text/plain": [
       "<IPython.lib.display.IFrame at 0x7fcc44599130>"
      ]
     },
     "metadata": {},
     "output_type": "display_data"
    },
    {
     "data": {
      "text/plain": []
     },
     "execution_count": 17,
     "metadata": {},
     "output_type": "execute_result"
    }
   ],
   "source": [
    "pak.grid(datasets.sort_values('rows'))"
   ]
  },
  {
   "cell_type": "code",
   "execution_count": 20,
   "id": "cd5bd8be-61ca-4d9b-b53c-c680a8357a48",
   "metadata": {
    "execution": {
     "iopub.execute_input": "2023-06-18T06:02:25.861205Z",
     "iopub.status.busy": "2023-06-18T06:02:25.860374Z",
     "iopub.status.idle": "2023-06-18T06:02:25.931588Z",
     "shell.execute_reply": "2023-06-18T06:02:25.931024Z",
     "shell.execute_reply.started": "2023-06-18T06:02:25.861128Z"
    }
   },
   "outputs": [
    {
     "name": "stdout",
     "output_type": "stream",
     "text": [
      "4 rows out of 41\n"
     ]
    },
    {
     "data": {
      "text/html": [
       "\n",
       "        <iframe\n",
       "            width=\"100%\"\n",
       "            height=\"475\"\n",
       "            src=\"http://pop-os:40001/dtale/iframe/2\"\n",
       "            frameborder=\"0\"\n",
       "            allowfullscreen\n",
       "            \n",
       "        ></iframe>\n",
       "        "
      ],
      "text/plain": [
       "<IPython.lib.display.IFrame at 0x7fcc90808a60>"
      ]
     },
     "metadata": {},
     "output_type": "display_data"
    },
    {
     "data": {
      "text/plain": []
     },
     "execution_count": 20,
     "metadata": {},
     "output_type": "execute_result"
    }
   ],
   "source": [
    "# Datasets with config\n",
    "mask = datasets.config1 != ''\n",
    "pak.grid(datasets,mask)"
   ]
  },
  {
   "cell_type": "code",
   "execution_count": null,
   "id": "20f54b05-4af3-4861-9cca-9adbd2d83628",
   "metadata": {},
   "outputs": [],
   "source": []
  }
 ],
 "metadata": {
  "kernelspec": {
   "display_name": "Python 3 (ipykernel)",
   "language": "python",
   "name": "python3"
  },
  "language_info": {
   "codemirror_mode": {
    "name": "ipython",
    "version": 3
   },
   "file_extension": ".py",
   "mimetype": "text/x-python",
   "name": "python",
   "nbconvert_exporter": "python",
   "pygments_lexer": "ipython3",
   "version": "3.9.15"
  }
 },
 "nbformat": 4,
 "nbformat_minor": 5
}

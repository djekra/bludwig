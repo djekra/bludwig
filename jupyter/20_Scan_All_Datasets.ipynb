{
 "cells": [
  {
   "cell_type": "markdown",
   "id": "e331a222-befa-4891-bfbc-6ef2b35bac1d",
   "metadata": {},
   "source": [
    "__[Open and try this file online (Colab)](https://colab.research.google.com/github/djekra/bludwig/blob/master/jupyter/20_Scan_All_Datasets.ipynb)__"
   ]
  },
  {
   "cell_type": "code",
   "execution_count": 22,
   "id": "081dcaba-ecc8-47eb-9345-fb0c2e8ba6c2",
   "metadata": {
    "execution": {
     "iopub.execute_input": "2023-06-17T14:28:10.092629Z",
     "iopub.status.busy": "2023-06-17T14:28:10.092155Z",
     "iopub.status.idle": "2023-06-17T14:28:10.351953Z",
     "shell.execute_reply": "2023-06-17T14:28:10.350167Z",
     "shell.execute_reply.started": "2023-06-17T14:28:10.092590Z"
    }
   },
   "outputs": [
    {
     "name": "stdout",
     "output_type": "stream",
     "text": [
      "blab init\n",
      "environment['in_colab']     = False\n",
      "environment['dropbox_path'] = /home/me/Data_Linux/Dropbox\n",
      "environment['lib_path']     = /home/me/Data_Linux/Dropbox/31_Projekte/01_Python/libs\n",
      "Start Time: 16:28:10\n"
     ]
    },
    {
     "data": {
      "text/html": [
       "<img src onerror=\"var cell = this.closest('.jp-CodeCell');var editor = cell.querySelector('.jp-Editor');editor.style.background='Beige';this.parentNode.removeChild(this)\">"
      ],
      "text/plain": [
       "<IPython.core.display.HTML object>"
      ]
     },
     "metadata": {},
     "output_type": "display_data"
    }
   ],
   "source": [
    "# blab init\n",
    "try:\n",
    "    import blab\n",
    "except ImportError as e:\n",
    "    !pip install blab\n",
    "    import blab    \n",
    "startup_notebook = blab.blab_startup()\n",
    "%run $startup_notebook "
   ]
  },
  {
   "cell_type": "markdown",
   "id": "1e2b413c-6302-4c39-b4c6-b60a80f59733",
   "metadata": {},
   "source": [
    "# Scan all Datasets"
   ]
  },
  {
   "cell_type": "code",
   "execution_count": 23,
   "id": "20e93f16-512d-4c6f-97bb-3a61a5358458",
   "metadata": {
    "execution": {
     "iopub.execute_input": "2023-06-17T14:28:10.355227Z",
     "iopub.status.busy": "2023-06-17T14:28:10.354641Z",
     "iopub.status.idle": "2023-06-17T14:28:10.436403Z",
     "shell.execute_reply": "2023-06-17T14:28:10.435681Z",
     "shell.execute_reply.started": "2023-06-17T14:28:10.355169Z"
    },
    "executionInfo": {
     "elapsed": 463,
     "status": "ok",
     "timestamp": 1686173335567,
     "user": {
      "displayName": "Familie Klippstein",
      "userId": "08973939190628445877"
     },
     "user_tz": -120
    },
    "id": "wj1f-u_vOvsK"
   },
   "outputs": [
    {
     "data": {
      "text/html": [
       "<img src onerror=\"var cell = this.closest('.jp-CodeCell');var editor = cell.querySelector('.jp-Editor');editor.style.background='Beige';this.parentNode.removeChild(this)\">"
      ],
      "text/plain": [
       "<IPython.core.display.HTML object>"
      ]
     },
     "metadata": {},
     "output_type": "display_data"
    }
   ],
   "source": [
    "# Settings\n",
    "do_not_scan  = ['amazon_review_polarity','amazon_reviews','jigsaw_unintended_bias','mercari_price_suggestion', 'yahoo_answers']  ## very long\n",
    "\n",
    "bgc('Beige')"
   ]
  },
  {
   "cell_type": "code",
   "execution_count": 24,
   "id": "a34ca0cb-fcb0-402f-a564-ceae7b29945a",
   "metadata": {
    "colab": {
     "base_uri": "https://localhost:8080/"
    },
    "execution": {
     "iopub.execute_input": "2023-06-17T14:28:10.441061Z",
     "iopub.status.busy": "2023-06-17T14:28:10.438958Z",
     "iopub.status.idle": "2023-06-17T14:28:10.506065Z",
     "shell.execute_reply": "2023-06-17T14:28:10.504538Z",
     "shell.execute_reply.started": "2023-06-17T14:28:10.440984Z"
    },
    "executionInfo": {
     "elapsed": 16727,
     "status": "ok",
     "timestamp": 1686256022749,
     "user": {
      "displayName": "Familie Klippstein",
      "userId": "08973939190628445877"
     },
     "user_tz": -120
    },
    "id": "n3WFMAGxOvsI",
    "outputId": "64989a50-9319-47e9-e8b0-d29a06e19abe"
   },
   "outputs": [],
   "source": [
    "# import \n",
    "import yaml\n",
    "import pandas as pd\n",
    "import pandasklar as pak\n",
    "import bludwig"
   ]
  },
  {
   "cell_type": "markdown",
   "id": "8ac4255f-d950-40ac-a751-73fa1a079395",
   "metadata": {},
   "source": [
    "## get_datasets()"
   ]
  },
  {
   "cell_type": "code",
   "execution_count": 25,
   "id": "85fb1623-35d1-4540-bc23-b17475e652f8",
   "metadata": {
    "execution": {
     "iopub.execute_input": "2023-06-17T14:28:10.510340Z",
     "iopub.status.busy": "2023-06-17T14:28:10.509694Z",
     "iopub.status.idle": "2023-06-17T14:28:10.570502Z",
     "shell.execute_reply": "2023-06-17T14:28:10.568840Z",
     "shell.execute_reply.started": "2023-06-17T14:28:10.510309Z"
    }
   },
   "outputs": [
    {
     "data": {
      "text/plain": [
       "\u001b[0;31mSignature:\u001b[0m \u001b[0mbludwig\u001b[0m\u001b[0;34m.\u001b[0m\u001b[0mget_datasets\u001b[0m\u001b[0;34m(\u001b[0m\u001b[0mremove_failed\u001b[0m\u001b[0;34m=\u001b[0m\u001b[0;32mTrue\u001b[0m\u001b[0;34m)\u001b[0m\u001b[0;34m\u001b[0m\u001b[0;34m\u001b[0m\u001b[0m\n",
       "\u001b[0;31mDocstring:\u001b[0m List all datasets available in Ludwig.\n",
       "\u001b[0;31mFile:\u001b[0m      ~/Data_Linux/Dropbox/31_Projekte/01_Python/git/bludwig/src/bludwig/helper.py\n",
       "\u001b[0;31mType:\u001b[0m      function"
      ]
     },
     "metadata": {},
     "output_type": "display_data"
    }
   ],
   "source": [
    "?bludwig.get_datasets"
   ]
  },
  {
   "cell_type": "code",
   "execution_count": 26,
   "id": "28ccddda-605b-4e9b-ba4a-cbc24e5046e7",
   "metadata": {
    "execution": {
     "iopub.execute_input": "2023-06-17T14:28:10.580590Z",
     "iopub.status.busy": "2023-06-17T14:28:10.574735Z",
     "iopub.status.idle": "2023-06-17T14:28:10.651763Z",
     "shell.execute_reply": "2023-06-17T14:28:10.651006Z",
     "shell.execute_reply.started": "2023-06-17T14:28:10.580119Z"
    }
   },
   "outputs": [
    {
     "name": "stdout",
     "output_type": "stream",
     "text": [
      "40 scanable datasets found\n",
      "['adult_census_income', 'ae_price_prediction', 'agnews', 'bookprice_prediction', 'california_house_price', 'data_scientist_salary', 'dbpedia', 'electricity', 'ethos_binary', 'fake_job_postings2', 'flickr8k', 'goemotions', 'goodbooks_books', 'google_qa_answer_type_reason_explanation', 'google_qa_question_type_reason_explanation', 'iris', 'irony', 'jc_penney_products', 'kick_starter_funding', 'melbourne_airbnb', 'mercari_price_suggestion100K', 'mnist', 'mushroom_edibility', 'naval', 'news_channel', 'news_popularity2', 'ohsumed_cmu', 'poker_hand', 'product_sentiment_machine_hack', 'protein', 'reuters_cmu', 'sarcos', 'sst2', 'sst3', 'sst5', 'wine_reviews', 'women_clothing_review', 'yelp_review_polarity', 'yelp_reviews', 'yosemite']\n"
     ]
    }
   ],
   "source": [
    "# get all datasets available\n",
    "dataset_names = bludwig.get_datasets()\n",
    "dataset_names = [x for x in dataset_names if x not in do_not_scan]\n",
    "print(len(dataset_names),'scanable datasets found')\n",
    "print(dataset_names)"
   ]
  },
  {
   "cell_type": "markdown",
   "id": "d0f5e2bf-bbc9-4d80-a0fe-1c039c8d883f",
   "metadata": {},
   "source": [
    "## scan_datasets()"
   ]
  },
  {
   "cell_type": "code",
   "execution_count": 27,
   "id": "56e18b32-22f9-4987-a214-f3fbd5e70a4b",
   "metadata": {
    "execution": {
     "iopub.execute_input": "2023-06-17T14:28:10.657646Z",
     "iopub.status.busy": "2023-06-17T14:28:10.655320Z",
     "iopub.status.idle": "2023-06-17T14:28:10.718786Z",
     "shell.execute_reply": "2023-06-17T14:28:10.717193Z",
     "shell.execute_reply.started": "2023-06-17T14:28:10.657577Z"
    }
   },
   "outputs": [
    {
     "data": {
      "text/plain": [
       "\u001b[0;31mSignature:\u001b[0m \u001b[0mbludwig\u001b[0m\u001b[0;34m.\u001b[0m\u001b[0mscan_datasets\u001b[0m\u001b[0;34m(\u001b[0m\u001b[0mdataset_names\u001b[0m\u001b[0;34m,\u001b[0m \u001b[0mget_elements_to_remove\u001b[0m\u001b[0;34m=\u001b[0m\u001b[0;32mFalse\u001b[0m\u001b[0;34m)\u001b[0m\u001b[0;34m\u001b[0m\u001b[0;34m\u001b[0m\u001b[0m\n",
       "\u001b[0;31mDocstring:\u001b[0m Scan and analyse Ludwig's database zoo. \n",
       "\u001b[0;31mFile:\u001b[0m      ~/Data_Linux/Dropbox/31_Projekte/01_Python/git/bludwig/src/bludwig/helper.py\n",
       "\u001b[0;31mType:\u001b[0m      function"
      ]
     },
     "metadata": {},
     "output_type": "display_data"
    }
   ],
   "source": [
    "?bludwig.scan_datasets"
   ]
  },
  {
   "cell_type": "code",
   "execution_count": 28,
   "id": "996b4f0a-28d2-49a9-969f-e6768cdcab69",
   "metadata": {
    "execution": {
     "iopub.execute_input": "2023-06-17T14:28:10.719818Z",
     "iopub.status.busy": "2023-06-17T14:28:10.719534Z",
     "iopub.status.idle": "2023-06-17T14:30:06.004444Z",
     "shell.execute_reply": "2023-06-17T14:30:06.003833Z",
     "shell.execute_reply.started": "2023-06-17T14:28:10.719790Z"
    }
   },
   "outputs": [
    {
     "name": "stdout",
     "output_type": "stream",
     "text": [
      "loading adult_census_income\n",
      "loading ae_price_prediction\n",
      "loading agnews\n",
      "loading bookprice_prediction\n",
      "loading california_house_price\n",
      "loading data_scientist_salary\n",
      "loading dbpedia\n",
      "loading electricity\n",
      "loading ethos_binary\n",
      "loading fake_job_postings2\n",
      "loading flickr8k\n",
      "loading goemotions\n",
      "loading goodbooks_books\n",
      "loading google_qa_answer_type_reason_explanation\n",
      "loading google_qa_question_type_reason_explanation\n",
      "loading iris\n",
      "loading irony\n",
      "loading jc_penney_products\n",
      "loading kick_starter_funding\n",
      "loading melbourne_airbnb\n",
      "loading mercari_price_suggestion100K\n",
      "loading mnist\n",
      "loading mushroom_edibility\n",
      "loading naval\n",
      "loading news_channel\n",
      "loading news_popularity2\n",
      "loading ohsumed_cmu\n",
      "loading poker_hand\n",
      "loading product_sentiment_machine_hack\n",
      "loading protein\n",
      "loading reuters_cmu\n",
      "loading sarcos\n",
      "loading sst2\n",
      "loading sst3\n",
      "loading sst5\n",
      "loading wine_reviews\n",
      "loading women_clothing_review\n",
      "loading yelp_review_polarity\n",
      "loading yelp_reviews\n",
      "loading yosemite\n"
     ]
    }
   ],
   "source": [
    "# scan_datasets\n",
    "datasets = bludwig.scan_datasets(dataset_names)\n",
    "#datasets, failed = bludwig.scan_datasets(dataset_names, get_elements_to_remove=True)"
   ]
  },
  {
   "cell_type": "code",
   "execution_count": 29,
   "id": "8f132f64-68cc-4528-a907-5ee3fda94016",
   "metadata": {
    "execution": {
     "iopub.execute_input": "2023-06-17T14:30:06.007810Z",
     "iopub.status.busy": "2023-06-17T14:30:06.005948Z",
     "iopub.status.idle": "2023-06-17T14:30:06.107251Z",
     "shell.execute_reply": "2023-06-17T14:30:06.106491Z",
     "shell.execute_reply.started": "2023-06-17T14:30:06.007773Z"
    }
   },
   "outputs": [
    {
     "name": "stdout",
     "output_type": "stream",
     "text": [
      "40 rows\n"
     ]
    },
    {
     "data": {
      "text/html": [
       "\n",
       "        <iframe\n",
       "            width=\"100%\"\n",
       "            height=\"475\"\n",
       "            src=\"http://pop-os:40003/dtale/iframe/3\"\n",
       "            frameborder=\"0\"\n",
       "            allowfullscreen\n",
       "            \n",
       "        ></iframe>\n",
       "        "
      ],
      "text/plain": [
       "<IPython.lib.display.IFrame at 0x7ff5ec3d45e0>"
      ]
     },
     "metadata": {},
     "output_type": "display_data"
    },
    {
     "data": {
      "text/plain": []
     },
     "execution_count": 29,
     "metadata": {},
     "output_type": "execute_result"
    }
   ],
   "source": [
    "pak.grid(datasets)"
   ]
  },
  {
   "cell_type": "code",
   "execution_count": 31,
   "id": "cd5bd8be-61ca-4d9b-b53c-c680a8357a48",
   "metadata": {
    "execution": {
     "iopub.execute_input": "2023-06-17T14:33:23.595715Z",
     "iopub.status.busy": "2023-06-17T14:33:23.595155Z",
     "iopub.status.idle": "2023-06-17T14:33:23.729387Z",
     "shell.execute_reply": "2023-06-17T14:33:23.728561Z",
     "shell.execute_reply.started": "2023-06-17T14:33:23.595682Z"
    }
   },
   "outputs": [
    {
     "name": "stdout",
     "output_type": "stream",
     "text": [
      "4 rows out of 40\n"
     ]
    },
    {
     "data": {
      "text/html": [
       "\n",
       "        <iframe\n",
       "            width=\"100%\"\n",
       "            height=\"475\"\n",
       "            src=\"http://pop-os:40003/dtale/iframe/4\"\n",
       "            frameborder=\"0\"\n",
       "            allowfullscreen\n",
       "            \n",
       "        ></iframe>\n",
       "        "
      ],
      "text/plain": [
       "<IPython.lib.display.IFrame at 0x7ff5ec320970>"
      ]
     },
     "metadata": {},
     "output_type": "display_data"
    },
    {
     "data": {
      "text/plain": []
     },
     "execution_count": 31,
     "metadata": {},
     "output_type": "execute_result"
    },
    {
     "name": "stderr",
     "output_type": "stream",
     "text": [
      "2023-06-17 17:33:24,651 - INFO     - Executing shutdown due to inactivity...\n",
      "2023-06-17 17:33:24,662 - INFO     - Executing shutdown...\n",
      "2023-06-17 17:33:24,663 - ERROR    - Exception on /shutdown [GET]\n",
      "Traceback (most recent call last):\n",
      "  File \"/home/me/mambaforge/envs/python_07/lib/python3.10/site-packages/flask/app.py\", line 2529, in wsgi_app\n",
      "    response = self.full_dispatch_request()\n",
      "  File \"/home/me/mambaforge/envs/python_07/lib/python3.10/site-packages/flask/app.py\", line 1825, in full_dispatch_request\n",
      "    rv = self.handle_user_exception(e)\n",
      "  File \"/home/me/mambaforge/envs/python_07/lib/python3.10/site-packages/flask/app.py\", line 1823, in full_dispatch_request\n",
      "    rv = self.dispatch_request()\n",
      "  File \"/home/me/mambaforge/envs/python_07/lib/python3.10/site-packages/flask/app.py\", line 1799, in dispatch_request\n",
      "    return self.ensure_sync(self.view_functions[rule.endpoint])(**view_args)\n",
      "  File \"/home/me/mambaforge/envs/python_07/lib/python3.10/site-packages/dtale/app.py\", line 438, in shutdown\n",
      "    shutdown_server()\n",
      "  File \"/home/me/mambaforge/envs/python_07/lib/python3.10/site-packages/dtale/app.py\", line 424, in shutdown_server\n",
      "    raise RuntimeError(\"Not running with the Werkzeug Server\")\n",
      "RuntimeError: Not running with the Werkzeug Server\n",
      "2023-06-17 19:28:19,483 - INFO     - Executing shutdown due to inactivity...\n",
      "2023-06-17 19:28:19,494 - INFO     - Executing shutdown...\n",
      "2023-06-17 19:28:19,495 - ERROR    - Exception on /shutdown [GET]\n",
      "Traceback (most recent call last):\n",
      "  File \"/home/me/mambaforge/envs/python_07/lib/python3.10/site-packages/flask/app.py\", line 2529, in wsgi_app\n",
      "    response = self.full_dispatch_request()\n",
      "  File \"/home/me/mambaforge/envs/python_07/lib/python3.10/site-packages/flask/app.py\", line 1825, in full_dispatch_request\n",
      "    rv = self.handle_user_exception(e)\n",
      "  File \"/home/me/mambaforge/envs/python_07/lib/python3.10/site-packages/flask/app.py\", line 1823, in full_dispatch_request\n",
      "    rv = self.dispatch_request()\n",
      "  File \"/home/me/mambaforge/envs/python_07/lib/python3.10/site-packages/flask/app.py\", line 1799, in dispatch_request\n",
      "    return self.ensure_sync(self.view_functions[rule.endpoint])(**view_args)\n",
      "  File \"/home/me/mambaforge/envs/python_07/lib/python3.10/site-packages/dtale/app.py\", line 438, in shutdown\n",
      "    shutdown_server()\n",
      "  File \"/home/me/mambaforge/envs/python_07/lib/python3.10/site-packages/dtale/app.py\", line 424, in shutdown_server\n",
      "    raise RuntimeError(\"Not running with the Werkzeug Server\")\n",
      "RuntimeError: Not running with the Werkzeug Server\n"
     ]
    }
   ],
   "source": [
    "# Datasets with config\n",
    "mask = datasets.default_model_config != ''\n",
    "pak.grid(datasets,mask)"
   ]
  },
  {
   "cell_type": "code",
   "execution_count": null,
   "id": "20f54b05-4af3-4861-9cca-9adbd2d83628",
   "metadata": {},
   "outputs": [],
   "source": []
  }
 ],
 "metadata": {
  "kernelspec": {
   "display_name": "Python 3 (ipykernel)",
   "language": "python",
   "name": "python3"
  },
  "language_info": {
   "codemirror_mode": {
    "name": "ipython",
    "version": 3
   },
   "file_extension": ".py",
   "mimetype": "text/x-python",
   "name": "python",
   "nbconvert_exporter": "python",
   "pygments_lexer": "ipython3",
   "version": "3.10.11"
  }
 },
 "nbformat": 4,
 "nbformat_minor": 5
}

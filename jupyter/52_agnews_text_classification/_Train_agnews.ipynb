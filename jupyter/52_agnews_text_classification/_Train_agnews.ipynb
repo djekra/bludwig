{
 "cells": [
  {
   "cell_type": "markdown",
   "metadata": {},
   "source": [
    "__[Open and try this file online (Colab)](https://colab.research.google.com/github/djekra/bludwig/blob/main/jupyter/52_agnews_text_classification/_Train_agnews.ipynb)__"
   ]
  },
  {
   "cell_type": "code",
   "execution_count": 1,
   "metadata": {
    "colab": {
     "base_uri": "https://localhost:8080/",
     "height": 86
    },
    "execution": {
     "iopub.execute_input": "2023-06-21T20:08:04.817252Z",
     "iopub.status.busy": "2023-06-21T20:08:04.816995Z",
     "iopub.status.idle": "2023-06-21T20:08:05.423434Z",
     "shell.execute_reply": "2023-06-21T20:08:05.422907Z",
     "shell.execute_reply.started": "2023-06-21T20:08:04.817218Z"
    },
    "executionInfo": {
     "elapsed": 363,
     "status": "ok",
     "timestamp": 1686173310843,
     "user": {
      "displayName": "Familie Klippstein",
      "userId": "08973939190628445877"
     },
     "user_tz": -120
    },
    "id": "DgB2Td0tOvr7",
    "outputId": "62803628-9556-4941-c241-ac3ddf910539"
   },
   "outputs": [
    {
     "name": "stdout",
     "output_type": "stream",
     "text": [
      "blab init\n",
      "environment['in_colab']     = False\n",
      "environment['dropbox_path'] = /home/me/Dropbox\n",
      "environment['lib_path']     = /home/me/Dropbox/31_Projekte/01_Python/libs\n",
      "Start Time: 22:08:04\n"
     ]
    },
    {
     "data": {
      "text/html": [
       "<img src onerror=\"var cell = this.closest('.jp-CodeCell');var editor = cell.querySelector('.jp-Editor');editor.style.background='Beige';this.parentNode.removeChild(this)\">"
      ],
      "text/plain": [
       "<IPython.core.display.HTML object>"
      ]
     },
     "metadata": {},
     "output_type": "display_data"
    }
   ],
   "source": [
    "# blab init\n",
    "try:\n",
    "    import blab\n",
    "except ImportError as e:\n",
    "    !pip install --quiet blab\n",
    "    import blab    \n",
    "startup_notebook = blab.blab_startup()\n",
    "%run $startup_notebook "
   ]
  },
  {
   "cell_type": "markdown",
   "metadata": {
    "id": "dqW_BZ60kyWP"
   },
   "source": [
    "# Train agnews Text Classification\n",
    "https://colab.research.google.com/github/ludwig-ai/ludwig-docs/blob/master/docs/examples/llm/LLM_fine_tuning_for_Text_Classification_with_Ludwig_Python_API.ipynb#scrollTo=FczUptADgreZ"
   ]
  },
  {
   "cell_type": "code",
   "execution_count": 2,
   "metadata": {
    "execution": {
     "iopub.execute_input": "2023-06-21T20:08:05.424729Z",
     "iopub.status.busy": "2023-06-21T20:08:05.424497Z",
     "iopub.status.idle": "2023-06-21T20:08:05.437954Z",
     "shell.execute_reply": "2023-06-21T20:08:05.437461Z",
     "shell.execute_reply.started": "2023-06-21T20:08:05.424704Z"
    },
    "executionInfo": {
     "elapsed": 463,
     "status": "ok",
     "timestamp": 1686173335567,
     "user": {
      "displayName": "Familie Klippstein",
      "userId": "08973939190628445877"
     },
     "user_tz": -120
    },
    "id": "wj1f-u_vOvsK"
   },
   "outputs": [
    {
     "data": {
      "text/html": [
       "<img src onerror=\"var cell = this.closest('.jp-CodeCell');var editor = cell.querySelector('.jp-Editor');editor.style.background='Beige';this.parentNode.removeChild(this)\">"
      ],
      "text/plain": [
       "<IPython.core.display.HTML object>"
      ]
     },
     "metadata": {},
     "output_type": "display_data"
    }
   ],
   "source": [
    "# Settings\n",
    "\n",
    "mode            = 'T'                     # mode: C=cleanup, T=train, S=show \n",
    "train_jobs      = [ 0, 1,  ]      # Welche models sollen trainiert werden?\n",
    "verbose         = False   \n",
    "\n",
    "dataset_name    = 'agnews'                # Which dataset shall be loaded?\n",
    "experiment_name = 'agnews'                # Base of the model names\n",
    "\n",
    "predicts_size   = 100              # Wie viele Predictions sollen erstellt werden?\n",
    "predict_model   =   1              # Mit welchem model sollen predictions erstellt werden?\n",
    "   \n",
    "gdrive_base     = 'drive/MyDrive/Colab'\n",
    "bgc('Beige')"
   ]
  },
  {
   "cell_type": "code",
   "execution_count": 3,
   "metadata": {
    "colab": {
     "base_uri": "https://localhost:8080/"
    },
    "execution": {
     "iopub.execute_input": "2023-06-21T20:08:05.438735Z",
     "iopub.status.busy": "2023-06-21T20:08:05.438577Z",
     "iopub.status.idle": "2023-06-21T20:08:05.449938Z",
     "shell.execute_reply": "2023-06-21T20:08:05.449341Z",
     "shell.execute_reply.started": "2023-06-21T20:08:05.438720Z"
    },
    "executionInfo": {
     "elapsed": 23608,
     "status": "ok",
     "timestamp": 1686173335132,
     "user": {
      "displayName": "Familie Klippstein",
      "userId": "08973939190628445877"
     },
     "user_tz": -120
    },
    "id": "DiBUpR-GPcys",
    "outputId": "c57587a6-02d9-4fb1-cced-852f95d6c5f7"
   },
   "outputs": [],
   "source": [
    "# Colab? >> Install the latest version of Ludwig\n",
    "if environment['in_colab']:\n",
    "  !pip uninstall -y tensorflow --quiet\n",
    "  !python -m pip install git+https://github.com/ludwig-ai/ludwig.git --quiet \n",
    "  !pip install ptitprince --quiet \n",
    "  !pip install bludwig --quiet "
   ]
  },
  {
   "cell_type": "code",
   "execution_count": 4,
   "metadata": {
    "colab": {
     "base_uri": "https://localhost:8080/"
    },
    "execution": {
     "iopub.execute_input": "2023-06-21T20:08:05.450730Z",
     "iopub.status.busy": "2023-06-21T20:08:05.450577Z",
     "iopub.status.idle": "2023-06-21T20:08:05.466311Z",
     "shell.execute_reply": "2023-06-21T20:08:05.465805Z",
     "shell.execute_reply.started": "2023-06-21T20:08:05.450715Z"
    },
    "executionInfo": {
     "elapsed": 30,
     "status": "ok",
     "timestamp": 1686256005696,
     "user": {
      "displayName": "Familie Klippstein",
      "userId": "08973939190628445877"
     },
     "user_tz": -120
    },
    "id": "HnYdSdJXOvsC",
    "outputId": "d726faf8-b46a-4253-b985-bee1199a157c"
   },
   "outputs": [
    {
     "data": {
      "text/html": [
       "<img src onerror=\"var cell = this.closest('.jp-CodeCell');var editor = cell.querySelector('.jp-Editor');editor.style.background='WhiteSmoke';this.parentNode.removeChild(this)\">"
      ],
      "text/plain": [
       "<IPython.core.display.HTML object>"
      ]
     },
     "metadata": {},
     "output_type": "display_data"
    }
   ],
   "source": [
    "# cleanup?\n",
    "if mode == 'C': \n",
    "    try:\n",
    "        !rm -rf results\n",
    "        !rm *.meta.json\n",
    "        !rm *.hdf5    \n",
    "        !rm *.temp.pickle        \n",
    "        !rm .lock_preprocessing\n",
    "        !rm train_log*.csv\n",
    "        !rm datasets.csv        \n",
    "    except:\n",
    "        pass\n",
    " \n",
    "\n",
    "if mode == 'C':\n",
    "    raise Stop\n",
    "else:\n",
    "    bgc('WhiteSmoke')"
   ]
  },
  {
   "cell_type": "code",
   "execution_count": 5,
   "metadata": {
    "colab": {
     "base_uri": "https://localhost:8080/"
    },
    "execution": {
     "iopub.execute_input": "2023-06-21T20:08:05.467073Z",
     "iopub.status.busy": "2023-06-21T20:08:05.466926Z",
     "iopub.status.idle": "2023-06-21T20:08:11.935965Z",
     "shell.execute_reply": "2023-06-21T20:08:11.935455Z",
     "shell.execute_reply.started": "2023-06-21T20:08:05.467058Z"
    },
    "executionInfo": {
     "elapsed": 16727,
     "status": "ok",
     "timestamp": 1686256022749,
     "user": {
      "displayName": "Familie Klippstein",
      "userId": "08973939190628445877"
     },
     "user_tz": -120
    },
    "id": "n3WFMAGxOvsI",
    "outputId": "64989a50-9319-47e9-e8b0-d29a06e19abe"
   },
   "outputs": [],
   "source": [
    "# import \n",
    "import pandas as pd\n",
    "import pandasklar as pak\n",
    "grid = pak.grid\n",
    "import bludwig"
   ]
  },
  {
   "cell_type": "markdown",
   "metadata": {
    "id": "hW9kA_qSOvsN"
   },
   "source": [
    "## Data"
   ]
  },
  {
   "cell_type": "code",
   "execution_count": 6,
   "metadata": {
    "execution": {
     "iopub.execute_input": "2023-06-21T20:08:11.936987Z",
     "iopub.status.busy": "2023-06-21T20:08:11.936527Z",
     "iopub.status.idle": "2023-06-21T20:08:13.187220Z",
     "shell.execute_reply": "2023-06-21T20:08:13.186754Z",
     "shell.execute_reply.started": "2023-06-21T20:08:11.936972Z"
    }
   },
   "outputs": [
    {
     "name": "stdout",
     "output_type": "stream",
     "text": [
      "\n",
      "agnews 1.0\n",
      "News articles categorized as \"World\", \"Sports\", \"Business\", and \"Science\".\n",
      "\n",
      "output_features: [{'name': 'class', 'type': 'category'}]\n"
     ]
    }
   ],
   "source": [
    "# load_dataset\n",
    "data_df, dataset_loader = bludwig.load_dataset(dataset_name)"
   ]
  },
  {
   "cell_type": "code",
   "execution_count": 7,
   "metadata": {
    "colab": {
     "base_uri": "https://localhost:8080/"
    },
    "execution": {
     "iopub.execute_input": "2023-06-21T20:08:13.188964Z",
     "iopub.status.busy": "2023-06-21T20:08:13.188802Z",
     "iopub.status.idle": "2023-06-21T20:08:13.643900Z",
     "shell.execute_reply": "2023-06-21T20:08:13.643399Z",
     "shell.execute_reply.started": "2023-06-21T20:08:13.188949Z"
    },
    "executionInfo": {
     "elapsed": 39,
     "status": "ok",
     "timestamp": 1686173337398,
     "user": {
      "displayName": "Familie Klippstein",
      "userId": "08973939190628445877"
     },
     "user_tz": -120
    },
    "id": "5vmJL7v1iAdM",
    "outputId": "327fab1c-e3ff-4d5e-aec6-dc500b0f60b8"
   },
   "outputs": [
    {
     "name": "stdout",
     "output_type": "stream",
     "text": [
      "127598 records for training, validation and test\n"
     ]
    },
    {
     "data": {
      "text/html": [
       "<div>\n",
       "<style scoped>\n",
       "    .dataframe tbody tr th:only-of-type {\n",
       "        vertical-align: middle;\n",
       "    }\n",
       "\n",
       "    .dataframe tbody tr th {\n",
       "        vertical-align: top;\n",
       "    }\n",
       "\n",
       "    .dataframe thead th {\n",
       "        text-align: right;\n",
       "    }\n",
       "</style>\n",
       "<table border=\"1\" class=\"dataframe\">\n",
       "  <thead>\n",
       "    <tr style=\"text-align: right;\">\n",
       "      <th></th>\n",
       "      <th>class</th>\n",
       "      <th>title</th>\n",
       "      <th>description</th>\n",
       "      <th>split</th>\n",
       "    </tr>\n",
       "  </thead>\n",
       "  <tbody>\n",
       "    <tr>\n",
       "      <th>0</th>\n",
       "      <td>business</td>\n",
       "      <td>Carlyle Looks Toward Commercial Aerospace (Reu...</td>\n",
       "      <td>Reuters - Private investment firm Carlyle Grou...</td>\n",
       "      <td>1</td>\n",
       "    </tr>\n",
       "    <tr>\n",
       "      <th>491</th>\n",
       "      <td>world</td>\n",
       "      <td>Venezuelans Vote Early in Referendum on Chavez...</td>\n",
       "      <td>Reuters - Venezuelans turned out early\\and in ...</td>\n",
       "      <td>1</td>\n",
       "    </tr>\n",
       "    <tr>\n",
       "      <th>1157</th>\n",
       "      <td>sci_tech</td>\n",
       "      <td>#147;Generic Superheroes #148;</td>\n",
       "      <td>Scripted, produced, cast, costumed, shot, edit...</td>\n",
       "      <td>1</td>\n",
       "    </tr>\n",
       "    <tr>\n",
       "      <th>4379</th>\n",
       "      <td>sci_tech</td>\n",
       "      <td>Enter your e-mail:</td>\n",
       "      <td>System administrators who have been installing...</td>\n",
       "      <td>0</td>\n",
       "    </tr>\n",
       "    <tr>\n",
       "      <th>14371</th>\n",
       "      <td>business</td>\n",
       "      <td>SUSAN TOMPOR: Change the law, feel the bounce</td>\n",
       "      <td>you know, writing a check a day or two before ...</td>\n",
       "      <td>0</td>\n",
       "    </tr>\n",
       "    <tr>\n",
       "      <th>35155</th>\n",
       "      <td>sci_tech</td>\n",
       "      <td>worm has turned for teen virus king</td>\n",
       "      <td>Sven Jaschan, 18, from Germany, faces up to fi...</td>\n",
       "      <td>0</td>\n",
       "    </tr>\n",
       "    <tr>\n",
       "      <th>38967</th>\n",
       "      <td>sports</td>\n",
       "      <td>The Rundown</td>\n",
       "      <td>1 Southern California at Stanford  &amp;lt;em&amp;...</td>\n",
       "      <td>0</td>\n",
       "    </tr>\n",
       "    <tr>\n",
       "      <th>82435</th>\n",
       "      <td>business</td>\n",
       "      <td>Cazenove Loses Independence with JPM Deal</td>\n",
       "      <td>LONDON (Reuters) - UK brokerage Cazenove effe...</td>\n",
       "      <td>0</td>\n",
       "    </tr>\n",
       "    <tr>\n",
       "      <th>95511</th>\n",
       "      <td>world</td>\n",
       "      <td>US expected to boost troop levels in Iraq</td>\n",
       "      <td>Some question whether it will be enough to que...</td>\n",
       "      <td>0</td>\n",
       "    </tr>\n",
       "    <tr>\n",
       "      <th>127597</th>\n",
       "      <td>business</td>\n",
       "      <td>EBay gets into rentals</td>\n",
       "      <td>EBay plans to buy the apartment and home renta...</td>\n",
       "      <td>2</td>\n",
       "    </tr>\n",
       "  </tbody>\n",
       "</table>\n",
       "</div>"
      ],
      "text/plain": [
       "           class                                              title  \\\n",
       "0       business  Carlyle Looks Toward Commercial Aerospace (Reu...   \n",
       "491        world  Venezuelans Vote Early in Referendum on Chavez...   \n",
       "1157    sci_tech                     #147;Generic Superheroes #148;   \n",
       "4379    sci_tech                                 Enter your e-mail:   \n",
       "14371   business      SUSAN TOMPOR: Change the law, feel the bounce   \n",
       "35155   sci_tech                worm has turned for teen virus king   \n",
       "38967     sports                                        The Rundown   \n",
       "82435   business          Cazenove Loses Independence with JPM Deal   \n",
       "95511      world          US expected to boost troop levels in Iraq   \n",
       "127597  business                             EBay gets into rentals   \n",
       "\n",
       "                                              description  split  \n",
       "0       Reuters - Private investment firm Carlyle Grou...      1  \n",
       "491     Reuters - Venezuelans turned out early\\and in ...      1  \n",
       "1157    Scripted, produced, cast, costumed, shot, edit...      1  \n",
       "4379    System administrators who have been installing...      0  \n",
       "14371   you know, writing a check a day or two before ...      0  \n",
       "35155   Sven Jaschan, 18, from Germany, faces up to fi...      0  \n",
       "38967       1 Southern California at Stanford  &lt;em&...      0  \n",
       "82435    LONDON (Reuters) - UK brokerage Cazenove effe...      0  \n",
       "95511   Some question whether it will be enough to que...      0  \n",
       "127597  EBay plans to buy the apartment and home renta...      2  "
      ]
     },
     "execution_count": 7,
     "metadata": {},
     "output_type": "execute_result"
    }
   ],
   "source": [
    "# examine\n",
    "print(data_df.shape[0], 'records for training, validation and test')\n",
    "pak.sample(data_df,10)"
   ]
  },
  {
   "cell_type": "code",
   "execution_count": 8,
   "metadata": {
    "execution": {
     "iopub.execute_input": "2023-06-21T20:08:13.644659Z",
     "iopub.status.busy": "2023-06-21T20:08:13.644494Z",
     "iopub.status.idle": "2023-06-21T20:08:14.213022Z",
     "shell.execute_reply": "2023-06-21T20:08:14.212528Z",
     "shell.execute_reply.started": "2023-06-21T20:08:13.644644Z"
    }
   },
   "outputs": [
    {
     "data": {
      "text/html": [
       "<div>\n",
       "<style scoped>\n",
       "    .dataframe tbody tr th:only-of-type {\n",
       "        vertical-align: middle;\n",
       "    }\n",
       "\n",
       "    .dataframe tbody tr th {\n",
       "        vertical-align: top;\n",
       "    }\n",
       "\n",
       "    .dataframe thead th {\n",
       "        text-align: right;\n",
       "    }\n",
       "</style>\n",
       "<table border=\"1\" class=\"dataframe\">\n",
       "  <thead>\n",
       "    <tr style=\"text-align: right;\">\n",
       "      <th></th>\n",
       "      <th>col_name</th>\n",
       "      <th>is_output_feature</th>\n",
       "      <th>feature_type</th>\n",
       "      <th>datatype_short</th>\n",
       "      <th>datatype_identified</th>\n",
       "      <th>mem_usage</th>\n",
       "      <th>nunique</th>\n",
       "      <th>ndups</th>\n",
       "      <th>vmin</th>\n",
       "      <th>vmax</th>\n",
       "      <th>n</th>\n",
       "    </tr>\n",
       "  </thead>\n",
       "  <tbody>\n",
       "    <tr>\n",
       "      <th>0</th>\n",
       "      <td>class</td>\n",
       "      <td>True</td>\n",
       "      <td>category</td>\n",
       "      <td>string</td>\n",
       "      <td>string</td>\n",
       "      <td>634</td>\n",
       "      <td>4</td>\n",
       "      <td>9996</td>\n",
       "      <td>business</td>\n",
       "      <td>world</td>\n",
       "      <td>10000</td>\n",
       "    </tr>\n",
       "    <tr>\n",
       "      <th>1</th>\n",
       "      <td>title</td>\n",
       "      <td>False</td>\n",
       "      <td>text</td>\n",
       "      <td>string</td>\n",
       "      <td>string</td>\n",
       "      <td>953</td>\n",
       "      <td>9945</td>\n",
       "      <td>55</td>\n",
       "      <td>#147;Generic Superheroes #148;</td>\n",
       "      <td>worm has turned for teen virus king</td>\n",
       "      <td>10000</td>\n",
       "    </tr>\n",
       "    <tr>\n",
       "      <th>2</th>\n",
       "      <td>description</td>\n",
       "      <td>False</td>\n",
       "      <td>text</td>\n",
       "      <td>string</td>\n",
       "      <td>string</td>\n",
       "      <td>2538</td>\n",
       "      <td>9980</td>\n",
       "      <td>20</td>\n",
       "      <td>1 Southern California at Stanford  &amp;lt;em&amp;...</td>\n",
       "      <td>you know, writing a check a day or two before ...</td>\n",
       "      <td>10000</td>\n",
       "    </tr>\n",
       "  </tbody>\n",
       "</table>\n",
       "</div>"
      ],
      "text/plain": [
       "      col_name  is_output_feature feature_type datatype_short  \\\n",
       "0        class               True     category         string   \n",
       "1        title              False         text         string   \n",
       "2  description              False         text         string   \n",
       "\n",
       "  datatype_identified  mem_usage  nunique  ndups  \\\n",
       "0              string        634        4   9996   \n",
       "1              string        953     9945     55   \n",
       "2              string       2538     9980     20   \n",
       "\n",
       "                                                vmin  \\\n",
       "0                                           business   \n",
       "1                     #147;Generic Superheroes #148;   \n",
       "2      1 Southern California at Stanford  &lt;em&...   \n",
       "\n",
       "                                                vmax      n  \n",
       "0                                              world  10000  \n",
       "1                worm has turned for teen virus king  10000  \n",
       "2  you know, writing a check a day or two before ...  10000  "
      ]
     },
     "execution_count": 8,
     "metadata": {},
     "output_type": "execute_result"
    }
   ],
   "source": [
    "# analyse_cols\n",
    "analyse = bludwig.analyse_cols(data_df, dataset_loader)\n",
    "analyse"
   ]
  },
  {
   "cell_type": "markdown",
   "metadata": {
    "id": "vtSyZji4C-7t"
   },
   "source": [
    "## configs"
   ]
  },
  {
   "cell_type": "code",
   "execution_count": 9,
   "metadata": {
    "execution": {
     "iopub.execute_input": "2023-06-21T20:08:14.213797Z",
     "iopub.status.busy": "2023-06-21T20:08:14.213653Z",
     "iopub.status.idle": "2023-06-21T20:08:14.785860Z",
     "shell.execute_reply": "2023-06-21T20:08:14.785311Z",
     "shell.execute_reply.started": "2023-06-21T20:08:14.213782Z"
    }
   },
   "outputs": [],
   "source": [
    "# Automatically generated / provided configs\n",
    "configs = bludwig.configs(data_df, dataset_loader)"
   ]
  },
  {
   "cell_type": "code",
   "execution_count": 10,
   "metadata": {
    "execution": {
     "iopub.execute_input": "2023-06-21T20:08:14.786565Z",
     "iopub.status.busy": "2023-06-21T20:08:14.786364Z",
     "iopub.status.idle": "2023-06-21T20:08:14.831188Z",
     "shell.execute_reply": "2023-06-21T20:08:14.830639Z",
     "shell.execute_reply.started": "2023-06-21T20:08:14.786545Z"
    },
    "executionInfo": {
     "elapsed": 19,
     "status": "ok",
     "timestamp": 1686173340149,
     "user": {
      "displayName": "Familie Klippstein",
      "userId": "08973939190628445877"
     },
     "user_tz": -120
    },
    "id": "8k6cnn-sg-Jl"
   },
   "outputs": [],
   "source": [
    "# embed\n",
    "\n",
    "config_1 = \"\"\"\n",
    "\n",
    "input_features:\n",
    "        \n",
    "  - name: description\n",
    "    type: text\n",
    "    encoder: \n",
    "        type: embed\n",
    "      \n",
    "\n",
    "output_features:\n",
    "\n",
    "  - name: class\n",
    "    type: category\n",
    "\n",
    "\"\"\""
   ]
  },
  {
   "cell_type": "code",
   "execution_count": 11,
   "metadata": {
    "execution": {
     "iopub.execute_input": "2023-06-21T20:08:14.832155Z",
     "iopub.status.busy": "2023-06-21T20:08:14.831920Z",
     "iopub.status.idle": "2023-06-21T20:08:14.877117Z",
     "shell.execute_reply": "2023-06-21T20:08:14.876528Z",
     "shell.execute_reply.started": "2023-06-21T20:08:14.832134Z"
    },
    "executionInfo": {
     "elapsed": 19,
     "status": "ok",
     "timestamp": 1686173340149,
     "user": {
      "displayName": "Familie Klippstein",
      "userId": "08973939190628445877"
     },
     "user_tz": -120
    },
    "id": "8k6cnn-sg-Jl"
   },
   "outputs": [],
   "source": [
    "# parallel_cnn\n",
    "\n",
    "config_2 = \"\"\"\n",
    "\n",
    "input_features:\n",
    "  - name: description\n",
    "    type: text\n",
    "    encoder:\n",
    "      type: parallel_cnn\n",
    "      \n",
    "output_features:\n",
    "  - name: class\n",
    "    type: category\n",
    "    \n",
    "trainer:\n",
    "  epochs: 5\n",
    "\n",
    "\n",
    "\"\"\""
   ]
  },
  {
   "cell_type": "code",
   "execution_count": 12,
   "metadata": {
    "execution": {
     "iopub.execute_input": "2023-06-21T20:08:14.878266Z",
     "iopub.status.busy": "2023-06-21T20:08:14.877901Z",
     "iopub.status.idle": "2023-06-21T20:08:14.916371Z",
     "shell.execute_reply": "2023-06-21T20:08:14.915787Z",
     "shell.execute_reply.started": "2023-06-21T20:08:14.878244Z"
    },
    "executionInfo": {
     "elapsed": 19,
     "status": "ok",
     "timestamp": 1686173340150,
     "user": {
      "displayName": "Familie Klippstein",
      "userId": "08973939190628445877"
     },
     "user_tz": -120
    },
    "id": "BQn_bg4riB6M"
   },
   "outputs": [],
   "source": [
    "# LLM distilbert1\n",
    "# colab: 45 min\n",
    "# GPU:    3 std!\n",
    "\n",
    "# We are using distilbert because it is small enough to run a few epochs in colab. \n",
    "# Bigger models like BERT, RoBERTa, T5, can get better results, but may timeout. \n",
    "# Look at the end of the notebook for an example of how to train very large models like Bloom using multiple GPUs.\n",
    "\n",
    "config_3 = \"\"\"\n",
    "\n",
    "input_features:\n",
    "  - name: description\n",
    "    type: text\n",
    "    encoder:\n",
    "      type: distilbert\n",
    "      trainable: true\n",
    "      \n",
    "output_features:\n",
    "  - name: class\n",
    "    type: category\n",
    "    \n",
    "trainer:\n",
    "  epochs: 3\n",
    "  learning_rate: 0.00001\n",
    "  optimizer:\n",
    "    type: adamw\n",
    "  use_mixed_precision: true\n",
    "  learning_rate_scheduler:\n",
    "    decay: linear\n",
    "    warmup_fraction: 0.2\n",
    "  batch_size: 32\n",
    "  \n",
    "\"\"\""
   ]
  },
  {
   "cell_type": "code",
   "execution_count": 13,
   "metadata": {
    "execution": {
     "iopub.execute_input": "2023-06-21T20:08:14.917318Z",
     "iopub.status.busy": "2023-06-21T20:08:14.917122Z",
     "iopub.status.idle": "2023-06-21T20:08:14.952737Z",
     "shell.execute_reply": "2023-06-21T20:08:14.952100Z",
     "shell.execute_reply.started": "2023-06-21T20:08:14.917298Z"
    },
    "executionInfo": {
     "elapsed": 18,
     "status": "ok",
     "timestamp": 1686173340150,
     "user": {
      "displayName": "Familie Klippstein",
      "userId": "08973939190628445877"
     },
     "user_tz": -120
    },
    "id": "qgwrEMdhiEov"
   },
   "outputs": [],
   "source": [
    "# LLM distilbert2\n",
    "# colab: 30 min\n",
    "# GPU:   45 min\n",
    "\n",
    "# Freeze distilbert weights, and use cached embeddings to speed up training.\n",
    "# Faster training allows us to train for more epochs, \n",
    "# though we do see a hit to performance compared to fine-tuning weights.\n",
    "\n",
    "config_4 = \"\"\"\n",
    "\n",
    "input_features:\n",
    "  - name: description\n",
    "    type: text\n",
    "    encoder:\n",
    "      type: distilbert\n",
    "      trainable: false\n",
    "    preprocessing:\n",
    "      cache_encoder_embeddings: true\n",
    "      \n",
    "combiner:\n",
    "  type: concat\n",
    "  num_fc_layers: 2\n",
    "  \n",
    "output_features:\n",
    "  - name: class\n",
    "    type: category\n",
    "    \n",
    "trainer:\n",
    "  epochs: 30\n",
    "  learning_rate: 0.00001\n",
    "  optimizer:\n",
    "    type: adamw\n",
    "  use_mixed_precision: true\n",
    "  learning_rate_scheduler:\n",
    "    decay: linear\n",
    "    warmup_fraction: 0.2\n",
    "  batch_size: 32\n",
    "  \n",
    "\"\"\""
   ]
  },
  {
   "cell_type": "code",
   "execution_count": 14,
   "metadata": {
    "colab": {
     "base_uri": "https://localhost:8080/"
    },
    "execution": {
     "iopub.execute_input": "2023-06-21T20:08:14.953492Z",
     "iopub.status.busy": "2023-06-21T20:08:14.953341Z",
     "iopub.status.idle": "2023-06-21T20:08:14.991664Z",
     "shell.execute_reply": "2023-06-21T20:08:14.991026Z",
     "shell.execute_reply.started": "2023-06-21T20:08:14.953477Z"
    },
    "executionInfo": {
     "elapsed": 18,
     "status": "ok",
     "timestamp": 1686173340151,
     "user": {
      "displayName": "Familie Klippstein",
      "userId": "08973939190628445877"
     },
     "user_tz": -120
    },
    "id": "3gJP6OThhy8h",
    "outputId": "3a70fdc3-d36b-4aae-c81c-1ce7b251d5cf"
   },
   "outputs": [
    {
     "name": "stdout",
     "output_type": "stream",
     "text": [
      "\n",
      "====== config for model agnews_0 ======\n",
      "\n",
      "input_features:\n",
      "- name: title\n",
      "  type: text\n",
      "- name: description\n",
      "  type: text\n",
      "output_features:\n",
      "- name: class\n",
      "  type: category\n",
      "\n",
      "\n",
      "\n",
      "\n",
      "\n",
      "====== config for model agnews_1 ======\n",
      "\n",
      "\n",
      "\n",
      "input_features:\n",
      "        \n",
      "  - name: description\n",
      "    type: text\n",
      "    encoder: \n",
      "        type: embed\n",
      "      \n",
      "\n",
      "output_features:\n",
      "\n",
      "  - name: class\n",
      "    type: category\n",
      "\n",
      "\n",
      "\n",
      "\n",
      "\n",
      "\n",
      "====== config for model agnews_2 ======\n",
      "\n",
      "\n",
      "\n",
      "input_features:\n",
      "  - name: description\n",
      "    type: text\n",
      "    encoder:\n",
      "      type: parallel_cnn\n",
      "      \n",
      "output_features:\n",
      "  - name: class\n",
      "    type: category\n",
      "    \n",
      "trainer:\n",
      "  epochs: 5\n",
      "\n",
      "\n",
      "\n",
      "\n",
      "\n",
      "\n",
      "\n",
      "====== config for model agnews_3 ======\n",
      "\n",
      "\n",
      "\n",
      "input_features:\n",
      "  - name: description\n",
      "    type: text\n",
      "    encoder:\n",
      "      type: distilbert\n",
      "      trainable: true\n",
      "      \n",
      "output_features:\n",
      "  - name: class\n",
      "    type: category\n",
      "    \n",
      "trainer:\n",
      "  epochs: 3\n",
      "  learning_rate: 0.00001\n",
      "  optimizer:\n",
      "    type: adamw\n",
      "  use_mixed_precision: true\n",
      "  learning_rate_scheduler:\n",
      "    decay: linear\n",
      "    warmup_fraction: 0.2\n",
      "  batch_size: 32\n",
      "  \n",
      "\n",
      "\n",
      "\n",
      "\n",
      "\n",
      "====== config for model agnews_4 ======\n",
      "\n",
      "\n",
      "\n",
      "input_features:\n",
      "  - name: description\n",
      "    type: text\n",
      "    encoder:\n",
      "      type: distilbert\n",
      "      trainable: false\n",
      "    preprocessing:\n",
      "      cache_encoder_embeddings: true\n",
      "      \n",
      "combiner:\n",
      "  type: concat\n",
      "  num_fc_layers: 2\n",
      "  \n",
      "output_features:\n",
      "  - name: class\n",
      "    type: category\n",
      "    \n",
      "trainer:\n",
      "  epochs: 30\n",
      "  learning_rate: 0.00001\n",
      "  optimizer:\n",
      "    type: adamw\n",
      "  use_mixed_precision: true\n",
      "  learning_rate_scheduler:\n",
      "    decay: linear\n",
      "    warmup_fraction: 0.2\n",
      "  batch_size: 32\n",
      "  \n",
      "\n",
      "\n",
      "\n",
      "\n"
     ]
    }
   ],
   "source": [
    "# add configs\n",
    "configs += [ config_1, config_2, config_3, config_4 ]\n",
    "\n",
    "for i, c in enumerate(configs):\n",
    "    print('\\n====== config for model {} ======\\n'.format( experiment_name + '_' + str(i)))\n",
    "    print(c)\n",
    "    print('\\n\\n')"
   ]
  },
  {
   "cell_type": "markdown",
   "metadata": {},
   "source": [
    "## Initialize"
   ]
  },
  {
   "cell_type": "code",
   "execution_count": 16,
   "metadata": {
    "colab": {
     "base_uri": "https://localhost:8080/"
    },
    "execution": {
     "iopub.execute_input": "2023-06-21T20:08:28.302249Z",
     "iopub.status.busy": "2023-06-21T20:08:28.301750Z",
     "iopub.status.idle": "2023-06-21T20:08:28.340491Z",
     "shell.execute_reply": "2023-06-21T20:08:28.339985Z",
     "shell.execute_reply.started": "2023-06-21T20:08:28.302231Z"
    },
    "executionInfo": {
     "elapsed": 16727,
     "status": "ok",
     "timestamp": 1686256022749,
     "user": {
      "displayName": "Familie Klippstein",
      "userId": "08973939190628445877"
     },
     "user_tz": -120
    },
    "id": "n3WFMAGxOvsI",
    "outputId": "64989a50-9319-47e9-e8b0-d29a06e19abe"
   },
   "outputs": [
    {
     "name": "stdout",
     "output_type": "stream",
     "text": [
      "\n",
      "5 configs loaded\n"
     ]
    }
   ],
   "source": [
    "# bludwig initialize\n",
    "if mode == 'T':  \n",
    "    ludwig_job = bludwig.LudwigJob( configs=configs, experiment_name=experiment_name, verbose=verbose) "
   ]
  },
  {
   "cell_type": "code",
   "execution_count": 17,
   "metadata": {
    "colab": {
     "base_uri": "https://localhost:8080/"
    },
    "execution": {
     "iopub.execute_input": "2023-06-21T20:08:28.341443Z",
     "iopub.status.busy": "2023-06-21T20:08:28.341286Z",
     "iopub.status.idle": "2023-06-21T20:08:28.377982Z",
     "shell.execute_reply": "2023-06-21T20:08:28.377463Z",
     "shell.execute_reply.started": "2023-06-21T20:08:28.341428Z"
    },
    "executionInfo": {
     "elapsed": 16727,
     "status": "ok",
     "timestamp": 1686256022749,
     "user": {
      "displayName": "Familie Klippstein",
      "userId": "08973939190628445877"
     },
     "user_tz": -120
    },
    "id": "n3WFMAGxOvsI",
    "outputId": "64989a50-9319-47e9-e8b0-d29a06e19abe"
   },
   "outputs": [],
   "source": [
    "# bludwig initialize and load\n",
    "if mode == 'S':  \n",
    "    ludwig_job = bludwig.LudwigJob() \n",
    "    ludwig_job.load_from_results()\n",
    "    #print(ludwig_job)"
   ]
  },
  {
   "cell_type": "markdown",
   "metadata": {
    "id": "EkWAP0_0gnFc"
   },
   "source": [
    "## Train"
   ]
  },
  {
   "cell_type": "code",
   "execution_count": 18,
   "metadata": {
    "execution": {
     "iopub.execute_input": "2023-06-21T20:08:28.378656Z",
     "iopub.status.busy": "2023-06-21T20:08:28.378508Z",
     "iopub.status.idle": "2023-06-21T20:17:28.693163Z",
     "shell.execute_reply": "2023-06-21T20:17:28.691953Z",
     "shell.execute_reply.started": "2023-06-21T20:08:28.378640Z"
    }
   },
   "outputs": [
    {
     "name": "stdout",
     "output_type": "stream",
     "text": [
      "\n",
      "Training model agnews_0\n",
      "\n",
      "Received SIGINT, will finish this training step and then conclude training.\n",
      "Send another SIGINT to immediately interrupt the process.\n",
      "\n",
      "Received a second SIGINT, will now quit\n"
     ]
    },
    {
     "ename": "SystemExit",
     "evalue": "1",
     "output_type": "error",
     "traceback": [
      "An exception has occurred, use %tb to see the full traceback.\n",
      "\u001b[0;31mSystemExit\u001b[0m\u001b[0;31m:\u001b[0m 1\n"
     ]
    },
    {
     "name": "stderr",
     "output_type": "stream",
     "text": [
      "/home/me/mambaforge/envs/python_06/lib/python3.9/site-packages/IPython/core/interactiveshell.py:3450: UserWarning:\n",
      "\n",
      "To exit: use 'exit', 'quit', or Ctrl-D.\n",
      "\n"
     ]
    }
   ],
   "source": [
    "# train and evaluate\n",
    "out = None\n",
    "if mode == 'T':  \n",
    "    ludwig_job.experiment(data_df)\n",
    "    out = bludwig.train_log_to_csv( ludwig_job.train_log )\n",
    "else:\n",
    "    out = 'No training'\n",
    "out"
   ]
  },
  {
   "cell_type": "markdown",
   "metadata": {
    "execution": {
     "iopub.execute_input": "2023-06-03T08:59:23.598513Z",
     "iopub.status.busy": "2023-06-03T08:59:23.597960Z",
     "iopub.status.idle": "2023-06-03T08:59:23.640510Z",
     "shell.execute_reply": "2023-06-03T08:59:23.639738Z",
     "shell.execute_reply.started": "2023-06-03T08:59:23.598494Z"
    },
    "id": "CFJ2xCetOvsZ"
   },
   "source": [
    "## Evaluate"
   ]
  },
  {
   "cell_type": "code",
   "execution_count": null,
   "metadata": {
    "execution": {
     "iopub.status.busy": "2023-06-21T20:17:28.693688Z",
     "iopub.status.idle": "2023-06-21T20:17:28.693898Z",
     "shell.execute_reply": "2023-06-21T20:17:28.693807Z",
     "shell.execute_reply.started": "2023-06-21T20:17:28.693796Z"
    }
   },
   "outputs": [],
   "source": [
    "# compare_performance\n",
    "ludwig_job.compare_performance()"
   ]
  },
  {
   "cell_type": "code",
   "execution_count": null,
   "metadata": {
    "execution": {
     "iopub.status.busy": "2023-06-21T20:17:28.694585Z",
     "iopub.status.idle": "2023-06-21T20:17:28.694782Z",
     "shell.execute_reply": "2023-06-21T20:17:28.694695Z",
     "shell.execute_reply.started": "2023-06-21T20:17:28.694684Z"
    }
   },
   "outputs": [],
   "source": [
    "# learning_curves\n",
    "ludwig_job.learning_curves()"
   ]
  },
  {
   "cell_type": "code",
   "execution_count": null,
   "metadata": {
    "execution": {
     "iopub.status.busy": "2023-06-21T20:17:28.695777Z",
     "iopub.status.idle": "2023-06-21T20:17:28.696004Z",
     "shell.execute_reply": "2023-06-21T20:17:28.695918Z",
     "shell.execute_reply.started": "2023-06-21T20:17:28.695906Z"
    }
   },
   "outputs": [],
   "source": [
    "# confusion_matrix\n",
    "#ludwig_job.load_model(0)\n",
    "ludwig_job.confusion_matrix()"
   ]
  },
  {
   "cell_type": "code",
   "execution_count": null,
   "metadata": {
    "execution": {
     "iopub.status.busy": "2023-06-21T20:17:28.696874Z",
     "iopub.status.idle": "2023-06-21T20:17:28.697139Z",
     "shell.execute_reply": "2023-06-21T20:17:28.697029Z",
     "shell.execute_reply.started": "2023-06-21T20:17:28.697017Z"
    }
   },
   "outputs": [],
   "source": [
    "# roc_curves\n",
    "ludwig_job.roc_curves()"
   ]
  },
  {
   "cell_type": "markdown",
   "metadata": {},
   "source": [
    "## print_models"
   ]
  },
  {
   "cell_type": "code",
   "execution_count": null,
   "metadata": {
    "execution": {
     "iopub.status.busy": "2023-06-21T20:17:28.697825Z",
     "iopub.status.idle": "2023-06-21T20:17:28.698017Z",
     "shell.execute_reply": "2023-06-21T20:17:28.697931Z",
     "shell.execute_reply.started": "2023-06-21T20:17:28.697920Z"
    }
   },
   "outputs": [],
   "source": [
    "# print \n",
    "print(ludwig_job)"
   ]
  },
  {
   "cell_type": "code",
   "execution_count": null,
   "metadata": {
    "execution": {
     "iopub.status.busy": "2023-06-21T20:17:28.698946Z",
     "iopub.status.idle": "2023-06-21T20:17:28.699240Z",
     "shell.execute_reply": "2023-06-21T20:17:28.699114Z",
     "shell.execute_reply.started": "2023-06-21T20:17:28.699100Z"
    }
   },
   "outputs": [],
   "source": [
    "ludwig_job.print_models()"
   ]
  },
  {
   "cell_type": "markdown",
   "metadata": {},
   "source": [
    "## Predict"
   ]
  },
  {
   "cell_type": "code",
   "execution_count": null,
   "metadata": {
    "execution": {
     "iopub.status.busy": "2023-06-21T20:17:28.699980Z",
     "iopub.status.idle": "2023-06-21T20:17:28.700250Z",
     "shell.execute_reply": "2023-06-21T20:17:28.700129Z",
     "shell.execute_reply.started": "2023-06-21T20:17:28.700115Z"
    }
   },
   "outputs": [],
   "source": [
    "# load_model\n",
    "print('predict_model:',predict_model)\n",
    "ludwig_job.load_model(predict_model)\n",
    "\n",
    "# data\n",
    "data_sample = pak.sample(data_df, predicts_size)\n",
    "\n",
    "# predict\n",
    "data_sample = ludwig_job.predict(data_sample)\n",
    "data_sample"
   ]
  },
  {
   "cell_type": "code",
   "execution_count": null,
   "metadata": {
    "execution": {
     "iopub.status.busy": "2023-06-21T20:17:28.701061Z",
     "iopub.status.idle": "2023-06-21T20:17:28.701345Z",
     "shell.execute_reply": "2023-06-21T20:17:28.701224Z",
     "shell.execute_reply.started": "2023-06-21T20:17:28.701209Z"
    }
   },
   "outputs": [],
   "source": [
    "if not environment['in_colab']:\n",
    "    raise Stop"
   ]
  },
  {
   "cell_type": "markdown",
   "metadata": {
    "id": "fJQNbEcpl-nm"
   },
   "source": [
    "## Colab: Copy back"
   ]
  },
  {
   "cell_type": "code",
   "execution_count": null,
   "metadata": {
    "colab": {
     "base_uri": "https://localhost:8080/"
    },
    "execution": {
     "iopub.status.busy": "2023-06-21T20:17:28.702064Z",
     "iopub.status.idle": "2023-06-21T20:17:28.702365Z",
     "shell.execute_reply": "2023-06-21T20:17:28.702244Z",
     "shell.execute_reply.started": "2023-06-21T20:17:28.702230Z"
    },
    "executionInfo": {
     "elapsed": 1575,
     "status": "ok",
     "timestamp": 1686256600179,
     "user": {
      "displayName": "Familie Klippstein",
      "userId": "08973939190628445877"
     },
     "user_tz": -120
    },
    "id": "meeL3dGNmCaL",
    "outputId": "4becf288-c76a-4978-8524-5d4b3c4e0175"
   },
   "outputs": [],
   "source": [
    "# mount\n",
    "if environment['in_colab']:\n",
    "    from google.colab import drive\n",
    "    drive.mount('/content/drive')  "
   ]
  },
  {
   "cell_type": "code",
   "execution_count": null,
   "metadata": {
    "colab": {
     "base_uri": "https://localhost:8080/"
    },
    "execution": {
     "iopub.status.busy": "2023-06-21T20:17:28.703150Z",
     "iopub.status.idle": "2023-06-21T20:17:28.703339Z",
     "shell.execute_reply": "2023-06-21T20:17:28.703254Z",
     "shell.execute_reply.started": "2023-06-21T20:17:28.703243Z"
    },
    "executionInfo": {
     "elapsed": 380,
     "status": "ok",
     "timestamp": 1686256600550,
     "user": {
      "displayName": "Familie Klippstein",
      "userId": "08973939190628445877"
     },
     "user_tz": -120
    },
    "id": "OVs054v5nE-W",
    "outputId": "9ca81e32-dca0-47a7-bdb8-253feb45c119"
   },
   "outputs": [],
   "source": [
    "if environment['in_colab']:\n",
    "    !ls"
   ]
  },
  {
   "cell_type": "code",
   "execution_count": null,
   "metadata": {
    "colab": {
     "base_uri": "https://localhost:8080/"
    },
    "execution": {
     "iopub.status.busy": "2023-06-21T20:17:28.703913Z",
     "iopub.status.idle": "2023-06-21T20:17:28.704094Z",
     "shell.execute_reply": "2023-06-21T20:17:28.704011Z",
     "shell.execute_reply.started": "2023-06-21T20:17:28.704001Z"
    },
    "executionInfo": {
     "elapsed": 23,
     "status": "ok",
     "timestamp": 1686256600552,
     "user": {
      "displayName": "Familie Klippstein",
      "userId": "08973939190628445877"
     },
     "user_tz": -120
    },
    "id": "M0AjzScGnJKF",
    "outputId": "c8524dfc-63c4-47c7-b88a-5b87bb2c8e2f"
   },
   "outputs": [],
   "source": [
    "if environment['in_colab']:\n",
    "    !ls results"
   ]
  },
  {
   "cell_type": "code",
   "execution_count": null,
   "metadata": {
    "execution": {
     "iopub.status.busy": "2023-06-21T20:17:28.704715Z",
     "iopub.status.idle": "2023-06-21T20:17:28.704950Z",
     "shell.execute_reply": "2023-06-21T20:17:28.704845Z",
     "shell.execute_reply.started": "2023-06-21T20:17:28.704834Z"
    },
    "executionInfo": {
     "elapsed": 2378,
     "status": "ok",
     "timestamp": 1686256602921,
     "user": {
      "displayName": "Familie Klippstein",
      "userId": "08973939190628445877"
     },
     "user_tz": -120
    },
    "id": "fPesu0Nhm06i"
   },
   "outputs": [],
   "source": [
    "# results: copy to GDrive\n",
    "if environment['in_colab']:\n",
    "  results_path = gdrive_base + '/results'\n",
    "  !cp -a results $results_path \n",
    "  !cp train_log*.csv $gdrive_base "
   ]
  },
  {
   "cell_type": "code",
   "execution_count": null,
   "metadata": {
    "colab": {
     "base_uri": "https://localhost:8080/"
    },
    "execution": {
     "iopub.status.busy": "2023-06-21T20:17:28.705660Z",
     "iopub.status.idle": "2023-06-21T20:17:28.705968Z",
     "shell.execute_reply": "2023-06-21T20:17:28.705877Z",
     "shell.execute_reply.started": "2023-06-21T20:17:28.705865Z"
    },
    "executionInfo": {
     "elapsed": 14,
     "status": "ok",
     "timestamp": 1686256964163,
     "user": {
      "displayName": "Familie Klippstein",
      "userId": "08973939190628445877"
     },
     "user_tz": -120
    },
    "id": "-GyVispFp1fh",
    "outputId": "db117307-3146-4688-d909-c5c419e7c637"
   },
   "outputs": [],
   "source": [
    "if environment['in_colab']:\n",
    "    print('Copy back manually:')\n",
    "    print('1) This ipynb-File, if changed')\n",
    "    print('2) results directory')\n",
    "    print('3) train_log file')    \n",
    "else:\n",
    "    print('finished')"
   ]
  },
  {
   "cell_type": "code",
   "execution_count": null,
   "metadata": {
    "colab": {
     "base_uri": "https://localhost:8080/",
     "height": 115
    },
    "execution": {
     "iopub.status.busy": "2023-06-21T20:17:28.707207Z",
     "iopub.status.idle": "2023-06-21T20:17:28.707444Z",
     "shell.execute_reply": "2023-06-21T20:17:28.707356Z",
     "shell.execute_reply.started": "2023-06-21T20:17:28.707344Z"
    },
    "executionInfo": {
     "elapsed": 32,
     "status": "error",
     "timestamp": 1686256603816,
     "user": {
      "displayName": "Familie Klippstein",
      "userId": "08973939190628445877"
     },
     "user_tz": -120
    },
    "id": "QmJKsnOlrJl_",
    "jupyter": {
     "source_hidden": true
    },
    "outputId": "4eb142c5-8f2f-4b60-b8a8-bdbd2682e5b3"
   },
   "outputs": [],
   "source": [
    "raise Stop"
   ]
  }
 ],
 "metadata": {
  "accelerator": "GPU",
  "colab": {
   "provenance": []
  },
  "kernelspec": {
   "display_name": "Python 3 (ipykernel)",
   "language": "python",
   "name": "python3"
  },
  "language_info": {
   "codemirror_mode": {
    "name": "ipython",
    "version": 3
   },
   "file_extension": ".py",
   "mimetype": "text/x-python",
   "name": "python",
   "nbconvert_exporter": "python",
   "pygments_lexer": "ipython3",
   "version": "3.9.15"
  }
 },
 "nbformat": 4,
 "nbformat_minor": 4
}

{
 "cells": [
  {
   "cell_type": "markdown",
   "metadata": {},
   "source": [
    "__[Open and try this file online (Colab)](https://colab.research.google.com/github/djekra/bludwig/blob/main/jupyter/50_MNIST/_Train_MNIST.ipynb)__"
   ]
  },
  {
   "cell_type": "code",
   "execution_count": 1,
   "metadata": {
    "colab": {
     "base_uri": "https://localhost:8080/",
     "height": 86
    },
    "execution": {
     "iopub.execute_input": "2023-06-19T15:56:21.711502Z",
     "iopub.status.busy": "2023-06-19T15:56:21.711359Z",
     "iopub.status.idle": "2023-06-19T15:56:22.181102Z",
     "shell.execute_reply": "2023-06-19T15:56:22.180589Z",
     "shell.execute_reply.started": "2023-06-19T15:56:21.711485Z"
    },
    "executionInfo": {
     "elapsed": 363,
     "status": "ok",
     "timestamp": 1686173310843,
     "user": {
      "displayName": "Familie Klippstein",
      "userId": "08973939190628445877"
     },
     "user_tz": -120
    },
    "id": "DgB2Td0tOvr7",
    "outputId": "62803628-9556-4941-c241-ac3ddf910539"
   },
   "outputs": [
    {
     "name": "stdout",
     "output_type": "stream",
     "text": [
      "blab init\n",
      "environment['in_colab']     = False\n",
      "environment['dropbox_path'] = /home/me/Dropbox\n",
      "environment['lib_path']     = /home/me/Dropbox/31_Projekte/01_Python/libs\n",
      "Start Time: 17:56:21\n"
     ]
    },
    {
     "data": {
      "text/html": [
       "<img src onerror=\"var cell = this.closest('.jp-CodeCell');var editor = cell.querySelector('.jp-Editor');editor.style.background='Beige';this.parentNode.removeChild(this)\">"
      ],
      "text/plain": [
       "<IPython.core.display.HTML object>"
      ]
     },
     "metadata": {},
     "output_type": "display_data"
    }
   ],
   "source": [
    "# blab init\n",
    "try:\n",
    "    import blab\n",
    "except ImportError as e:\n",
    "    !pip install --quiet blab\n",
    "    import blab    \n",
    "startup_notebook = blab.blab_startup()\n",
    "%run $startup_notebook "
   ]
  },
  {
   "cell_type": "markdown",
   "metadata": {
    "id": "dqW_BZ60kyWP"
   },
   "source": [
    "# Train MNIST"
   ]
  },
  {
   "cell_type": "code",
   "execution_count": 2,
   "metadata": {
    "execution": {
     "iopub.execute_input": "2023-06-19T15:56:22.182383Z",
     "iopub.status.busy": "2023-06-19T15:56:22.182189Z",
     "iopub.status.idle": "2023-06-19T15:56:22.193861Z",
     "shell.execute_reply": "2023-06-19T15:56:22.193358Z",
     "shell.execute_reply.started": "2023-06-19T15:56:22.182368Z"
    },
    "executionInfo": {
     "elapsed": 463,
     "status": "ok",
     "timestamp": 1686173335567,
     "user": {
      "displayName": "Familie Klippstein",
      "userId": "08973939190628445877"
     },
     "user_tz": -120
    },
    "id": "wj1f-u_vOvsK"
   },
   "outputs": [
    {
     "data": {
      "text/html": [
       "<img src onerror=\"var cell = this.closest('.jp-CodeCell');var editor = cell.querySelector('.jp-Editor');editor.style.background='Beige';this.parentNode.removeChild(this)\">"
      ],
      "text/plain": [
       "<IPython.core.display.HTML object>"
      ]
     },
     "metadata": {},
     "output_type": "display_data"
    }
   ],
   "source": [
    "# Settings\n",
    "\n",
    "dataset_name    = 'mnist'       # Which dataset shall be loaded?\n",
    "experiment_name = 'mnist'       # Base of the model names\n",
    "mode            = 'S'           # mode: C=cleanup, T=train, S=show \n",
    "#train_jobs      = [ 0, 1, 2, 3 ]   # Which models shall be trained?\n",
    "verbose         = False    \n",
    "predict_model   =   1           # Which model shall be used for predictions?\n",
    "predicts_size   = 100           # How many predictions should be created?\n",
    "  \n",
    "gdrive_base     = 'drive/MyDrive/Colab'\n",
    "bgc('Beige')  "
   ]
  },
  {
   "cell_type": "code",
   "execution_count": 3,
   "metadata": {
    "colab": {
     "base_uri": "https://localhost:8080/"
    },
    "execution": {
     "iopub.execute_input": "2023-06-19T15:56:22.194817Z",
     "iopub.status.busy": "2023-06-19T15:56:22.194481Z",
     "iopub.status.idle": "2023-06-19T15:56:22.206995Z",
     "shell.execute_reply": "2023-06-19T15:56:22.206379Z",
     "shell.execute_reply.started": "2023-06-19T15:56:22.194800Z"
    },
    "executionInfo": {
     "elapsed": 23608,
     "status": "ok",
     "timestamp": 1686173335132,
     "user": {
      "displayName": "Familie Klippstein",
      "userId": "08973939190628445877"
     },
     "user_tz": -120
    },
    "id": "DiBUpR-GPcys",
    "outputId": "c57587a6-02d9-4fb1-cced-852f95d6c5f7"
   },
   "outputs": [],
   "source": [
    "# Colab? >> Install the latest version of Ludwig\n",
    "if environment['in_colab']:\n",
    "  !pip uninstall -y tensorflow --quiet\n",
    "  !python -m pip install git+https://github.com/ludwig-ai/ludwig.git --quiet \n",
    "  !pip install ptitprince --quiet \n",
    "  !pip install bludwig --quiet "
   ]
  },
  {
   "cell_type": "code",
   "execution_count": 4,
   "metadata": {
    "colab": {
     "base_uri": "https://localhost:8080/"
    },
    "execution": {
     "iopub.execute_input": "2023-06-19T15:56:22.207794Z",
     "iopub.status.busy": "2023-06-19T15:56:22.207638Z",
     "iopub.status.idle": "2023-06-19T15:56:22.224272Z",
     "shell.execute_reply": "2023-06-19T15:56:22.223817Z",
     "shell.execute_reply.started": "2023-06-19T15:56:22.207778Z"
    },
    "executionInfo": {
     "elapsed": 30,
     "status": "ok",
     "timestamp": 1686256005696,
     "user": {
      "displayName": "Familie Klippstein",
      "userId": "08973939190628445877"
     },
     "user_tz": -120
    },
    "id": "HnYdSdJXOvsC",
    "outputId": "d726faf8-b46a-4253-b985-bee1199a157c"
   },
   "outputs": [
    {
     "data": {
      "text/html": [
       "<img src onerror=\"var cell = this.closest('.jp-CodeCell');var editor = cell.querySelector('.jp-Editor');editor.style.background='WhiteSmoke';this.parentNode.removeChild(this)\">"
      ],
      "text/plain": [
       "<IPython.core.display.HTML object>"
      ]
     },
     "metadata": {},
     "output_type": "display_data"
    },
    {
     "name": "stdout",
     "output_type": "stream",
     "text": [
      "is_neustart: True\n"
     ]
    }
   ],
   "source": [
    "# cleanup?\n",
    "if not 'is_neustart' in locals() or mode == 'C': \n",
    "    is_neustart = True\n",
    "    if not mode == 'S': # show\n",
    "        try:\n",
    "            !rm -rf results\n",
    "            !rm *.meta.json\n",
    "            !rm *.hdf5    \n",
    "            !rm *.temp.pickle        \n",
    "            !rm .lock_preprocessing\n",
    "        except:\n",
    "            pass\n",
    "else:\n",
    "    is_neustart = False    \n",
    "\n",
    "if mode == 'C':\n",
    "    raise Stop\n",
    "else:\n",
    "    bgc('WhiteSmoke')\n",
    "    \n",
    "print('is_neustart:',is_neustart)"
   ]
  },
  {
   "cell_type": "code",
   "execution_count": 5,
   "metadata": {
    "colab": {
     "base_uri": "https://localhost:8080/"
    },
    "execution": {
     "iopub.execute_input": "2023-06-19T15:56:22.225138Z",
     "iopub.status.busy": "2023-06-19T15:56:22.224943Z",
     "iopub.status.idle": "2023-06-19T15:56:28.895720Z",
     "shell.execute_reply": "2023-06-19T15:56:28.895148Z",
     "shell.execute_reply.started": "2023-06-19T15:56:22.225117Z"
    },
    "executionInfo": {
     "elapsed": 16727,
     "status": "ok",
     "timestamp": 1686256022749,
     "user": {
      "displayName": "Familie Klippstein",
      "userId": "08973939190628445877"
     },
     "user_tz": -120
    },
    "id": "n3WFMAGxOvsI",
    "outputId": "64989a50-9319-47e9-e8b0-d29a06e19abe"
   },
   "outputs": [],
   "source": [
    "# import \n",
    "import pandas as pd\n",
    "import pandasklar as pak\n",
    "grid = pak.grid\n",
    "import bludwig\n",
    "\n",
    "%matplotlib inline\n",
    "import matplotlib.pyplot as plt"
   ]
  },
  {
   "cell_type": "markdown",
   "metadata": {
    "id": "hW9kA_qSOvsN"
   },
   "source": [
    "## Data"
   ]
  },
  {
   "cell_type": "code",
   "execution_count": 6,
   "metadata": {
    "execution": {
     "iopub.execute_input": "2023-06-19T15:56:28.896631Z",
     "iopub.status.busy": "2023-06-19T15:56:28.896275Z",
     "iopub.status.idle": "2023-06-19T15:56:29.641848Z",
     "shell.execute_reply": "2023-06-19T15:56:29.641344Z",
     "shell.execute_reply.started": "2023-06-19T15:56:28.896615Z"
    }
   },
   "outputs": [
    {
     "name": "stdout",
     "output_type": "stream",
     "text": [
      "\n",
      "mnist 1.0\n",
      "The MNIST database of handwritten digits, available from this page,\n",
      "has a training set of 60,000 examples, and a test set of 10,000 examples.\n",
      "It is a subset of a larger set available from NIST. The digits have been\n",
      "size-normalized and centered in a fixed-size image.\n",
      "It is a good database for people who want to try learning techniques and\n",
      "pattern recognition methods on real-world data while spending minimal\n",
      "efforts on preprocessing and formatting.\n",
      "http://yann.lecun.com/exdb/mnist/\n",
      "\n",
      "output_features: [{'name': 'label', 'type': 'category'}]\n"
     ]
    }
   ],
   "source": [
    "# load_dataset\n",
    "data_df, dataset_loader = bludwig.load_dataset(dataset_name)"
   ]
  },
  {
   "cell_type": "code",
   "execution_count": 7,
   "metadata": {
    "colab": {
     "base_uri": "https://localhost:8080/"
    },
    "execution": {
     "iopub.execute_input": "2023-06-19T15:56:29.643585Z",
     "iopub.status.busy": "2023-06-19T15:56:29.643429Z",
     "iopub.status.idle": "2023-06-19T15:56:29.805157Z",
     "shell.execute_reply": "2023-06-19T15:56:29.804599Z",
     "shell.execute_reply.started": "2023-06-19T15:56:29.643571Z"
    },
    "executionInfo": {
     "elapsed": 39,
     "status": "ok",
     "timestamp": 1686173337398,
     "user": {
      "displayName": "Familie Klippstein",
      "userId": "08973939190628445877"
     },
     "user_tz": -120
    },
    "id": "5vmJL7v1iAdM",
    "outputId": "327fab1c-e3ff-4d5e-aec6-dc500b0f60b8"
   },
   "outputs": [
    {
     "name": "stdout",
     "output_type": "stream",
     "text": [
      "70000 records for training, validation and test\n"
     ]
    },
    {
     "data": {
      "text/html": [
       "<div>\n",
       "<style scoped>\n",
       "    .dataframe tbody tr th:only-of-type {\n",
       "        vertical-align: middle;\n",
       "    }\n",
       "\n",
       "    .dataframe tbody tr th {\n",
       "        vertical-align: top;\n",
       "    }\n",
       "\n",
       "    .dataframe thead th {\n",
       "        text-align: right;\n",
       "    }\n",
       "</style>\n",
       "<table border=\"1\" class=\"dataframe\">\n",
       "  <thead>\n",
       "    <tr style=\"text-align: right;\">\n",
       "      <th></th>\n",
       "      <th>label</th>\n",
       "      <th>image_path</th>\n",
       "      <th>split</th>\n",
       "    </tr>\n",
       "  </thead>\n",
       "  <tbody>\n",
       "    <tr>\n",
       "      <th>0</th>\n",
       "      <td>0</td>\n",
       "      <td>/home/me/.ludwig_cache/mnist_1.0/processed/tra...</td>\n",
       "      <td>0</td>\n",
       "    </tr>\n",
       "    <tr>\n",
       "      <th>3209</th>\n",
       "      <td>0</td>\n",
       "      <td>/home/me/.ludwig_cache/mnist_1.0/processed/tra...</td>\n",
       "      <td>0</td>\n",
       "    </tr>\n",
       "    <tr>\n",
       "      <th>5923</th>\n",
       "      <td>1</td>\n",
       "      <td>/home/me/.ludwig_cache/mnist_1.0/processed/tra...</td>\n",
       "      <td>0</td>\n",
       "    </tr>\n",
       "    <tr>\n",
       "      <th>7304</th>\n",
       "      <td>1</td>\n",
       "      <td>/home/me/.ludwig_cache/mnist_1.0/processed/tra...</td>\n",
       "      <td>0</td>\n",
       "    </tr>\n",
       "    <tr>\n",
       "      <th>7992</th>\n",
       "      <td>1</td>\n",
       "      <td>/home/me/.ludwig_cache/mnist_1.0/processed/tra...</td>\n",
       "      <td>0</td>\n",
       "    </tr>\n",
       "    <tr>\n",
       "      <th>59202</th>\n",
       "      <td>9</td>\n",
       "      <td>/home/me/.ludwig_cache/mnist_1.0/processed/tra...</td>\n",
       "      <td>0</td>\n",
       "    </tr>\n",
       "    <tr>\n",
       "      <th>60400</th>\n",
       "      <td>0</td>\n",
       "      <td>/home/me/.ludwig_cache/mnist_1.0/processed/tes...</td>\n",
       "      <td>2</td>\n",
       "    </tr>\n",
       "    <tr>\n",
       "      <th>60741</th>\n",
       "      <td>0</td>\n",
       "      <td>/home/me/.ludwig_cache/mnist_1.0/processed/tes...</td>\n",
       "      <td>2</td>\n",
       "    </tr>\n",
       "    <tr>\n",
       "      <th>64005</th>\n",
       "      <td>3</td>\n",
       "      <td>/home/me/.ludwig_cache/mnist_1.0/processed/tes...</td>\n",
       "      <td>2</td>\n",
       "    </tr>\n",
       "    <tr>\n",
       "      <th>69999</th>\n",
       "      <td>9</td>\n",
       "      <td>/home/me/.ludwig_cache/mnist_1.0/processed/tes...</td>\n",
       "      <td>2</td>\n",
       "    </tr>\n",
       "  </tbody>\n",
       "</table>\n",
       "</div>"
      ],
      "text/plain": [
       "      label                                         image_path  split\n",
       "0         0  /home/me/.ludwig_cache/mnist_1.0/processed/tra...      0\n",
       "3209      0  /home/me/.ludwig_cache/mnist_1.0/processed/tra...      0\n",
       "5923      1  /home/me/.ludwig_cache/mnist_1.0/processed/tra...      0\n",
       "7304      1  /home/me/.ludwig_cache/mnist_1.0/processed/tra...      0\n",
       "7992      1  /home/me/.ludwig_cache/mnist_1.0/processed/tra...      0\n",
       "59202     9  /home/me/.ludwig_cache/mnist_1.0/processed/tra...      0\n",
       "60400     0  /home/me/.ludwig_cache/mnist_1.0/processed/tes...      2\n",
       "60741     0  /home/me/.ludwig_cache/mnist_1.0/processed/tes...      2\n",
       "64005     3  /home/me/.ludwig_cache/mnist_1.0/processed/tes...      2\n",
       "69999     9  /home/me/.ludwig_cache/mnist_1.0/processed/tes...      2"
      ]
     },
     "execution_count": 7,
     "metadata": {},
     "output_type": "execute_result"
    }
   ],
   "source": [
    "# examine\n",
    "print(data_df.shape[0], 'records for training, validation and test')\n",
    "pak.sample(data_df,10)"
   ]
  },
  {
   "cell_type": "code",
   "execution_count": 8,
   "metadata": {
    "execution": {
     "iopub.execute_input": "2023-06-19T15:56:29.805730Z",
     "iopub.status.busy": "2023-06-19T15:56:29.805583Z",
     "iopub.status.idle": "2023-06-19T15:56:30.041925Z",
     "shell.execute_reply": "2023-06-19T15:56:30.041428Z",
     "shell.execute_reply.started": "2023-06-19T15:56:29.805715Z"
    }
   },
   "outputs": [
    {
     "data": {
      "text/html": [
       "<div>\n",
       "<style scoped>\n",
       "    .dataframe tbody tr th:only-of-type {\n",
       "        vertical-align: middle;\n",
       "    }\n",
       "\n",
       "    .dataframe tbody tr th {\n",
       "        vertical-align: top;\n",
       "    }\n",
       "\n",
       "    .dataframe thead th {\n",
       "        text-align: right;\n",
       "    }\n",
       "</style>\n",
       "<table border=\"1\" class=\"dataframe\">\n",
       "  <thead>\n",
       "    <tr style=\"text-align: right;\">\n",
       "      <th></th>\n",
       "      <th>col_name</th>\n",
       "      <th>is_output_feature</th>\n",
       "      <th>feature_type</th>\n",
       "      <th>datatype_short</th>\n",
       "      <th>datatype_identified</th>\n",
       "      <th>mem_usage</th>\n",
       "      <th>nunique</th>\n",
       "      <th>ndups</th>\n",
       "      <th>vmin</th>\n",
       "      <th>vmax</th>\n",
       "      <th>n</th>\n",
       "    </tr>\n",
       "  </thead>\n",
       "  <tbody>\n",
       "    <tr>\n",
       "      <th>0</th>\n",
       "      <td>label</td>\n",
       "      <td>True</td>\n",
       "      <td>category</td>\n",
       "      <td>string</td>\n",
       "      <td>string</td>\n",
       "      <td>580</td>\n",
       "      <td>10</td>\n",
       "      <td>9990</td>\n",
       "      <td>0</td>\n",
       "      <td>9</td>\n",
       "      <td>10000</td>\n",
       "    </tr>\n",
       "    <tr>\n",
       "      <th>1</th>\n",
       "      <td>image_path</td>\n",
       "      <td>False</td>\n",
       "      <td>image</td>\n",
       "      <td>string</td>\n",
       "      <td>string</td>\n",
       "      <td>1192</td>\n",
       "      <td>10000</td>\n",
       "      <td>0</td>\n",
       "      <td>/home/me/.ludwig_cache/mnist_1.0/processed/tes...</td>\n",
       "      <td>/home/me/.ludwig_cache/mnist_1.0/processed/tra...</td>\n",
       "      <td>10000</td>\n",
       "    </tr>\n",
       "  </tbody>\n",
       "</table>\n",
       "</div>"
      ],
      "text/plain": [
       "     col_name  is_output_feature feature_type datatype_short  \\\n",
       "0       label               True     category         string   \n",
       "1  image_path              False        image         string   \n",
       "\n",
       "  datatype_identified  mem_usage  nunique  ndups  \\\n",
       "0              string        580       10   9990   \n",
       "1              string       1192    10000      0   \n",
       "\n",
       "                                                vmin  \\\n",
       "0                                                  0   \n",
       "1  /home/me/.ludwig_cache/mnist_1.0/processed/tes...   \n",
       "\n",
       "                                                vmax      n  \n",
       "0                                                  9  10000  \n",
       "1  /home/me/.ludwig_cache/mnist_1.0/processed/tra...  10000  "
      ]
     },
     "execution_count": 8,
     "metadata": {},
     "output_type": "execute_result"
    }
   ],
   "source": [
    "# analyse_cols\n",
    "analyse = bludwig.analyse_cols(data_df, dataset_loader)\n",
    "analyse"
   ]
  },
  {
   "cell_type": "markdown",
   "metadata": {
    "id": "vtSyZji4C-7t"
   },
   "source": [
    "## configs"
   ]
  },
  {
   "cell_type": "code",
   "execution_count": 9,
   "metadata": {
    "execution": {
     "iopub.execute_input": "2023-06-19T15:56:30.042684Z",
     "iopub.status.busy": "2023-06-19T15:56:30.042502Z",
     "iopub.status.idle": "2023-06-19T15:56:30.275445Z",
     "shell.execute_reply": "2023-06-19T15:56:30.274899Z",
     "shell.execute_reply.started": "2023-06-19T15:56:30.042670Z"
    }
   },
   "outputs": [
    {
     "name": "stdout",
     "output_type": "stream",
     "text": [
      "\n",
      "====== config for model mnist_0 ======\n",
      "\n",
      "input_features:\n",
      "- name: image_path\n",
      "  type: image\n",
      "output_features:\n",
      "- name: label\n",
      "  type: category\n",
      "\n",
      "\n",
      "\n",
      "\n"
     ]
    }
   ],
   "source": [
    "# Automatically generated \n",
    "# (without the provided config)\n",
    "configs = bludwig.configs(data_df)\n",
    "\n",
    "# Automatically generated / provided configs\n",
    "#configs = bludwig.configs(data_df, dataset_loader)\n",
    "\n",
    "for i, c in enumerate(configs):\n",
    "    print('\\n====== config for model {} ======\\n'.format( experiment_name + '_' + str(i)))\n",
    "    print(c)\n",
    "    print('\\n\\n')"
   ]
  },
  {
   "cell_type": "markdown",
   "metadata": {},
   "source": [
    "## Add Image Vectors & config"
   ]
  },
  {
   "cell_type": "code",
   "execution_count": 10,
   "metadata": {
    "execution": {
     "iopub.execute_input": "2023-06-19T15:56:30.276113Z",
     "iopub.status.busy": "2023-06-19T15:56:30.275964Z",
     "iopub.status.idle": "2023-06-19T15:56:37.530110Z",
     "shell.execute_reply": "2023-06-19T15:56:37.529585Z",
     "shell.execute_reply.started": "2023-06-19T15:56:30.276098Z"
    },
    "executionInfo": {
     "elapsed": 589,
     "status": "ok",
     "timestamp": 1686173337964,
     "user": {
      "displayName": "Familie Klippstein",
      "userId": "08973939190628445877"
     },
     "user_tz": -120
    },
    "id": "_w1wLQkLOvsQ"
   },
   "outputs": [
    {
     "name": "stdout",
     "output_type": "stream",
     "text": [
      "shape = (28, 28)\n",
      "[[0.         0.         0.         0.         0.         0.\n",
      "  0.         0.         0.         0.21960784 0.9764706  0.99215686\n",
      "  0.9843137  0.49803922 0.01176471 0.         0.         0.\n",
      "  0.         0.         0.03137255 0.8980392  0.3882353  0.\n",
      "  0.         0.         0.         0.        ]\n",
      " [0.         0.         0.         0.         0.         0.\n",
      "  0.         0.         0.01568628 0.70980394 0.99215686 0.9843137\n",
      "  0.49019608 0.         0.         0.         0.         0.\n",
      "  0.         0.         0.         0.47843137 0.46666667 0.\n",
      "  0.         0.         0.         0.        ]]\n"
     ]
    }
   ],
   "source": [
    "# create image_array \n",
    "if not 'image_array' in data_df.columns:\n",
    "    data_df[ 'image_array'] = data_df.image_path.apply( plt.imread )\n",
    "\n",
    "    # image_array Beispiel anschauen\n",
    "    i = data_df.sample(1).iloc[0].image_array\n",
    "    print('shape =', bpy.shape(i))\n",
    "    print(i[10:12])    "
   ]
  },
  {
   "cell_type": "code",
   "execution_count": 11,
   "metadata": {
    "execution": {
     "iopub.execute_input": "2023-06-19T15:56:37.530866Z",
     "iopub.status.busy": "2023-06-19T15:56:37.530695Z",
     "iopub.status.idle": "2023-06-19T15:56:57.604806Z",
     "shell.execute_reply": "2023-06-19T15:56:57.604271Z",
     "shell.execute_reply.started": "2023-06-19T15:56:37.530852Z"
    },
    "executionInfo": {
     "elapsed": 32,
     "status": "ok",
     "timestamp": 1686173337967,
     "user": {
      "displayName": "Familie Klippstein",
      "userId": "08973939190628445877"
     },
     "user_tz": -120
    },
    "id": "jcNKjZPPOvsS"
   },
   "outputs": [
    {
     "name": "stdout",
     "output_type": "stream",
     "text": [
      "shape = 784\n",
      "2 0.99607843 0.7647059 0.45882353 0.16078432 0.14117648 0.0 0.2784314 0.0 0.0 0.23529412 0.8235294 0.99607843 0.47058824 0.0 0.0 0.0 0.0 0.0 0.0 0.0 0.0 0.0 0.0 0.0 0.0 0.0 0.64705884 0.9607843 0.4117647 0.015686275 0.0 0.0 0.0 0.0 0.0 0.0 0.0 0.05490196 0.8392157 0.99607843 0.28627452 0.0 0.0 0.0 0.0 0.0 0.0 0.0 0.0 0.0 0.0 0.0 0.0 0.0 0.38039216 0.91764706 0.0 0.0 0.0 0.0 0.0 0.0 0.0 0.07058824 0.627451 0.89411765 0.99607843 0.78039217 0.023529412 0.0 0.0 0.0 0.0 0.0 0.0 0.0 0.0 0.0 0.0 0.0 0.0 0.0 0.25882354 0.827451 0.0 0.0 0.0 0.0 0.0 0.0 0.011764706 0.78039217 0.99607843 0.9647059 0.64705884 0.06666667 0.0 0.0 0.0 0.0 0.0 0.0 0.0 0.0 0.0 0.0 0.0 0.0 0.0 0.0 0.07058824 0.039215688 0.0 0.0 0.0 0.0 0.0 0.06666667 0.5019608 0.99607843 0.7137255 0.32941177 0.0 0.0 0.0 0.0 0.0 0.0 0.0 0.0 0.0 0.0 0.0 0.0 0.0 0.0 0.0 0.0 0.0 0.0 0.0 0.0 0.0 0.14901961 0.6039216 0.9529412 0.99215686 0.50980395 0.03529412 0.0 0.0 0.0 0.0 0.0 0.0 0.0 0.0 0.0 0.0 0.0 0.0 0.0 0.0 0.0 0.0 0.0 0.0 0.0 0.0 0.19215687 0.65882355 0.9843137 0.99607843 0.99607843 0.84313726 0.99607843 0.8 0.5019608 0.043137256 0.0 0.0 0.0 0.0 0.0 0.0 0.0 0.0 0.0 0.0 0.0 0.0 0.0 0.0 0.0 0.0 0.0 0.25490198 0.9529412 0.99607843 0.99607843 0.99607843 0.99607843 0.9098039 0.654902 0.96862745 0.99607843 0.7921569 0.2509804 0.0 0.0 0.0 0.0 0.0 0.0 0.0 0.0 0.0 0.0 0.0 0.0 0.0 0.0 0.0 0.0 0.40784314 0.9411765 0.6901961 0.37254903 0.19607843 0.19607843 0.11372549 0.0 0.1882353 0.85490197 0.99607843 0.68235296 0.0 0.0 0.0 0.0 0.0 0.0 0.0 0.0 0.0 0.0 0.0 0.0 0.0 0.0 0.0 0.0 0.0 0.0 0.0 0.0 0.0 0.0 0.0 0.0 0.0 0.105882354 0.9254902 0.88235295 0.14117648 0.0 0.0 0.0 0.0 0.0 0.0 0.0 0.0 0.0 0.0 0.0 0.0 0.0 0.0 0.0 0.0 0.0 0.0 0.0 0.0 0.0 0.0 0.0 0.0 0.0 0.54901963 0.99607843 0.8 0.0 0.0 0.0 0.0 0.0 0.0 0.0 0.0 0.0 0.0 0.0 0.0 0.0 0.0 0.0 0.0 0.0 0.0 0.0 0.0 0.0 0.0 0.0 0.0 0.0 0.23137255 0.99607843 0.85882354 0.0 0.0 0.0 0.0 0.0 0.0 0.0 0.0 0.0 0.0 0.0 0.0 0.0 0.0 0.0 0.0 0.0 0.0 0.0 0.0 0.0 0.0 0.0 0.0 0.0 0.011764706 0.58431375 0.98039216 0.22352941 0.0 0.0 0.0 0.0 0.0 0.0 0.0 0.0 0.0 0.0 0.0 0.0 0.0 0.0 0.0 0.039215688 0.3647059 0.0 0.0 0.0 0.0 0.0 0.0 0.0 0.07058824 0.9137255 0.99607843 0.25490198 0.0 0.0 0.0 0.0 0.0 0.0 0.0 0.0 0.0 0.0 0.0 0.0 0.0 0.0 0.21176471 0.7254902 0.4\n"
     ]
    }
   ],
   "source": [
    "# create image_vector  (whitespace separated numerical values)\n",
    "def make_imagevector(imagearray):\n",
    "    result = str(list(bpy.flatten( imagearray )))\n",
    "    result = result.replace('[','')\n",
    "    result = result.replace(']','')    \n",
    "    result = result.replace(',','')       \n",
    "    return result\n",
    "\n",
    "if not 'image_vector' in data_df.columns:\n",
    "    data_df[ 'image_vector']  = data_df.image_array.apply(  make_imagevector )\n",
    "\n",
    "    # image_vector Beispiel anschauen\n",
    "    i = data_df.sample(1).iloc[0].image_vector\n",
    "    print('shape =', len(i.split()))\n",
    "    print(i[1000:-1000])    \n",
    "\n",
    "    "
   ]
  },
  {
   "cell_type": "code",
   "execution_count": 12,
   "metadata": {
    "execution": {
     "iopub.execute_input": "2023-06-19T15:56:57.605665Z",
     "iopub.status.busy": "2023-06-19T15:56:57.605506Z",
     "iopub.status.idle": "2023-06-19T15:56:57.639381Z",
     "shell.execute_reply": "2023-06-19T15:56:57.638893Z",
     "shell.execute_reply.started": "2023-06-19T15:56:57.605651Z"
    },
    "executionInfo": {
     "elapsed": 29,
     "status": "ok",
     "timestamp": 1686173337971,
     "user": {
      "displayName": "Familie Klippstein",
      "userId": "08973939190628445877"
     },
     "user_tz": -120
    },
    "id": "9CD-hfFtpTJC"
   },
   "outputs": [],
   "source": [
    "# Helper function to display images\n",
    "\n",
    "def plotDigitGrid(X,y,idxs,y_hat=None):\n",
    "    plt.rcdefaults()\n",
    "    plt.figure(figsize=(14,12))\n",
    "\n",
    "    for i in range(len(idxs)):\n",
    "        plt.subplot(5,6,i+1)\n",
    "        \n",
    "        if y_hat is None:\n",
    "            plt.title('Label: {label}'.format(label=y[idxs[i]]))\n",
    "        else:\n",
    "            plt.title(\"Label: {label}  Pred: {pred}\".format(label=y[idxs[i]], pred=y_hat[idxs[i]]))\n",
    "\n",
    "        plt.imshow(X[idxs[i]], cmap='Greys')\n",
    "        plt.tick_params(\n",
    "            axis='both',       # changes apply to the x-axis and y-axis\n",
    "            which='both',      # both major and minor ticks are affected\n",
    "            bottom=False,      # tick marks on bottom side are off\n",
    "            left=False,        # tick marks on left side are off\n",
    "            labelleft=False,   # label on left side are off\n",
    "            labelbottom=False) # labels along the bottom edge are off\n",
    "        plt.subplots_adjust(hspace=0.5)\n",
    "\n",
    "    plt.show()"
   ]
  },
  {
   "cell_type": "code",
   "execution_count": 13,
   "metadata": {
    "colab": {
     "base_uri": "https://localhost:8080/",
     "height": 191
    },
    "execution": {
     "iopub.execute_input": "2023-06-19T15:56:57.640160Z",
     "iopub.status.busy": "2023-06-19T15:56:57.639984Z",
     "iopub.status.idle": "2023-06-19T15:56:59.758335Z",
     "shell.execute_reply": "2023-06-19T15:56:59.757764Z",
     "shell.execute_reply.started": "2023-06-19T15:56:57.640146Z"
    },
    "executionInfo": {
     "elapsed": 1184,
     "status": "ok",
     "timestamp": 1686173339128,
     "user": {
      "displayName": "Familie Klippstein",
      "userId": "08973939190628445877"
     },
     "user_tz": -120
    },
    "id": "fjo15ZPvpwzv",
    "outputId": "25130302-0d5f-47dd-c548-dab0e165a71e"
   },
   "outputs": [
    {
     "data": {
      "image/png": "[encoded data removed]",
      "text/plain": [
       "<Figure size 1400x1200 with 10 Axes>"
      ]
     },
     "metadata": {},
     "output_type": "display_data"
    }
   ],
   "source": [
    "# plot sample images\n",
    "sample_df = pak.sample(data_df,10)\n",
    "plotDigitGrid(sample_df.image_array, sample_df.label, sample_df.index)"
   ]
  },
  {
   "cell_type": "code",
   "execution_count": 14,
   "metadata": {
    "execution": {
     "iopub.execute_input": "2023-06-19T15:56:59.759281Z",
     "iopub.status.busy": "2023-06-19T15:56:59.759091Z",
     "iopub.status.idle": "2023-06-19T15:57:00.539127Z",
     "shell.execute_reply": "2023-06-19T15:57:00.538579Z",
     "shell.execute_reply.started": "2023-06-19T15:56:59.759267Z"
    }
   },
   "outputs": [
    {
     "data": {
      "text/html": [
       "<div>\n",
       "<style scoped>\n",
       "    .dataframe tbody tr th:only-of-type {\n",
       "        vertical-align: middle;\n",
       "    }\n",
       "\n",
       "    .dataframe tbody tr th {\n",
       "        vertical-align: top;\n",
       "    }\n",
       "\n",
       "    .dataframe thead th {\n",
       "        text-align: right;\n",
       "    }\n",
       "</style>\n",
       "<table border=\"1\" class=\"dataframe\">\n",
       "  <thead>\n",
       "    <tr style=\"text-align: right;\">\n",
       "      <th></th>\n",
       "      <th>col_name</th>\n",
       "      <th>is_output_feature</th>\n",
       "      <th>feature_type</th>\n",
       "      <th>datatype_short</th>\n",
       "      <th>datatype_identified</th>\n",
       "      <th>mem_usage</th>\n",
       "      <th>nunique</th>\n",
       "      <th>ndups</th>\n",
       "      <th>vmin</th>\n",
       "      <th>vmax</th>\n",
       "      <th>n</th>\n",
       "    </tr>\n",
       "  </thead>\n",
       "  <tbody>\n",
       "    <tr>\n",
       "      <th>0</th>\n",
       "      <td>label</td>\n",
       "      <td>True</td>\n",
       "      <td>category</td>\n",
       "      <td>string</td>\n",
       "      <td>string</td>\n",
       "      <td>580</td>\n",
       "      <td>10</td>\n",
       "      <td>9990</td>\n",
       "      <td>0</td>\n",
       "      <td>9</td>\n",
       "      <td>10000</td>\n",
       "    </tr>\n",
       "    <tr>\n",
       "      <th>1</th>\n",
       "      <td>image_vector</td>\n",
       "      <td>False</td>\n",
       "      <td>vector</td>\n",
       "      <td>object</td>\n",
       "      <td>string</td>\n",
       "      <td>41507</td>\n",
       "      <td>10000</td>\n",
       "      <td>0</td>\n",
       "      <td>0.0 0.0 0.0 0.0 0.0 0.0 0.0 0.0 0.0 0.0 0.0 0....</td>\n",
       "      <td>0.0 0.0 0.0 0.0 0.0 0.0 0.0 0.0 0.0 0.0 0.0 0....</td>\n",
       "      <td>10000</td>\n",
       "    </tr>\n",
       "  </tbody>\n",
       "</table>\n",
       "</div>"
      ],
      "text/plain": [
       "       col_name  is_output_feature feature_type datatype_short  \\\n",
       "0         label               True     category         string   \n",
       "1  image_vector              False       vector         object   \n",
       "\n",
       "  datatype_identified  mem_usage  nunique  ndups  \\\n",
       "0              string        580       10   9990   \n",
       "1              string      41507    10000      0   \n",
       "\n",
       "                                                vmin  \\\n",
       "0                                                  0   \n",
       "1  0.0 0.0 0.0 0.0 0.0 0.0 0.0 0.0 0.0 0.0 0.0 0....   \n",
       "\n",
       "                                                vmax      n  \n",
       "0                                                  9  10000  \n",
       "1  0.0 0.0 0.0 0.0 0.0 0.0 0.0 0.0 0.0 0.0 0.0 0....  10000  "
      ]
     },
     "execution_count": 14,
     "metadata": {},
     "output_type": "execute_result"
    }
   ],
   "source": [
    "# analyse_cols\n",
    "cols = ['label','image_vector']\n",
    "analyse = bludwig.analyse_cols(data_df[cols], dataset_loader)\n",
    "analyse"
   ]
  },
  {
   "cell_type": "code",
   "execution_count": 15,
   "metadata": {
    "execution": {
     "iopub.execute_input": "2023-06-19T15:57:00.539936Z",
     "iopub.status.busy": "2023-06-19T15:57:00.539745Z",
     "iopub.status.idle": "2023-06-19T15:57:01.291044Z",
     "shell.execute_reply": "2023-06-19T15:57:01.290446Z",
     "shell.execute_reply.started": "2023-06-19T15:57:00.539921Z"
    }
   },
   "outputs": [
    {
     "name": "stdout",
     "output_type": "stream",
     "text": [
      "\n",
      "====== config for model mnist_1 ======\n",
      "\n",
      "input_features:\n",
      "- name: image_vector\n",
      "  type: vector\n",
      "output_features:\n",
      "- name: label\n",
      "  type: category\n",
      "\n",
      "\n",
      "\n",
      "\n"
     ]
    }
   ],
   "source": [
    "# Add vector config\n",
    "configs += bludwig.configs(data_df[cols])\n",
    "\n",
    "for i in [1]:\n",
    "    c = configs[i]\n",
    "    print('\\n====== config for model {} ======\\n'.format( experiment_name + '_' + str(i)))\n",
    "    print(c)\n",
    "    print('\\n\\n')"
   ]
  },
  {
   "cell_type": "markdown",
   "metadata": {},
   "source": [
    "## Add Manual configs"
   ]
  },
  {
   "cell_type": "code",
   "execution_count": 16,
   "metadata": {
    "execution": {
     "iopub.execute_input": "2023-06-19T15:57:01.291825Z",
     "iopub.status.busy": "2023-06-19T15:57:01.291644Z",
     "iopub.status.idle": "2023-06-19T15:57:01.326951Z",
     "shell.execute_reply": "2023-06-19T15:57:01.326356Z",
     "shell.execute_reply.started": "2023-06-19T15:57:01.291810Z"
    },
    "executionInfo": {
     "elapsed": 19,
     "status": "ok",
     "timestamp": 1686173340149,
     "user": {
      "displayName": "Familie Klippstein",
      "userId": "08973939190628445877"
     },
     "user_tz": -120
    },
    "id": "8k6cnn-sg-Jl"
   },
   "outputs": [],
   "source": [
    "# CNN\n",
    "\n",
    "config_2 = \"\"\"\n",
    "\n",
    "input_features:\n",
    "- name: image_path\n",
    "  type: image\n",
    "  encoder: stacked_cnn  \n",
    "  preprocessing:\n",
    "    num_processes: 4\n",
    "  conv_layers:\n",
    "  - num_filters: 32\n",
    "    filter_size: 3\n",
    "    pool_size: 2\n",
    "    pool_stride: 2\n",
    "  - num_filters: 64\n",
    "    filter_size: 3\n",
    "    pool_size: 2\n",
    "    pool_stride: 2\n",
    "    dropout: 0.4\n",
    "  fc_layers:\n",
    "  - output_size: 128\n",
    "    dropout: 0.4\n",
    "    \n",
    "  \n",
    "output_features:\n",
    "- name: label\n",
    "  type: category\n",
    "  \n",
    "trainer:\n",
    "  epochs: 10\n",
    "\n",
    "\"\"\""
   ]
  },
  {
   "cell_type": "code",
   "execution_count": 17,
   "metadata": {
    "execution": {
     "iopub.execute_input": "2023-06-19T15:57:01.327802Z",
     "iopub.status.busy": "2023-06-19T15:57:01.327632Z",
     "iopub.status.idle": "2023-06-19T15:57:01.362424Z",
     "shell.execute_reply": "2023-06-19T15:57:01.361882Z",
     "shell.execute_reply.started": "2023-06-19T15:57:01.327773Z"
    },
    "executionInfo": {
     "elapsed": 19,
     "status": "ok",
     "timestamp": 1686173340150,
     "user": {
      "displayName": "Familie Klippstein",
      "userId": "08973939190628445877"
     },
     "user_tz": -120
    },
    "id": "BQn_bg4riB6M"
   },
   "outputs": [],
   "source": [
    "# Image Feature\n",
    "\n",
    "config_3 = \"\"\"\n",
    "\n",
    "input_features:\n",
    "    - name: image_path\n",
    "      type: image    \n",
    "      preprocessing:\n",
    "        num_processes: 4\n",
    " \n",
    "output_features:\n",
    "    - name: label\n",
    "      type: category\n",
    "      \n",
    "trainer:\n",
    "    epochs: 10\n",
    "  \n",
    "\"\"\""
   ]
  },
  {
   "cell_type": "code",
   "execution_count": 18,
   "metadata": {
    "execution": {
     "iopub.execute_input": "2023-06-19T15:57:01.363260Z",
     "iopub.status.busy": "2023-06-19T15:57:01.363117Z",
     "iopub.status.idle": "2023-06-19T15:57:01.399037Z",
     "shell.execute_reply": "2023-06-19T15:57:01.398412Z",
     "shell.execute_reply.started": "2023-06-19T15:57:01.363246Z"
    }
   },
   "outputs": [
    {
     "name": "stdout",
     "output_type": "stream",
     "text": [
      "\n",
      "====== config for model mnist_2 ======\n",
      "\n",
      "\n",
      "\n",
      "input_features:\n",
      "- name: image_path\n",
      "  type: image\n",
      "  encoder: stacked_cnn  \n",
      "  preprocessing:\n",
      "    num_processes: 4\n",
      "  conv_layers:\n",
      "  - num_filters: 32\n",
      "    filter_size: 3\n",
      "    pool_size: 2\n",
      "    pool_stride: 2\n",
      "  - num_filters: 64\n",
      "    filter_size: 3\n",
      "    pool_size: 2\n",
      "    pool_stride: 2\n",
      "    dropout: 0.4\n",
      "  fc_layers:\n",
      "  - output_size: 128\n",
      "    dropout: 0.4\n",
      "    \n",
      "  \n",
      "output_features:\n",
      "- name: label\n",
      "  type: category\n",
      "  \n",
      "trainer:\n",
      "  epochs: 10\n",
      "\n",
      "\n",
      "\n",
      "\n",
      "\n",
      "\n",
      "====== config for model mnist_3 ======\n",
      "\n",
      "\n",
      "\n",
      "input_features:\n",
      "    - name: image_path\n",
      "      type: image    \n",
      "      preprocessing:\n",
      "        num_processes: 4\n",
      " \n",
      "output_features:\n",
      "    - name: label\n",
      "      type: category\n",
      "      \n",
      "trainer:\n",
      "    epochs: 10\n",
      "  \n",
      "\n",
      "\n",
      "\n",
      "\n"
     ]
    }
   ],
   "source": [
    "# add configs\n",
    "configs += [config_2, config_3]\n",
    "\n",
    "for i in [2,3]:\n",
    "    c = configs[i]\n",
    "    print('\\n====== config for model {} ======\\n'.format( experiment_name + '_' + str(i)))\n",
    "    print(c)\n",
    "    print('\\n\\n')"
   ]
  },
  {
   "cell_type": "markdown",
   "metadata": {},
   "source": [
    "## Initialize"
   ]
  },
  {
   "cell_type": "code",
   "execution_count": 19,
   "metadata": {
    "colab": {
     "base_uri": "https://localhost:8080/"
    },
    "execution": {
     "iopub.execute_input": "2023-06-19T15:57:01.399676Z",
     "iopub.status.busy": "2023-06-19T15:57:01.399496Z",
     "iopub.status.idle": "2023-06-19T15:57:01.432394Z",
     "shell.execute_reply": "2023-06-19T15:57:01.431951Z",
     "shell.execute_reply.started": "2023-06-19T15:57:01.399661Z"
    },
    "executionInfo": {
     "elapsed": 16727,
     "status": "ok",
     "timestamp": 1686256022749,
     "user": {
      "displayName": "Familie Klippstein",
      "userId": "08973939190628445877"
     },
     "user_tz": -120
    },
    "id": "n3WFMAGxOvsI",
    "outputId": "64989a50-9319-47e9-e8b0-d29a06e19abe"
   },
   "outputs": [],
   "source": [
    "# bludwig initialize\n",
    "if mode == 'T':  \n",
    "    ludwig_job = bludwig.LudwigJob( configs=configs, experiment_name=experiment_name, verbose=verbose) "
   ]
  },
  {
   "cell_type": "code",
   "execution_count": 20,
   "metadata": {
    "colab": {
     "base_uri": "https://localhost:8080/"
    },
    "execution": {
     "iopub.execute_input": "2023-06-19T15:57:01.433125Z",
     "iopub.status.busy": "2023-06-19T15:57:01.432977Z",
     "iopub.status.idle": "2023-06-19T15:57:01.471634Z",
     "shell.execute_reply": "2023-06-19T15:57:01.471092Z",
     "shell.execute_reply.started": "2023-06-19T15:57:01.433110Z"
    },
    "executionInfo": {
     "elapsed": 16727,
     "status": "ok",
     "timestamp": 1686256022749,
     "user": {
      "displayName": "Familie Klippstein",
      "userId": "08973939190628445877"
     },
     "user_tz": -120
    },
    "id": "n3WFMAGxOvsI",
    "outputId": "64989a50-9319-47e9-e8b0-d29a06e19abe"
   },
   "outputs": [],
   "source": [
    "# bludwig initialize and load\n",
    "if mode == 'S':  \n",
    "    ludwig_job = bludwig.LudwigJob() \n",
    "    ludwig_job.load_from_results()\n",
    "    #print(ludwig_job)"
   ]
  },
  {
   "cell_type": "markdown",
   "metadata": {
    "id": "EkWAP0_0gnFc"
   },
   "source": [
    "## Train"
   ]
  },
  {
   "cell_type": "code",
   "execution_count": 21,
   "metadata": {
    "execution": {
     "iopub.execute_input": "2023-06-19T15:57:01.472254Z",
     "iopub.status.busy": "2023-06-19T15:57:01.472114Z",
     "iopub.status.idle": "2023-06-19T15:57:01.505562Z",
     "shell.execute_reply": "2023-06-19T15:57:01.505068Z",
     "shell.execute_reply.started": "2023-06-19T15:57:01.472240Z"
    }
   },
   "outputs": [
    {
     "data": {
      "text/plain": [
       "'No training'"
      ]
     },
     "execution_count": 21,
     "metadata": {},
     "output_type": "execute_result"
    }
   ],
   "source": [
    "# train and evaluate\n",
    "out = None\n",
    "if mode == 'T':  \n",
    "    ludwig_job.experiment(data_df)\n",
    "    out = bludwig.train_log_to_csv( ludwig_job.train_log )\n",
    "else:\n",
    "    out = 'No training'\n",
    "out"
   ]
  },
  {
   "cell_type": "markdown",
   "metadata": {
    "execution": {
     "iopub.execute_input": "2023-06-03T08:59:23.598513Z",
     "iopub.status.busy": "2023-06-03T08:59:23.597960Z",
     "iopub.status.idle": "2023-06-03T08:59:23.640510Z",
     "shell.execute_reply": "2023-06-03T08:59:23.639738Z",
     "shell.execute_reply.started": "2023-06-03T08:59:23.598494Z"
    },
    "id": "CFJ2xCetOvsZ"
   },
   "source": [
    "## Evaluate"
   ]
  },
  {
   "cell_type": "code",
   "execution_count": 24,
   "metadata": {
    "execution": {
     "iopub.execute_input": "2023-06-19T16:01:24.835760Z",
     "iopub.status.busy": "2023-06-19T16:01:24.835496Z",
     "iopub.status.idle": "2023-06-19T16:01:25.160716Z",
     "shell.execute_reply": "2023-06-19T16:01:25.160214Z",
     "shell.execute_reply.started": "2023-06-19T16:01:24.835737Z"
    }
   },
   "outputs": [
    {
     "name": "stdout",
     "output_type": "stream",
     "text": [
      "[{'label': {'accuracy': 0.9758238792419434, 'accuracy_micro': 0.9762856960296631, 'loss': 0.08279334753751755, 'roc_auc': 0.9993475079536438}}, {'label': {'accuracy': 0.9528199434280396, 'accuracy_micro': 0.9531428813934326, 'loss': 0.20548227429389954, 'roc_auc': 0.9980244040489197}}, {'label': {'accuracy': 0.9811705946922302, 'accuracy_micro': 0.9814285635948181, 'loss': 0.05815742537379265, 'roc_auc': 0.9996442198753357}}, {'label': {'accuracy': 0.9706612229347229, 'accuracy_micro': 0.9710714221000671, 'loss': 0.09629097580909729, 'roc_auc': 0.9991424679756165}}]\n"
     ]
    },
    {
     "data": {
      "image/png": "[encoded data removed]",
      "text/plain": [
       "<Figure size 640x480 with 1 Axes>"
      ]
     },
     "metadata": {},
     "output_type": "display_data"
    }
   ],
   "source": [
    "# compare_performance\n",
    "ludwig_job.compare_performance()"
   ]
  },
  {
   "cell_type": "code",
   "execution_count": 23,
   "metadata": {
    "execution": {
     "iopub.execute_input": "2023-06-19T15:57:31.404593Z",
     "iopub.status.busy": "2023-06-19T15:57:31.403771Z",
     "iopub.status.idle": "2023-06-19T15:57:32.061890Z",
     "shell.execute_reply": "2023-06-19T15:57:32.061328Z",
     "shell.execute_reply.started": "2023-06-19T15:57:31.404518Z"
    }
   },
   "outputs": [
    {
     "data": {
      "image/png": "[encoded data removed]",
      "text/plain": [
       "<Figure size 640x480 with 1 Axes>"
      ]
     },
     "metadata": {},
     "output_type": "display_data"
    },
    {
     "data": {
      "image/png": "[encoded data removed]",
      "text/plain": [
       "<Figure size 640x480 with 1 Axes>"
      ]
     },
     "metadata": {},
     "output_type": "display_data"
    },
    {
     "data": {
      "image/png": "[encoded data removed]",
      "text/plain": [
       "<Figure size 640x480 with 1 Axes>"
      ]
     },
     "metadata": {},
     "output_type": "display_data"
    }
   ],
   "source": [
    "# learning_curves\n",
    "ludwig_job.learning_curves()"
   ]
  },
  {
   "cell_type": "code",
   "execution_count": null,
   "metadata": {
    "execution": {
     "iopub.status.busy": "2023-06-19T15:57:01.993144Z",
     "iopub.status.idle": "2023-06-19T15:57:01.993335Z",
     "shell.execute_reply": "2023-06-19T15:57:01.993240Z",
     "shell.execute_reply.started": "2023-06-19T15:57:01.993230Z"
    }
   },
   "outputs": [],
   "source": [
    "# confusion_matrix\n",
    "#ludwig_job.load_model(0)\n",
    "ludwig_job.confusion_matrix()"
   ]
  },
  {
   "cell_type": "code",
   "execution_count": null,
   "metadata": {
    "execution": {
     "iopub.status.busy": "2023-06-19T15:57:01.994121Z",
     "iopub.status.idle": "2023-06-19T15:57:01.994299Z",
     "shell.execute_reply": "2023-06-19T15:57:01.994216Z",
     "shell.execute_reply.started": "2023-06-19T15:57:01.994206Z"
    }
   },
   "outputs": [],
   "source": [
    "# roc_curves\n",
    "ludwig_job.roc_curves()"
   ]
  },
  {
   "cell_type": "markdown",
   "metadata": {},
   "source": [
    "## print_models"
   ]
  },
  {
   "cell_type": "code",
   "execution_count": null,
   "metadata": {
    "execution": {
     "iopub.status.busy": "2023-06-19T15:57:01.994881Z",
     "iopub.status.idle": "2023-06-19T15:57:01.995060Z",
     "shell.execute_reply": "2023-06-19T15:57:01.994976Z",
     "shell.execute_reply.started": "2023-06-19T15:57:01.994966Z"
    }
   },
   "outputs": [],
   "source": [
    "# print \n",
    "print(ludwig_job)"
   ]
  },
  {
   "cell_type": "code",
   "execution_count": null,
   "metadata": {
    "execution": {
     "iopub.status.busy": "2023-06-19T15:57:01.995564Z",
     "iopub.status.idle": "2023-06-19T15:57:01.995874Z",
     "shell.execute_reply": "2023-06-19T15:57:01.995788Z",
     "shell.execute_reply.started": "2023-06-19T15:57:01.995777Z"
    }
   },
   "outputs": [],
   "source": [
    "ludwig_job.print_models()"
   ]
  },
  {
   "cell_type": "markdown",
   "metadata": {},
   "source": [
    "## Predict"
   ]
  },
  {
   "cell_type": "code",
   "execution_count": null,
   "metadata": {
    "execution": {
     "iopub.status.busy": "2023-06-19T15:57:01.996429Z",
     "iopub.status.idle": "2023-06-19T15:57:01.996607Z",
     "shell.execute_reply": "2023-06-19T15:57:01.996524Z",
     "shell.execute_reply.started": "2023-06-19T15:57:01.996513Z"
    }
   },
   "outputs": [],
   "source": [
    "# load_model\n",
    "print('predict_model:',predict_model)\n",
    "ludwig_job.load_model(predict_model)\n",
    "\n",
    "# data\n",
    "data_sample = pak.sample(data_df, predicts_size)\n",
    "\n",
    "# predict\n",
    "data_sample = ludwig_job.predict(data_sample)\n",
    "data_sample"
   ]
  },
  {
   "cell_type": "markdown",
   "metadata": {
    "id": "fJQNbEcpl-nm"
   },
   "source": [
    "## Colab: Copy back"
   ]
  },
  {
   "cell_type": "code",
   "execution_count": null,
   "metadata": {
    "execution": {
     "iopub.status.busy": "2023-06-19T15:57:01.997116Z",
     "iopub.status.idle": "2023-06-19T15:57:01.997296Z",
     "shell.execute_reply": "2023-06-19T15:57:01.997212Z",
     "shell.execute_reply.started": "2023-06-19T15:57:01.997202Z"
    }
   },
   "outputs": [],
   "source": [
    "if not environment['in_colab']:\n",
    "    raise Stop"
   ]
  },
  {
   "cell_type": "code",
   "execution_count": null,
   "metadata": {
    "colab": {
     "base_uri": "https://localhost:8080/"
    },
    "execution": {
     "iopub.status.busy": "2023-06-19T15:57:01.997915Z",
     "iopub.status.idle": "2023-06-19T15:57:01.998115Z",
     "shell.execute_reply": "2023-06-19T15:57:01.998030Z",
     "shell.execute_reply.started": "2023-06-19T15:57:01.998020Z"
    },
    "executionInfo": {
     "elapsed": 1692,
     "status": "ok",
     "timestamp": 1686256133157,
     "user": {
      "displayName": "Familie Klippstein",
      "userId": "08973939190628445877"
     },
     "user_tz": -120
    },
    "id": "uHW7Ko-NslUa",
    "outputId": "590edae0-b15b-401a-c208-1c701e4668f5"
   },
   "outputs": [],
   "source": [
    "# mount\n",
    "if environment['in_colab']:\n",
    "    from google.colab import drive\n",
    "    drive.mount('/content/drive')  "
   ]
  },
  {
   "cell_type": "code",
   "execution_count": null,
   "metadata": {
    "colab": {
     "base_uri": "https://localhost:8080/"
    },
    "execution": {
     "iopub.status.busy": "2023-06-19T15:57:01.998653Z",
     "iopub.status.idle": "2023-06-19T15:57:01.998834Z",
     "shell.execute_reply": "2023-06-19T15:57:01.998750Z",
     "shell.execute_reply.started": "2023-06-19T15:57:01.998740Z"
    },
    "executionInfo": {
     "elapsed": 1575,
     "status": "ok",
     "timestamp": 1686256600179,
     "user": {
      "displayName": "Familie Klippstein",
      "userId": "08973939190628445877"
     },
     "user_tz": -120
    },
    "id": "meeL3dGNmCaL",
    "outputId": "4becf288-c76a-4978-8524-5d4b3c4e0175"
   },
   "outputs": [],
   "source": [
    "# mount\n",
    "if environment['in_colab']:\n",
    "    from google.colab import drive\n",
    "    drive.mount('/content/drive')  "
   ]
  },
  {
   "cell_type": "code",
   "execution_count": null,
   "metadata": {
    "colab": {
     "base_uri": "https://localhost:8080/"
    },
    "execution": {
     "iopub.status.busy": "2023-06-19T15:57:01.999490Z",
     "iopub.status.idle": "2023-06-19T15:57:01.999768Z",
     "shell.execute_reply": "2023-06-19T15:57:01.999684Z",
     "shell.execute_reply.started": "2023-06-19T15:57:01.999673Z"
    },
    "executionInfo": {
     "elapsed": 380,
     "status": "ok",
     "timestamp": 1686256600550,
     "user": {
      "displayName": "Familie Klippstein",
      "userId": "08973939190628445877"
     },
     "user_tz": -120
    },
    "id": "OVs054v5nE-W",
    "outputId": "9ca81e32-dca0-47a7-bdb8-253feb45c119"
   },
   "outputs": [],
   "source": [
    "if environment['in_colab']:\n",
    "    !ls"
   ]
  },
  {
   "cell_type": "code",
   "execution_count": null,
   "metadata": {
    "colab": {
     "base_uri": "https://localhost:8080/"
    },
    "execution": {
     "iopub.status.busy": "2023-06-19T15:57:02.000345Z",
     "iopub.status.idle": "2023-06-19T15:57:02.000522Z",
     "shell.execute_reply": "2023-06-19T15:57:02.000440Z",
     "shell.execute_reply.started": "2023-06-19T15:57:02.000430Z"
    },
    "executionInfo": {
     "elapsed": 23,
     "status": "ok",
     "timestamp": 1686256600552,
     "user": {
      "displayName": "Familie Klippstein",
      "userId": "08973939190628445877"
     },
     "user_tz": -120
    },
    "id": "M0AjzScGnJKF",
    "outputId": "c8524dfc-63c4-47c7-b88a-5b87bb2c8e2f"
   },
   "outputs": [],
   "source": [
    "if environment['in_colab']:\n",
    "    !ls results"
   ]
  },
  {
   "cell_type": "code",
   "execution_count": null,
   "metadata": {
    "execution": {
     "iopub.status.busy": "2023-06-19T15:57:02.001164Z",
     "iopub.status.idle": "2023-06-19T15:57:02.001343Z",
     "shell.execute_reply": "2023-06-19T15:57:02.001261Z",
     "shell.execute_reply.started": "2023-06-19T15:57:02.001250Z"
    },
    "executionInfo": {
     "elapsed": 2378,
     "status": "ok",
     "timestamp": 1686256602921,
     "user": {
      "displayName": "Familie Klippstein",
      "userId": "08973939190628445877"
     },
     "user_tz": -120
    },
    "id": "fPesu0Nhm06i"
   },
   "outputs": [],
   "source": [
    "# results: copy to GDrive\n",
    "if environment['in_colab']:\n",
    "  results_path = gdrive_base + '/results'\n",
    "  !cp -a results $results_path \n",
    "  !cp train_log*.csv $gdrive_base "
   ]
  },
  {
   "cell_type": "code",
   "execution_count": null,
   "metadata": {
    "colab": {
     "base_uri": "https://localhost:8080/"
    },
    "execution": {
     "iopub.status.busy": "2023-06-19T15:57:02.001800Z",
     "iopub.status.idle": "2023-06-19T15:57:02.002064Z",
     "shell.execute_reply": "2023-06-19T15:57:02.001979Z",
     "shell.execute_reply.started": "2023-06-19T15:57:02.001968Z"
    },
    "executionInfo": {
     "elapsed": 14,
     "status": "ok",
     "timestamp": 1686256964163,
     "user": {
      "displayName": "Familie Klippstein",
      "userId": "08973939190628445877"
     },
     "user_tz": -120
    },
    "id": "-GyVispFp1fh",
    "outputId": "db117307-3146-4688-d909-c5c419e7c637"
   },
   "outputs": [],
   "source": [
    "if environment['in_colab']:\n",
    "    print('Copy back manually:')\n",
    "    print('1) This ipynb-File, if changed')\n",
    "    print('2) results directory')\n",
    "    print('3) train_log file')    \n",
    "else:\n",
    "    print('finished')"
   ]
  },
  {
   "cell_type": "code",
   "execution_count": null,
   "metadata": {
    "colab": {
     "base_uri": "https://localhost:8080/",
     "height": 115
    },
    "execution": {
     "iopub.status.busy": "2023-06-19T15:57:02.002520Z",
     "iopub.status.idle": "2023-06-19T15:57:02.002712Z",
     "shell.execute_reply": "2023-06-19T15:57:02.002628Z",
     "shell.execute_reply.started": "2023-06-19T15:57:02.002617Z"
    },
    "executionInfo": {
     "elapsed": 32,
     "status": "error",
     "timestamp": 1686256603816,
     "user": {
      "displayName": "Familie Klippstein",
      "userId": "08973939190628445877"
     },
     "user_tz": -120
    },
    "id": "QmJKsnOlrJl_",
    "outputId": "4eb142c5-8f2f-4b60-b8a8-bdbd2682e5b3"
   },
   "outputs": [],
   "source": [
    "raise Stop"
   ]
  }
 ],
 "metadata": {
  "accelerator": "GPU",
  "colab": {
   "provenance": []
  },
  "kernelspec": {
   "display_name": "Python 3 (ipykernel)",
   "language": "python",
   "name": "python3"
  },
  "language_info": {
   "codemirror_mode": {
    "name": "ipython",
    "version": 3
   },
   "file_extension": ".py",
   "mimetype": "text/x-python",
   "name": "python",
   "nbconvert_exporter": "python",
   "pygments_lexer": "ipython3",
   "version": "3.9.15"
  }
 },
 "nbformat": 4,
 "nbformat_minor": 4
}

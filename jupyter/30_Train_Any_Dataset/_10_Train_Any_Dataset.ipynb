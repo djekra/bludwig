{
 "cells": [
  {
   "cell_type": "markdown",
   "metadata": {},
   "source": [
    "__[Open and try this file online (Colab)](https://colab.research.google.com/github/djekra/bludwig/blob/main/jupyter/30_Train_Any_Dataset/_10_Train_Any_Dataset.ipynb)__"
   ]
  },
  {
   "cell_type": "code",
   "execution_count": 1,
   "metadata": {
    "colab": {
     "base_uri": "https://localhost:8080/",
     "height": 86
    },
    "execution": {
     "iopub.execute_input": "2023-06-18T18:39:46.662926Z",
     "iopub.status.busy": "2023-06-18T18:39:46.662425Z",
     "iopub.status.idle": "2023-06-18T18:39:47.390130Z",
     "shell.execute_reply": "2023-06-18T18:39:47.389503Z",
     "shell.execute_reply.started": "2023-06-18T18:39:46.662879Z"
    },
    "executionInfo": {
     "elapsed": 363,
     "status": "ok",
     "timestamp": 1686173310843,
     "user": {
      "displayName": "Familie Klippstein",
      "userId": "08973939190628445877"
     },
     "user_tz": -120
    },
    "id": "DgB2Td0tOvr7",
    "outputId": "62803628-9556-4941-c241-ac3ddf910539"
   },
   "outputs": [
    {
     "name": "stdout",
     "output_type": "stream",
     "text": [
      "blab init\n",
      "environment['in_colab']     = False\n",
      "environment['dropbox_path'] = /home/me/Data_Linux/Dropbox\n",
      "environment['lib_path']     = /home/me/Data_Linux/Dropbox/31_Projekte/01_Python/libs\n",
      "Start Time: 20:39:46\n"
     ]
    },
    {
     "data": {
      "text/html": [
       "<img src onerror=\"var cell = this.closest('.jp-CodeCell');var editor = cell.querySelector('.jp-Editor');editor.style.background='Beige';this.parentNode.removeChild(this)\">"
      ],
      "text/plain": [
       "<IPython.core.display.HTML object>"
      ]
     },
     "metadata": {},
     "output_type": "display_data"
    }
   ],
   "source": [
    "# blab init\n",
    "try:\n",
    "    import blab\n",
    "except ImportError as e:\n",
    "    !pip install --quiet blab\n",
    "    import blab    \n",
    "startup_notebook = blab.blab_startup()\n",
    "%run $startup_notebook "
   ]
  },
  {
   "cell_type": "markdown",
   "metadata": {
    "id": "dqW_BZ60kyWP"
   },
   "source": [
    "# Train Any Dataset"
   ]
  },
  {
   "cell_type": "code",
   "execution_count": 2,
   "metadata": {
    "execution": {
     "iopub.execute_input": "2023-06-18T18:39:47.391950Z",
     "iopub.status.busy": "2023-06-18T18:39:47.391630Z",
     "iopub.status.idle": "2023-06-18T18:39:47.414305Z",
     "shell.execute_reply": "2023-06-18T18:39:47.412145Z",
     "shell.execute_reply.started": "2023-06-18T18:39:47.391926Z"
    },
    "executionInfo": {
     "elapsed": 463,
     "status": "ok",
     "timestamp": 1686173335567,
     "user": {
      "displayName": "Familie Klippstein",
      "userId": "08973939190628445877"
     },
     "user_tz": -120
    },
    "id": "wj1f-u_vOvsK"
   },
   "outputs": [
    {
     "data": {
      "text/html": [
       "<img src onerror=\"var cell = this.closest('.jp-CodeCell');var editor = cell.querySelector('.jp-Editor');editor.style.background='Beige';this.parentNode.removeChild(this)\">"
      ],
      "text/plain": [
       "<IPython.core.display.HTML object>"
      ]
     },
     "metadata": {},
     "output_type": "display_data"
    }
   ],
   "source": [
    "# Settings\n",
    "\n",
    "#dataset_name    = 'adult_census_income'   # Which dataset shall be loaded?\n",
    "dataset_name    = 'iris'                  # Which dataset shall be loaded?\n",
    "experiment_name = 'iris'                  # Base of the model names\n",
    "mode            = 'T'                     # mode: C=cleanup, T=train, S=show \n",
    "verbose         = False    \n",
    "predicts_size   = 100                     # How many predictions should be created?\n",
    "\n",
    "gdrive_base   = 'drive/MyDrive/Colab'\n",
    "bgc('Beige')"
   ]
  },
  {
   "cell_type": "code",
   "execution_count": 3,
   "metadata": {
    "colab": {
     "base_uri": "https://localhost:8080/"
    },
    "execution": {
     "iopub.execute_input": "2023-06-18T18:39:47.416309Z",
     "iopub.status.busy": "2023-06-18T18:39:47.415612Z",
     "iopub.status.idle": "2023-06-18T18:39:47.433758Z",
     "shell.execute_reply": "2023-06-18T18:39:47.432982Z",
     "shell.execute_reply.started": "2023-06-18T18:39:47.416241Z"
    },
    "executionInfo": {
     "elapsed": 23608,
     "status": "ok",
     "timestamp": 1686173335132,
     "user": {
      "displayName": "Familie Klippstein",
      "userId": "08973939190628445877"
     },
     "user_tz": -120
    },
    "id": "DiBUpR-GPcys",
    "outputId": "c57587a6-02d9-4fb1-cced-852f95d6c5f7"
   },
   "outputs": [],
   "source": [
    "# Colab? >> Install the latest version of Ludwig\n",
    "if environment['in_colab']:\n",
    "  !pip uninstall -y tensorflow --quiet\n",
    "  !python -m pip install git+https://github.com/ludwig-ai/ludwig.git --quiet \n",
    "  !pip install ptitprince --quiet \n",
    "  !pip install bludwig --quiet "
   ]
  },
  {
   "cell_type": "code",
   "execution_count": 4,
   "metadata": {
    "colab": {
     "base_uri": "https://localhost:8080/"
    },
    "execution": {
     "iopub.execute_input": "2023-06-18T18:39:47.439070Z",
     "iopub.status.busy": "2023-06-18T18:39:47.436822Z",
     "iopub.status.idle": "2023-06-18T18:39:48.143982Z",
     "shell.execute_reply": "2023-06-18T18:39:48.142216Z",
     "shell.execute_reply.started": "2023-06-18T18:39:47.439029Z"
    },
    "executionInfo": {
     "elapsed": 30,
     "status": "ok",
     "timestamp": 1686256005696,
     "user": {
      "displayName": "Familie Klippstein",
      "userId": "08973939190628445877"
     },
     "user_tz": -120
    },
    "id": "HnYdSdJXOvsC",
    "outputId": "d726faf8-b46a-4253-b985-bee1199a157c"
   },
   "outputs": [
    {
     "name": "stdout",
     "output_type": "stream",
     "text": [
      "rm: das Entfernen von '*.temp.pickle' ist nicht möglich: Datei oder Verzeichnis nicht gefunden\n"
     ]
    },
    {
     "data": {
      "text/html": [
       "<img src onerror=\"var cell = this.closest('.jp-CodeCell');var editor = cell.querySelector('.jp-Editor');editor.style.background='WhiteSmoke';this.parentNode.removeChild(this)\">"
      ],
      "text/plain": [
       "<IPython.core.display.HTML object>"
      ]
     },
     "metadata": {},
     "output_type": "display_data"
    },
    {
     "name": "stdout",
     "output_type": "stream",
     "text": [
      "is_neustart: True\n"
     ]
    }
   ],
   "source": [
    "# cleanup?\n",
    "if not 'is_neustart' in locals() or mode == 'C': \n",
    "    is_neustart = True\n",
    "    if not mode == 'S': # show\n",
    "        try:\n",
    "            !rm -rf results\n",
    "            !rm *.meta.json\n",
    "            !rm *.hdf5    \n",
    "            !rm *.temp.pickle        \n",
    "            !rm .lock_preprocessing\n",
    "        except:\n",
    "            pass\n",
    "else:\n",
    "    is_neustart = False    \n",
    "\n",
    "if mode == 'C':\n",
    "    raise Stop\n",
    "else:\n",
    "    bgc('WhiteSmoke')\n",
    "    \n",
    "print('is_neustart:',is_neustart)"
   ]
  },
  {
   "cell_type": "code",
   "execution_count": 5,
   "metadata": {
    "colab": {
     "base_uri": "https://localhost:8080/"
    },
    "execution": {
     "iopub.execute_input": "2023-06-18T18:39:48.157438Z",
     "iopub.status.busy": "2023-06-18T18:39:48.145976Z",
     "iopub.status.idle": "2023-06-18T18:40:00.199808Z",
     "shell.execute_reply": "2023-06-18T18:40:00.199072Z",
     "shell.execute_reply.started": "2023-06-18T18:39:48.146751Z"
    },
    "executionInfo": {
     "elapsed": 16727,
     "status": "ok",
     "timestamp": 1686256022749,
     "user": {
      "displayName": "Familie Klippstein",
      "userId": "08973939190628445877"
     },
     "user_tz": -120
    },
    "id": "n3WFMAGxOvsI",
    "outputId": "64989a50-9319-47e9-e8b0-d29a06e19abe"
   },
   "outputs": [],
   "source": [
    "# import \n",
    "import pandas as pd\n",
    "import pandasklar as pak\n",
    "grid = pak.grid\n",
    "import bludwig"
   ]
  },
  {
   "cell_type": "markdown",
   "metadata": {
    "id": "hW9kA_qSOvsN"
   },
   "source": [
    "## Data"
   ]
  },
  {
   "cell_type": "code",
   "execution_count": 6,
   "metadata": {
    "execution": {
     "iopub.execute_input": "2023-06-18T18:40:00.201333Z",
     "iopub.status.busy": "2023-06-18T18:40:00.200765Z",
     "iopub.status.idle": "2023-06-18T18:40:00.455967Z",
     "shell.execute_reply": "2023-06-18T18:40:00.455275Z",
     "shell.execute_reply.started": "2023-06-18T18:40:00.201308Z"
    }
   },
   "outputs": [
    {
     "name": "stdout",
     "output_type": "stream",
     "text": [
      "\n",
      "iris 1.0\n",
      "Iris Dataset\n",
      "https://archive.ics.uci.edu/ml/datasets/Iris\n",
      "\n",
      "output_features: [{'name': 'class', 'type': 'category'}]\n"
     ]
    }
   ],
   "source": [
    "# load_dataset\n",
    "data_df, dataset_loader = bludwig.load_dataset(dataset_name)"
   ]
  },
  {
   "cell_type": "code",
   "execution_count": 7,
   "metadata": {
    "colab": {
     "base_uri": "https://localhost:8080/"
    },
    "execution": {
     "iopub.execute_input": "2023-06-18T18:40:00.458697Z",
     "iopub.status.busy": "2023-06-18T18:40:00.458233Z",
     "iopub.status.idle": "2023-06-18T18:40:00.629528Z",
     "shell.execute_reply": "2023-06-18T18:40:00.627383Z",
     "shell.execute_reply.started": "2023-06-18T18:40:00.458668Z"
    },
    "executionInfo": {
     "elapsed": 39,
     "status": "ok",
     "timestamp": 1686173337398,
     "user": {
      "displayName": "Familie Klippstein",
      "userId": "08973939190628445877"
     },
     "user_tz": -120
    },
    "id": "5vmJL7v1iAdM",
    "outputId": "327fab1c-e3ff-4d5e-aec6-dc500b0f60b8"
   },
   "outputs": [
    {
     "name": "stdout",
     "output_type": "stream",
     "text": [
      "149 records for training, validation and test\n"
     ]
    },
    {
     "data": {
      "text/html": [
       "<div>\n",
       "<style scoped>\n",
       "    .dataframe tbody tr th:only-of-type {\n",
       "        vertical-align: middle;\n",
       "    }\n",
       "\n",
       "    .dataframe tbody tr th {\n",
       "        vertical-align: top;\n",
       "    }\n",
       "\n",
       "    .dataframe thead th {\n",
       "        text-align: right;\n",
       "    }\n",
       "</style>\n",
       "<table border=\"1\" class=\"dataframe\">\n",
       "  <thead>\n",
       "    <tr style=\"text-align: right;\">\n",
       "      <th></th>\n",
       "      <th>class</th>\n",
       "      <th>sepal_length_cm</th>\n",
       "      <th>sepal_width_cm</th>\n",
       "      <th>petal_length_cm</th>\n",
       "      <th>petal_width_cm</th>\n",
       "    </tr>\n",
       "  </thead>\n",
       "  <tbody>\n",
       "    <tr>\n",
       "      <th>0</th>\n",
       "      <td>Iris-setosa</td>\n",
       "      <td>4.9</td>\n",
       "      <td>3.0</td>\n",
       "      <td>1.4</td>\n",
       "      <td>0.2</td>\n",
       "    </tr>\n",
       "    <tr>\n",
       "      <th>2</th>\n",
       "      <td>Iris-setosa</td>\n",
       "      <td>4.6</td>\n",
       "      <td>3.1</td>\n",
       "      <td>1.5</td>\n",
       "      <td>0.2</td>\n",
       "    </tr>\n",
       "    <tr>\n",
       "      <th>3</th>\n",
       "      <td>Iris-setosa</td>\n",
       "      <td>5.0</td>\n",
       "      <td>3.6</td>\n",
       "      <td>1.4</td>\n",
       "      <td>0.2</td>\n",
       "    </tr>\n",
       "    <tr>\n",
       "      <th>12</th>\n",
       "      <td>Iris-setosa</td>\n",
       "      <td>4.3</td>\n",
       "      <td>3.0</td>\n",
       "      <td>1.1</td>\n",
       "      <td>0.1</td>\n",
       "    </tr>\n",
       "    <tr>\n",
       "      <th>14</th>\n",
       "      <td>Iris-setosa</td>\n",
       "      <td>5.7</td>\n",
       "      <td>4.4</td>\n",
       "      <td>1.5</td>\n",
       "      <td>0.4</td>\n",
       "    </tr>\n",
       "    <tr>\n",
       "      <th>21</th>\n",
       "      <td>Iris-setosa</td>\n",
       "      <td>4.6</td>\n",
       "      <td>3.6</td>\n",
       "      <td>1.0</td>\n",
       "      <td>0.2</td>\n",
       "    </tr>\n",
       "    <tr>\n",
       "      <th>60</th>\n",
       "      <td>Iris-versicolor</td>\n",
       "      <td>5.9</td>\n",
       "      <td>3.0</td>\n",
       "      <td>4.2</td>\n",
       "      <td>1.5</td>\n",
       "    </tr>\n",
       "    <tr>\n",
       "      <th>99</th>\n",
       "      <td>Iris-virginica</td>\n",
       "      <td>6.3</td>\n",
       "      <td>3.3</td>\n",
       "      <td>6.0</td>\n",
       "      <td>2.5</td>\n",
       "    </tr>\n",
       "    <tr>\n",
       "      <th>117</th>\n",
       "      <td>Iris-virginica</td>\n",
       "      <td>7.7</td>\n",
       "      <td>2.6</td>\n",
       "      <td>6.9</td>\n",
       "      <td>2.3</td>\n",
       "    </tr>\n",
       "    <tr>\n",
       "      <th>130</th>\n",
       "      <td>Iris-virginica</td>\n",
       "      <td>7.9</td>\n",
       "      <td>3.8</td>\n",
       "      <td>6.4</td>\n",
       "      <td>2.0</td>\n",
       "    </tr>\n",
       "  </tbody>\n",
       "</table>\n",
       "</div>"
      ],
      "text/plain": [
       "               class  sepal_length_cm  sepal_width_cm  petal_length_cm  \\\n",
       "0        Iris-setosa              4.9             3.0              1.4   \n",
       "2        Iris-setosa              4.6             3.1              1.5   \n",
       "3        Iris-setosa              5.0             3.6              1.4   \n",
       "12       Iris-setosa              4.3             3.0              1.1   \n",
       "14       Iris-setosa              5.7             4.4              1.5   \n",
       "21       Iris-setosa              4.6             3.6              1.0   \n",
       "60   Iris-versicolor              5.9             3.0              4.2   \n",
       "99    Iris-virginica              6.3             3.3              6.0   \n",
       "117   Iris-virginica              7.7             2.6              6.9   \n",
       "130   Iris-virginica              7.9             3.8              6.4   \n",
       "\n",
       "     petal_width_cm  \n",
       "0               0.2  \n",
       "2               0.2  \n",
       "3               0.2  \n",
       "12              0.1  \n",
       "14              0.4  \n",
       "21              0.2  \n",
       "60              1.5  \n",
       "99              2.5  \n",
       "117             2.3  \n",
       "130             2.0  "
      ]
     },
     "execution_count": 7,
     "metadata": {},
     "output_type": "execute_result"
    }
   ],
   "source": [
    "# examine\n",
    "print(data_df.shape[0], 'records for training, validation and test')\n",
    "pak.sample(data_df,10)"
   ]
  },
  {
   "cell_type": "code",
   "execution_count": 8,
   "metadata": {
    "execution": {
     "iopub.execute_input": "2023-06-18T18:40:00.633777Z",
     "iopub.status.busy": "2023-06-18T18:40:00.633214Z",
     "iopub.status.idle": "2023-06-18T18:40:00.786735Z",
     "shell.execute_reply": "2023-06-18T18:40:00.785888Z",
     "shell.execute_reply.started": "2023-06-18T18:40:00.633744Z"
    }
   },
   "outputs": [
    {
     "data": {
      "text/html": [
       "<div>\n",
       "<style scoped>\n",
       "    .dataframe tbody tr th:only-of-type {\n",
       "        vertical-align: middle;\n",
       "    }\n",
       "\n",
       "    .dataframe tbody tr th {\n",
       "        vertical-align: top;\n",
       "    }\n",
       "\n",
       "    .dataframe thead th {\n",
       "        text-align: right;\n",
       "    }\n",
       "</style>\n",
       "<table border=\"1\" class=\"dataframe\">\n",
       "  <thead>\n",
       "    <tr style=\"text-align: right;\">\n",
       "      <th></th>\n",
       "      <th>col_name</th>\n",
       "      <th>is_output_feature</th>\n",
       "      <th>feature_type</th>\n",
       "      <th>datatype_short</th>\n",
       "      <th>datatype_identified</th>\n",
       "      <th>mem_usage</th>\n",
       "      <th>nunique</th>\n",
       "      <th>ndups</th>\n",
       "      <th>vmin</th>\n",
       "      <th>vmax</th>\n",
       "      <th>n</th>\n",
       "    </tr>\n",
       "  </thead>\n",
       "  <tbody>\n",
       "    <tr>\n",
       "      <th>0</th>\n",
       "      <td>class</td>\n",
       "      <td>True</td>\n",
       "      <td>category</td>\n",
       "      <td>string</td>\n",
       "      <td>string</td>\n",
       "      <td>702</td>\n",
       "      <td>3</td>\n",
       "      <td>146</td>\n",
       "      <td>Iris-setosa</td>\n",
       "      <td>Iris-virginica</td>\n",
       "      <td>149</td>\n",
       "    </tr>\n",
       "    <tr>\n",
       "      <th>1</th>\n",
       "      <td>sepal_length_cm</td>\n",
       "      <td>False</td>\n",
       "      <td>number</td>\n",
       "      <td>float32</td>\n",
       "      <td>float</td>\n",
       "      <td>40</td>\n",
       "      <td>35</td>\n",
       "      <td>114</td>\n",
       "      <td>4.3</td>\n",
       "      <td>7.9</td>\n",
       "      <td>149</td>\n",
       "    </tr>\n",
       "    <tr>\n",
       "      <th>2</th>\n",
       "      <td>sepal_width_cm</td>\n",
       "      <td>False</td>\n",
       "      <td>number</td>\n",
       "      <td>float32</td>\n",
       "      <td>float</td>\n",
       "      <td>40</td>\n",
       "      <td>23</td>\n",
       "      <td>126</td>\n",
       "      <td>2.0</td>\n",
       "      <td>4.4</td>\n",
       "      <td>149</td>\n",
       "    </tr>\n",
       "    <tr>\n",
       "      <th>3</th>\n",
       "      <td>petal_length_cm</td>\n",
       "      <td>False</td>\n",
       "      <td>number</td>\n",
       "      <td>float32</td>\n",
       "      <td>float</td>\n",
       "      <td>40</td>\n",
       "      <td>43</td>\n",
       "      <td>106</td>\n",
       "      <td>1.0</td>\n",
       "      <td>6.9</td>\n",
       "      <td>149</td>\n",
       "    </tr>\n",
       "    <tr>\n",
       "      <th>4</th>\n",
       "      <td>petal_width_cm</td>\n",
       "      <td>False</td>\n",
       "      <td>number</td>\n",
       "      <td>float32</td>\n",
       "      <td>float</td>\n",
       "      <td>40</td>\n",
       "      <td>22</td>\n",
       "      <td>127</td>\n",
       "      <td>0.1</td>\n",
       "      <td>2.5</td>\n",
       "      <td>149</td>\n",
       "    </tr>\n",
       "  </tbody>\n",
       "</table>\n",
       "</div>"
      ],
      "text/plain": [
       "          col_name  is_output_feature feature_type datatype_short  \\\n",
       "0            class               True     category         string   \n",
       "1  sepal_length_cm              False       number        float32   \n",
       "2   sepal_width_cm              False       number        float32   \n",
       "3  petal_length_cm              False       number        float32   \n",
       "4   petal_width_cm              False       number        float32   \n",
       "\n",
       "  datatype_identified  mem_usage  nunique  ndups         vmin            vmax  \\\n",
       "0              string        702        3    146  Iris-setosa  Iris-virginica   \n",
       "1               float         40       35    114          4.3             7.9   \n",
       "2               float         40       23    126          2.0             4.4   \n",
       "3               float         40       43    106          1.0             6.9   \n",
       "4               float         40       22    127          0.1             2.5   \n",
       "\n",
       "     n  \n",
       "0  149  \n",
       "1  149  \n",
       "2  149  \n",
       "3  149  \n",
       "4  149  "
      ]
     },
     "execution_count": 8,
     "metadata": {},
     "output_type": "execute_result"
    }
   ],
   "source": [
    "# analyse_cols\n",
    "analyse = bludwig.analyse_cols(data_df, dataset_loader)\n",
    "analyse"
   ]
  },
  {
   "cell_type": "markdown",
   "metadata": {
    "id": "vtSyZji4C-7t"
   },
   "source": [
    "## configs"
   ]
  },
  {
   "cell_type": "code",
   "execution_count": 9,
   "metadata": {
    "execution": {
     "iopub.execute_input": "2023-06-18T18:40:00.791981Z",
     "iopub.status.busy": "2023-06-18T18:40:00.789680Z",
     "iopub.status.idle": "2023-06-18T18:40:00.923232Z",
     "shell.execute_reply": "2023-06-18T18:40:00.919532Z",
     "shell.execute_reply.started": "2023-06-18T18:40:00.791938Z"
    },
    "scrolled": true
   },
   "outputs": [
    {
     "name": "stdout",
     "output_type": "stream",
     "text": [
      "\n",
      "====== config for model iris_0 ======\n",
      "\n",
      "input_features:\n",
      "- name: sepal_length_cm\n",
      "  type: number\n",
      "- name: sepal_width_cm\n",
      "  type: number\n",
      "- name: petal_length_cm\n",
      "  type: number\n",
      "- name: petal_width_cm\n",
      "  type: number\n",
      "output_features:\n",
      "- name: class\n",
      "  type: category\n",
      "\n",
      "\n",
      "\n",
      "\n"
     ]
    }
   ],
   "source": [
    "# Automatically generated / provided configs\n",
    "configs = bludwig.configs(data_df, dataset_loader)\n",
    "\n",
    "for i, c in enumerate(configs):\n",
    "    print('\\n====== config for model {} ======\\n'.format( experiment_name + '_' + str(i)))\n",
    "    print(c)\n",
    "    print('\\n\\n')"
   ]
  },
  {
   "cell_type": "markdown",
   "metadata": {},
   "source": [
    "## Initialize"
   ]
  },
  {
   "cell_type": "code",
   "execution_count": 10,
   "metadata": {
    "colab": {
     "base_uri": "https://localhost:8080/"
    },
    "execution": {
     "iopub.execute_input": "2023-06-18T18:40:00.929634Z",
     "iopub.status.busy": "2023-06-18T18:40:00.927279Z",
     "iopub.status.idle": "2023-06-18T18:40:00.987947Z",
     "shell.execute_reply": "2023-06-18T18:40:00.986797Z",
     "shell.execute_reply.started": "2023-06-18T18:40:00.929591Z"
    },
    "executionInfo": {
     "elapsed": 16727,
     "status": "ok",
     "timestamp": 1686256022749,
     "user": {
      "displayName": "Familie Klippstein",
      "userId": "08973939190628445877"
     },
     "user_tz": -120
    },
    "id": "n3WFMAGxOvsI",
    "outputId": "64989a50-9319-47e9-e8b0-d29a06e19abe"
   },
   "outputs": [
    {
     "name": "stdout",
     "output_type": "stream",
     "text": [
      "\n",
      "1 configs loaded\n"
     ]
    }
   ],
   "source": [
    "# bludwig initialize\n",
    "if mode == 'T':  \n",
    "    ludwig_job = bludwig.LudwigJob( configs=configs, experiment_name=experiment_name, verbose=False) "
   ]
  },
  {
   "cell_type": "code",
   "execution_count": 11,
   "metadata": {
    "colab": {
     "base_uri": "https://localhost:8080/"
    },
    "execution": {
     "iopub.execute_input": "2023-06-18T18:40:00.995620Z",
     "iopub.status.busy": "2023-06-18T18:40:00.993073Z",
     "iopub.status.idle": "2023-06-18T18:40:01.073631Z",
     "shell.execute_reply": "2023-06-18T18:40:01.072666Z",
     "shell.execute_reply.started": "2023-06-18T18:40:00.995574Z"
    },
    "executionInfo": {
     "elapsed": 16727,
     "status": "ok",
     "timestamp": 1686256022749,
     "user": {
      "displayName": "Familie Klippstein",
      "userId": "08973939190628445877"
     },
     "user_tz": -120
    },
    "id": "n3WFMAGxOvsI",
    "outputId": "64989a50-9319-47e9-e8b0-d29a06e19abe"
   },
   "outputs": [],
   "source": [
    "# bludwig initialize and load\n",
    "if mode == 'S':  \n",
    "    ludwig_job = bludwig.LudwigJob() \n",
    "    ludwig_job.load_from_results()\n",
    "    #print(ludwig_job)"
   ]
  },
  {
   "cell_type": "markdown",
   "metadata": {
    "id": "EkWAP0_0gnFc"
   },
   "source": [
    "## Train"
   ]
  },
  {
   "cell_type": "code",
   "execution_count": 12,
   "metadata": {
    "execution": {
     "iopub.execute_input": "2023-06-18T18:40:01.076302Z",
     "iopub.status.busy": "2023-06-18T18:40:01.075628Z",
     "iopub.status.idle": "2023-06-18T18:40:10.510756Z",
     "shell.execute_reply": "2023-06-18T18:40:10.509870Z",
     "shell.execute_reply.started": "2023-06-18T18:40:01.076245Z"
    }
   },
   "outputs": [
    {
     "name": "stdout",
     "output_type": "stream",
     "text": [
      "\n",
      "Training model iris_0\n",
      "Created a temporary directory at /tmp/tmp126bif9r\n",
      "Writing /tmp/tmp126bif9r/_remote_module_non_scriptable.py\n",
      "train_time: 2 secs\n",
      "\n"
     ]
    },
    {
     "data": {
      "text/html": [
       "<div>\n",
       "<style scoped>\n",
       "    .dataframe tbody tr th:only-of-type {\n",
       "        vertical-align: middle;\n",
       "    }\n",
       "\n",
       "    .dataframe tbody tr th {\n",
       "        vertical-align: top;\n",
       "    }\n",
       "\n",
       "    .dataframe thead th {\n",
       "        text-align: right;\n",
       "    }\n",
       "</style>\n",
       "<table border=\"1\" class=\"dataframe\">\n",
       "  <thead>\n",
       "    <tr style=\"text-align: right;\">\n",
       "      <th></th>\n",
       "      <th>name</th>\n",
       "      <th>iris_0</th>\n",
       "    </tr>\n",
       "  </thead>\n",
       "  <tbody>\n",
       "    <tr>\n",
       "      <th>0</th>\n",
       "      <td>accuracy</td>\n",
       "      <td>0.677</td>\n",
       "    </tr>\n",
       "    <tr>\n",
       "      <th>1</th>\n",
       "      <td>roc_auc</td>\n",
       "      <td>0.695</td>\n",
       "    </tr>\n",
       "    <tr>\n",
       "      <th>2</th>\n",
       "      <td>loss</td>\n",
       "      <td>1.02</td>\n",
       "    </tr>\n",
       "    <tr>\n",
       "      <th>3</th>\n",
       "      <td>epochs</td>\n",
       "      <td>9</td>\n",
       "    </tr>\n",
       "    <tr>\n",
       "      <th>4</th>\n",
       "      <td>time/epoch</td>\n",
       "      <td>0.2 secs</td>\n",
       "    </tr>\n",
       "    <tr>\n",
       "      <th>5</th>\n",
       "      <td>train_time</td>\n",
       "      <td>2 secs</td>\n",
       "    </tr>\n",
       "  </tbody>\n",
       "</table>\n",
       "</div>"
      ],
      "text/plain": [
       "         name    iris_0\n",
       "0    accuracy     0.677\n",
       "1     roc_auc     0.695\n",
       "2        loss      1.02\n",
       "3      epochs         9\n",
       "4  time/epoch  0.2 secs\n",
       "5  train_time    2 secs"
      ]
     },
     "execution_count": 12,
     "metadata": {},
     "output_type": "execute_result"
    }
   ],
   "source": [
    "# train and evaluate\n",
    "out = None\n",
    "if mode == 'T':  \n",
    "    ludwig_job.experiment(data_df)\n",
    "    out = ludwig_job.train_log_to_csv()\n",
    "else:\n",
    "    out = 'No training'\n",
    "out"
   ]
  },
  {
   "cell_type": "markdown",
   "metadata": {
    "execution": {
     "iopub.execute_input": "2023-06-03T08:59:23.598513Z",
     "iopub.status.busy": "2023-06-03T08:59:23.597960Z",
     "iopub.status.idle": "2023-06-03T08:59:23.640510Z",
     "shell.execute_reply": "2023-06-03T08:59:23.639738Z",
     "shell.execute_reply.started": "2023-06-03T08:59:23.598494Z"
    },
    "id": "CFJ2xCetOvsZ"
   },
   "source": [
    "## Evaluate"
   ]
  },
  {
   "cell_type": "code",
   "execution_count": 13,
   "metadata": {
    "execution": {
     "iopub.execute_input": "2023-06-18T18:40:10.511979Z",
     "iopub.status.busy": "2023-06-18T18:40:10.511699Z",
     "iopub.status.idle": "2023-06-18T18:40:11.077238Z",
     "shell.execute_reply": "2023-06-18T18:40:11.073150Z",
     "shell.execute_reply.started": "2023-06-18T18:40:10.511952Z"
    }
   },
   "outputs": [
    {
     "data": {
      "image/png": "[encoded data removed]",
      "text/plain": [
       "<Figure size 640x480 with 1 Axes>"
      ]
     },
     "metadata": {},
     "output_type": "display_data"
    }
   ],
   "source": [
    "# compare_performance\n",
    "ludwig_job.compare_performance()"
   ]
  },
  {
   "cell_type": "code",
   "execution_count": 14,
   "metadata": {
    "execution": {
     "iopub.execute_input": "2023-06-18T18:40:11.078981Z",
     "iopub.status.busy": "2023-06-18T18:40:11.078233Z",
     "iopub.status.idle": "2023-06-18T18:40:11.816945Z",
     "shell.execute_reply": "2023-06-18T18:40:11.815887Z",
     "shell.execute_reply.started": "2023-06-18T18:40:11.078950Z"
    }
   },
   "outputs": [
    {
     "data": {
      "image/png": "[encoded data removed]",
      "text/plain": [
       "<Figure size 640x480 with 1 Axes>"
      ]
     },
     "metadata": {},
     "output_type": "display_data"
    },
    {
     "data": {
      "image/png": "[encoded data removed]",
      "text/plain": [
       "<Figure size 640x480 with 1 Axes>"
      ]
     },
     "metadata": {},
     "output_type": "display_data"
    }
   ],
   "source": [
    "# learning_curves\n",
    "ludwig_job.learning_curves()"
   ]
  },
  {
   "cell_type": "code",
   "execution_count": 15,
   "metadata": {
    "execution": {
     "iopub.execute_input": "2023-06-18T18:40:11.818491Z",
     "iopub.status.busy": "2023-06-18T18:40:11.817959Z",
     "iopub.status.idle": "2023-06-18T18:40:12.559978Z",
     "shell.execute_reply": "2023-06-18T18:40:12.559257Z",
     "shell.execute_reply.started": "2023-06-18T18:40:11.818449Z"
    }
   },
   "outputs": [
    {
     "data": {
      "image/png": "[encoded data removed]",
      "text/plain": [
       "<Figure size 640x480 with 2 Axes>"
      ]
     },
     "metadata": {},
     "output_type": "display_data"
    },
    {
     "data": {
      "image/png": "[encoded data removed]",
      "text/plain": [
       "<Figure size 640x480 with 1 Axes>"
      ]
     },
     "metadata": {},
     "output_type": "display_data"
    }
   ],
   "source": [
    "# confusion_matrix\n",
    "#ludwig_job.load_model(0)\n",
    "ludwig_job.confusion_matrix()"
   ]
  },
  {
   "cell_type": "code",
   "execution_count": 16,
   "metadata": {
    "execution": {
     "iopub.execute_input": "2023-06-18T18:40:12.562458Z",
     "iopub.status.busy": "2023-06-18T18:40:12.562049Z",
     "iopub.status.idle": "2023-06-18T18:40:12.619988Z",
     "shell.execute_reply": "2023-06-18T18:40:12.618925Z",
     "shell.execute_reply.started": "2023-06-18T18:40:12.562433Z"
    }
   },
   "outputs": [
    {
     "name": "stdout",
     "output_type": "stream",
     "text": [
      "No roc_curve found\n"
     ]
    }
   ],
   "source": [
    "# roc_curves\n",
    "ludwig_job.roc_curves()"
   ]
  },
  {
   "cell_type": "markdown",
   "metadata": {},
   "source": [
    "## print_models"
   ]
  },
  {
   "cell_type": "code",
   "execution_count": 17,
   "metadata": {
    "execution": {
     "iopub.execute_input": "2023-06-18T18:40:12.621703Z",
     "iopub.status.busy": "2023-06-18T18:40:12.621221Z",
     "iopub.status.idle": "2023-06-18T18:40:12.708433Z",
     "shell.execute_reply": "2023-06-18T18:40:12.707601Z",
     "shell.execute_reply.started": "2023-06-18T18:40:12.621674Z"
    }
   },
   "outputs": [
    {
     "name": "stdout",
     "output_type": "stream",
     "text": [
      "LudwigJob object\n",
      "        experiment_name:     iris\n",
      "        output_feature_name: class\n",
      "        train_jobs:          [0]\n",
      "        model_names:         ['iris_0']\n",
      "        model_paths:         ['/home/me/Data_Linux/Dropbox/31_Projekte/01_Python/git/bludwig/jupyter/30_Train_Any_Dataset/results/iris_0_run/model']        \n",
      "        output_dirs:         ['/home/me/Data_Linux/Dropbox/31_Projekte/01_Python/git/bludwig/jupyter/30_Train_Any_Dataset/results/iris_0_run']\n",
      "        model_no:            0   \n",
      "        cuda:                False             \n",
      "        \n"
     ]
    }
   ],
   "source": [
    "# print \n",
    "print(ludwig_job)"
   ]
  },
  {
   "cell_type": "code",
   "execution_count": 18,
   "metadata": {
    "execution": {
     "iopub.execute_input": "2023-06-18T18:40:12.710221Z",
     "iopub.status.busy": "2023-06-18T18:40:12.709660Z",
     "iopub.status.idle": "2023-06-18T18:40:12.799112Z",
     "shell.execute_reply": "2023-06-18T18:40:12.798370Z",
     "shell.execute_reply.started": "2023-06-18T18:40:12.710190Z"
    }
   },
   "outputs": [
    {
     "name": "stdout",
     "output_type": "stream",
     "text": [
      "### iris_0 ###\n",
      "======================================================================================================================================================\n",
      "Layer (type:depth-idx)                             Input Shape               Output Shape              Param #                   Trainable\n",
      "======================================================================================================================================================\n",
      "ECD                                                [2]                       [2, 4]                    --                        True\n",
      "├─ConcatCombiner: 1-1                              --                        --                        --                        --\n",
      "│    └─LudwigFeatureDict: 2-1                      --                        --                        --                        --\n",
      "│    │    └─ModuleDict: 3-1                        --                        --                        --                        --\n",
      "│    │    │    └─NumberInputFeature: 4-1           [2]                       [2, 1]                    --                        --\n",
      "│    │    │    │    └─PassthroughEncoder: 5-1      [2, 1]                    [2, 1]                    --                        --\n",
      "│    │    │    └─NumberInputFeature: 4-2           [2]                       [2, 1]                    --                        --\n",
      "│    │    │    │    └─PassthroughEncoder: 5-2      [2, 1]                    [2, 1]                    --                        --\n",
      "│    │    │    └─NumberInputFeature: 4-3           [2]                       [2, 1]                    --                        --\n",
      "│    │    │    │    └─PassthroughEncoder: 5-3      [2, 1]                    [2, 1]                    --                        --\n",
      "│    │    │    └─NumberInputFeature: 4-4           [2]                       [2, 1]                    --                        --\n",
      "│    │    │    │    └─PassthroughEncoder: 5-4      [2, 1]                    [2, 1]                    --                        --\n",
      "├─ConcatCombiner: 1-2                              [2, 1]                    [2, 4]                    --                        --\n",
      "│    └─FCStack: 2-2                                [2, 4]                    [2, 4]                    --                        --\n",
      "├─LudwigFeatureDict: 1-3                           --                        --                        --                        True\n",
      "│    └─ModuleDict: 2-3                             --                        --                        --                        True\n",
      "│    │    └─CategoryOutputFeature: 3-2             [2, 4]                    [2, 4]                    --                        True\n",
      "│    │    │    └─FCStack: 4-5                      [2, 4]                    [2, 4]                    --                        --\n",
      "│    │    │    └─Classifier: 4-6                   [2, 4]                    [2, 3]                    --                        True\n",
      "│    │    │    │    └─Dense: 5-5                   [2, 4]                    [2, 3]                    --                        True\n",
      "│    │    │    │    │    └─Linear: 6-1             [2, 4]                    [2, 3]                    15                        True\n",
      "======================================================================================================================================================\n",
      "Total params: 15\n",
      "Trainable params: 15\n",
      "Non-trainable params: 0\n",
      "Total mult-adds (M): 0.00\n",
      "======================================================================================================================================================\n",
      "Input size (MB): 0.00\n",
      "Forward/backward pass size (MB): 0.00\n",
      "Params size (MB): 0.00\n",
      "Estimated Total Size (MB): 0.00\n",
      "======================================================================================================================================================\n",
      "\n",
      "\n",
      "\n",
      "\n"
     ]
    }
   ],
   "source": [
    "ludwig_job.print_models()"
   ]
  },
  {
   "cell_type": "markdown",
   "metadata": {},
   "source": [
    "## Predict"
   ]
  },
  {
   "cell_type": "code",
   "execution_count": 19,
   "metadata": {
    "execution": {
     "iopub.execute_input": "2023-06-18T18:40:12.800667Z",
     "iopub.status.busy": "2023-06-18T18:40:12.800155Z",
     "iopub.status.idle": "2023-06-18T18:40:13.891559Z",
     "shell.execute_reply": "2023-06-18T18:40:13.890814Z",
     "shell.execute_reply.started": "2023-06-18T18:40:12.800639Z"
    }
   },
   "outputs": [
    {
     "name": "stdout",
     "output_type": "stream",
     "text": [
      "predict_model: 0\n"
     ]
    },
    {
     "data": {
      "text/html": [
       "<div>\n",
       "<style scoped>\n",
       "    .dataframe tbody tr th:only-of-type {\n",
       "        vertical-align: middle;\n",
       "    }\n",
       "\n",
       "    .dataframe tbody tr th {\n",
       "        vertical-align: top;\n",
       "    }\n",
       "\n",
       "    .dataframe thead th {\n",
       "        text-align: right;\n",
       "    }\n",
       "</style>\n",
       "<table border=\"1\" class=\"dataframe\">\n",
       "  <thead>\n",
       "    <tr style=\"text-align: right;\">\n",
       "      <th></th>\n",
       "      <th>class</th>\n",
       "      <th>class_pred</th>\n",
       "      <th>sepal_length_cm</th>\n",
       "      <th>sepal_width_cm</th>\n",
       "      <th>petal_length_cm</th>\n",
       "      <th>petal_width_cm</th>\n",
       "      <th>class_prob</th>\n",
       "      <th>class_prob</th>\n",
       "      <th>class_prob_Iris-versicolor</th>\n",
       "      <th>class_prob_Iris-virginica</th>\n",
       "      <th>class_prob_Iris-setosa</th>\n",
       "    </tr>\n",
       "  </thead>\n",
       "  <tbody>\n",
       "    <tr>\n",
       "      <th>0</th>\n",
       "      <td>Iris-setosa</td>\n",
       "      <td>Iris-setosa</td>\n",
       "      <td>4.9</td>\n",
       "      <td>3.0</td>\n",
       "      <td>1.4</td>\n",
       "      <td>0.2</td>\n",
       "      <td>[0.19607828557491302, 0.3111913204193115, 0.49...</td>\n",
       "      <td>0.492730</td>\n",
       "      <td>0.196078</td>\n",
       "      <td>0.311191</td>\n",
       "      <td>0.492730</td>\n",
       "    </tr>\n",
       "    <tr>\n",
       "      <th>2</th>\n",
       "      <td>Iris-setosa</td>\n",
       "      <td>Iris-setosa</td>\n",
       "      <td>4.6</td>\n",
       "      <td>3.1</td>\n",
       "      <td>1.5</td>\n",
       "      <td>0.2</td>\n",
       "      <td>[0.10091835260391235, 0.2842170298099518, 0.61...</td>\n",
       "      <td>0.614865</td>\n",
       "      <td>0.100918</td>\n",
       "      <td>0.284217</td>\n",
       "      <td>0.614865</td>\n",
       "    </tr>\n",
       "    <tr>\n",
       "      <th>3</th>\n",
       "      <td>Iris-setosa</td>\n",
       "      <td>Iris-setosa</td>\n",
       "      <td>5.0</td>\n",
       "      <td>3.6</td>\n",
       "      <td>1.4</td>\n",
       "      <td>0.2</td>\n",
       "      <td>[0.050770532339811325, 0.1971282958984375, 0.7...</td>\n",
       "      <td>0.752101</td>\n",
       "      <td>0.050771</td>\n",
       "      <td>0.197128</td>\n",
       "      <td>0.752101</td>\n",
       "    </tr>\n",
       "    <tr>\n",
       "      <th>4</th>\n",
       "      <td>Iris-setosa</td>\n",
       "      <td>Iris-setosa</td>\n",
       "      <td>5.4</td>\n",
       "      <td>3.9</td>\n",
       "      <td>1.7</td>\n",
       "      <td>0.4</td>\n",
       "      <td>[0.038497988134622574, 0.17285606265068054, 0....</td>\n",
       "      <td>0.788646</td>\n",
       "      <td>0.038498</td>\n",
       "      <td>0.172856</td>\n",
       "      <td>0.788646</td>\n",
       "    </tr>\n",
       "    <tr>\n",
       "      <th>5</th>\n",
       "      <td>Iris-setosa</td>\n",
       "      <td>Iris-setosa</td>\n",
       "      <td>4.6</td>\n",
       "      <td>3.4</td>\n",
       "      <td>1.4</td>\n",
       "      <td>0.3</td>\n",
       "      <td>[0.04526903107762337, 0.2541259527206421, 0.70...</td>\n",
       "      <td>0.700605</td>\n",
       "      <td>0.045269</td>\n",
       "      <td>0.254126</td>\n",
       "      <td>0.700605</td>\n",
       "    </tr>\n",
       "    <tr>\n",
       "      <th>...</th>\n",
       "      <td>...</td>\n",
       "      <td>...</td>\n",
       "      <td>...</td>\n",
       "      <td>...</td>\n",
       "      <td>...</td>\n",
       "      <td>...</td>\n",
       "      <td>...</td>\n",
       "      <td>...</td>\n",
       "      <td>...</td>\n",
       "      <td>...</td>\n",
       "      <td>...</td>\n",
       "    </tr>\n",
       "    <tr>\n",
       "      <th>141</th>\n",
       "      <td>Iris-virginica</td>\n",
       "      <td>Iris-virginica</td>\n",
       "      <td>5.8</td>\n",
       "      <td>2.7</td>\n",
       "      <td>5.1</td>\n",
       "      <td>1.9</td>\n",
       "      <td>[0.40792351961135864, 0.41427791118621826, 0.1...</td>\n",
       "      <td>0.414278</td>\n",
       "      <td>0.407924</td>\n",
       "      <td>0.414278</td>\n",
       "      <td>0.177799</td>\n",
       "    </tr>\n",
       "    <tr>\n",
       "      <th>144</th>\n",
       "      <td>Iris-virginica</td>\n",
       "      <td>Iris-versicolor</td>\n",
       "      <td>6.7</td>\n",
       "      <td>3.0</td>\n",
       "      <td>5.2</td>\n",
       "      <td>2.3</td>\n",
       "      <td>[0.491105318069458, 0.3970009982585907, 0.1118...</td>\n",
       "      <td>0.491105</td>\n",
       "      <td>0.491105</td>\n",
       "      <td>0.397001</td>\n",
       "      <td>0.111894</td>\n",
       "    </tr>\n",
       "    <tr>\n",
       "      <th>146</th>\n",
       "      <td>Iris-virginica</td>\n",
       "      <td>Iris-versicolor</td>\n",
       "      <td>6.5</td>\n",
       "      <td>3.0</td>\n",
       "      <td>5.2</td>\n",
       "      <td>2.0</td>\n",
       "      <td>[0.4898321032524109, 0.3439779579639435, 0.166...</td>\n",
       "      <td>0.489832</td>\n",
       "      <td>0.489832</td>\n",
       "      <td>0.343978</td>\n",
       "      <td>0.166190</td>\n",
       "    </tr>\n",
       "    <tr>\n",
       "      <th>147</th>\n",
       "      <td>Iris-virginica</td>\n",
       "      <td>Iris-virginica</td>\n",
       "      <td>6.2</td>\n",
       "      <td>3.4</td>\n",
       "      <td>5.4</td>\n",
       "      <td>2.3</td>\n",
       "      <td>[0.159544438123703, 0.49745431542396545, 0.343...</td>\n",
       "      <td>0.497454</td>\n",
       "      <td>0.159544</td>\n",
       "      <td>0.497454</td>\n",
       "      <td>0.343001</td>\n",
       "    </tr>\n",
       "    <tr>\n",
       "      <th>148</th>\n",
       "      <td>Iris-virginica</td>\n",
       "      <td>Iris-virginica</td>\n",
       "      <td>5.9</td>\n",
       "      <td>3.0</td>\n",
       "      <td>5.1</td>\n",
       "      <td>1.8</td>\n",
       "      <td>[0.3062373101711273, 0.39280202984809875, 0.30...</td>\n",
       "      <td>0.392802</td>\n",
       "      <td>0.306237</td>\n",
       "      <td>0.392802</td>\n",
       "      <td>0.300961</td>\n",
       "    </tr>\n",
       "  </tbody>\n",
       "</table>\n",
       "<p>112 rows × 11 columns</p>\n",
       "</div>"
      ],
      "text/plain": [
       "              class       class_pred  sepal_length_cm  sepal_width_cm  \\\n",
       "0       Iris-setosa      Iris-setosa              4.9             3.0   \n",
       "2       Iris-setosa      Iris-setosa              4.6             3.1   \n",
       "3       Iris-setosa      Iris-setosa              5.0             3.6   \n",
       "4       Iris-setosa      Iris-setosa              5.4             3.9   \n",
       "5       Iris-setosa      Iris-setosa              4.6             3.4   \n",
       "..              ...              ...              ...             ...   \n",
       "141  Iris-virginica   Iris-virginica              5.8             2.7   \n",
       "144  Iris-virginica  Iris-versicolor              6.7             3.0   \n",
       "146  Iris-virginica  Iris-versicolor              6.5             3.0   \n",
       "147  Iris-virginica   Iris-virginica              6.2             3.4   \n",
       "148  Iris-virginica   Iris-virginica              5.9             3.0   \n",
       "\n",
       "     petal_length_cm  petal_width_cm  \\\n",
       "0                1.4             0.2   \n",
       "2                1.5             0.2   \n",
       "3                1.4             0.2   \n",
       "4                1.7             0.4   \n",
       "5                1.4             0.3   \n",
       "..               ...             ...   \n",
       "141              5.1             1.9   \n",
       "144              5.2             2.3   \n",
       "146              5.2             2.0   \n",
       "147              5.4             2.3   \n",
       "148              5.1             1.8   \n",
       "\n",
       "                                            class_prob  class_prob  \\\n",
       "0    [0.19607828557491302, 0.3111913204193115, 0.49...    0.492730   \n",
       "2    [0.10091835260391235, 0.2842170298099518, 0.61...    0.614865   \n",
       "3    [0.050770532339811325, 0.1971282958984375, 0.7...    0.752101   \n",
       "4    [0.038497988134622574, 0.17285606265068054, 0....    0.788646   \n",
       "5    [0.04526903107762337, 0.2541259527206421, 0.70...    0.700605   \n",
       "..                                                 ...         ...   \n",
       "141  [0.40792351961135864, 0.41427791118621826, 0.1...    0.414278   \n",
       "144  [0.491105318069458, 0.3970009982585907, 0.1118...    0.491105   \n",
       "146  [0.4898321032524109, 0.3439779579639435, 0.166...    0.489832   \n",
       "147  [0.159544438123703, 0.49745431542396545, 0.343...    0.497454   \n",
       "148  [0.3062373101711273, 0.39280202984809875, 0.30...    0.392802   \n",
       "\n",
       "     class_prob_Iris-versicolor  class_prob_Iris-virginica  \\\n",
       "0                      0.196078                   0.311191   \n",
       "2                      0.100918                   0.284217   \n",
       "3                      0.050771                   0.197128   \n",
       "4                      0.038498                   0.172856   \n",
       "5                      0.045269                   0.254126   \n",
       "..                          ...                        ...   \n",
       "141                    0.407924                   0.414278   \n",
       "144                    0.491105                   0.397001   \n",
       "146                    0.489832                   0.343978   \n",
       "147                    0.159544                   0.497454   \n",
       "148                    0.306237                   0.392802   \n",
       "\n",
       "     class_prob_Iris-setosa  \n",
       "0                  0.492730  \n",
       "2                  0.614865  \n",
       "3                  0.752101  \n",
       "4                  0.788646  \n",
       "5                  0.700605  \n",
       "..                      ...  \n",
       "141                0.177799  \n",
       "144                0.111894  \n",
       "146                0.166190  \n",
       "147                0.343001  \n",
       "148                0.300961  \n",
       "\n",
       "[112 rows x 11 columns]"
      ]
     },
     "execution_count": 19,
     "metadata": {},
     "output_type": "execute_result"
    }
   ],
   "source": [
    "# load_model\n",
    "predict_model = len(configs)-1\n",
    "print('predict_model:',predict_model)\n",
    "ludwig_job.load_model(predict_model)\n",
    "\n",
    "# data\n",
    "data_sample = pak.sample(data_df, predicts_size)\n",
    "\n",
    "# predict\n",
    "data_sample = ludwig_job.predict(data_sample)\n",
    "data_sample"
   ]
  },
  {
   "cell_type": "code",
   "execution_count": 20,
   "metadata": {
    "execution": {
     "iopub.execute_input": "2023-06-18T18:40:13.892834Z",
     "iopub.status.busy": "2023-06-18T18:40:13.892389Z",
     "iopub.status.idle": "2023-06-18T18:40:13.982646Z",
     "shell.execute_reply": "2023-06-18T18:40:13.974878Z",
     "shell.execute_reply.started": "2023-06-18T18:40:13.892805Z"
    }
   },
   "outputs": [
    {
     "name": "stdout",
     "output_type": "stream",
     "text": [
      "Stop Time:  20:40:13\n",
      "Elapsed:    27 secs\n"
     ]
    },
    {
     "data": {
      "text/html": [
       "<img src onerror=\"var cell = this.closest('.jp-CodeCell');var editor = cell.querySelector('.jp-Editor');editor.style.background='DarkGray';this.parentNode.removeChild(this)\">"
      ],
      "text/plain": [
       "<IPython.core.display.HTML object>"
      ]
     },
     "metadata": {},
     "output_type": "display_data"
    }
   ],
   "source": [
    "if not environment['in_colab']:\n",
    "    raise Stop"
   ]
  },
  {
   "cell_type": "markdown",
   "metadata": {
    "id": "fJQNbEcpl-nm"
   },
   "source": [
    "## Colab: Copy back"
   ]
  },
  {
   "cell_type": "code",
   "execution_count": null,
   "metadata": {
    "colab": {
     "base_uri": "https://localhost:8080/"
    },
    "execution": {
     "iopub.status.busy": "2023-06-18T18:40:13.983486Z",
     "iopub.status.idle": "2023-06-18T18:40:13.983943Z",
     "shell.execute_reply": "2023-06-18T18:40:13.983751Z",
     "shell.execute_reply.started": "2023-06-18T18:40:13.983733Z"
    },
    "executionInfo": {
     "elapsed": 1692,
     "status": "ok",
     "timestamp": 1686256133157,
     "user": {
      "displayName": "Familie Klippstein",
      "userId": "08973939190628445877"
     },
     "user_tz": -120
    },
    "id": "uHW7Ko-NslUa",
    "outputId": "590edae0-b15b-401a-c208-1c701e4668f5"
   },
   "outputs": [],
   "source": [
    "# mount\n",
    "if environment['in_colab']:\n",
    "    from google.colab import drive\n",
    "    drive.mount('/content/drive')  "
   ]
  },
  {
   "cell_type": "code",
   "execution_count": null,
   "metadata": {
    "colab": {
     "base_uri": "https://localhost:8080/"
    },
    "execution": {
     "iopub.status.busy": "2023-06-18T18:40:13.991742Z",
     "iopub.status.idle": "2023-06-18T18:40:13.993802Z",
     "shell.execute_reply": "2023-06-18T18:40:13.993614Z",
     "shell.execute_reply.started": "2023-06-18T18:40:13.993589Z"
    },
    "executionInfo": {
     "elapsed": 1575,
     "status": "ok",
     "timestamp": 1686256600179,
     "user": {
      "displayName": "Familie Klippstein",
      "userId": "08973939190628445877"
     },
     "user_tz": -120
    },
    "id": "meeL3dGNmCaL",
    "outputId": "4becf288-c76a-4978-8524-5d4b3c4e0175"
   },
   "outputs": [],
   "source": [
    "# mount\n",
    "if environment['in_colab']:\n",
    "    from google.colab import drive\n",
    "    drive.mount('/content/drive')  "
   ]
  },
  {
   "cell_type": "code",
   "execution_count": null,
   "metadata": {
    "colab": {
     "base_uri": "https://localhost:8080/"
    },
    "execution": {
     "iopub.status.busy": "2023-06-18T18:40:13.995154Z",
     "iopub.status.idle": "2023-06-18T18:40:14.002863Z",
     "shell.execute_reply": "2023-06-18T18:40:13.998762Z",
     "shell.execute_reply.started": "2023-06-18T18:40:13.998735Z"
    },
    "executionInfo": {
     "elapsed": 380,
     "status": "ok",
     "timestamp": 1686256600550,
     "user": {
      "displayName": "Familie Klippstein",
      "userId": "08973939190628445877"
     },
     "user_tz": -120
    },
    "id": "OVs054v5nE-W",
    "outputId": "9ca81e32-dca0-47a7-bdb8-253feb45c119"
   },
   "outputs": [],
   "source": [
    "if environment['in_colab']:\n",
    "    !ls"
   ]
  },
  {
   "cell_type": "code",
   "execution_count": null,
   "metadata": {
    "colab": {
     "base_uri": "https://localhost:8080/"
    },
    "execution": {
     "iopub.status.busy": "2023-06-18T18:40:14.005821Z",
     "iopub.status.idle": "2023-06-18T18:40:14.006764Z",
     "shell.execute_reply": "2023-06-18T18:40:14.006554Z",
     "shell.execute_reply.started": "2023-06-18T18:40:14.006532Z"
    },
    "executionInfo": {
     "elapsed": 23,
     "status": "ok",
     "timestamp": 1686256600552,
     "user": {
      "displayName": "Familie Klippstein",
      "userId": "08973939190628445877"
     },
     "user_tz": -120
    },
    "id": "M0AjzScGnJKF",
    "outputId": "c8524dfc-63c4-47c7-b88a-5b87bb2c8e2f"
   },
   "outputs": [],
   "source": [
    "if environment['in_colab']:\n",
    "    !ls results"
   ]
  },
  {
   "cell_type": "code",
   "execution_count": null,
   "metadata": {
    "execution": {
     "iopub.status.busy": "2023-06-18T18:40:14.008537Z",
     "iopub.status.idle": "2023-06-18T18:40:14.010565Z",
     "shell.execute_reply": "2023-06-18T18:40:14.010312Z",
     "shell.execute_reply.started": "2023-06-18T18:40:14.010283Z"
    },
    "executionInfo": {
     "elapsed": 2378,
     "status": "ok",
     "timestamp": 1686256602921,
     "user": {
      "displayName": "Familie Klippstein",
      "userId": "08973939190628445877"
     },
     "user_tz": -120
    },
    "id": "fPesu0Nhm06i"
   },
   "outputs": [],
   "source": [
    "# results: copy to GDrive\n",
    "if environment['in_colab']:\n",
    "  results_path = gdrive_base + '/results'\n",
    "  !cp -a results $results_path \n",
    "  !cp train_log*.csv $gdrive_base "
   ]
  },
  {
   "cell_type": "code",
   "execution_count": null,
   "metadata": {
    "colab": {
     "base_uri": "https://localhost:8080/"
    },
    "execution": {
     "iopub.status.busy": "2023-06-18T18:40:14.012880Z",
     "iopub.status.idle": "2023-06-18T18:40:14.015311Z",
     "shell.execute_reply": "2023-06-18T18:40:14.015065Z",
     "shell.execute_reply.started": "2023-06-18T18:40:14.015035Z"
    },
    "executionInfo": {
     "elapsed": 14,
     "status": "ok",
     "timestamp": 1686256964163,
     "user": {
      "displayName": "Familie Klippstein",
      "userId": "08973939190628445877"
     },
     "user_tz": -120
    },
    "id": "-GyVispFp1fh",
    "outputId": "db117307-3146-4688-d909-c5c419e7c637"
   },
   "outputs": [],
   "source": [
    "if environment['in_colab']:\n",
    "    print('Copy back manually:')\n",
    "    print('1) This ipynb-File, if changed')\n",
    "    print('2) results directory')\n",
    "    print('3) train_log file')    \n",
    "else:\n",
    "    print('finished')"
   ]
  },
  {
   "cell_type": "code",
   "execution_count": null,
   "metadata": {
    "colab": {
     "base_uri": "https://localhost:8080/",
     "height": 115
    },
    "execution": {
     "iopub.status.busy": "2023-06-18T18:40:14.018305Z",
     "iopub.status.idle": "2023-06-18T18:40:14.019286Z",
     "shell.execute_reply": "2023-06-18T18:40:14.019094Z",
     "shell.execute_reply.started": "2023-06-18T18:40:14.019069Z"
    },
    "executionInfo": {
     "elapsed": 32,
     "status": "error",
     "timestamp": 1686256603816,
     "user": {
      "displayName": "Familie Klippstein",
      "userId": "08973939190628445877"
     },
     "user_tz": -120
    },
    "id": "QmJKsnOlrJl_",
    "outputId": "4eb142c5-8f2f-4b60-b8a8-bdbd2682e5b3"
   },
   "outputs": [],
   "source": [
    "raise Stop"
   ]
  }
 ],
 "metadata": {
  "accelerator": "GPU",
  "colab": {
   "provenance": []
  },
  "kernelspec": {
   "display_name": "Python 3 (ipykernel)",
   "language": "python",
   "name": "python3"
  },
  "language_info": {
   "codemirror_mode": {
    "name": "ipython",
    "version": 3
   },
   "file_extension": ".py",
   "mimetype": "text/x-python",
   "name": "python",
   "nbconvert_exporter": "python",
   "pygments_lexer": "ipython3",
   "version": "3.9.15"
  }
 },
 "nbformat": 4,
 "nbformat_minor": 4
}

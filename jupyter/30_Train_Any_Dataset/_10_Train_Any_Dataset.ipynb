{
 "cells": [
  {
   "cell_type": "markdown",
   "metadata": {},
   "source": [
    "__[Open and try this file online (Colab)](https://colab.research.google.com/github/djekra/bludwig/blob/main/jupyter/30_Train_Any_Dataset/_10_Train_Any_Dataset.ipynb)__"
   ]
  },
  {
   "cell_type": "code",
   "execution_count": 23,
   "metadata": {
    "colab": {
     "base_uri": "https://localhost:8080/",
     "height": 86
    },
    "execution": {
     "iopub.execute_input": "2023-06-17T19:26:05.634248Z",
     "iopub.status.busy": "2023-06-17T19:26:05.633881Z",
     "iopub.status.idle": "2023-06-17T19:26:05.777052Z",
     "shell.execute_reply": "2023-06-17T19:26:05.775143Z",
     "shell.execute_reply.started": "2023-06-17T19:26:05.634226Z"
    },
    "executionInfo": {
     "elapsed": 363,
     "status": "ok",
     "timestamp": 1686173310843,
     "user": {
      "displayName": "Familie Klippstein",
      "userId": "08973939190628445877"
     },
     "user_tz": -120
    },
    "id": "DgB2Td0tOvr7",
    "outputId": "62803628-9556-4941-c241-ac3ddf910539"
   },
   "outputs": [
    {
     "name": "stdout",
     "output_type": "stream",
     "text": [
      "blab init\n",
      "environment['in_colab']     = False\n",
      "environment['dropbox_path'] = /home/me/Data_Linux/Dropbox\n",
      "environment['lib_path']     = /home/me/Data_Linux/Dropbox/31_Projekte/01_Python/libs\n",
      "Start Time: 21:26:05\n"
     ]
    },
    {
     "data": {
      "text/html": [
       "<img src onerror=\"var cell = this.closest('.jp-CodeCell');var editor = cell.querySelector('.jp-Editor');editor.style.background='Beige';this.parentNode.removeChild(this)\">"
      ],
      "text/plain": [
       "<IPython.core.display.HTML object>"
      ]
     },
     "metadata": {},
     "output_type": "display_data"
    }
   ],
   "source": [
    "# blab init\n",
    "try:\n",
    "    import blab\n",
    "except ImportError as e:\n",
    "    !pip install --quiet blab\n",
    "    import blab    \n",
    "startup_notebook = blab.blab_startup()\n",
    "%run $startup_notebook "
   ]
  },
  {
   "cell_type": "markdown",
   "metadata": {
    "id": "dqW_BZ60kyWP"
   },
   "source": [
    "# Train Any Dataset"
   ]
  },
  {
   "cell_type": "code",
   "execution_count": 24,
   "metadata": {
    "execution": {
     "iopub.execute_input": "2023-06-17T19:26:05.778839Z",
     "iopub.status.busy": "2023-06-17T19:26:05.778415Z",
     "iopub.status.idle": "2023-06-17T19:26:05.833092Z",
     "shell.execute_reply": "2023-06-17T19:26:05.831499Z",
     "shell.execute_reply.started": "2023-06-17T19:26:05.778811Z"
    },
    "executionInfo": {
     "elapsed": 463,
     "status": "ok",
     "timestamp": 1686173335567,
     "user": {
      "displayName": "Familie Klippstein",
      "userId": "08973939190628445877"
     },
     "user_tz": -120
    },
    "id": "wj1f-u_vOvsK"
   },
   "outputs": [
    {
     "data": {
      "text/html": [
       "<img src onerror=\"var cell = this.closest('.jp-CodeCell');var editor = cell.querySelector('.jp-Editor');editor.style.background='Beige';this.parentNode.removeChild(this)\">"
      ],
      "text/plain": [
       "<IPython.core.display.HTML object>"
      ]
     },
     "metadata": {},
     "output_type": "display_data"
    }
   ],
   "source": [
    "# Settings\n",
    "\n",
    "dataset_name  = 'iris'   # Which dataset shall be loaded?\n",
    "mode          = 'T'      # mode: C=cleanup, T=train, S=show \n",
    "   # Which model shall be trained? \n",
    "verbose       = False    \n",
    "\n",
    "predicts_size = 100      # How many predictions should be created?\n",
    "predict_model =   1      # Which model should be used to create predictions?\n",
    "\n",
    "gdrive_base   = 'drive/MyDrive/Colab/65_Neuronale_Netze/40_acincome_binary_classification'\n",
    "bgc('Beige')"
   ]
  },
  {
   "cell_type": "code",
   "execution_count": 25,
   "metadata": {
    "colab": {
     "base_uri": "https://localhost:8080/"
    },
    "execution": {
     "iopub.execute_input": "2023-06-17T19:26:05.834385Z",
     "iopub.status.busy": "2023-06-17T19:26:05.834031Z",
     "iopub.status.idle": "2023-06-17T19:26:05.898859Z",
     "shell.execute_reply": "2023-06-17T19:26:05.897423Z",
     "shell.execute_reply.started": "2023-06-17T19:26:05.834363Z"
    },
    "executionInfo": {
     "elapsed": 23608,
     "status": "ok",
     "timestamp": 1686173335132,
     "user": {
      "displayName": "Familie Klippstein",
      "userId": "08973939190628445877"
     },
     "user_tz": -120
    },
    "id": "DiBUpR-GPcys",
    "outputId": "c57587a6-02d9-4fb1-cced-852f95d6c5f7"
   },
   "outputs": [],
   "source": [
    "# Colab? >> Install the latest version of Ludwig\n",
    "if environment['in_colab']:\n",
    "  !pip uninstall -y tensorflow --quiet\n",
    "  !python -m pip install git+https://github.com/ludwig-ai/ludwig.git --quiet \n",
    "  !pip install ptitprince --quiet \n",
    "  !pip install bludwig --quiet "
   ]
  },
  {
   "cell_type": "code",
   "execution_count": 26,
   "metadata": {
    "colab": {
     "base_uri": "https://localhost:8080/"
    },
    "execution": {
     "iopub.execute_input": "2023-06-17T19:26:05.903182Z",
     "iopub.status.busy": "2023-06-17T19:26:05.902664Z",
     "iopub.status.idle": "2023-06-17T19:26:05.993514Z",
     "shell.execute_reply": "2023-06-17T19:26:05.992769Z",
     "shell.execute_reply.started": "2023-06-17T19:26:05.903147Z"
    },
    "executionInfo": {
     "elapsed": 30,
     "status": "ok",
     "timestamp": 1686256005696,
     "user": {
      "displayName": "Familie Klippstein",
      "userId": "08973939190628445877"
     },
     "user_tz": -120
    },
    "id": "HnYdSdJXOvsC",
    "outputId": "d726faf8-b46a-4253-b985-bee1199a157c"
   },
   "outputs": [
    {
     "data": {
      "text/html": [
       "<img src onerror=\"var cell = this.closest('.jp-CodeCell');var editor = cell.querySelector('.jp-Editor');editor.style.background='WhiteSmoke';this.parentNode.removeChild(this)\">"
      ],
      "text/plain": [
       "<IPython.core.display.HTML object>"
      ]
     },
     "metadata": {},
     "output_type": "display_data"
    },
    {
     "name": "stdout",
     "output_type": "stream",
     "text": [
      "is_neustart: False\n"
     ]
    }
   ],
   "source": [
    "# cleanup?\n",
    "if not 'is_neustart' in locals() or mode == 'C': \n",
    "    is_neustart = True\n",
    "    if not mode == 'S': # show\n",
    "        try:\n",
    "            !rm -rf results\n",
    "            !rm *.meta.json\n",
    "            !rm *.hdf5    \n",
    "            !rm *.temp.pickle        \n",
    "            !rm .lock_preprocessing\n",
    "        except:\n",
    "            pass\n",
    "else:\n",
    "    is_neustart = False    \n",
    "\n",
    "if mode == 'C':\n",
    "    raise Stop\n",
    "else:\n",
    "    bgc('WhiteSmoke')\n",
    "    \n",
    "print('is_neustart:',is_neustart)"
   ]
  },
  {
   "cell_type": "code",
   "execution_count": 27,
   "metadata": {
    "colab": {
     "base_uri": "https://localhost:8080/"
    },
    "execution": {
     "iopub.execute_input": "2023-06-17T19:26:05.997403Z",
     "iopub.status.busy": "2023-06-17T19:26:05.995958Z",
     "iopub.status.idle": "2023-06-17T19:26:06.072475Z",
     "shell.execute_reply": "2023-06-17T19:26:06.070795Z",
     "shell.execute_reply.started": "2023-06-17T19:26:05.997342Z"
    },
    "executionInfo": {
     "elapsed": 16727,
     "status": "ok",
     "timestamp": 1686256022749,
     "user": {
      "displayName": "Familie Klippstein",
      "userId": "08973939190628445877"
     },
     "user_tz": -120
    },
    "id": "n3WFMAGxOvsI",
    "outputId": "64989a50-9319-47e9-e8b0-d29a06e19abe"
   },
   "outputs": [],
   "source": [
    "# import \n",
    "import pandas as pd\n",
    "import pandasklar as pak\n",
    "grid = pak.grid\n",
    "import bludwig"
   ]
  },
  {
   "cell_type": "markdown",
   "metadata": {
    "id": "hW9kA_qSOvsN"
   },
   "source": [
    "## Data"
   ]
  },
  {
   "cell_type": "code",
   "execution_count": 28,
   "metadata": {
    "colab": {
     "base_uri": "https://localhost:8080/"
    },
    "execution": {
     "iopub.execute_input": "2023-06-17T19:26:06.075023Z",
     "iopub.status.busy": "2023-06-17T19:26:06.073661Z",
     "iopub.status.idle": "2023-06-17T19:26:06.125862Z",
     "shell.execute_reply": "2023-06-17T19:26:06.124935Z",
     "shell.execute_reply.started": "2023-06-17T19:26:06.074988Z"
    },
    "executionInfo": {
     "elapsed": 1692,
     "status": "ok",
     "timestamp": 1686256133157,
     "user": {
      "displayName": "Familie Klippstein",
      "userId": "08973939190628445877"
     },
     "user_tz": -120
    },
    "id": "uHW7Ko-NslUa",
    "outputId": "590edae0-b15b-401a-c208-1c701e4668f5"
   },
   "outputs": [],
   "source": [
    "# mount\n",
    "if environment['in_colab']:\n",
    "    from google.colab import drive\n",
    "    drive.mount('/content/drive')  "
   ]
  },
  {
   "cell_type": "code",
   "execution_count": 29,
   "metadata": {
    "execution": {
     "iopub.execute_input": "2023-06-17T19:26:06.126779Z",
     "iopub.status.busy": "2023-06-17T19:26:06.126538Z",
     "iopub.status.idle": "2023-06-17T19:26:06.211864Z",
     "shell.execute_reply": "2023-06-17T19:26:06.210780Z",
     "shell.execute_reply.started": "2023-06-17T19:26:06.126758Z"
    }
   },
   "outputs": [
    {
     "name": "stdout",
     "output_type": "stream",
     "text": [
      "\n",
      "iris 1.0\n",
      "Iris Dataset\n",
      "https://archive.ics.uci.edu/ml/datasets/Iris\n",
      "\n",
      "output_features: [{'name': 'class', 'type': 'category'}]\n"
     ]
    }
   ],
   "source": [
    "# load_dataset\n",
    "data_df, dataset_loader = bludwig.load_dataset(dataset_name)"
   ]
  },
  {
   "cell_type": "code",
   "execution_count": 30,
   "metadata": {
    "colab": {
     "base_uri": "https://localhost:8080/"
    },
    "execution": {
     "iopub.execute_input": "2023-06-17T19:26:06.214018Z",
     "iopub.status.busy": "2023-06-17T19:26:06.213064Z",
     "iopub.status.idle": "2023-06-17T19:26:06.404484Z",
     "shell.execute_reply": "2023-06-17T19:26:06.403610Z",
     "shell.execute_reply.started": "2023-06-17T19:26:06.213955Z"
    },
    "executionInfo": {
     "elapsed": 39,
     "status": "ok",
     "timestamp": 1686173337398,
     "user": {
      "displayName": "Familie Klippstein",
      "userId": "08973939190628445877"
     },
     "user_tz": -120
    },
    "id": "5vmJL7v1iAdM",
    "outputId": "327fab1c-e3ff-4d5e-aec6-dc500b0f60b8"
   },
   "outputs": [
    {
     "name": "stdout",
     "output_type": "stream",
     "text": [
      "149 records for training, validation and test\n"
     ]
    },
    {
     "data": {
      "text/html": [
       "<div>\n",
       "<style scoped>\n",
       "    .dataframe tbody tr th:only-of-type {\n",
       "        vertical-align: middle;\n",
       "    }\n",
       "\n",
       "    .dataframe tbody tr th {\n",
       "        vertical-align: top;\n",
       "    }\n",
       "\n",
       "    .dataframe thead th {\n",
       "        text-align: right;\n",
       "    }\n",
       "</style>\n",
       "<table border=\"1\" class=\"dataframe\">\n",
       "  <thead>\n",
       "    <tr style=\"text-align: right;\">\n",
       "      <th></th>\n",
       "      <th>class</th>\n",
       "      <th>sepal_length_cm</th>\n",
       "      <th>sepal_width_cm</th>\n",
       "      <th>petal_length_cm</th>\n",
       "      <th>petal_width_cm</th>\n",
       "    </tr>\n",
       "  </thead>\n",
       "  <tbody>\n",
       "    <tr>\n",
       "      <th>0</th>\n",
       "      <td>Iris-setosa</td>\n",
       "      <td>4.9</td>\n",
       "      <td>3.0</td>\n",
       "      <td>1.4</td>\n",
       "      <td>0.2</td>\n",
       "    </tr>\n",
       "    <tr>\n",
       "      <th>2</th>\n",
       "      <td>Iris-setosa</td>\n",
       "      <td>4.6</td>\n",
       "      <td>3.1</td>\n",
       "      <td>1.5</td>\n",
       "      <td>0.2</td>\n",
       "    </tr>\n",
       "    <tr>\n",
       "      <th>3</th>\n",
       "      <td>Iris-setosa</td>\n",
       "      <td>5.0</td>\n",
       "      <td>3.6</td>\n",
       "      <td>1.4</td>\n",
       "      <td>0.2</td>\n",
       "    </tr>\n",
       "    <tr>\n",
       "      <th>12</th>\n",
       "      <td>Iris-setosa</td>\n",
       "      <td>4.3</td>\n",
       "      <td>3.0</td>\n",
       "      <td>1.1</td>\n",
       "      <td>0.1</td>\n",
       "    </tr>\n",
       "    <tr>\n",
       "      <th>14</th>\n",
       "      <td>Iris-setosa</td>\n",
       "      <td>5.7</td>\n",
       "      <td>4.4</td>\n",
       "      <td>1.5</td>\n",
       "      <td>0.4</td>\n",
       "    </tr>\n",
       "    <tr>\n",
       "      <th>21</th>\n",
       "      <td>Iris-setosa</td>\n",
       "      <td>4.6</td>\n",
       "      <td>3.6</td>\n",
       "      <td>1.0</td>\n",
       "      <td>0.2</td>\n",
       "    </tr>\n",
       "    <tr>\n",
       "      <th>60</th>\n",
       "      <td>Iris-versicolor</td>\n",
       "      <td>5.9</td>\n",
       "      <td>3.0</td>\n",
       "      <td>4.2</td>\n",
       "      <td>1.5</td>\n",
       "    </tr>\n",
       "    <tr>\n",
       "      <th>99</th>\n",
       "      <td>Iris-virginica</td>\n",
       "      <td>6.3</td>\n",
       "      <td>3.3</td>\n",
       "      <td>6.0</td>\n",
       "      <td>2.5</td>\n",
       "    </tr>\n",
       "    <tr>\n",
       "      <th>117</th>\n",
       "      <td>Iris-virginica</td>\n",
       "      <td>7.7</td>\n",
       "      <td>2.6</td>\n",
       "      <td>6.9</td>\n",
       "      <td>2.3</td>\n",
       "    </tr>\n",
       "    <tr>\n",
       "      <th>130</th>\n",
       "      <td>Iris-virginica</td>\n",
       "      <td>7.9</td>\n",
       "      <td>3.8</td>\n",
       "      <td>6.4</td>\n",
       "      <td>2.0</td>\n",
       "    </tr>\n",
       "  </tbody>\n",
       "</table>\n",
       "</div>"
      ],
      "text/plain": [
       "               class  sepal_length_cm  sepal_width_cm  petal_length_cm  \\\n",
       "0        Iris-setosa              4.9             3.0              1.4   \n",
       "2        Iris-setosa              4.6             3.1              1.5   \n",
       "3        Iris-setosa              5.0             3.6              1.4   \n",
       "12       Iris-setosa              4.3             3.0              1.1   \n",
       "14       Iris-setosa              5.7             4.4              1.5   \n",
       "21       Iris-setosa              4.6             3.6              1.0   \n",
       "60   Iris-versicolor              5.9             3.0              4.2   \n",
       "99    Iris-virginica              6.3             3.3              6.0   \n",
       "117   Iris-virginica              7.7             2.6              6.9   \n",
       "130   Iris-virginica              7.9             3.8              6.4   \n",
       "\n",
       "     petal_width_cm  \n",
       "0               0.2  \n",
       "2               0.2  \n",
       "3               0.2  \n",
       "12              0.1  \n",
       "14              0.4  \n",
       "21              0.2  \n",
       "60              1.5  \n",
       "99              2.5  \n",
       "117             2.3  \n",
       "130             2.0  "
      ]
     },
     "execution_count": 30,
     "metadata": {},
     "output_type": "execute_result"
    }
   ],
   "source": [
    "# examine\n",
    "print(data_df.shape[0], 'records for training, validation and test')\n",
    "pak.sample(data_df,10)"
   ]
  },
  {
   "cell_type": "code",
   "execution_count": 31,
   "metadata": {
    "execution": {
     "iopub.execute_input": "2023-06-17T19:26:06.407974Z",
     "iopub.status.busy": "2023-06-17T19:26:06.407074Z",
     "iopub.status.idle": "2023-06-17T19:26:06.555921Z",
     "shell.execute_reply": "2023-06-17T19:26:06.553604Z",
     "shell.execute_reply.started": "2023-06-17T19:26:06.407943Z"
    }
   },
   "outputs": [
    {
     "data": {
      "text/html": [
       "<div>\n",
       "<style scoped>\n",
       "    .dataframe tbody tr th:only-of-type {\n",
       "        vertical-align: middle;\n",
       "    }\n",
       "\n",
       "    .dataframe tbody tr th {\n",
       "        vertical-align: top;\n",
       "    }\n",
       "\n",
       "    .dataframe thead th {\n",
       "        text-align: right;\n",
       "    }\n",
       "</style>\n",
       "<table border=\"1\" class=\"dataframe\">\n",
       "  <thead>\n",
       "    <tr style=\"text-align: right;\">\n",
       "      <th></th>\n",
       "      <th>col_name</th>\n",
       "      <th>is_output_feature</th>\n",
       "      <th>feature_type</th>\n",
       "      <th>datatype_short</th>\n",
       "      <th>datatype_identified</th>\n",
       "      <th>mem_usage</th>\n",
       "      <th>nunique</th>\n",
       "      <th>ndups</th>\n",
       "      <th>vmin</th>\n",
       "      <th>vmax</th>\n",
       "      <th>n</th>\n",
       "    </tr>\n",
       "  </thead>\n",
       "  <tbody>\n",
       "    <tr>\n",
       "      <th>0</th>\n",
       "      <td>class</td>\n",
       "      <td>True</td>\n",
       "      <td>category</td>\n",
       "      <td>string</td>\n",
       "      <td>string</td>\n",
       "      <td>705</td>\n",
       "      <td>3</td>\n",
       "      <td>146</td>\n",
       "      <td>Iris-setosa</td>\n",
       "      <td>Iris-virginica</td>\n",
       "      <td>149</td>\n",
       "    </tr>\n",
       "    <tr>\n",
       "      <th>1</th>\n",
       "      <td>sepal_length_cm</td>\n",
       "      <td>False</td>\n",
       "      <td>number</td>\n",
       "      <td>float32</td>\n",
       "      <td>float</td>\n",
       "      <td>40</td>\n",
       "      <td>35</td>\n",
       "      <td>114</td>\n",
       "      <td>4.3</td>\n",
       "      <td>7.9</td>\n",
       "      <td>149</td>\n",
       "    </tr>\n",
       "    <tr>\n",
       "      <th>2</th>\n",
       "      <td>sepal_width_cm</td>\n",
       "      <td>False</td>\n",
       "      <td>number</td>\n",
       "      <td>float32</td>\n",
       "      <td>float</td>\n",
       "      <td>40</td>\n",
       "      <td>23</td>\n",
       "      <td>126</td>\n",
       "      <td>2.0</td>\n",
       "      <td>4.4</td>\n",
       "      <td>149</td>\n",
       "    </tr>\n",
       "    <tr>\n",
       "      <th>3</th>\n",
       "      <td>petal_length_cm</td>\n",
       "      <td>False</td>\n",
       "      <td>number</td>\n",
       "      <td>float32</td>\n",
       "      <td>float</td>\n",
       "      <td>40</td>\n",
       "      <td>43</td>\n",
       "      <td>106</td>\n",
       "      <td>1.0</td>\n",
       "      <td>6.9</td>\n",
       "      <td>149</td>\n",
       "    </tr>\n",
       "    <tr>\n",
       "      <th>4</th>\n",
       "      <td>petal_width_cm</td>\n",
       "      <td>False</td>\n",
       "      <td>number</td>\n",
       "      <td>float32</td>\n",
       "      <td>float</td>\n",
       "      <td>40</td>\n",
       "      <td>22</td>\n",
       "      <td>127</td>\n",
       "      <td>0.1</td>\n",
       "      <td>2.5</td>\n",
       "      <td>149</td>\n",
       "    </tr>\n",
       "  </tbody>\n",
       "</table>\n",
       "</div>"
      ],
      "text/plain": [
       "          col_name  is_output_feature feature_type datatype_short  \\\n",
       "0            class               True     category         string   \n",
       "1  sepal_length_cm              False       number        float32   \n",
       "2   sepal_width_cm              False       number        float32   \n",
       "3  petal_length_cm              False       number        float32   \n",
       "4   petal_width_cm              False       number        float32   \n",
       "\n",
       "  datatype_identified  mem_usage  nunique  ndups         vmin            vmax  \\\n",
       "0              string        705        3    146  Iris-setosa  Iris-virginica   \n",
       "1               float         40       35    114          4.3             7.9   \n",
       "2               float         40       23    126          2.0             4.4   \n",
       "3               float         40       43    106          1.0             6.9   \n",
       "4               float         40       22    127          0.1             2.5   \n",
       "\n",
       "     n  \n",
       "0  149  \n",
       "1  149  \n",
       "2  149  \n",
       "3  149  \n",
       "4  149  "
      ]
     },
     "execution_count": 31,
     "metadata": {},
     "output_type": "execute_result"
    }
   ],
   "source": [
    "# analyse_cols\n",
    "analyse = bludwig.analyse_cols(data_df, dataset_loader)\n",
    "analyse"
   ]
  },
  {
   "cell_type": "code",
   "execution_count": 32,
   "metadata": {
    "colab": {
     "base_uri": "https://localhost:8080/"
    },
    "execution": {
     "iopub.execute_input": "2023-06-17T19:26:06.561249Z",
     "iopub.status.busy": "2023-06-17T19:26:06.560626Z",
     "iopub.status.idle": "2023-06-17T19:26:06.625813Z",
     "shell.execute_reply": "2023-06-17T19:26:06.623806Z",
     "shell.execute_reply.started": "2023-06-17T19:26:06.561219Z"
    },
    "executionInfo": {
     "elapsed": 1033,
     "status": "ok",
     "timestamp": 1686173340148,
     "user": {
      "displayName": "Familie Klippstein",
      "userId": "08973939190628445877"
     },
     "user_tz": -120
    },
    "id": "V9nDUnczOvsV",
    "outputId": "c0e1cca9-455d-4fb1-cb9c-c26caf204187"
   },
   "outputs": [
    {
     "name": "stdout",
     "output_type": "stream",
     "text": [
      "Stop Time:  21:26:06\n",
      "Elapsed:    0 secs\n"
     ]
    },
    {
     "data": {
      "text/html": [
       "<img src onerror=\"var cell = this.closest('.jp-CodeCell');var editor = cell.querySelector('.jp-Editor');editor.style.background='DarkGray';this.parentNode.removeChild(this)\">"
      ],
      "text/plain": [
       "<IPython.core.display.HTML object>"
      ]
     },
     "metadata": {},
     "output_type": "display_data"
    }
   ],
   "source": [
    "raise Stop  "
   ]
  },
  {
   "cell_type": "markdown",
   "metadata": {
    "id": "vtSyZji4C-7t"
   },
   "source": [
    "## Config"
   ]
  },
  {
   "cell_type": "code",
   "execution_count": 43,
   "metadata": {
    "execution": {
     "iopub.execute_input": "2023-06-17T19:33:46.145482Z",
     "iopub.status.busy": "2023-06-17T19:33:46.143356Z",
     "iopub.status.idle": "2023-06-17T19:33:46.291936Z",
     "shell.execute_reply": "2023-06-17T19:33:46.291159Z",
     "shell.execute_reply.started": "2023-06-17T19:33:46.145390Z"
    }
   },
   "outputs": [
    {
     "name": "stdout",
     "output_type": "stream",
     "text": [
      "input_features:\n",
      "- name: sepal_length_cm\n",
      "  type: number\n",
      "- name: sepal_width_cm\n",
      "  type: number\n",
      "- name: petal_length_cm\n",
      "  type: number\n",
      "- name: petal_width_cm\n",
      "  type: number\n",
      "output_features:\n",
      "- name: class\n",
      "  type: category\n",
      "\n"
     ]
    }
   ],
   "source": [
    "# config0: automatically generated\n",
    "config0 = bludwig.config0(data_df, dataset_loader)\n",
    "print(config0)"
   ]
  },
  {
   "cell_type": "code",
   "execution_count": 44,
   "metadata": {
    "execution": {
     "iopub.execute_input": "2023-06-17T19:33:51.367734Z",
     "iopub.status.busy": "2023-06-17T19:33:51.367382Z",
     "iopub.status.idle": "2023-06-17T19:33:51.420796Z",
     "shell.execute_reply": "2023-06-17T19:33:51.418180Z",
     "shell.execute_reply.started": "2023-06-17T19:33:51.367711Z"
    }
   },
   "outputs": [
    {
     "name": "stdout",
     "output_type": "stream",
     "text": [
      "\n"
     ]
    }
   ],
   "source": [
    "# config1: provided by dataset\n",
    "config1 = bludwig.config1(dataset_loader)\n",
    "print(config1)"
   ]
  },
  {
   "cell_type": "code",
   "execution_count": 56,
   "metadata": {
    "execution": {
     "iopub.execute_input": "2023-06-17T19:36:56.296544Z",
     "iopub.status.busy": "2023-06-17T19:36:56.295761Z",
     "iopub.status.idle": "2023-06-17T19:36:56.363009Z",
     "shell.execute_reply": "2023-06-17T19:36:56.361544Z",
     "shell.execute_reply.started": "2023-06-17T19:36:56.296513Z"
    }
   },
   "outputs": [],
   "source": [
    "# configs\n",
    "if len(config1) > 0:\n",
    "    configs       = [ config0, config1 ]\n",
    "    train_jobs    = [ 0, 1 ]\n",
    "    predict_model =  1 \n",
    "else:\n",
    "    configs       = [ config0 ]\n",
    "    train_jobs    = [ 0 ]   \n",
    "    predict_model =  0 "
   ]
  },
  {
   "cell_type": "code",
   "execution_count": 46,
   "metadata": {
    "colab": {
     "base_uri": "https://localhost:8080/"
    },
    "execution": {
     "iopub.execute_input": "2023-06-17T19:34:18.740771Z",
     "iopub.status.busy": "2023-06-17T19:34:18.739339Z",
     "iopub.status.idle": "2023-06-17T19:34:18.816142Z",
     "shell.execute_reply": "2023-06-17T19:34:18.813998Z",
     "shell.execute_reply.started": "2023-06-17T19:34:18.740724Z"
    },
    "executionInfo": {
     "elapsed": 16727,
     "status": "ok",
     "timestamp": 1686256022749,
     "user": {
      "displayName": "Familie Klippstein",
      "userId": "08973939190628445877"
     },
     "user_tz": -120
    },
    "id": "n3WFMAGxOvsI",
    "outputId": "64989a50-9319-47e9-e8b0-d29a06e19abe"
   },
   "outputs": [
    {
     "name": "stdout",
     "output_type": "stream",
     "text": [
      "\n",
      "1 configs loaded\n"
     ]
    }
   ],
   "source": [
    "# bludwig initialize\n",
    "if mode == 'T':  \n",
    "    ludwig_job = bludwig.LudwigJob( configs=configs, verbose=False) "
   ]
  },
  {
   "cell_type": "code",
   "execution_count": 47,
   "metadata": {
    "colab": {
     "base_uri": "https://localhost:8080/"
    },
    "execution": {
     "iopub.execute_input": "2023-06-17T19:34:26.732973Z",
     "iopub.status.busy": "2023-06-17T19:34:26.732548Z",
     "iopub.status.idle": "2023-06-17T19:34:26.812154Z",
     "shell.execute_reply": "2023-06-17T19:34:26.810525Z",
     "shell.execute_reply.started": "2023-06-17T19:34:26.732940Z"
    },
    "executionInfo": {
     "elapsed": 16727,
     "status": "ok",
     "timestamp": 1686256022749,
     "user": {
      "displayName": "Familie Klippstein",
      "userId": "08973939190628445877"
     },
     "user_tz": -120
    },
    "id": "n3WFMAGxOvsI",
    "outputId": "64989a50-9319-47e9-e8b0-d29a06e19abe"
   },
   "outputs": [],
   "source": [
    "# bludwig initialize and load\n",
    "if mode == 'S':  \n",
    "    ludwig_job = bludwig.LudwigJob() \n",
    "    ludwig_job.load_from_results()\n",
    "    #print(ludwig_job)"
   ]
  },
  {
   "cell_type": "markdown",
   "metadata": {
    "id": "EkWAP0_0gnFc"
   },
   "source": [
    "## Train"
   ]
  },
  {
   "cell_type": "code",
   "execution_count": 48,
   "metadata": {
    "execution": {
     "iopub.execute_input": "2023-06-17T19:34:44.133357Z",
     "iopub.status.busy": "2023-06-17T19:34:44.132456Z",
     "iopub.status.idle": "2023-06-17T19:34:54.027690Z",
     "shell.execute_reply": "2023-06-17T19:34:54.026877Z",
     "shell.execute_reply.started": "2023-06-17T19:34:44.133318Z"
    }
   },
   "outputs": [
    {
     "name": "stdout",
     "output_type": "stream",
     "text": [
      "\n",
      "Training config_no 0 >> results/ex_0_run\n"
     ]
    },
    {
     "name": "stderr",
     "output_type": "stream",
     "text": [
      "2023-06-17 21:34:51,735 - INFO     - Created a temporary directory at /tmp/tmptgtwyrie\n",
      "2023-06-17 21:34:51,736 - INFO     - Writing /tmp/tmptgtwyrie/_remote_module_non_scriptable.py\n"
     ]
    },
    {
     "name": "stdout",
     "output_type": "stream",
     "text": [
      "train_time: 2 secs\n",
      "\n",
      "0\n"
     ]
    },
    {
     "data": {
      "text/html": [
       "<div>\n",
       "<style scoped>\n",
       "    .dataframe tbody tr th:only-of-type {\n",
       "        vertical-align: middle;\n",
       "    }\n",
       "\n",
       "    .dataframe tbody tr th {\n",
       "        vertical-align: top;\n",
       "    }\n",
       "\n",
       "    .dataframe thead th {\n",
       "        text-align: right;\n",
       "    }\n",
       "</style>\n",
       "<table border=\"1\" class=\"dataframe\">\n",
       "  <thead>\n",
       "    <tr style=\"text-align: right;\">\n",
       "      <th></th>\n",
       "      <th>name</th>\n",
       "      <th>model_0</th>\n",
       "    </tr>\n",
       "  </thead>\n",
       "  <tbody>\n",
       "    <tr>\n",
       "      <th>0</th>\n",
       "      <td>accuracy</td>\n",
       "      <td>0.677</td>\n",
       "    </tr>\n",
       "    <tr>\n",
       "      <th>1</th>\n",
       "      <td>roc_auc</td>\n",
       "      <td>0.695</td>\n",
       "    </tr>\n",
       "    <tr>\n",
       "      <th>2</th>\n",
       "      <td>loss</td>\n",
       "      <td>1.02</td>\n",
       "    </tr>\n",
       "    <tr>\n",
       "      <th>3</th>\n",
       "      <td>epochs</td>\n",
       "      <td>9</td>\n",
       "    </tr>\n",
       "    <tr>\n",
       "      <th>4</th>\n",
       "      <td>time/epoch</td>\n",
       "      <td>0.2 secs</td>\n",
       "    </tr>\n",
       "    <tr>\n",
       "      <th>5</th>\n",
       "      <td>train_time</td>\n",
       "      <td>2 secs</td>\n",
       "    </tr>\n",
       "  </tbody>\n",
       "</table>\n",
       "</div>"
      ],
      "text/plain": [
       "         name   model_0\n",
       "0    accuracy     0.677\n",
       "1     roc_auc     0.695\n",
       "2        loss      1.02\n",
       "3      epochs         9\n",
       "4  time/epoch  0.2 secs\n",
       "5  train_time    2 secs"
      ]
     },
     "execution_count": 48,
     "metadata": {},
     "output_type": "execute_result"
    }
   ],
   "source": [
    "# train and evaluate\n",
    "out = None\n",
    "if mode == 'T':  \n",
    "    ludwig_job.experiment(train_jobs, data_df)\n",
    "    out = ludwig_job.train_log_to_csv()\n",
    "out"
   ]
  },
  {
   "cell_type": "markdown",
   "metadata": {
    "execution": {
     "iopub.execute_input": "2023-06-03T08:59:23.598513Z",
     "iopub.status.busy": "2023-06-03T08:59:23.597960Z",
     "iopub.status.idle": "2023-06-03T08:59:23.640510Z",
     "shell.execute_reply": "2023-06-03T08:59:23.639738Z",
     "shell.execute_reply.started": "2023-06-03T08:59:23.598494Z"
    },
    "id": "CFJ2xCetOvsZ"
   },
   "source": [
    "## Evaluate"
   ]
  },
  {
   "cell_type": "code",
   "execution_count": 49,
   "metadata": {
    "execution": {
     "iopub.execute_input": "2023-06-17T19:35:11.177222Z",
     "iopub.status.busy": "2023-06-17T19:35:11.176930Z",
     "iopub.status.idle": "2023-06-17T19:35:11.631358Z",
     "shell.execute_reply": "2023-06-17T19:35:11.630158Z",
     "shell.execute_reply.started": "2023-06-17T19:35:11.177198Z"
    }
   },
   "outputs": [
    {
     "data": {
      "image/png": "[encoded data removed]",
      "text/plain": [
       "<Figure size 640x480 with 1 Axes>"
      ]
     },
     "metadata": {},
     "output_type": "display_data"
    }
   ],
   "source": [
    "# compare_performance\n",
    "ludwig_job.compare_performance()"
   ]
  },
  {
   "cell_type": "code",
   "execution_count": 50,
   "metadata": {
    "execution": {
     "iopub.execute_input": "2023-06-17T19:35:16.191443Z",
     "iopub.status.busy": "2023-06-17T19:35:16.190853Z",
     "iopub.status.idle": "2023-06-17T19:35:16.878531Z",
     "shell.execute_reply": "2023-06-17T19:35:16.877780Z",
     "shell.execute_reply.started": "2023-06-17T19:35:16.191398Z"
    }
   },
   "outputs": [
    {
     "data": {
      "image/png": "[encoded data removed]",
      "text/plain": [
       "<Figure size 640x480 with 1 Axes>"
      ]
     },
     "metadata": {},
     "output_type": "display_data"
    },
    {
     "data": {
      "image/png": "[encoded data removed]",
      "text/plain": [
       "<Figure size 640x480 with 1 Axes>"
      ]
     },
     "metadata": {},
     "output_type": "display_data"
    }
   ],
   "source": [
    "# learning_curves\n",
    "ludwig_job.learning_curves()"
   ]
  },
  {
   "cell_type": "code",
   "execution_count": 51,
   "metadata": {
    "execution": {
     "iopub.execute_input": "2023-06-17T19:35:30.176639Z",
     "iopub.status.busy": "2023-06-17T19:35:30.175790Z",
     "iopub.status.idle": "2023-06-17T19:35:30.896448Z",
     "shell.execute_reply": "2023-06-17T19:35:30.895804Z",
     "shell.execute_reply.started": "2023-06-17T19:35:30.176606Z"
    }
   },
   "outputs": [
    {
     "data": {
      "image/png": "[encoded data removed]",
      "text/plain": [
       "<Figure size 640x480 with 2 Axes>"
      ]
     },
     "metadata": {},
     "output_type": "display_data"
    },
    {
     "data": {
      "image/png": "[encoded data removed]",
      "text/plain": [
       "<Figure size 640x480 with 1 Axes>"
      ]
     },
     "metadata": {},
     "output_type": "display_data"
    }
   ],
   "source": [
    "# confusion_matrix\n",
    "#ludwig_job.load_model(0)\n",
    "ludwig_job.confusion_matrix()"
   ]
  },
  {
   "cell_type": "code",
   "execution_count": 52,
   "metadata": {
    "execution": {
     "iopub.execute_input": "2023-06-17T19:35:34.820210Z",
     "iopub.status.busy": "2023-06-17T19:35:34.819443Z",
     "iopub.status.idle": "2023-06-17T19:35:34.870216Z",
     "shell.execute_reply": "2023-06-17T19:35:34.869500Z",
     "shell.execute_reply.started": "2023-06-17T19:35:34.820180Z"
    }
   },
   "outputs": [
    {
     "name": "stdout",
     "output_type": "stream",
     "text": [
      "No roc_curve found\n"
     ]
    }
   ],
   "source": [
    "# roc_curves\n",
    "ludwig_job.roc_curves()"
   ]
  },
  {
   "cell_type": "markdown",
   "metadata": {},
   "source": [
    "## print_models"
   ]
  },
  {
   "cell_type": "code",
   "execution_count": 53,
   "metadata": {
    "execution": {
     "iopub.execute_input": "2023-06-17T19:35:38.845126Z",
     "iopub.status.busy": "2023-06-17T19:35:38.844296Z",
     "iopub.status.idle": "2023-06-17T19:35:38.918131Z",
     "shell.execute_reply": "2023-06-17T19:35:38.914253Z",
     "shell.execute_reply.started": "2023-06-17T19:35:38.845085Z"
    }
   },
   "outputs": [
    {
     "name": "stdout",
     "output_type": "stream",
     "text": [
      "LudwigJob object\n",
      "        experiment_name:     ex\n",
      "        output_feature_name: class\n",
      "        train_jobs:          [0]\n",
      "        model_names:         ['model_0']\n",
      "        model_paths:         ['/home/me/Data_Linux/Dropbox/31_Projekte/01_Python/git/bludwig/jupyter/30_Train_Any_Dataset/results/ex_0_run/model']        \n",
      "        output_dirs:         ['/home/me/Data_Linux/Dropbox/31_Projekte/01_Python/git/bludwig/jupyter/30_Train_Any_Dataset/results/ex_0_run']\n",
      "        model_no:            0   \n",
      "        cuda:                False             \n",
      "        \n"
     ]
    }
   ],
   "source": [
    "# print \n",
    "print(ludwig_job)"
   ]
  },
  {
   "cell_type": "code",
   "execution_count": 54,
   "metadata": {
    "execution": {
     "iopub.execute_input": "2023-06-17T19:35:48.442089Z",
     "iopub.status.busy": "2023-06-17T19:35:48.441239Z",
     "iopub.status.idle": "2023-06-17T19:35:48.553785Z",
     "shell.execute_reply": "2023-06-17T19:35:48.552140Z",
     "shell.execute_reply.started": "2023-06-17T19:35:48.442010Z"
    }
   },
   "outputs": [
    {
     "name": "stdout",
     "output_type": "stream",
     "text": [
      "### model_0 ###\n",
      "======================================================================================================================================================\n",
      "Layer (type:depth-idx)                             Input Shape               Output Shape              Param #                   Trainable\n",
      "======================================================================================================================================================\n",
      "ECD                                                [2]                       [2, 4]                    --                        True\n",
      "├─ConcatCombiner: 1-1                              --                        --                        --                        --\n",
      "│    └─LudwigFeatureDict: 2-1                      --                        --                        --                        --\n",
      "│    │    └─ModuleDict: 3-1                        --                        --                        --                        --\n",
      "│    │    │    └─NumberInputFeature: 4-1           [2]                       [2, 1]                    --                        --\n",
      "│    │    │    │    └─PassthroughEncoder: 5-1      [2, 1]                    [2, 1]                    --                        --\n",
      "│    │    │    └─NumberInputFeature: 4-2           [2]                       [2, 1]                    --                        --\n",
      "│    │    │    │    └─PassthroughEncoder: 5-2      [2, 1]                    [2, 1]                    --                        --\n",
      "│    │    │    └─NumberInputFeature: 4-3           [2]                       [2, 1]                    --                        --\n",
      "│    │    │    │    └─PassthroughEncoder: 5-3      [2, 1]                    [2, 1]                    --                        --\n",
      "│    │    │    └─NumberInputFeature: 4-4           [2]                       [2, 1]                    --                        --\n",
      "│    │    │    │    └─PassthroughEncoder: 5-4      [2, 1]                    [2, 1]                    --                        --\n",
      "├─ConcatCombiner: 1-2                              [2, 1]                    [2, 4]                    --                        --\n",
      "│    └─FCStack: 2-2                                [2, 4]                    [2, 4]                    --                        --\n",
      "├─LudwigFeatureDict: 1-3                           --                        --                        --                        True\n",
      "│    └─ModuleDict: 2-3                             --                        --                        --                        True\n",
      "│    │    └─CategoryOutputFeature: 3-2             [2, 4]                    [2, 4]                    --                        True\n",
      "│    │    │    └─FCStack: 4-5                      [2, 4]                    [2, 4]                    --                        --\n",
      "│    │    │    └─Classifier: 4-6                   [2, 4]                    [2, 3]                    --                        True\n",
      "│    │    │    │    └─Dense: 5-5                   [2, 4]                    [2, 3]                    --                        True\n",
      "│    │    │    │    │    └─Linear: 6-1             [2, 4]                    [2, 3]                    15                        True\n",
      "======================================================================================================================================================\n",
      "Total params: 15\n",
      "Trainable params: 15\n",
      "Non-trainable params: 0\n",
      "Total mult-adds (M): 0.00\n",
      "======================================================================================================================================================\n",
      "Input size (MB): 0.00\n",
      "Forward/backward pass size (MB): 0.00\n",
      "Params size (MB): 0.00\n",
      "Estimated Total Size (MB): 0.00\n",
      "======================================================================================================================================================\n",
      "\n",
      "\n",
      "\n",
      "\n"
     ]
    }
   ],
   "source": [
    "ludwig_job.print_models()"
   ]
  },
  {
   "cell_type": "markdown",
   "metadata": {},
   "source": [
    "## Predict"
   ]
  },
  {
   "cell_type": "code",
   "execution_count": 57,
   "metadata": {
    "execution": {
     "iopub.execute_input": "2023-06-17T19:37:10.696697Z",
     "iopub.status.busy": "2023-06-17T19:37:10.695769Z",
     "iopub.status.idle": "2023-06-17T19:37:11.761911Z",
     "shell.execute_reply": "2023-06-17T19:37:11.761177Z",
     "shell.execute_reply.started": "2023-06-17T19:37:10.696654Z"
    }
   },
   "outputs": [
    {
     "name": "stdout",
     "output_type": "stream",
     "text": [
      "predict_model: 0\n"
     ]
    },
    {
     "data": {
      "text/html": [
       "<div>\n",
       "<style scoped>\n",
       "    .dataframe tbody tr th:only-of-type {\n",
       "        vertical-align: middle;\n",
       "    }\n",
       "\n",
       "    .dataframe tbody tr th {\n",
       "        vertical-align: top;\n",
       "    }\n",
       "\n",
       "    .dataframe thead th {\n",
       "        text-align: right;\n",
       "    }\n",
       "</style>\n",
       "<table border=\"1\" class=\"dataframe\">\n",
       "  <thead>\n",
       "    <tr style=\"text-align: right;\">\n",
       "      <th></th>\n",
       "      <th>class</th>\n",
       "      <th>class_pred</th>\n",
       "      <th>sepal_length_cm</th>\n",
       "      <th>sepal_width_cm</th>\n",
       "      <th>petal_length_cm</th>\n",
       "      <th>petal_width_cm</th>\n",
       "      <th>class_prob</th>\n",
       "      <th>class_prob</th>\n",
       "      <th>class_prob_Iris-versicolor</th>\n",
       "      <th>class_prob_Iris-virginica</th>\n",
       "      <th>class_prob_Iris-setosa</th>\n",
       "    </tr>\n",
       "  </thead>\n",
       "  <tbody>\n",
       "    <tr>\n",
       "      <th>0</th>\n",
       "      <td>Iris-setosa</td>\n",
       "      <td>Iris-setosa</td>\n",
       "      <td>4.9</td>\n",
       "      <td>3.0</td>\n",
       "      <td>1.4</td>\n",
       "      <td>0.2</td>\n",
       "      <td>[0.19607828557491302, 0.3111913204193115, 0.49...</td>\n",
       "      <td>0.492730</td>\n",
       "      <td>0.196078</td>\n",
       "      <td>0.311191</td>\n",
       "      <td>0.492730</td>\n",
       "    </tr>\n",
       "    <tr>\n",
       "      <th>2</th>\n",
       "      <td>Iris-setosa</td>\n",
       "      <td>Iris-setosa</td>\n",
       "      <td>4.6</td>\n",
       "      <td>3.1</td>\n",
       "      <td>1.5</td>\n",
       "      <td>0.2</td>\n",
       "      <td>[0.10091835260391235, 0.2842170298099518, 0.61...</td>\n",
       "      <td>0.614865</td>\n",
       "      <td>0.100918</td>\n",
       "      <td>0.284217</td>\n",
       "      <td>0.614865</td>\n",
       "    </tr>\n",
       "    <tr>\n",
       "      <th>3</th>\n",
       "      <td>Iris-setosa</td>\n",
       "      <td>Iris-setosa</td>\n",
       "      <td>5.0</td>\n",
       "      <td>3.6</td>\n",
       "      <td>1.4</td>\n",
       "      <td>0.2</td>\n",
       "      <td>[0.050770532339811325, 0.1971282958984375, 0.7...</td>\n",
       "      <td>0.752101</td>\n",
       "      <td>0.050771</td>\n",
       "      <td>0.197128</td>\n",
       "      <td>0.752101</td>\n",
       "    </tr>\n",
       "    <tr>\n",
       "      <th>4</th>\n",
       "      <td>Iris-setosa</td>\n",
       "      <td>Iris-setosa</td>\n",
       "      <td>5.4</td>\n",
       "      <td>3.9</td>\n",
       "      <td>1.7</td>\n",
       "      <td>0.4</td>\n",
       "      <td>[0.038497988134622574, 0.17285606265068054, 0....</td>\n",
       "      <td>0.788646</td>\n",
       "      <td>0.038498</td>\n",
       "      <td>0.172856</td>\n",
       "      <td>0.788646</td>\n",
       "    </tr>\n",
       "    <tr>\n",
       "      <th>5</th>\n",
       "      <td>Iris-setosa</td>\n",
       "      <td>Iris-setosa</td>\n",
       "      <td>4.6</td>\n",
       "      <td>3.4</td>\n",
       "      <td>1.4</td>\n",
       "      <td>0.3</td>\n",
       "      <td>[0.04526903107762337, 0.2541259527206421, 0.70...</td>\n",
       "      <td>0.700605</td>\n",
       "      <td>0.045269</td>\n",
       "      <td>0.254126</td>\n",
       "      <td>0.700605</td>\n",
       "    </tr>\n",
       "    <tr>\n",
       "      <th>...</th>\n",
       "      <td>...</td>\n",
       "      <td>...</td>\n",
       "      <td>...</td>\n",
       "      <td>...</td>\n",
       "      <td>...</td>\n",
       "      <td>...</td>\n",
       "      <td>...</td>\n",
       "      <td>...</td>\n",
       "      <td>...</td>\n",
       "      <td>...</td>\n",
       "      <td>...</td>\n",
       "    </tr>\n",
       "    <tr>\n",
       "      <th>141</th>\n",
       "      <td>Iris-virginica</td>\n",
       "      <td>Iris-virginica</td>\n",
       "      <td>5.8</td>\n",
       "      <td>2.7</td>\n",
       "      <td>5.1</td>\n",
       "      <td>1.9</td>\n",
       "      <td>[0.40792351961135864, 0.41427791118621826, 0.1...</td>\n",
       "      <td>0.414278</td>\n",
       "      <td>0.407924</td>\n",
       "      <td>0.414278</td>\n",
       "      <td>0.177799</td>\n",
       "    </tr>\n",
       "    <tr>\n",
       "      <th>144</th>\n",
       "      <td>Iris-virginica</td>\n",
       "      <td>Iris-versicolor</td>\n",
       "      <td>6.7</td>\n",
       "      <td>3.0</td>\n",
       "      <td>5.2</td>\n",
       "      <td>2.3</td>\n",
       "      <td>[0.491105318069458, 0.3970009982585907, 0.1118...</td>\n",
       "      <td>0.491105</td>\n",
       "      <td>0.491105</td>\n",
       "      <td>0.397001</td>\n",
       "      <td>0.111894</td>\n",
       "    </tr>\n",
       "    <tr>\n",
       "      <th>146</th>\n",
       "      <td>Iris-virginica</td>\n",
       "      <td>Iris-versicolor</td>\n",
       "      <td>6.5</td>\n",
       "      <td>3.0</td>\n",
       "      <td>5.2</td>\n",
       "      <td>2.0</td>\n",
       "      <td>[0.4898321032524109, 0.3439779579639435, 0.166...</td>\n",
       "      <td>0.489832</td>\n",
       "      <td>0.489832</td>\n",
       "      <td>0.343978</td>\n",
       "      <td>0.166190</td>\n",
       "    </tr>\n",
       "    <tr>\n",
       "      <th>147</th>\n",
       "      <td>Iris-virginica</td>\n",
       "      <td>Iris-virginica</td>\n",
       "      <td>6.2</td>\n",
       "      <td>3.4</td>\n",
       "      <td>5.4</td>\n",
       "      <td>2.3</td>\n",
       "      <td>[0.159544438123703, 0.49745431542396545, 0.343...</td>\n",
       "      <td>0.497454</td>\n",
       "      <td>0.159544</td>\n",
       "      <td>0.497454</td>\n",
       "      <td>0.343001</td>\n",
       "    </tr>\n",
       "    <tr>\n",
       "      <th>148</th>\n",
       "      <td>Iris-virginica</td>\n",
       "      <td>Iris-virginica</td>\n",
       "      <td>5.9</td>\n",
       "      <td>3.0</td>\n",
       "      <td>5.1</td>\n",
       "      <td>1.8</td>\n",
       "      <td>[0.3062373101711273, 0.39280202984809875, 0.30...</td>\n",
       "      <td>0.392802</td>\n",
       "      <td>0.306237</td>\n",
       "      <td>0.392802</td>\n",
       "      <td>0.300961</td>\n",
       "    </tr>\n",
       "  </tbody>\n",
       "</table>\n",
       "<p>112 rows × 11 columns</p>\n",
       "</div>"
      ],
      "text/plain": [
       "              class       class_pred  sepal_length_cm  sepal_width_cm  \\\n",
       "0       Iris-setosa      Iris-setosa              4.9             3.0   \n",
       "2       Iris-setosa      Iris-setosa              4.6             3.1   \n",
       "3       Iris-setosa      Iris-setosa              5.0             3.6   \n",
       "4       Iris-setosa      Iris-setosa              5.4             3.9   \n",
       "5       Iris-setosa      Iris-setosa              4.6             3.4   \n",
       "..              ...              ...              ...             ...   \n",
       "141  Iris-virginica   Iris-virginica              5.8             2.7   \n",
       "144  Iris-virginica  Iris-versicolor              6.7             3.0   \n",
       "146  Iris-virginica  Iris-versicolor              6.5             3.0   \n",
       "147  Iris-virginica   Iris-virginica              6.2             3.4   \n",
       "148  Iris-virginica   Iris-virginica              5.9             3.0   \n",
       "\n",
       "     petal_length_cm  petal_width_cm  \\\n",
       "0                1.4             0.2   \n",
       "2                1.5             0.2   \n",
       "3                1.4             0.2   \n",
       "4                1.7             0.4   \n",
       "5                1.4             0.3   \n",
       "..               ...             ...   \n",
       "141              5.1             1.9   \n",
       "144              5.2             2.3   \n",
       "146              5.2             2.0   \n",
       "147              5.4             2.3   \n",
       "148              5.1             1.8   \n",
       "\n",
       "                                            class_prob  class_prob  \\\n",
       "0    [0.19607828557491302, 0.3111913204193115, 0.49...    0.492730   \n",
       "2    [0.10091835260391235, 0.2842170298099518, 0.61...    0.614865   \n",
       "3    [0.050770532339811325, 0.1971282958984375, 0.7...    0.752101   \n",
       "4    [0.038497988134622574, 0.17285606265068054, 0....    0.788646   \n",
       "5    [0.04526903107762337, 0.2541259527206421, 0.70...    0.700605   \n",
       "..                                                 ...         ...   \n",
       "141  [0.40792351961135864, 0.41427791118621826, 0.1...    0.414278   \n",
       "144  [0.491105318069458, 0.3970009982585907, 0.1118...    0.491105   \n",
       "146  [0.4898321032524109, 0.3439779579639435, 0.166...    0.489832   \n",
       "147  [0.159544438123703, 0.49745431542396545, 0.343...    0.497454   \n",
       "148  [0.3062373101711273, 0.39280202984809875, 0.30...    0.392802   \n",
       "\n",
       "     class_prob_Iris-versicolor  class_prob_Iris-virginica  \\\n",
       "0                      0.196078                   0.311191   \n",
       "2                      0.100918                   0.284217   \n",
       "3                      0.050771                   0.197128   \n",
       "4                      0.038498                   0.172856   \n",
       "5                      0.045269                   0.254126   \n",
       "..                          ...                        ...   \n",
       "141                    0.407924                   0.414278   \n",
       "144                    0.491105                   0.397001   \n",
       "146                    0.489832                   0.343978   \n",
       "147                    0.159544                   0.497454   \n",
       "148                    0.306237                   0.392802   \n",
       "\n",
       "     class_prob_Iris-setosa  \n",
       "0                  0.492730  \n",
       "2                  0.614865  \n",
       "3                  0.752101  \n",
       "4                  0.788646  \n",
       "5                  0.700605  \n",
       "..                      ...  \n",
       "141                0.177799  \n",
       "144                0.111894  \n",
       "146                0.166190  \n",
       "147                0.343001  \n",
       "148                0.300961  \n",
       "\n",
       "[112 rows x 11 columns]"
      ]
     },
     "execution_count": 57,
     "metadata": {},
     "output_type": "execute_result"
    }
   ],
   "source": [
    "# load_model\n",
    "print('predict_model:',predict_model)\n",
    "ludwig_job.load_model(predict_model)\n",
    "\n",
    "# data\n",
    "data_sample = pak.sample(data_df, predicts_size)\n",
    "\n",
    "# predict\n",
    "data_sample = ludwig_job.predict(data_sample)\n",
    "data_sample"
   ]
  },
  {
   "cell_type": "code",
   "execution_count": null,
   "metadata": {
    "execution": {
     "iopub.status.busy": "2023-06-17T19:26:06.651931Z",
     "iopub.status.idle": "2023-06-17T19:26:06.652396Z",
     "shell.execute_reply": "2023-06-17T19:26:06.652259Z",
     "shell.execute_reply.started": "2023-06-17T19:26:06.652243Z"
    }
   },
   "outputs": [],
   "source": [
    "if not environment['in_colab']:\n",
    "    raise Stop"
   ]
  },
  {
   "cell_type": "markdown",
   "metadata": {
    "id": "fJQNbEcpl-nm"
   },
   "source": [
    "## Colab: Copy back"
   ]
  },
  {
   "cell_type": "code",
   "execution_count": null,
   "metadata": {
    "colab": {
     "base_uri": "https://localhost:8080/"
    },
    "execution": {
     "iopub.status.busy": "2023-06-17T19:26:06.653229Z",
     "iopub.status.idle": "2023-06-17T19:26:06.653722Z",
     "shell.execute_reply": "2023-06-17T19:26:06.653580Z",
     "shell.execute_reply.started": "2023-06-17T19:26:06.653563Z"
    },
    "executionInfo": {
     "elapsed": 1575,
     "status": "ok",
     "timestamp": 1686256600179,
     "user": {
      "displayName": "Familie Klippstein",
      "userId": "08973939190628445877"
     },
     "user_tz": -120
    },
    "id": "meeL3dGNmCaL",
    "outputId": "4becf288-c76a-4978-8524-5d4b3c4e0175"
   },
   "outputs": [],
   "source": [
    "# mount\n",
    "if environment['in_colab']:\n",
    "    from google.colab import drive\n",
    "    drive.mount('/content/drive')  "
   ]
  },
  {
   "cell_type": "code",
   "execution_count": null,
   "metadata": {
    "colab": {
     "base_uri": "https://localhost:8080/"
    },
    "execution": {
     "iopub.status.busy": "2023-06-17T19:26:06.654504Z",
     "iopub.status.idle": "2023-06-17T19:26:06.654941Z",
     "shell.execute_reply": "2023-06-17T19:26:06.654804Z",
     "shell.execute_reply.started": "2023-06-17T19:26:06.654789Z"
    },
    "executionInfo": {
     "elapsed": 380,
     "status": "ok",
     "timestamp": 1686256600550,
     "user": {
      "displayName": "Familie Klippstein",
      "userId": "08973939190628445877"
     },
     "user_tz": -120
    },
    "id": "OVs054v5nE-W",
    "outputId": "9ca81e32-dca0-47a7-bdb8-253feb45c119"
   },
   "outputs": [],
   "source": [
    "if environment['in_colab']:\n",
    "    !ls"
   ]
  },
  {
   "cell_type": "code",
   "execution_count": null,
   "metadata": {
    "colab": {
     "base_uri": "https://localhost:8080/"
    },
    "execution": {
     "iopub.status.busy": "2023-06-17T19:26:06.655766Z",
     "iopub.status.idle": "2023-06-17T19:26:06.656963Z",
     "shell.execute_reply": "2023-06-17T19:26:06.656751Z",
     "shell.execute_reply.started": "2023-06-17T19:26:06.656722Z"
    },
    "executionInfo": {
     "elapsed": 23,
     "status": "ok",
     "timestamp": 1686256600552,
     "user": {
      "displayName": "Familie Klippstein",
      "userId": "08973939190628445877"
     },
     "user_tz": -120
    },
    "id": "M0AjzScGnJKF",
    "outputId": "c8524dfc-63c4-47c7-b88a-5b87bb2c8e2f"
   },
   "outputs": [],
   "source": [
    "if environment['in_colab']:\n",
    "    !ls results"
   ]
  },
  {
   "cell_type": "code",
   "execution_count": null,
   "metadata": {
    "execution": {
     "iopub.status.busy": "2023-06-17T19:26:06.657855Z",
     "iopub.status.idle": "2023-06-17T19:26:06.658373Z",
     "shell.execute_reply": "2023-06-17T19:26:06.658220Z",
     "shell.execute_reply.started": "2023-06-17T19:26:06.658202Z"
    },
    "executionInfo": {
     "elapsed": 2378,
     "status": "ok",
     "timestamp": 1686256602921,
     "user": {
      "displayName": "Familie Klippstein",
      "userId": "08973939190628445877"
     },
     "user_tz": -120
    },
    "id": "fPesu0Nhm06i"
   },
   "outputs": [],
   "source": [
    "# results: copy to GDrive\n",
    "if environment['in_colab']:\n",
    "  results_path = gdrive_base + '/results'\n",
    "  !cp -a results $results_path \n",
    "  !cp train_log*.csv $gdrive_base "
   ]
  },
  {
   "cell_type": "code",
   "execution_count": null,
   "metadata": {
    "colab": {
     "base_uri": "https://localhost:8080/"
    },
    "execution": {
     "iopub.status.busy": "2023-06-17T19:26:06.659180Z",
     "iopub.status.idle": "2023-06-17T19:26:06.659640Z",
     "shell.execute_reply": "2023-06-17T19:26:06.659473Z",
     "shell.execute_reply.started": "2023-06-17T19:26:06.659458Z"
    },
    "executionInfo": {
     "elapsed": 14,
     "status": "ok",
     "timestamp": 1686256964163,
     "user": {
      "displayName": "Familie Klippstein",
      "userId": "08973939190628445877"
     },
     "user_tz": -120
    },
    "id": "-GyVispFp1fh",
    "outputId": "db117307-3146-4688-d909-c5c419e7c637"
   },
   "outputs": [],
   "source": [
    "if environment['in_colab']:\n",
    "    print('Copy back manually:')\n",
    "    print('1) This ipynb-File, if changed')\n",
    "    print('2) results directory')\n",
    "    print('3) train_log file')    \n",
    "else:\n",
    "    print('finished')"
   ]
  },
  {
   "cell_type": "code",
   "execution_count": null,
   "metadata": {
    "colab": {
     "base_uri": "https://localhost:8080/",
     "height": 115
    },
    "execution": {
     "iopub.status.busy": "2023-06-17T19:26:06.660472Z",
     "iopub.status.idle": "2023-06-17T19:26:06.660920Z",
     "shell.execute_reply": "2023-06-17T19:26:06.660785Z",
     "shell.execute_reply.started": "2023-06-17T19:26:06.660770Z"
    },
    "executionInfo": {
     "elapsed": 32,
     "status": "error",
     "timestamp": 1686256603816,
     "user": {
      "displayName": "Familie Klippstein",
      "userId": "08973939190628445877"
     },
     "user_tz": -120
    },
    "id": "QmJKsnOlrJl_",
    "outputId": "4eb142c5-8f2f-4b60-b8a8-bdbd2682e5b3"
   },
   "outputs": [],
   "source": [
    "raise Stop"
   ]
  }
 ],
 "metadata": {
  "accelerator": "GPU",
  "colab": {
   "provenance": []
  },
  "kernelspec": {
   "display_name": "Python 3 (ipykernel)",
   "language": "python",
   "name": "python3"
  },
  "language_info": {
   "codemirror_mode": {
    "name": "ipython",
    "version": 3
   },
   "file_extension": ".py",
   "mimetype": "text/x-python",
   "name": "python",
   "nbconvert_exporter": "python",
   "pygments_lexer": "ipython3",
   "version": "3.10.11"
  }
 },
 "nbformat": 4,
 "nbformat_minor": 4
}

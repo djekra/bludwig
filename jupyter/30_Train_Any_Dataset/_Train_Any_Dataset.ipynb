{
 "cells": [
  {
   "cell_type": "markdown",
   "metadata": {},
   "source": [
    "__[Open and try this file online (Colab)](https://colab.research.google.com/github/djekra/bludwig/blob/main/jupyter/30_Train_Any_Dataset/_Train_Any_Dataset.ipynb)__"
   ]
  },
  {
   "cell_type": "code",
   "execution_count": 22,
   "metadata": {
    "colab": {
     "base_uri": "https://localhost:8080/",
     "height": 86
    },
    "execution": {
     "iopub.execute_input": "2023-06-19T15:59:02.960460Z",
     "iopub.status.busy": "2023-06-19T15:59:02.960237Z",
     "iopub.status.idle": "2023-06-19T15:59:03.106537Z",
     "shell.execute_reply": "2023-06-19T15:59:03.106028Z",
     "shell.execute_reply.started": "2023-06-19T15:59:02.960443Z"
    },
    "executionInfo": {
     "elapsed": 363,
     "status": "ok",
     "timestamp": 1686173310843,
     "user": {
      "displayName": "Familie Klippstein",
      "userId": "08973939190628445877"
     },
     "user_tz": -120
    },
    "id": "DgB2Td0tOvr7",
    "outputId": "62803628-9556-4941-c241-ac3ddf910539"
   },
   "outputs": [
    {
     "name": "stdout",
     "output_type": "stream",
     "text": [
      "blab init\n",
      "environment['in_colab']     = False\n",
      "environment['dropbox_path'] = /home/me/Dropbox\n",
      "environment['lib_path']     = /home/me/Dropbox/31_Projekte/01_Python/libs\n",
      "Start Time: 17:59:03\n"
     ]
    },
    {
     "data": {
      "text/html": [
       "<img src onerror=\"var cell = this.closest('.jp-CodeCell');var editor = cell.querySelector('.jp-Editor');editor.style.background='Beige';this.parentNode.removeChild(this)\">"
      ],
      "text/plain": [
       "<IPython.core.display.HTML object>"
      ]
     },
     "metadata": {},
     "output_type": "display_data"
    }
   ],
   "source": [
    "# blab init\n",
    "try:\n",
    "    import blab\n",
    "except ImportError as e:\n",
    "    !pip install --quiet blab\n",
    "    import blab    \n",
    "startup_notebook = blab.blab_startup()\n",
    "%run $startup_notebook "
   ]
  },
  {
   "cell_type": "markdown",
   "metadata": {
    "id": "dqW_BZ60kyWP"
   },
   "source": [
    "# Train Any Dataset"
   ]
  },
  {
   "cell_type": "code",
   "execution_count": 23,
   "metadata": {
    "execution": {
     "iopub.execute_input": "2023-06-19T15:59:03.107497Z",
     "iopub.status.busy": "2023-06-19T15:59:03.107335Z",
     "iopub.status.idle": "2023-06-19T15:59:03.155608Z",
     "shell.execute_reply": "2023-06-19T15:59:03.155010Z",
     "shell.execute_reply.started": "2023-06-19T15:59:03.107481Z"
    },
    "executionInfo": {
     "elapsed": 463,
     "status": "ok",
     "timestamp": 1686173335567,
     "user": {
      "displayName": "Familie Klippstein",
      "userId": "08973939190628445877"
     },
     "user_tz": -120
    },
    "id": "wj1f-u_vOvsK"
   },
   "outputs": [
    {
     "data": {
      "text/html": [
       "<img src onerror=\"var cell = this.closest('.jp-CodeCell');var editor = cell.querySelector('.jp-Editor');editor.style.background='Beige';this.parentNode.removeChild(this)\">"
      ],
      "text/plain": [
       "<IPython.core.display.HTML object>"
      ]
     },
     "metadata": {},
     "output_type": "display_data"
    }
   ],
   "source": [
    "# Settings\n",
    "\n",
    "#dataset_name    = 'adult_census_income'   # Which dataset shall be loaded?\n",
    "dataset_name    = 'iris'                  # Which dataset shall be loaded?\n",
    "experiment_name = 'iris'                  # Base of the model names\n",
    "mode            = 'T'                     # mode: C=cleanup, T=train, S=show \n",
    "verbose         = False    \n",
    "predicts_size   = 100                     # How many predictions should be created?\n",
    "\n",
    "gdrive_base   = 'drive/MyDrive/Colab'\n",
    "bgc('Beige')"
   ]
  },
  {
   "cell_type": "code",
   "execution_count": 24,
   "metadata": {
    "colab": {
     "base_uri": "https://localhost:8080/"
    },
    "execution": {
     "iopub.execute_input": "2023-06-19T15:59:03.156288Z",
     "iopub.status.busy": "2023-06-19T15:59:03.156135Z",
     "iopub.status.idle": "2023-06-19T15:59:03.203979Z",
     "shell.execute_reply": "2023-06-19T15:59:03.203521Z",
     "shell.execute_reply.started": "2023-06-19T15:59:03.156273Z"
    },
    "executionInfo": {
     "elapsed": 23608,
     "status": "ok",
     "timestamp": 1686173335132,
     "user": {
      "displayName": "Familie Klippstein",
      "userId": "08973939190628445877"
     },
     "user_tz": -120
    },
    "id": "DiBUpR-GPcys",
    "outputId": "c57587a6-02d9-4fb1-cced-852f95d6c5f7"
   },
   "outputs": [],
   "source": [
    "# Colab? >> Install the latest version of Ludwig\n",
    "if environment['in_colab']:\n",
    "  !pip uninstall -y tensorflow --quiet\n",
    "  !python -m pip install git+https://github.com/ludwig-ai/ludwig.git --quiet \n",
    "  !pip install ptitprince --quiet \n",
    "  !pip install bludwig --quiet "
   ]
  },
  {
   "cell_type": "code",
   "execution_count": 4,
   "metadata": {
    "colab": {
     "base_uri": "https://localhost:8080/"
    },
    "execution": {
     "iopub.execute_input": "2023-06-21T14:39:14.007850Z",
     "iopub.status.busy": "2023-06-21T14:39:14.007365Z",
     "iopub.status.idle": "2023-06-21T14:39:15.903771Z",
     "shell.execute_reply": "2023-06-21T14:39:15.901059Z",
     "shell.execute_reply.started": "2023-06-21T14:39:14.007825Z"
    },
    "executionInfo": {
     "elapsed": 30,
     "status": "ok",
     "timestamp": 1686256005696,
     "user": {
      "displayName": "Familie Klippstein",
      "userId": "08973939190628445877"
     },
     "user_tz": -120
    },
    "id": "HnYdSdJXOvsC",
    "outputId": "d726faf8-b46a-4253-b985-bee1199a157c"
   },
   "outputs": [
    {
     "name": "stdout",
     "output_type": "stream",
     "text": [
      "Stop Time:  16:39:15\n",
      "Elapsed:    2 secs\n"
     ]
    },
    {
     "data": {
      "text/html": [
       "<img src onerror=\"var cell = this.closest('.jp-CodeCell');var editor = cell.querySelector('.jp-Editor');editor.style.background='DarkGray';this.parentNode.removeChild(this)\">"
      ],
      "text/plain": [
       "<IPython.core.display.HTML object>"
      ]
     },
     "metadata": {},
     "output_type": "display_data"
    }
   ],
   "source": [
    "# cleanup?\n",
    "if mode == 'C': \n",
    "    try:\n",
    "        !rm -rf results\n",
    "        !rm *.meta.json\n",
    "        !rm *.hdf5    \n",
    "        !rm *.temp.pickle        \n",
    "        !rm .lock_preprocessing\n",
    "        !rm train_log*.csv\n",
    "        !rm datasets.csv        \n",
    "    except:\n",
    "        pass\n",
    " \n",
    "\n",
    "if mode == 'C':\n",
    "    raise Stop\n",
    "else:\n",
    "    bgc('WhiteSmoke')"
   ]
  },
  {
   "cell_type": "code",
   "execution_count": 26,
   "metadata": {
    "colab": {
     "base_uri": "https://localhost:8080/"
    },
    "execution": {
     "iopub.execute_input": "2023-06-19T15:59:03.256920Z",
     "iopub.status.busy": "2023-06-19T15:59:03.256775Z",
     "iopub.status.idle": "2023-06-19T15:59:03.302119Z",
     "shell.execute_reply": "2023-06-19T15:59:03.301509Z",
     "shell.execute_reply.started": "2023-06-19T15:59:03.256905Z"
    },
    "executionInfo": {
     "elapsed": 16727,
     "status": "ok",
     "timestamp": 1686256022749,
     "user": {
      "displayName": "Familie Klippstein",
      "userId": "08973939190628445877"
     },
     "user_tz": -120
    },
    "id": "n3WFMAGxOvsI",
    "outputId": "64989a50-9319-47e9-e8b0-d29a06e19abe"
   },
   "outputs": [],
   "source": [
    "# import \n",
    "import pandas as pd\n",
    "import pandasklar as pak\n",
    "grid = pak.grid\n",
    "import bludwig"
   ]
  },
  {
   "cell_type": "markdown",
   "metadata": {
    "id": "hW9kA_qSOvsN"
   },
   "source": [
    "## Data"
   ]
  },
  {
   "cell_type": "code",
   "execution_count": 27,
   "metadata": {
    "execution": {
     "iopub.execute_input": "2023-06-19T15:59:03.302843Z",
     "iopub.status.busy": "2023-06-19T15:59:03.302691Z",
     "iopub.status.idle": "2023-06-19T15:59:03.364049Z",
     "shell.execute_reply": "2023-06-19T15:59:03.363557Z",
     "shell.execute_reply.started": "2023-06-19T15:59:03.302828Z"
    }
   },
   "outputs": [
    {
     "name": "stdout",
     "output_type": "stream",
     "text": [
      "\n",
      "iris 1.0\n",
      "Iris Dataset\n",
      "https://archive.ics.uci.edu/ml/datasets/Iris\n",
      "\n",
      "output_features: [{'name': 'class', 'type': 'category'}]\n"
     ]
    }
   ],
   "source": [
    "# load_dataset\n",
    "data_df, dataset_loader = bludwig.load_dataset(dataset_name)"
   ]
  },
  {
   "cell_type": "code",
   "execution_count": 28,
   "metadata": {
    "colab": {
     "base_uri": "https://localhost:8080/"
    },
    "execution": {
     "iopub.execute_input": "2023-06-19T15:59:03.364723Z",
     "iopub.status.busy": "2023-06-19T15:59:03.364577Z",
     "iopub.status.idle": "2023-06-19T15:59:03.457434Z",
     "shell.execute_reply": "2023-06-19T15:59:03.456933Z",
     "shell.execute_reply.started": "2023-06-19T15:59:03.364709Z"
    },
    "executionInfo": {
     "elapsed": 39,
     "status": "ok",
     "timestamp": 1686173337398,
     "user": {
      "displayName": "Familie Klippstein",
      "userId": "08973939190628445877"
     },
     "user_tz": -120
    },
    "id": "5vmJL7v1iAdM",
    "outputId": "327fab1c-e3ff-4d5e-aec6-dc500b0f60b8"
   },
   "outputs": [
    {
     "name": "stdout",
     "output_type": "stream",
     "text": [
      "149 records for training, validation and test\n"
     ]
    },
    {
     "data": {
      "text/html": [
       "<div>\n",
       "<style scoped>\n",
       "    .dataframe tbody tr th:only-of-type {\n",
       "        vertical-align: middle;\n",
       "    }\n",
       "\n",
       "    .dataframe tbody tr th {\n",
       "        vertical-align: top;\n",
       "    }\n",
       "\n",
       "    .dataframe thead th {\n",
       "        text-align: right;\n",
       "    }\n",
       "</style>\n",
       "<table border=\"1\" class=\"dataframe\">\n",
       "  <thead>\n",
       "    <tr style=\"text-align: right;\">\n",
       "      <th></th>\n",
       "      <th>class</th>\n",
       "      <th>sepal_length_cm</th>\n",
       "      <th>sepal_width_cm</th>\n",
       "      <th>petal_length_cm</th>\n",
       "      <th>petal_width_cm</th>\n",
       "    </tr>\n",
       "  </thead>\n",
       "  <tbody>\n",
       "    <tr>\n",
       "      <th>0</th>\n",
       "      <td>Iris-setosa</td>\n",
       "      <td>4.9</td>\n",
       "      <td>3.0</td>\n",
       "      <td>1.4</td>\n",
       "      <td>0.2</td>\n",
       "    </tr>\n",
       "    <tr>\n",
       "      <th>2</th>\n",
       "      <td>Iris-setosa</td>\n",
       "      <td>4.6</td>\n",
       "      <td>3.1</td>\n",
       "      <td>1.5</td>\n",
       "      <td>0.2</td>\n",
       "    </tr>\n",
       "    <tr>\n",
       "      <th>3</th>\n",
       "      <td>Iris-setosa</td>\n",
       "      <td>5.0</td>\n",
       "      <td>3.6</td>\n",
       "      <td>1.4</td>\n",
       "      <td>0.2</td>\n",
       "    </tr>\n",
       "    <tr>\n",
       "      <th>12</th>\n",
       "      <td>Iris-setosa</td>\n",
       "      <td>4.3</td>\n",
       "      <td>3.0</td>\n",
       "      <td>1.1</td>\n",
       "      <td>0.1</td>\n",
       "    </tr>\n",
       "    <tr>\n",
       "      <th>14</th>\n",
       "      <td>Iris-setosa</td>\n",
       "      <td>5.7</td>\n",
       "      <td>4.4</td>\n",
       "      <td>1.5</td>\n",
       "      <td>0.4</td>\n",
       "    </tr>\n",
       "    <tr>\n",
       "      <th>21</th>\n",
       "      <td>Iris-setosa</td>\n",
       "      <td>4.6</td>\n",
       "      <td>3.6</td>\n",
       "      <td>1.0</td>\n",
       "      <td>0.2</td>\n",
       "    </tr>\n",
       "    <tr>\n",
       "      <th>60</th>\n",
       "      <td>Iris-versicolor</td>\n",
       "      <td>5.9</td>\n",
       "      <td>3.0</td>\n",
       "      <td>4.2</td>\n",
       "      <td>1.5</td>\n",
       "    </tr>\n",
       "    <tr>\n",
       "      <th>99</th>\n",
       "      <td>Iris-virginica</td>\n",
       "      <td>6.3</td>\n",
       "      <td>3.3</td>\n",
       "      <td>6.0</td>\n",
       "      <td>2.5</td>\n",
       "    </tr>\n",
       "    <tr>\n",
       "      <th>117</th>\n",
       "      <td>Iris-virginica</td>\n",
       "      <td>7.7</td>\n",
       "      <td>2.6</td>\n",
       "      <td>6.9</td>\n",
       "      <td>2.3</td>\n",
       "    </tr>\n",
       "    <tr>\n",
       "      <th>130</th>\n",
       "      <td>Iris-virginica</td>\n",
       "      <td>7.9</td>\n",
       "      <td>3.8</td>\n",
       "      <td>6.4</td>\n",
       "      <td>2.0</td>\n",
       "    </tr>\n",
       "  </tbody>\n",
       "</table>\n",
       "</div>"
      ],
      "text/plain": [
       "               class  sepal_length_cm  sepal_width_cm  petal_length_cm  \\\n",
       "0        Iris-setosa              4.9             3.0              1.4   \n",
       "2        Iris-setosa              4.6             3.1              1.5   \n",
       "3        Iris-setosa              5.0             3.6              1.4   \n",
       "12       Iris-setosa              4.3             3.0              1.1   \n",
       "14       Iris-setosa              5.7             4.4              1.5   \n",
       "21       Iris-setosa              4.6             3.6              1.0   \n",
       "60   Iris-versicolor              5.9             3.0              4.2   \n",
       "99    Iris-virginica              6.3             3.3              6.0   \n",
       "117   Iris-virginica              7.7             2.6              6.9   \n",
       "130   Iris-virginica              7.9             3.8              6.4   \n",
       "\n",
       "     petal_width_cm  \n",
       "0               0.2  \n",
       "2               0.2  \n",
       "3               0.2  \n",
       "12              0.1  \n",
       "14              0.4  \n",
       "21              0.2  \n",
       "60              1.5  \n",
       "99              2.5  \n",
       "117             2.3  \n",
       "130             2.0  "
      ]
     },
     "execution_count": 28,
     "metadata": {},
     "output_type": "execute_result"
    }
   ],
   "source": [
    "# examine\n",
    "print(data_df.shape[0], 'records for training, validation and test')\n",
    "pak.sample(data_df,10)"
   ]
  },
  {
   "cell_type": "code",
   "execution_count": 29,
   "metadata": {
    "execution": {
     "iopub.execute_input": "2023-06-19T15:59:03.458193Z",
     "iopub.status.busy": "2023-06-19T15:59:03.458038Z",
     "iopub.status.idle": "2023-06-19T15:59:03.544515Z",
     "shell.execute_reply": "2023-06-19T15:59:03.544021Z",
     "shell.execute_reply.started": "2023-06-19T15:59:03.458178Z"
    }
   },
   "outputs": [
    {
     "data": {
      "text/html": [
       "<div>\n",
       "<style scoped>\n",
       "    .dataframe tbody tr th:only-of-type {\n",
       "        vertical-align: middle;\n",
       "    }\n",
       "\n",
       "    .dataframe tbody tr th {\n",
       "        vertical-align: top;\n",
       "    }\n",
       "\n",
       "    .dataframe thead th {\n",
       "        text-align: right;\n",
       "    }\n",
       "</style>\n",
       "<table border=\"1\" class=\"dataframe\">\n",
       "  <thead>\n",
       "    <tr style=\"text-align: right;\">\n",
       "      <th></th>\n",
       "      <th>col_name</th>\n",
       "      <th>is_output_feature</th>\n",
       "      <th>feature_type</th>\n",
       "      <th>datatype_short</th>\n",
       "      <th>datatype_identified</th>\n",
       "      <th>mem_usage</th>\n",
       "      <th>nunique</th>\n",
       "      <th>ndups</th>\n",
       "      <th>vmin</th>\n",
       "      <th>vmax</th>\n",
       "      <th>n</th>\n",
       "    </tr>\n",
       "  </thead>\n",
       "  <tbody>\n",
       "    <tr>\n",
       "      <th>0</th>\n",
       "      <td>class</td>\n",
       "      <td>True</td>\n",
       "      <td>category</td>\n",
       "      <td>string</td>\n",
       "      <td>string</td>\n",
       "      <td>700</td>\n",
       "      <td>3</td>\n",
       "      <td>146</td>\n",
       "      <td>Iris-setosa</td>\n",
       "      <td>Iris-virginica</td>\n",
       "      <td>149</td>\n",
       "    </tr>\n",
       "    <tr>\n",
       "      <th>1</th>\n",
       "      <td>sepal_length_cm</td>\n",
       "      <td>False</td>\n",
       "      <td>number</td>\n",
       "      <td>float32</td>\n",
       "      <td>float</td>\n",
       "      <td>40</td>\n",
       "      <td>35</td>\n",
       "      <td>114</td>\n",
       "      <td>4.3</td>\n",
       "      <td>7.9</td>\n",
       "      <td>149</td>\n",
       "    </tr>\n",
       "    <tr>\n",
       "      <th>2</th>\n",
       "      <td>sepal_width_cm</td>\n",
       "      <td>False</td>\n",
       "      <td>number</td>\n",
       "      <td>float32</td>\n",
       "      <td>float</td>\n",
       "      <td>40</td>\n",
       "      <td>23</td>\n",
       "      <td>126</td>\n",
       "      <td>2.0</td>\n",
       "      <td>4.4</td>\n",
       "      <td>149</td>\n",
       "    </tr>\n",
       "    <tr>\n",
       "      <th>3</th>\n",
       "      <td>petal_length_cm</td>\n",
       "      <td>False</td>\n",
       "      <td>number</td>\n",
       "      <td>float32</td>\n",
       "      <td>float</td>\n",
       "      <td>40</td>\n",
       "      <td>43</td>\n",
       "      <td>106</td>\n",
       "      <td>1.0</td>\n",
       "      <td>6.9</td>\n",
       "      <td>149</td>\n",
       "    </tr>\n",
       "    <tr>\n",
       "      <th>4</th>\n",
       "      <td>petal_width_cm</td>\n",
       "      <td>False</td>\n",
       "      <td>number</td>\n",
       "      <td>float32</td>\n",
       "      <td>float</td>\n",
       "      <td>40</td>\n",
       "      <td>22</td>\n",
       "      <td>127</td>\n",
       "      <td>0.1</td>\n",
       "      <td>2.5</td>\n",
       "      <td>149</td>\n",
       "    </tr>\n",
       "  </tbody>\n",
       "</table>\n",
       "</div>"
      ],
      "text/plain": [
       "          col_name  is_output_feature feature_type datatype_short  \\\n",
       "0            class               True     category         string   \n",
       "1  sepal_length_cm              False       number        float32   \n",
       "2   sepal_width_cm              False       number        float32   \n",
       "3  petal_length_cm              False       number        float32   \n",
       "4   petal_width_cm              False       number        float32   \n",
       "\n",
       "  datatype_identified  mem_usage  nunique  ndups         vmin            vmax  \\\n",
       "0              string        700        3    146  Iris-setosa  Iris-virginica   \n",
       "1               float         40       35    114          4.3             7.9   \n",
       "2               float         40       23    126          2.0             4.4   \n",
       "3               float         40       43    106          1.0             6.9   \n",
       "4               float         40       22    127          0.1             2.5   \n",
       "\n",
       "     n  \n",
       "0  149  \n",
       "1  149  \n",
       "2  149  \n",
       "3  149  \n",
       "4  149  "
      ]
     },
     "execution_count": 29,
     "metadata": {},
     "output_type": "execute_result"
    }
   ],
   "source": [
    "# analyse_cols\n",
    "analyse = bludwig.analyse_cols(data_df, dataset_loader)\n",
    "analyse"
   ]
  },
  {
   "cell_type": "markdown",
   "metadata": {
    "id": "vtSyZji4C-7t"
   },
   "source": [
    "## configs"
   ]
  },
  {
   "cell_type": "code",
   "execution_count": 30,
   "metadata": {
    "execution": {
     "iopub.execute_input": "2023-06-19T15:59:03.545224Z",
     "iopub.status.busy": "2023-06-19T15:59:03.545070Z",
     "iopub.status.idle": "2023-06-19T15:59:03.628217Z",
     "shell.execute_reply": "2023-06-19T15:59:03.627684Z",
     "shell.execute_reply.started": "2023-06-19T15:59:03.545209Z"
    },
    "scrolled": true
   },
   "outputs": [
    {
     "name": "stdout",
     "output_type": "stream",
     "text": [
      "\n",
      "====== config for model iris_0 ======\n",
      "\n",
      "input_features:\n",
      "- name: sepal_length_cm\n",
      "  type: number\n",
      "- name: sepal_width_cm\n",
      "  type: number\n",
      "- name: petal_length_cm\n",
      "  type: number\n",
      "- name: petal_width_cm\n",
      "  type: number\n",
      "output_features:\n",
      "- name: class\n",
      "  type: category\n",
      "\n",
      "\n",
      "\n",
      "\n"
     ]
    }
   ],
   "source": [
    "# Automatically generated / provided configs\n",
    "configs = bludwig.configs(data_df, dataset_loader)\n",
    "\n",
    "for i, c in enumerate(configs):\n",
    "    print('\\n====== config for model {} ======\\n'.format( experiment_name + '_' + str(i)))\n",
    "    print(c)\n",
    "    print('\\n\\n')"
   ]
  },
  {
   "cell_type": "markdown",
   "metadata": {},
   "source": [
    "## Initialize"
   ]
  },
  {
   "cell_type": "code",
   "execution_count": 31,
   "metadata": {
    "colab": {
     "base_uri": "https://localhost:8080/"
    },
    "execution": {
     "iopub.execute_input": "2023-06-19T15:59:03.630090Z",
     "iopub.status.busy": "2023-06-19T15:59:03.629893Z",
     "iopub.status.idle": "2023-06-19T15:59:03.676590Z",
     "shell.execute_reply": "2023-06-19T15:59:03.676083Z",
     "shell.execute_reply.started": "2023-06-19T15:59:03.630074Z"
    },
    "executionInfo": {
     "elapsed": 16727,
     "status": "ok",
     "timestamp": 1686256022749,
     "user": {
      "displayName": "Familie Klippstein",
      "userId": "08973939190628445877"
     },
     "user_tz": -120
    },
    "id": "n3WFMAGxOvsI",
    "outputId": "64989a50-9319-47e9-e8b0-d29a06e19abe"
   },
   "outputs": [
    {
     "name": "stdout",
     "output_type": "stream",
     "text": [
      "\n",
      "1 configs loaded\n"
     ]
    }
   ],
   "source": [
    "# bludwig initialize\n",
    "if mode == 'T':  \n",
    "    ludwig_job = bludwig.LudwigJob( configs=configs, experiment_name=experiment_name, verbose=verbose) "
   ]
  },
  {
   "cell_type": "code",
   "execution_count": 32,
   "metadata": {
    "colab": {
     "base_uri": "https://localhost:8080/"
    },
    "execution": {
     "iopub.execute_input": "2023-06-19T15:59:03.677362Z",
     "iopub.status.busy": "2023-06-19T15:59:03.677205Z",
     "iopub.status.idle": "2023-06-19T15:59:03.723608Z",
     "shell.execute_reply": "2023-06-19T15:59:03.723096Z",
     "shell.execute_reply.started": "2023-06-19T15:59:03.677347Z"
    },
    "executionInfo": {
     "elapsed": 16727,
     "status": "ok",
     "timestamp": 1686256022749,
     "user": {
      "displayName": "Familie Klippstein",
      "userId": "08973939190628445877"
     },
     "user_tz": -120
    },
    "id": "n3WFMAGxOvsI",
    "outputId": "64989a50-9319-47e9-e8b0-d29a06e19abe"
   },
   "outputs": [],
   "source": [
    "# bludwig initialize and load\n",
    "if mode == 'S':  \n",
    "    ludwig_job = bludwig.LudwigJob() \n",
    "    ludwig_job.load_from_results()\n",
    "    #print(ludwig_job)"
   ]
  },
  {
   "cell_type": "markdown",
   "metadata": {
    "id": "EkWAP0_0gnFc"
   },
   "source": [
    "## Train"
   ]
  },
  {
   "cell_type": "code",
   "execution_count": 33,
   "metadata": {
    "execution": {
     "iopub.execute_input": "2023-06-19T15:59:03.724346Z",
     "iopub.status.busy": "2023-06-19T15:59:03.724173Z",
     "iopub.status.idle": "2023-06-19T15:59:05.742041Z",
     "shell.execute_reply": "2023-06-19T15:59:05.741475Z",
     "shell.execute_reply.started": "2023-06-19T15:59:03.724321Z"
    }
   },
   "outputs": [
    {
     "name": "stdout",
     "output_type": "stream",
     "text": [
      "\n",
      "Training model iris_0\n",
      "train_time: 2 secs\n",
      "\n"
     ]
    },
    {
     "data": {
      "text/html": [
       "<div>\n",
       "<style scoped>\n",
       "    .dataframe tbody tr th:only-of-type {\n",
       "        vertical-align: middle;\n",
       "    }\n",
       "\n",
       "    .dataframe tbody tr th {\n",
       "        vertical-align: top;\n",
       "    }\n",
       "\n",
       "    .dataframe thead th {\n",
       "        text-align: right;\n",
       "    }\n",
       "</style>\n",
       "<table border=\"1\" class=\"dataframe\">\n",
       "  <thead>\n",
       "    <tr style=\"text-align: right;\">\n",
       "      <th></th>\n",
       "      <th>name</th>\n",
       "      <th>iris_0</th>\n",
       "    </tr>\n",
       "  </thead>\n",
       "  <tbody>\n",
       "    <tr>\n",
       "      <th>0</th>\n",
       "      <td>accuracy</td>\n",
       "      <td>0.703</td>\n",
       "    </tr>\n",
       "    <tr>\n",
       "      <th>1</th>\n",
       "      <td>roc_auc</td>\n",
       "      <td>0.71</td>\n",
       "    </tr>\n",
       "    <tr>\n",
       "      <th>2</th>\n",
       "      <td>loss</td>\n",
       "      <td>1.02</td>\n",
       "    </tr>\n",
       "    <tr>\n",
       "      <th>3</th>\n",
       "      <td>epochs</td>\n",
       "      <td>6</td>\n",
       "    </tr>\n",
       "    <tr>\n",
       "      <th>4</th>\n",
       "      <td>time/epoch</td>\n",
       "      <td>0.3 secs</td>\n",
       "    </tr>\n",
       "    <tr>\n",
       "      <th>5</th>\n",
       "      <td>train_time</td>\n",
       "      <td>2 secs</td>\n",
       "    </tr>\n",
       "  </tbody>\n",
       "</table>\n",
       "</div>"
      ],
      "text/plain": [
       "         name    iris_0\n",
       "0    accuracy     0.703\n",
       "1     roc_auc      0.71\n",
       "2        loss      1.02\n",
       "3      epochs         6\n",
       "4  time/epoch  0.3 secs\n",
       "5  train_time    2 secs"
      ]
     },
     "execution_count": 33,
     "metadata": {},
     "output_type": "execute_result"
    }
   ],
   "source": [
    "# train and evaluate\n",
    "out = None\n",
    "if mode == 'T':  \n",
    "    ludwig_job.experiment(data_df)\n",
    "    out = bludwig.train_log_to_csv( ludwig_job.train_log )\n",
    "else:\n",
    "    out = 'No training'\n",
    "out"
   ]
  },
  {
   "cell_type": "markdown",
   "metadata": {
    "execution": {
     "iopub.execute_input": "2023-06-03T08:59:23.598513Z",
     "iopub.status.busy": "2023-06-03T08:59:23.597960Z",
     "iopub.status.idle": "2023-06-03T08:59:23.640510Z",
     "shell.execute_reply": "2023-06-03T08:59:23.639738Z",
     "shell.execute_reply.started": "2023-06-03T08:59:23.598494Z"
    },
    "id": "CFJ2xCetOvsZ"
   },
   "source": [
    "## Evaluate"
   ]
  },
  {
   "cell_type": "code",
   "execution_count": 34,
   "metadata": {
    "execution": {
     "iopub.execute_input": "2023-06-19T15:59:05.742900Z",
     "iopub.status.busy": "2023-06-19T15:59:05.742737Z",
     "iopub.status.idle": "2023-06-19T15:59:06.054855Z",
     "shell.execute_reply": "2023-06-19T15:59:06.054359Z",
     "shell.execute_reply.started": "2023-06-19T15:59:05.742885Z"
    }
   },
   "outputs": [
    {
     "name": "stdout",
     "output_type": "stream",
     "text": [
      "[{'class': {'loss': 1.0219457149505615, 'roc_auc': 0.7097963690757751, 'accuracy': 0.7025641202926636, 'accuracy_micro': 0.6333333253860474}}]\n"
     ]
    },
    {
     "data": {
      "image/png": "[encoded data removed]",
      "text/plain": [
       "<Figure size 640x480 with 1 Axes>"
      ]
     },
     "metadata": {},
     "output_type": "display_data"
    }
   ],
   "source": [
    "# compare_performance\n",
    "ludwig_job.compare_performance()"
   ]
  },
  {
   "cell_type": "code",
   "execution_count": 35,
   "metadata": {
    "execution": {
     "iopub.execute_input": "2023-06-19T15:59:06.055520Z",
     "iopub.status.busy": "2023-06-19T15:59:06.055374Z",
     "iopub.status.idle": "2023-06-19T15:59:06.500502Z",
     "shell.execute_reply": "2023-06-19T15:59:06.499878Z",
     "shell.execute_reply.started": "2023-06-19T15:59:06.055506Z"
    }
   },
   "outputs": [
    {
     "data": {
      "image/png": "[encoded data removed]",
      "text/plain": [
       "<Figure size 640x480 with 1 Axes>"
      ]
     },
     "metadata": {},
     "output_type": "display_data"
    },
    {
     "data": {
      "image/png": "[encoded data removed]",
      "text/plain": [
       "<Figure size 640x480 with 1 Axes>"
      ]
     },
     "metadata": {},
     "output_type": "display_data"
    }
   ],
   "source": [
    "# learning_curves\n",
    "ludwig_job.learning_curves()"
   ]
  },
  {
   "cell_type": "code",
   "execution_count": 36,
   "metadata": {
    "execution": {
     "iopub.execute_input": "2023-06-19T15:59:06.501419Z",
     "iopub.status.busy": "2023-06-19T15:59:06.501224Z",
     "iopub.status.idle": "2023-06-19T15:59:06.895955Z",
     "shell.execute_reply": "2023-06-19T15:59:06.895389Z",
     "shell.execute_reply.started": "2023-06-19T15:59:06.501400Z"
    }
   },
   "outputs": [
    {
     "data": {
      "image/png": "[encoded data removed]",
      "text/plain": [
       "<Figure size 640x480 with 2 Axes>"
      ]
     },
     "metadata": {},
     "output_type": "display_data"
    },
    {
     "data": {
      "image/png": "[encoded data removed]",
      "text/plain": [
       "<Figure size 640x480 with 1 Axes>"
      ]
     },
     "metadata": {},
     "output_type": "display_data"
    }
   ],
   "source": [
    "# confusion_matrix\n",
    "#ludwig_job.load_model(0)\n",
    "ludwig_job.confusion_matrix()"
   ]
  },
  {
   "cell_type": "code",
   "execution_count": 37,
   "metadata": {
    "execution": {
     "iopub.execute_input": "2023-06-19T15:59:06.896870Z",
     "iopub.status.busy": "2023-06-19T15:59:06.896672Z",
     "iopub.status.idle": "2023-06-19T15:59:06.940825Z",
     "shell.execute_reply": "2023-06-19T15:59:06.940283Z",
     "shell.execute_reply.started": "2023-06-19T15:59:06.896850Z"
    }
   },
   "outputs": [
    {
     "name": "stdout",
     "output_type": "stream",
     "text": [
      "No roc_curve found\n"
     ]
    }
   ],
   "source": [
    "# roc_curves\n",
    "ludwig_job.roc_curves()"
   ]
  },
  {
   "cell_type": "markdown",
   "metadata": {},
   "source": [
    "## print_models"
   ]
  },
  {
   "cell_type": "code",
   "execution_count": 38,
   "metadata": {
    "execution": {
     "iopub.execute_input": "2023-06-19T15:59:06.941528Z",
     "iopub.status.busy": "2023-06-19T15:59:06.941377Z",
     "iopub.status.idle": "2023-06-19T15:59:06.987706Z",
     "shell.execute_reply": "2023-06-19T15:59:06.987215Z",
     "shell.execute_reply.started": "2023-06-19T15:59:06.941513Z"
    }
   },
   "outputs": [
    {
     "name": "stdout",
     "output_type": "stream",
     "text": [
      "LudwigJob object\n",
      "        experiment_name:     iris\n",
      "        output_feature_name: class\n",
      "        train_jobs:          [0]\n",
      "        model_names:         ['iris_0']\n",
      "        model_paths:         ['/home/me/Dropbox/31_Projekte/01_Python/git/bludwig/jupyter/30_Train_Any_Dataset/results/iris_0_run/model']        \n",
      "        output_dirs:         ['/home/me/Dropbox/31_Projekte/01_Python/git/bludwig/jupyter/30_Train_Any_Dataset/results/iris_0_run']\n",
      "        model_no:            0   \n",
      "        cuda:                True             \n",
      "        \n"
     ]
    }
   ],
   "source": [
    "# print \n",
    "print(ludwig_job)"
   ]
  },
  {
   "cell_type": "code",
   "execution_count": 39,
   "metadata": {
    "execution": {
     "iopub.execute_input": "2023-06-19T15:59:06.988505Z",
     "iopub.status.busy": "2023-06-19T15:59:06.988308Z",
     "iopub.status.idle": "2023-06-19T15:59:07.802281Z",
     "shell.execute_reply": "2023-06-19T15:59:07.801693Z",
     "shell.execute_reply.started": "2023-06-19T15:59:06.988486Z"
    }
   },
   "outputs": [
    {
     "name": "stdout",
     "output_type": "stream",
     "text": [
      "### iris_0 ###\n",
      "=================================================================================================================================================\n",
      "Layer (type:depth-idx)                        Input Shape               Output Shape              Param #                   Trainable\n",
      "=================================================================================================================================================\n",
      "ECD                                           [2]                       [2, 4]                    --                        True\n",
      "├─LudwigFeatureDict: 1-1                      --                        --                        --                        --\n",
      "│    └─ModuleDict: 2-1                        --                        --                        --                        --\n",
      "│    │    └─NumberInputFeature: 3-1           [2]                       [2, 1]                    --                        --\n",
      "│    │    │    └─PassthroughEncoder: 4-1      [2, 1]                    [2, 1]                    --                        --\n",
      "│    │    └─NumberInputFeature: 3-2           [2]                       [2, 1]                    --                        --\n",
      "│    │    │    └─PassthroughEncoder: 4-2      [2, 1]                    [2, 1]                    --                        --\n",
      "│    │    └─NumberInputFeature: 3-3           [2]                       [2, 1]                    --                        --\n",
      "│    │    │    └─PassthroughEncoder: 4-3      [2, 1]                    [2, 1]                    --                        --\n",
      "│    │    └─NumberInputFeature: 3-4           [2]                       [2, 1]                    --                        --\n",
      "│    │    │    └─PassthroughEncoder: 4-4      [2, 1]                    [2, 1]                    --                        --\n",
      "├─ConcatCombiner: 1-2                         [2, 1]                    [2, 4]                    --                        --\n",
      "│    └─FCStack: 2-2                           [2, 4]                    [2, 4]                    --                        --\n",
      "├─LudwigFeatureDict: 1-3                      --                        --                        --                        True\n",
      "│    └─ModuleDict: 2-3                        --                        --                        --                        True\n",
      "│    │    └─CategoryOutputFeature: 3-5        [2, 4]                    [2, 4]                    --                        True\n",
      "│    │    │    └─FCStack: 4-5                 [2, 4]                    [2, 4]                    --                        --\n",
      "│    │    │    └─Classifier: 4-6              [2, 4]                    [2, 3]                    --                        True\n",
      "│    │    │    │    └─Dense: 5-1              [2, 4]                    [2, 3]                    --                        True\n",
      "│    │    │    │    │    └─Linear: 6-1        [2, 4]                    [2, 3]                    15                        True\n",
      "=================================================================================================================================================\n",
      "Total params: 15\n",
      "Trainable params: 15\n",
      "Non-trainable params: 0\n",
      "Total mult-adds (M): 0.00\n",
      "=================================================================================================================================================\n",
      "Input size (MB): 0.00\n",
      "Forward/backward pass size (MB): 0.00\n",
      "Params size (MB): 0.00\n",
      "Estimated Total Size (MB): 0.00\n",
      "=================================================================================================================================================\n",
      "\n",
      "\n",
      "\n",
      "\n"
     ]
    }
   ],
   "source": [
    "ludwig_job.print_models()"
   ]
  },
  {
   "cell_type": "markdown",
   "metadata": {},
   "source": [
    "## Predict"
   ]
  },
  {
   "cell_type": "code",
   "execution_count": 40,
   "metadata": {
    "execution": {
     "iopub.execute_input": "2023-06-19T15:59:07.803086Z",
     "iopub.status.busy": "2023-06-19T15:59:07.802910Z",
     "iopub.status.idle": "2023-06-19T15:59:08.677728Z",
     "shell.execute_reply": "2023-06-19T15:59:08.677226Z",
     "shell.execute_reply.started": "2023-06-19T15:59:07.803072Z"
    }
   },
   "outputs": [
    {
     "name": "stdout",
     "output_type": "stream",
     "text": [
      "predict_model: 0\n"
     ]
    },
    {
     "data": {
      "text/html": [
       "<div>\n",
       "<style scoped>\n",
       "    .dataframe tbody tr th:only-of-type {\n",
       "        vertical-align: middle;\n",
       "    }\n",
       "\n",
       "    .dataframe tbody tr th {\n",
       "        vertical-align: top;\n",
       "    }\n",
       "\n",
       "    .dataframe thead th {\n",
       "        text-align: right;\n",
       "    }\n",
       "</style>\n",
       "<table border=\"1\" class=\"dataframe\">\n",
       "  <thead>\n",
       "    <tr style=\"text-align: right;\">\n",
       "      <th></th>\n",
       "      <th>class</th>\n",
       "      <th>class_pred</th>\n",
       "      <th>sepal_length_cm</th>\n",
       "      <th>sepal_width_cm</th>\n",
       "      <th>petal_length_cm</th>\n",
       "      <th>petal_width_cm</th>\n",
       "      <th>class_prob</th>\n",
       "      <th>class_prob</th>\n",
       "      <th>class_prob_Iris-versicolor</th>\n",
       "      <th>class_prob_Iris-virginica</th>\n",
       "      <th>class_prob_Iris-setosa</th>\n",
       "    </tr>\n",
       "  </thead>\n",
       "  <tbody>\n",
       "    <tr>\n",
       "      <th>0</th>\n",
       "      <td>Iris-setosa</td>\n",
       "      <td>Iris-setosa</td>\n",
       "      <td>4.9</td>\n",
       "      <td>3.0</td>\n",
       "      <td>1.4</td>\n",
       "      <td>0.2</td>\n",
       "      <td>[0.2176058441400528, 0.3319335877895355, 0.450...</td>\n",
       "      <td>0.450461</td>\n",
       "      <td>0.217606</td>\n",
       "      <td>0.331934</td>\n",
       "      <td>0.450461</td>\n",
       "    </tr>\n",
       "    <tr>\n",
       "      <th>2</th>\n",
       "      <td>Iris-setosa</td>\n",
       "      <td>Iris-setosa</td>\n",
       "      <td>4.6</td>\n",
       "      <td>3.1</td>\n",
       "      <td>1.5</td>\n",
       "      <td>0.2</td>\n",
       "      <td>[0.11481817811727524, 0.3134516179561615, 0.57...</td>\n",
       "      <td>0.571730</td>\n",
       "      <td>0.114818</td>\n",
       "      <td>0.313452</td>\n",
       "      <td>0.571730</td>\n",
       "    </tr>\n",
       "    <tr>\n",
       "      <th>3</th>\n",
       "      <td>Iris-setosa</td>\n",
       "      <td>Iris-setosa</td>\n",
       "      <td>5.0</td>\n",
       "      <td>3.6</td>\n",
       "      <td>1.4</td>\n",
       "      <td>0.2</td>\n",
       "      <td>[0.0549631267786026, 0.22532688081264496, 0.71...</td>\n",
       "      <td>0.719710</td>\n",
       "      <td>0.054963</td>\n",
       "      <td>0.225327</td>\n",
       "      <td>0.719710</td>\n",
       "    </tr>\n",
       "    <tr>\n",
       "      <th>4</th>\n",
       "      <td>Iris-setosa</td>\n",
       "      <td>Iris-setosa</td>\n",
       "      <td>5.4</td>\n",
       "      <td>3.9</td>\n",
       "      <td>1.7</td>\n",
       "      <td>0.4</td>\n",
       "      <td>[0.038661081343889236, 0.19573058187961578, 0....</td>\n",
       "      <td>0.765608</td>\n",
       "      <td>0.038661</td>\n",
       "      <td>0.195731</td>\n",
       "      <td>0.765608</td>\n",
       "    </tr>\n",
       "    <tr>\n",
       "      <th>5</th>\n",
       "      <td>Iris-setosa</td>\n",
       "      <td>Iris-setosa</td>\n",
       "      <td>4.6</td>\n",
       "      <td>3.4</td>\n",
       "      <td>1.4</td>\n",
       "      <td>0.3</td>\n",
       "      <td>[0.050444696098566055, 0.28779909014701843, 0....</td>\n",
       "      <td>0.661756</td>\n",
       "      <td>0.050445</td>\n",
       "      <td>0.287799</td>\n",
       "      <td>0.661756</td>\n",
       "    </tr>\n",
       "    <tr>\n",
       "      <th>...</th>\n",
       "      <td>...</td>\n",
       "      <td>...</td>\n",
       "      <td>...</td>\n",
       "      <td>...</td>\n",
       "      <td>...</td>\n",
       "      <td>...</td>\n",
       "      <td>...</td>\n",
       "      <td>...</td>\n",
       "      <td>...</td>\n",
       "      <td>...</td>\n",
       "      <td>...</td>\n",
       "    </tr>\n",
       "    <tr>\n",
       "      <th>141</th>\n",
       "      <td>Iris-virginica</td>\n",
       "      <td>Iris-virginica</td>\n",
       "      <td>5.8</td>\n",
       "      <td>2.7</td>\n",
       "      <td>5.1</td>\n",
       "      <td>1.9</td>\n",
       "      <td>[0.3931487798690796, 0.4126269221305847, 0.194...</td>\n",
       "      <td>0.412627</td>\n",
       "      <td>0.393149</td>\n",
       "      <td>0.412627</td>\n",
       "      <td>0.194224</td>\n",
       "    </tr>\n",
       "    <tr>\n",
       "      <th>144</th>\n",
       "      <td>Iris-virginica</td>\n",
       "      <td>Iris-versicolor</td>\n",
       "      <td>6.7</td>\n",
       "      <td>3.0</td>\n",
       "      <td>5.2</td>\n",
       "      <td>2.3</td>\n",
       "      <td>[0.4539395272731781, 0.4117247462272644, 0.134...</td>\n",
       "      <td>0.453940</td>\n",
       "      <td>0.453940</td>\n",
       "      <td>0.411725</td>\n",
       "      <td>0.134336</td>\n",
       "    </tr>\n",
       "    <tr>\n",
       "      <th>146</th>\n",
       "      <td>Iris-virginica</td>\n",
       "      <td>Iris-versicolor</td>\n",
       "      <td>6.5</td>\n",
       "      <td>3.0</td>\n",
       "      <td>5.2</td>\n",
       "      <td>2.0</td>\n",
       "      <td>[0.4545145630836487, 0.35317176580429077, 0.19...</td>\n",
       "      <td>0.454515</td>\n",
       "      <td>0.454515</td>\n",
       "      <td>0.353172</td>\n",
       "      <td>0.192314</td>\n",
       "    </tr>\n",
       "    <tr>\n",
       "      <th>147</th>\n",
       "      <td>Iris-virginica</td>\n",
       "      <td>Iris-virginica</td>\n",
       "      <td>6.2</td>\n",
       "      <td>3.4</td>\n",
       "      <td>5.4</td>\n",
       "      <td>2.3</td>\n",
       "      <td>[0.13322727382183075, 0.49003303050994873, 0.3...</td>\n",
       "      <td>0.490033</td>\n",
       "      <td>0.133227</td>\n",
       "      <td>0.490033</td>\n",
       "      <td>0.376740</td>\n",
       "    </tr>\n",
       "    <tr>\n",
       "      <th>148</th>\n",
       "      <td>Iris-virginica</td>\n",
       "      <td>Iris-virginica</td>\n",
       "      <td>5.9</td>\n",
       "      <td>3.0</td>\n",
       "      <td>5.1</td>\n",
       "      <td>1.8</td>\n",
       "      <td>[0.2828538417816162, 0.39237862825393677, 0.32...</td>\n",
       "      <td>0.392379</td>\n",
       "      <td>0.282854</td>\n",
       "      <td>0.392379</td>\n",
       "      <td>0.324768</td>\n",
       "    </tr>\n",
       "  </tbody>\n",
       "</table>\n",
       "<p>112 rows × 11 columns</p>\n",
       "</div>"
      ],
      "text/plain": [
       "              class       class_pred  sepal_length_cm  sepal_width_cm  \\\n",
       "0       Iris-setosa      Iris-setosa              4.9             3.0   \n",
       "2       Iris-setosa      Iris-setosa              4.6             3.1   \n",
       "3       Iris-setosa      Iris-setosa              5.0             3.6   \n",
       "4       Iris-setosa      Iris-setosa              5.4             3.9   \n",
       "5       Iris-setosa      Iris-setosa              4.6             3.4   \n",
       "..              ...              ...              ...             ...   \n",
       "141  Iris-virginica   Iris-virginica              5.8             2.7   \n",
       "144  Iris-virginica  Iris-versicolor              6.7             3.0   \n",
       "146  Iris-virginica  Iris-versicolor              6.5             3.0   \n",
       "147  Iris-virginica   Iris-virginica              6.2             3.4   \n",
       "148  Iris-virginica   Iris-virginica              5.9             3.0   \n",
       "\n",
       "     petal_length_cm  petal_width_cm  \\\n",
       "0                1.4             0.2   \n",
       "2                1.5             0.2   \n",
       "3                1.4             0.2   \n",
       "4                1.7             0.4   \n",
       "5                1.4             0.3   \n",
       "..               ...             ...   \n",
       "141              5.1             1.9   \n",
       "144              5.2             2.3   \n",
       "146              5.2             2.0   \n",
       "147              5.4             2.3   \n",
       "148              5.1             1.8   \n",
       "\n",
       "                                            class_prob  class_prob  \\\n",
       "0    [0.2176058441400528, 0.3319335877895355, 0.450...    0.450461   \n",
       "2    [0.11481817811727524, 0.3134516179561615, 0.57...    0.571730   \n",
       "3    [0.0549631267786026, 0.22532688081264496, 0.71...    0.719710   \n",
       "4    [0.038661081343889236, 0.19573058187961578, 0....    0.765608   \n",
       "5    [0.050444696098566055, 0.28779909014701843, 0....    0.661756   \n",
       "..                                                 ...         ...   \n",
       "141  [0.3931487798690796, 0.4126269221305847, 0.194...    0.412627   \n",
       "144  [0.4539395272731781, 0.4117247462272644, 0.134...    0.453940   \n",
       "146  [0.4545145630836487, 0.35317176580429077, 0.19...    0.454515   \n",
       "147  [0.13322727382183075, 0.49003303050994873, 0.3...    0.490033   \n",
       "148  [0.2828538417816162, 0.39237862825393677, 0.32...    0.392379   \n",
       "\n",
       "     class_prob_Iris-versicolor  class_prob_Iris-virginica  \\\n",
       "0                      0.217606                   0.331934   \n",
       "2                      0.114818                   0.313452   \n",
       "3                      0.054963                   0.225327   \n",
       "4                      0.038661                   0.195731   \n",
       "5                      0.050445                   0.287799   \n",
       "..                          ...                        ...   \n",
       "141                    0.393149                   0.412627   \n",
       "144                    0.453940                   0.411725   \n",
       "146                    0.454515                   0.353172   \n",
       "147                    0.133227                   0.490033   \n",
       "148                    0.282854                   0.392379   \n",
       "\n",
       "     class_prob_Iris-setosa  \n",
       "0                  0.450461  \n",
       "2                  0.571730  \n",
       "3                  0.719710  \n",
       "4                  0.765608  \n",
       "5                  0.661756  \n",
       "..                      ...  \n",
       "141                0.194224  \n",
       "144                0.134336  \n",
       "146                0.192314  \n",
       "147                0.376740  \n",
       "148                0.324768  \n",
       "\n",
       "[112 rows x 11 columns]"
      ]
     },
     "execution_count": 40,
     "metadata": {},
     "output_type": "execute_result"
    }
   ],
   "source": [
    "# load_model\n",
    "predict_model = len(configs)-1\n",
    "print('predict_model:',predict_model)\n",
    "ludwig_job.load_model(predict_model)\n",
    "\n",
    "# data\n",
    "data_sample = pak.sample(data_df, predicts_size)\n",
    "\n",
    "# predict\n",
    "data_sample = ludwig_job.predict(data_sample)\n",
    "data_sample"
   ]
  },
  {
   "cell_type": "markdown",
   "metadata": {
    "id": "fJQNbEcpl-nm"
   },
   "source": [
    "## Colab: Copy back"
   ]
  },
  {
   "cell_type": "code",
   "execution_count": 41,
   "metadata": {
    "execution": {
     "iopub.execute_input": "2023-06-19T15:59:08.678697Z",
     "iopub.status.busy": "2023-06-19T15:59:08.678437Z",
     "iopub.status.idle": "2023-06-19T15:59:08.725240Z",
     "shell.execute_reply": "2023-06-19T15:59:08.724585Z",
     "shell.execute_reply.started": "2023-06-19T15:59:08.678674Z"
    }
   },
   "outputs": [
    {
     "name": "stdout",
     "output_type": "stream",
     "text": [
      "Stop Time:  17:59:08\n",
      "Elapsed:    5 secs\n"
     ]
    },
    {
     "data": {
      "text/html": [
       "<img src onerror=\"var cell = this.closest('.jp-CodeCell');var editor = cell.querySelector('.jp-Editor');editor.style.background='DarkGray';this.parentNode.removeChild(this)\">"
      ],
      "text/plain": [
       "<IPython.core.display.HTML object>"
      ]
     },
     "metadata": {},
     "output_type": "display_data"
    }
   ],
   "source": [
    "if not environment['in_colab']:\n",
    "    raise Stop"
   ]
  },
  {
   "cell_type": "code",
   "execution_count": null,
   "metadata": {
    "colab": {
     "base_uri": "https://localhost:8080/"
    },
    "execution": {
     "iopub.status.busy": "2023-06-19T15:59:08.725723Z",
     "iopub.status.idle": "2023-06-19T15:59:08.725909Z",
     "shell.execute_reply": "2023-06-19T15:59:08.725823Z",
     "shell.execute_reply.started": "2023-06-19T15:59:08.725813Z"
    },
    "executionInfo": {
     "elapsed": 1692,
     "status": "ok",
     "timestamp": 1686256133157,
     "user": {
      "displayName": "Familie Klippstein",
      "userId": "08973939190628445877"
     },
     "user_tz": -120
    },
    "id": "uHW7Ko-NslUa",
    "outputId": "590edae0-b15b-401a-c208-1c701e4668f5"
   },
   "outputs": [],
   "source": [
    "# mount\n",
    "if environment['in_colab']:\n",
    "    from google.colab import drive\n",
    "    drive.mount('/content/drive')  "
   ]
  },
  {
   "cell_type": "code",
   "execution_count": null,
   "metadata": {
    "colab": {
     "base_uri": "https://localhost:8080/"
    },
    "execution": {
     "iopub.status.busy": "2023-06-19T15:59:08.726632Z",
     "iopub.status.idle": "2023-06-19T15:59:08.726816Z",
     "shell.execute_reply": "2023-06-19T15:59:08.726731Z",
     "shell.execute_reply.started": "2023-06-19T15:59:08.726721Z"
    },
    "executionInfo": {
     "elapsed": 1575,
     "status": "ok",
     "timestamp": 1686256600179,
     "user": {
      "displayName": "Familie Klippstein",
      "userId": "08973939190628445877"
     },
     "user_tz": -120
    },
    "id": "meeL3dGNmCaL",
    "outputId": "4becf288-c76a-4978-8524-5d4b3c4e0175"
   },
   "outputs": [],
   "source": [
    "# mount\n",
    "if environment['in_colab']:\n",
    "    from google.colab import drive\n",
    "    drive.mount('/content/drive')  "
   ]
  },
  {
   "cell_type": "code",
   "execution_count": null,
   "metadata": {
    "colab": {
     "base_uri": "https://localhost:8080/"
    },
    "execution": {
     "iopub.status.busy": "2023-06-19T15:59:08.727308Z",
     "iopub.status.idle": "2023-06-19T15:59:08.727556Z",
     "shell.execute_reply": "2023-06-19T15:59:08.727437Z",
     "shell.execute_reply.started": "2023-06-19T15:59:08.727406Z"
    },
    "executionInfo": {
     "elapsed": 380,
     "status": "ok",
     "timestamp": 1686256600550,
     "user": {
      "displayName": "Familie Klippstein",
      "userId": "08973939190628445877"
     },
     "user_tz": -120
    },
    "id": "OVs054v5nE-W",
    "outputId": "9ca81e32-dca0-47a7-bdb8-253feb45c119"
   },
   "outputs": [],
   "source": [
    "if environment['in_colab']:\n",
    "    !ls"
   ]
  },
  {
   "cell_type": "code",
   "execution_count": null,
   "metadata": {
    "colab": {
     "base_uri": "https://localhost:8080/"
    },
    "execution": {
     "iopub.status.busy": "2023-06-19T15:59:08.728058Z",
     "iopub.status.idle": "2023-06-19T15:59:08.728235Z",
     "shell.execute_reply": "2023-06-19T15:59:08.728151Z",
     "shell.execute_reply.started": "2023-06-19T15:59:08.728141Z"
    },
    "executionInfo": {
     "elapsed": 23,
     "status": "ok",
     "timestamp": 1686256600552,
     "user": {
      "displayName": "Familie Klippstein",
      "userId": "08973939190628445877"
     },
     "user_tz": -120
    },
    "id": "M0AjzScGnJKF",
    "outputId": "c8524dfc-63c4-47c7-b88a-5b87bb2c8e2f"
   },
   "outputs": [],
   "source": [
    "if environment['in_colab']:\n",
    "    !ls results"
   ]
  },
  {
   "cell_type": "code",
   "execution_count": null,
   "metadata": {
    "execution": {
     "iopub.status.busy": "2023-06-19T15:59:08.728954Z",
     "iopub.status.idle": "2023-06-19T15:59:08.729139Z",
     "shell.execute_reply": "2023-06-19T15:59:08.729054Z",
     "shell.execute_reply.started": "2023-06-19T15:59:08.729044Z"
    },
    "executionInfo": {
     "elapsed": 2378,
     "status": "ok",
     "timestamp": 1686256602921,
     "user": {
      "displayName": "Familie Klippstein",
      "userId": "08973939190628445877"
     },
     "user_tz": -120
    },
    "id": "fPesu0Nhm06i"
   },
   "outputs": [],
   "source": [
    "# results: copy to GDrive\n",
    "if environment['in_colab']:\n",
    "  results_path = gdrive_base + '/results'\n",
    "  !cp -a results $results_path \n",
    "  !cp train_log*.csv $gdrive_base "
   ]
  },
  {
   "cell_type": "code",
   "execution_count": null,
   "metadata": {
    "colab": {
     "base_uri": "https://localhost:8080/"
    },
    "execution": {
     "iopub.status.busy": "2023-06-19T15:59:08.729745Z",
     "iopub.status.idle": "2023-06-19T15:59:08.729926Z",
     "shell.execute_reply": "2023-06-19T15:59:08.729841Z",
     "shell.execute_reply.started": "2023-06-19T15:59:08.729831Z"
    },
    "executionInfo": {
     "elapsed": 14,
     "status": "ok",
     "timestamp": 1686256964163,
     "user": {
      "displayName": "Familie Klippstein",
      "userId": "08973939190628445877"
     },
     "user_tz": -120
    },
    "id": "-GyVispFp1fh",
    "outputId": "db117307-3146-4688-d909-c5c419e7c637"
   },
   "outputs": [],
   "source": [
    "if environment['in_colab']:\n",
    "    print('Copy back manually:')\n",
    "    print('1) This ipynb-File, if changed')\n",
    "    print('2) results directory')\n",
    "    print('3) train_log file')    \n",
    "else:\n",
    "    print('finished')"
   ]
  },
  {
   "cell_type": "code",
   "execution_count": null,
   "metadata": {
    "colab": {
     "base_uri": "https://localhost:8080/",
     "height": 115
    },
    "execution": {
     "iopub.status.busy": "2023-06-19T15:59:08.730443Z",
     "iopub.status.idle": "2023-06-19T15:59:08.730647Z",
     "shell.execute_reply": "2023-06-19T15:59:08.730539Z",
     "shell.execute_reply.started": "2023-06-19T15:59:08.730529Z"
    },
    "executionInfo": {
     "elapsed": 32,
     "status": "error",
     "timestamp": 1686256603816,
     "user": {
      "displayName": "Familie Klippstein",
      "userId": "08973939190628445877"
     },
     "user_tz": -120
    },
    "id": "QmJKsnOlrJl_",
    "outputId": "4eb142c5-8f2f-4b60-b8a8-bdbd2682e5b3"
   },
   "outputs": [],
   "source": [
    "raise Stop"
   ]
  }
 ],
 "metadata": {
  "accelerator": "GPU",
  "colab": {
   "provenance": []
  },
  "kernelspec": {
   "display_name": "Python 3 (ipykernel)",
   "language": "python",
   "name": "python3"
  },
  "language_info": {
   "codemirror_mode": {
    "name": "ipython",
    "version": 3
   },
   "file_extension": ".py",
   "mimetype": "text/x-python",
   "name": "python",
   "nbconvert_exporter": "python",
   "pygments_lexer": "ipython3",
   "version": "3.9.15"
  }
 },
 "nbformat": 4,
 "nbformat_minor": 4
}

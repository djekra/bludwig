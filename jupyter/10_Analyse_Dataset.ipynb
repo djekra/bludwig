{
 "cells": [
  {
   "cell_type": "markdown",
   "id": "4ac0ce3f-5f53-49d5-aa2d-3d1128df620b",
   "metadata": {},
   "source": [
    "__[Open and try this file online (Colab)](https://colab.research.google.com/github/djekra/bludwig/blob/main/jupyter/10_Analyse_Dataset.ipynb)__"
   ]
  },
  {
   "cell_type": "code",
   "execution_count": 1,
   "id": "081dcaba-ecc8-47eb-9345-fb0c2e8ba6c2",
   "metadata": {
    "execution": {
     "iopub.execute_input": "2023-06-21T14:41:50.256810Z",
     "iopub.status.busy": "2023-06-21T14:41:50.256167Z",
     "iopub.status.idle": "2023-06-21T14:41:51.105255Z",
     "shell.execute_reply": "2023-06-21T14:41:51.104591Z",
     "shell.execute_reply.started": "2023-06-21T14:41:50.256747Z"
    }
   },
   "outputs": [
    {
     "name": "stdout",
     "output_type": "stream",
     "text": [
      "blab init\n",
      "environment['in_colab']     = False\n",
      "environment['dropbox_path'] = /home/me/Data_Linux/Dropbox\n",
      "environment['lib_path']     = /home/me/Data_Linux/Dropbox/31_Projekte/01_Python/libs\n",
      "Start Time: 16:41:50\n"
     ]
    },
    {
     "data": {
      "text/html": [
       "<img src onerror=\"var cell = this.closest('.jp-CodeCell');var editor = cell.querySelector('.jp-Editor');editor.style.background='Beige';this.parentNode.removeChild(this)\">"
      ],
      "text/plain": [
       "<IPython.core.display.HTML object>"
      ]
     },
     "metadata": {},
     "output_type": "display_data"
    }
   ],
   "source": [
    "# blab init\n",
    "try:\n",
    "    import blab\n",
    "except ImportError as e:\n",
    "    !pip install blab\n",
    "    import blab    \n",
    "startup_notebook = blab.blab_startup()\n",
    "%run $startup_notebook "
   ]
  },
  {
   "cell_type": "markdown",
   "id": "1e2b413c-6302-4c39-b4c6-b60a80f59733",
   "metadata": {},
   "source": [
    "# Analyse Dataset\n",
    "* Load and analyse a given dataset from ludwig dataset zoo\n",
    "* Create automatic config"
   ]
  },
  {
   "cell_type": "code",
   "execution_count": 2,
   "id": "20e93f16-512d-4c6f-97bb-3a61a5358458",
   "metadata": {
    "execution": {
     "iopub.execute_input": "2023-06-21T14:41:51.106920Z",
     "iopub.status.busy": "2023-06-21T14:41:51.106426Z",
     "iopub.status.idle": "2023-06-21T14:41:51.123516Z",
     "shell.execute_reply": "2023-06-21T14:41:51.122121Z",
     "shell.execute_reply.started": "2023-06-21T14:41:51.106895Z"
    },
    "executionInfo": {
     "elapsed": 463,
     "status": "ok",
     "timestamp": 1686173335567,
     "user": {
      "displayName": "Familie Klippstein",
      "userId": "08973939190628445877"
     },
     "user_tz": -120
    },
    "id": "wj1f-u_vOvsK"
   },
   "outputs": [
    {
     "data": {
      "text/html": [
       "<img src onerror=\"var cell = this.closest('.jp-CodeCell');var editor = cell.querySelector('.jp-Editor');editor.style.background='Beige';this.parentNode.removeChild(this)\">"
      ],
      "text/plain": [
       "<IPython.core.display.HTML object>"
      ]
     },
     "metadata": {},
     "output_type": "display_data"
    }
   ],
   "source": [
    "# Settings\n",
    "dataset_name = 'electricity' # 'dbpedia'  # load this dataset\n",
    "\n",
    "bgc('Beige')"
   ]
  },
  {
   "cell_type": "code",
   "execution_count": 3,
   "id": "407952e9-5261-4518-b146-45c184195b51",
   "metadata": {
    "colab": {
     "base_uri": "https://localhost:8080/"
    },
    "execution": {
     "iopub.execute_input": "2023-06-21T14:41:51.126419Z",
     "iopub.status.busy": "2023-06-21T14:41:51.125298Z",
     "iopub.status.idle": "2023-06-21T14:41:51.150964Z",
     "shell.execute_reply": "2023-06-21T14:41:51.149967Z",
     "shell.execute_reply.started": "2023-06-21T14:41:51.126386Z"
    },
    "executionInfo": {
     "elapsed": 23608,
     "status": "ok",
     "timestamp": 1686173335132,
     "user": {
      "displayName": "Familie Klippstein",
      "userId": "08973939190628445877"
     },
     "user_tz": -120
    },
    "id": "DiBUpR-GPcys",
    "outputId": "c57587a6-02d9-4fb1-cced-852f95d6c5f7"
   },
   "outputs": [],
   "source": [
    "# Colab? >> Install the latest version of Ludwig\n",
    "if environment['in_colab']:\n",
    "  !pip uninstall -y tensorflow --quiet\n",
    "  !python -m pip install git+https://github.com/ludwig-ai/ludwig.git --quiet \n",
    "  !pip install ptitprince --quiet \n",
    "  !pip install bludwig --quiet "
   ]
  },
  {
   "cell_type": "code",
   "execution_count": 4,
   "id": "a34ca0cb-fcb0-402f-a564-ceae7b29945a",
   "metadata": {
    "colab": {
     "base_uri": "https://localhost:8080/"
    },
    "execution": {
     "iopub.execute_input": "2023-06-21T14:41:51.156833Z",
     "iopub.status.busy": "2023-06-21T14:41:51.155955Z",
     "iopub.status.idle": "2023-06-21T14:42:06.349203Z",
     "shell.execute_reply": "2023-06-21T14:42:06.342789Z",
     "shell.execute_reply.started": "2023-06-21T14:41:51.156785Z"
    },
    "executionInfo": {
     "elapsed": 16727,
     "status": "ok",
     "timestamp": 1686256022749,
     "user": {
      "displayName": "Familie Klippstein",
      "userId": "08973939190628445877"
     },
     "user_tz": -120
    },
    "id": "n3WFMAGxOvsI",
    "outputId": "64989a50-9319-47e9-e8b0-d29a06e19abe"
   },
   "outputs": [],
   "source": [
    "# import \n",
    "import yaml\n",
    "import pandas as pd\n",
    "import pandasklar as pak\n",
    "grid = pak.grid\n",
    "import bludwig"
   ]
  },
  {
   "cell_type": "markdown",
   "id": "afc9517b-8c66-4934-abc6-1d1640bbaaf2",
   "metadata": {
    "execution": {
     "iopub.execute_input": "2023-06-17T05:21:13.426409Z",
     "iopub.status.busy": "2023-06-17T05:21:13.425212Z",
     "iopub.status.idle": "2023-06-17T05:21:13.488749Z",
     "shell.execute_reply": "2023-06-17T05:21:13.488234Z",
     "shell.execute_reply.started": "2023-06-17T05:21:13.426296Z"
    }
   },
   "source": [
    "## load_dataset()"
   ]
  },
  {
   "cell_type": "code",
   "execution_count": 5,
   "id": "0d954c2f-a896-4591-9aad-b8250190eaed",
   "metadata": {
    "execution": {
     "iopub.execute_input": "2023-06-21T14:42:06.361813Z",
     "iopub.status.busy": "2023-06-21T14:42:06.355765Z",
     "iopub.status.idle": "2023-06-21T14:42:06.546085Z",
     "shell.execute_reply": "2023-06-21T14:42:06.545354Z",
     "shell.execute_reply.started": "2023-06-21T14:42:06.361724Z"
    }
   },
   "outputs": [
    {
     "data": {
      "text/plain": [
       "\u001b[0;31mSignature:\u001b[0m \u001b[0mbludwig\u001b[0m\u001b[0;34m.\u001b[0m\u001b[0mload_dataset\u001b[0m\u001b[0;34m(\u001b[0m\u001b[0mdataset_name\u001b[0m\u001b[0;34m,\u001b[0m \u001b[0mverbose\u001b[0m\u001b[0;34m=\u001b[0m\u001b[0;32mTrue\u001b[0m\u001b[0;34m)\u001b[0m\u001b[0;34m\u001b[0m\u001b[0;34m\u001b[0m\u001b[0m\n",
       "\u001b[0;31mDocstring:\u001b[0m\n",
       "Loads a dataset from Ludwig's dataset zoo. \n",
       "* dataset_name: Name of the dataset. Valid names are listed by list_datasets().\n",
       "Returns a DataFrame with training data and a ludwig.dataset_loader.\n",
       "\u001b[0;31mFile:\u001b[0m      ~/Data_Linux/Dropbox/31_Projekte/01_Python/git/bludwig/src/bludwig/helper.py\n",
       "\u001b[0;31mType:\u001b[0m      function"
      ]
     },
     "metadata": {},
     "output_type": "display_data"
    }
   ],
   "source": [
    "?bludwig.load_dataset"
   ]
  },
  {
   "cell_type": "code",
   "execution_count": 6,
   "id": "0857851c-1a5b-4638-9f26-c098fd88a2c3",
   "metadata": {
    "execution": {
     "iopub.execute_input": "2023-06-21T14:42:06.550996Z",
     "iopub.status.busy": "2023-06-21T14:42:06.550745Z",
     "iopub.status.idle": "2023-06-21T14:42:07.051136Z",
     "shell.execute_reply": "2023-06-21T14:42:07.050420Z",
     "shell.execute_reply.started": "2023-06-21T14:42:06.550976Z"
    }
   },
   "outputs": [
    {
     "name": "stdout",
     "output_type": "stream",
     "text": [
      "\n",
      "electricity 1.0\n",
      "Electricity demand dataset. Half-hourly electricity demand in Victoria, Australia during 2014, along with\n",
      "Melbourne temperatures.\n",
      "\n",
      "Source textbook:\n",
      "Forecasting: Principles and Practice\n",
      "    Rob J Hyndman and George Athanasopoulos\n",
      "\n",
      "output_features: [{'name': 'Demand', 'type': 'number'}]\n"
     ]
    },
    {
     "data": {
      "text/html": [
       "<div>\n",
       "<style scoped>\n",
       "    .dataframe tbody tr th:only-of-type {\n",
       "        vertical-align: middle;\n",
       "    }\n",
       "\n",
       "    .dataframe tbody tr th {\n",
       "        vertical-align: top;\n",
       "    }\n",
       "\n",
       "    .dataframe thead th {\n",
       "        text-align: right;\n",
       "    }\n",
       "</style>\n",
       "<table border=\"1\" class=\"dataframe\">\n",
       "  <thead>\n",
       "    <tr style=\"text-align: right;\">\n",
       "      <th></th>\n",
       "      <th>Demand</th>\n",
       "      <th>WorkDay</th>\n",
       "      <th>Temperature</th>\n",
       "    </tr>\n",
       "  </thead>\n",
       "  <tbody>\n",
       "    <tr>\n",
       "      <th>0</th>\n",
       "      <td>3.914647</td>\n",
       "      <td>0</td>\n",
       "      <td>18.200001</td>\n",
       "    </tr>\n",
       "    <tr>\n",
       "      <th>1</th>\n",
       "      <td>3.672550</td>\n",
       "      <td>0</td>\n",
       "      <td>17.900000</td>\n",
       "    </tr>\n",
       "    <tr>\n",
       "      <th>2</th>\n",
       "      <td>3.497539</td>\n",
       "      <td>0</td>\n",
       "      <td>17.600000</td>\n",
       "    </tr>\n",
       "    <tr>\n",
       "      <th>3</th>\n",
       "      <td>3.339145</td>\n",
       "      <td>0</td>\n",
       "      <td>16.799999</td>\n",
       "    </tr>\n",
       "    <tr>\n",
       "      <th>4</th>\n",
       "      <td>3.204313</td>\n",
       "      <td>0</td>\n",
       "      <td>16.299999</td>\n",
       "    </tr>\n",
       "    <tr>\n",
       "      <th>...</th>\n",
       "      <td>...</td>\n",
       "      <td>...</td>\n",
       "      <td>...</td>\n",
       "    </tr>\n",
       "    <tr>\n",
       "      <th>17515</th>\n",
       "      <td>3.724836</td>\n",
       "      <td>1</td>\n",
       "      <td>17.700001</td>\n",
       "    </tr>\n",
       "    <tr>\n",
       "      <th>17516</th>\n",
       "      <td>3.761887</td>\n",
       "      <td>1</td>\n",
       "      <td>17.299999</td>\n",
       "    </tr>\n",
       "    <tr>\n",
       "      <th>17517</th>\n",
       "      <td>3.809415</td>\n",
       "      <td>1</td>\n",
       "      <td>17.100000</td>\n",
       "    </tr>\n",
       "    <tr>\n",
       "      <th>17518</th>\n",
       "      <td>4.135946</td>\n",
       "      <td>1</td>\n",
       "      <td>16.700001</td>\n",
       "    </tr>\n",
       "    <tr>\n",
       "      <th>17519</th>\n",
       "      <td>4.217047</td>\n",
       "      <td>1</td>\n",
       "      <td>16.600000</td>\n",
       "    </tr>\n",
       "  </tbody>\n",
       "</table>\n",
       "<p>17520 rows × 3 columns</p>\n",
       "</div>"
      ],
      "text/plain": [
       "         Demand  WorkDay  Temperature\n",
       "0      3.914647        0    18.200001\n",
       "1      3.672550        0    17.900000\n",
       "2      3.497539        0    17.600000\n",
       "3      3.339145        0    16.799999\n",
       "4      3.204313        0    16.299999\n",
       "...         ...      ...          ...\n",
       "17515  3.724836        1    17.700001\n",
       "17516  3.761887        1    17.299999\n",
       "17517  3.809415        1    17.100000\n",
       "17518  4.135946        1    16.700001\n",
       "17519  4.217047        1    16.600000\n",
       "\n",
       "[17520 rows x 3 columns]"
      ]
     },
     "execution_count": 6,
     "metadata": {},
     "output_type": "execute_result"
    }
   ],
   "source": [
    "# load_dataset\n",
    "data_df, dataset_loader = bludwig.load_dataset(dataset_name)\n",
    "data_df"
   ]
  },
  {
   "cell_type": "markdown",
   "id": "9f92cbda-7af7-4d08-8be9-7eb6fd4ef0e0",
   "metadata": {
    "execution": {
     "iopub.execute_input": "2023-06-17T05:21:13.426409Z",
     "iopub.status.busy": "2023-06-17T05:21:13.425212Z",
     "iopub.status.idle": "2023-06-17T05:21:13.488749Z",
     "shell.execute_reply": "2023-06-17T05:21:13.488234Z",
     "shell.execute_reply.started": "2023-06-17T05:21:13.426296Z"
    }
   },
   "source": [
    "## analyse_cols()"
   ]
  },
  {
   "cell_type": "code",
   "execution_count": 7,
   "id": "67d11fe0-501c-4b9a-a73c-b0183d25fd9f",
   "metadata": {
    "execution": {
     "iopub.execute_input": "2023-06-21T14:42:07.052427Z",
     "iopub.status.busy": "2023-06-21T14:42:07.052058Z",
     "iopub.status.idle": "2023-06-21T14:42:07.129263Z",
     "shell.execute_reply": "2023-06-21T14:42:07.128462Z",
     "shell.execute_reply.started": "2023-06-21T14:42:07.052405Z"
    }
   },
   "outputs": [
    {
     "data": {
      "text/plain": [
       "\u001b[0;31mSignature:\u001b[0m \u001b[0mbludwig\u001b[0m\u001b[0;34m.\u001b[0m\u001b[0manalyse_cols\u001b[0m\u001b[0;34m(\u001b[0m\u001b[0mdata_df\u001b[0m\u001b[0;34m,\u001b[0m \u001b[0mdataset_loader\u001b[0m\u001b[0;34m=\u001b[0m\u001b[0;32mNone\u001b[0m\u001b[0;34m,\u001b[0m \u001b[0moutput_features_size\u001b[0m\u001b[0;34m=\u001b[0m\u001b[0;36m1\u001b[0m\u001b[0;34m)\u001b[0m\u001b[0;34m\u001b[0m\u001b[0;34m\u001b[0m\u001b[0m\n",
       "\u001b[0;31mDocstring:\u001b[0m\n",
       "Analyses training data. \n",
       "The information whether a column is input_feature or output_feature comes either from\n",
       "* dataset_loader (provided by load_dataset), or from\n",
       "* output_features_size (then it is the first n columns of the DataFrame).\n",
       "If a dataset_loader is provided, output_features_type is taken from config. Otherwise it's guessed.\n",
       "\u001b[0;31mFile:\u001b[0m      ~/Data_Linux/Dropbox/31_Projekte/01_Python/git/bludwig/src/bludwig/helper.py\n",
       "\u001b[0;31mType:\u001b[0m      function"
      ]
     },
     "metadata": {},
     "output_type": "display_data"
    }
   ],
   "source": [
    "?bludwig.analyse_cols"
   ]
  },
  {
   "cell_type": "code",
   "execution_count": 8,
   "id": "ac5713c6-7b6d-4531-a118-f92e9e2bf496",
   "metadata": {
    "execution": {
     "iopub.execute_input": "2023-06-21T14:42:07.130715Z",
     "iopub.status.busy": "2023-06-21T14:42:07.130437Z",
     "iopub.status.idle": "2023-06-21T14:42:07.813655Z",
     "shell.execute_reply": "2023-06-21T14:42:07.810574Z",
     "shell.execute_reply.started": "2023-06-21T14:42:07.130689Z"
    }
   },
   "outputs": [
    {
     "name": "stdout",
     "output_type": "stream",
     "text": [
      "3 rows\n"
     ]
    },
    {
     "data": {
      "text/html": [
       "\n",
       "        <iframe\n",
       "            width=\"100%\"\n",
       "            height=\"475\"\n",
       "            src=\"http://pop-os:40007/dtale/iframe/1\"\n",
       "            frameborder=\"0\"\n",
       "            allowfullscreen\n",
       "            \n",
       "        ></iframe>\n",
       "        "
      ],
      "text/plain": [
       "<IPython.lib.display.IFrame at 0x7febbedb57b0>"
      ]
     },
     "metadata": {},
     "output_type": "display_data"
    },
    {
     "data": {
      "text/plain": []
     },
     "execution_count": 8,
     "metadata": {},
     "output_type": "execute_result"
    }
   ],
   "source": [
    "# analyse_cols with dataset_loader\n",
    "analyse = bludwig.analyse_cols(data_df, dataset_loader)\n",
    "grid(analyse)"
   ]
  },
  {
   "cell_type": "code",
   "execution_count": 9,
   "id": "819dd085-9b7e-4c32-8015-cf4e4100db70",
   "metadata": {
    "execution": {
     "iopub.execute_input": "2023-06-21T14:42:07.826000Z",
     "iopub.status.busy": "2023-06-21T14:42:07.821909Z",
     "iopub.status.idle": "2023-06-21T14:42:08.043599Z",
     "shell.execute_reply": "2023-06-21T14:42:08.041421Z",
     "shell.execute_reply.started": "2023-06-21T14:42:07.822229Z"
    }
   },
   "outputs": [],
   "source": [
    "# analyse_cols with output_features_size\n",
    "#analyse = bludwig.analyse_cols(data_df, output_features_size=1)\n",
    "#grid(analyse)"
   ]
  },
  {
   "cell_type": "markdown",
   "id": "10a9f3bb-b904-4555-a88a-1d106bef7ac1",
   "metadata": {
    "execution": {
     "iopub.execute_input": "2023-06-17T05:21:13.426409Z",
     "iopub.status.busy": "2023-06-17T05:21:13.425212Z",
     "iopub.status.idle": "2023-06-17T05:21:13.488749Z",
     "shell.execute_reply": "2023-06-17T05:21:13.488234Z",
     "shell.execute_reply.started": "2023-06-17T05:21:13.426296Z"
    }
   },
   "source": [
    "## config0()"
   ]
  },
  {
   "cell_type": "code",
   "execution_count": 10,
   "id": "d9bc2c20-cc88-437a-9835-a7e1b2790a20",
   "metadata": {
    "execution": {
     "iopub.execute_input": "2023-06-21T14:42:08.058410Z",
     "iopub.status.busy": "2023-06-21T14:42:08.053564Z",
     "iopub.status.idle": "2023-06-21T14:42:08.191644Z",
     "shell.execute_reply": "2023-06-21T14:42:08.186538Z",
     "shell.execute_reply.started": "2023-06-21T14:42:08.058346Z"
    }
   },
   "outputs": [
    {
     "data": {
      "text/plain": [
       "\u001b[0;31mSignature:\u001b[0m\n",
       "\u001b[0mbludwig\u001b[0m\u001b[0;34m.\u001b[0m\u001b[0mconfig0\u001b[0m\u001b[0;34m(\u001b[0m\u001b[0;34m\u001b[0m\n",
       "\u001b[0;34m\u001b[0m    \u001b[0mdata_df\u001b[0m\u001b[0;34m,\u001b[0m\u001b[0;34m\u001b[0m\n",
       "\u001b[0;34m\u001b[0m    \u001b[0mdataset_loader\u001b[0m\u001b[0;34m=\u001b[0m\u001b[0;32mNone\u001b[0m\u001b[0;34m,\u001b[0m\u001b[0;34m\u001b[0m\n",
       "\u001b[0;34m\u001b[0m    \u001b[0moutput_features_size\u001b[0m\u001b[0;34m=\u001b[0m\u001b[0;36m1\u001b[0m\u001b[0;34m,\u001b[0m\u001b[0;34m\u001b[0m\n",
       "\u001b[0;34m\u001b[0m    \u001b[0muse_yaml\u001b[0m\u001b[0;34m=\u001b[0m\u001b[0;32mTrue\u001b[0m\u001b[0;34m,\u001b[0m\u001b[0;34m\u001b[0m\n",
       "\u001b[0;34m\u001b[0m\u001b[0;34m)\u001b[0m\u001b[0;34m\u001b[0m\u001b[0;34m\u001b[0m\u001b[0m\n",
       "\u001b[0;31mDocstring:\u001b[0m\n",
       "Creates a default config for a given DataFrame. To identify the output_features, use\n",
       "* dataset_loader or \n",
       "* output_features_size as in analyse_cols().\n",
       "\u001b[0;31mFile:\u001b[0m      ~/Data_Linux/Dropbox/31_Projekte/01_Python/git/bludwig/src/bludwig/helper.py\n",
       "\u001b[0;31mType:\u001b[0m      function"
      ]
     },
     "metadata": {},
     "output_type": "display_data"
    }
   ],
   "source": [
    "?bludwig.config0"
   ]
  },
  {
   "cell_type": "code",
   "execution_count": 11,
   "id": "69df8aa7-c281-4b59-b0cb-65484ddf18d5",
   "metadata": {
    "execution": {
     "iopub.execute_input": "2023-06-21T14:42:08.206840Z",
     "iopub.status.busy": "2023-06-21T14:42:08.199578Z",
     "iopub.status.idle": "2023-06-21T14:42:08.557163Z",
     "shell.execute_reply": "2023-06-21T14:42:08.554729Z",
     "shell.execute_reply.started": "2023-06-21T14:42:08.206741Z"
    }
   },
   "outputs": [
    {
     "name": "stdout",
     "output_type": "stream",
     "text": [
      "input_features:\n",
      "- name: WorkDay\n",
      "  type: binary\n",
      "- name: Temperature\n",
      "  type: number\n",
      "output_features:\n",
      "- name: Demand\n",
      "  type: number\n",
      "\n"
     ]
    }
   ],
   "source": [
    "# config0 with dataset_loader\n",
    "print(bludwig.config0(data_df, dataset_loader))"
   ]
  },
  {
   "cell_type": "code",
   "execution_count": 12,
   "id": "6503fc2c-ebe7-410e-be99-4165703df54e",
   "metadata": {
    "execution": {
     "iopub.execute_input": "2023-06-21T14:42:08.563385Z",
     "iopub.status.busy": "2023-06-21T14:42:08.560135Z",
     "iopub.status.idle": "2023-06-21T14:42:08.640278Z",
     "shell.execute_reply": "2023-06-21T14:42:08.639138Z",
     "shell.execute_reply.started": "2023-06-21T14:42:08.563345Z"
    }
   },
   "outputs": [],
   "source": [
    "# config0 with output_features_size\n",
    "#print(bludwig.config0(data_df, output_features_size=6))"
   ]
  },
  {
   "cell_type": "markdown",
   "id": "71a77351-f84c-4ee4-818b-affcc17a70e0",
   "metadata": {
    "execution": {
     "iopub.execute_input": "2023-06-17T05:21:13.426409Z",
     "iopub.status.busy": "2023-06-17T05:21:13.425212Z",
     "iopub.status.idle": "2023-06-17T05:21:13.488749Z",
     "shell.execute_reply": "2023-06-17T05:21:13.488234Z",
     "shell.execute_reply.started": "2023-06-17T05:21:13.426296Z"
    }
   },
   "source": [
    "## config1()"
   ]
  },
  {
   "cell_type": "code",
   "execution_count": 13,
   "id": "7fcec866-428a-4242-b3c0-28e1d4fa3e0a",
   "metadata": {
    "execution": {
     "iopub.execute_input": "2023-06-21T14:42:08.641299Z",
     "iopub.status.busy": "2023-06-21T14:42:08.641032Z",
     "iopub.status.idle": "2023-06-21T14:42:08.725017Z",
     "shell.execute_reply": "2023-06-21T14:42:08.724123Z",
     "shell.execute_reply.started": "2023-06-21T14:42:08.641273Z"
    }
   },
   "outputs": [
    {
     "data": {
      "text/plain": [
       "\u001b[0;31mSignature:\u001b[0m \u001b[0mbludwig\u001b[0m\u001b[0;34m.\u001b[0m\u001b[0mconfig1\u001b[0m\u001b[0;34m(\u001b[0m\u001b[0mdataset_loader\u001b[0m\u001b[0;34m,\u001b[0m \u001b[0muse_yaml\u001b[0m\u001b[0;34m=\u001b[0m\u001b[0;32mTrue\u001b[0m\u001b[0;34m)\u001b[0m\u001b[0;34m\u001b[0m\u001b[0;34m\u001b[0m\u001b[0m\n",
       "\u001b[0;31mDocstring:\u001b[0m Wrapper for default_model_config from dataset_loader\n",
       "\u001b[0;31mFile:\u001b[0m      ~/Data_Linux/Dropbox/31_Projekte/01_Python/git/bludwig/src/bludwig/helper.py\n",
       "\u001b[0;31mType:\u001b[0m      function"
      ]
     },
     "metadata": {},
     "output_type": "display_data"
    }
   ],
   "source": [
    "?bludwig.config1"
   ]
  },
  {
   "cell_type": "code",
   "execution_count": 14,
   "id": "ac7de3d8-2e6a-41e7-a6de-d7695aefff37",
   "metadata": {
    "execution": {
     "iopub.execute_input": "2023-06-21T14:42:08.726114Z",
     "iopub.status.busy": "2023-06-21T14:42:08.725824Z",
     "iopub.status.idle": "2023-06-21T14:42:08.799391Z",
     "shell.execute_reply": "2023-06-21T14:42:08.798027Z",
     "shell.execute_reply.started": "2023-06-21T14:42:08.726085Z"
    }
   },
   "outputs": [
    {
     "name": "stdout",
     "output_type": "stream",
     "text": [
      "\n"
     ]
    }
   ],
   "source": [
    "# config1 with dataset_loader\n",
    "print(bludwig.config1(dataset_loader))"
   ]
  }
 ],
 "metadata": {
  "kernelspec": {
   "display_name": "Python 3 (ipykernel)",
   "language": "python",
   "name": "python3"
  },
  "language_info": {
   "codemirror_mode": {
    "name": "ipython",
    "version": 3
   },
   "file_extension": ".py",
   "mimetype": "text/x-python",
   "name": "python",
   "nbconvert_exporter": "python",
   "pygments_lexer": "ipython3",
   "version": "3.10.11"
  }
 },
 "nbformat": 4,
 "nbformat_minor": 5
}

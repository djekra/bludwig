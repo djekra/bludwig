{
 "cells": [
  {
   "cell_type": "markdown",
   "id": "4ac0ce3f-5f53-49d5-aa2d-3d1128df620b",
   "metadata": {},
   "source": [
    "__[Open and try this file online (Colab)](https://colab.research.google.com/github/djekra/bludwig/blob/master/jupyter/10_Analyse_Dataset.ipynb)__"
   ]
  },
  {
   "cell_type": "code",
   "execution_count": 1,
   "id": "081dcaba-ecc8-47eb-9345-fb0c2e8ba6c2",
   "metadata": {
    "execution": {
     "iopub.execute_input": "2023-06-17T14:55:20.770397Z",
     "iopub.status.busy": "2023-06-17T14:55:20.769878Z",
     "iopub.status.idle": "2023-06-17T14:55:21.660609Z",
     "shell.execute_reply": "2023-06-17T14:55:21.660047Z",
     "shell.execute_reply.started": "2023-06-17T14:55:20.770349Z"
    }
   },
   "outputs": [
    {
     "name": "stdout",
     "output_type": "stream",
     "text": [
      "blab init\n",
      "environment['in_colab']     = False\n",
      "environment['dropbox_path'] = /home/me/Data_Linux/Dropbox\n",
      "environment['lib_path']     = /home/me/Data_Linux/Dropbox/31_Projekte/01_Python/libs\n",
      "Start Time: 16:55:21\n"
     ]
    },
    {
     "data": {
      "text/html": [
       "<img src onerror=\"var cell = this.closest('.jp-CodeCell');var editor = cell.querySelector('.jp-Editor');editor.style.background='Beige';this.parentNode.removeChild(this)\">"
      ],
      "text/plain": [
       "<IPython.core.display.HTML object>"
      ]
     },
     "metadata": {},
     "output_type": "display_data"
    }
   ],
   "source": [
    "# blab init\n",
    "try:\n",
    "    import blab\n",
    "except ImportError as e:\n",
    "    !pip install blab\n",
    "    import blab    \n",
    "startup_notebook = blab.blab_startup()\n",
    "%run $startup_notebook "
   ]
  },
  {
   "cell_type": "markdown",
   "id": "1e2b413c-6302-4c39-b4c6-b60a80f59733",
   "metadata": {},
   "source": [
    "# Analyse Dataset"
   ]
  },
  {
   "cell_type": "code",
   "execution_count": 2,
   "id": "20e93f16-512d-4c6f-97bb-3a61a5358458",
   "metadata": {
    "execution": {
     "iopub.execute_input": "2023-06-17T14:55:21.662344Z",
     "iopub.status.busy": "2023-06-17T14:55:21.662057Z",
     "iopub.status.idle": "2023-06-17T14:55:21.676404Z",
     "shell.execute_reply": "2023-06-17T14:55:21.675662Z",
     "shell.execute_reply.started": "2023-06-17T14:55:21.662322Z"
    },
    "executionInfo": {
     "elapsed": 463,
     "status": "ok",
     "timestamp": 1686173335567,
     "user": {
      "displayName": "Familie Klippstein",
      "userId": "08973939190628445877"
     },
     "user_tz": -120
    },
    "id": "wj1f-u_vOvsK"
   },
   "outputs": [
    {
     "data": {
      "text/html": [
       "<img src onerror=\"var cell = this.closest('.jp-CodeCell');var editor = cell.querySelector('.jp-Editor');editor.style.background='Beige';this.parentNode.removeChild(this)\">"
      ],
      "text/plain": [
       "<IPython.core.display.HTML object>"
      ]
     },
     "metadata": {},
     "output_type": "display_data"
    }
   ],
   "source": [
    "# Settings\n",
    "dataset_name = 'adult_census_income' # 'dbpedia'  # load this dataset\n",
    "\n",
    "bgc('Beige')"
   ]
  },
  {
   "cell_type": "code",
   "execution_count": 25,
   "id": "407952e9-5261-4518-b146-45c184195b51",
   "metadata": {
    "colab": {
     "base_uri": "https://localhost:8080/"
    },
    "execution": {
     "iopub.execute_input": "2023-06-17T19:26:05.834385Z",
     "iopub.status.busy": "2023-06-17T19:26:05.834031Z",
     "iopub.status.idle": "2023-06-17T19:26:05.898859Z",
     "shell.execute_reply": "2023-06-17T19:26:05.897423Z",
     "shell.execute_reply.started": "2023-06-17T19:26:05.834363Z"
    },
    "executionInfo": {
     "elapsed": 23608,
     "status": "ok",
     "timestamp": 1686173335132,
     "user": {
      "displayName": "Familie Klippstein",
      "userId": "08973939190628445877"
     },
     "user_tz": -120
    },
    "id": "DiBUpR-GPcys",
    "outputId": "c57587a6-02d9-4fb1-cced-852f95d6c5f7"
   },
   "outputs": [],
   "source": [
    "# Colab? >> Install the latest version of Ludwig\n",
    "if environment['in_colab']:\n",
    "  !pip uninstall -y tensorflow --quiet\n",
    "  !python -m pip install git+https://github.com/ludwig-ai/ludwig.git --quiet \n",
    "  !pip install ptitprince --quiet \n",
    "  !pip install bludwig --quiet "
   ]
  },
  {
   "cell_type": "code",
   "execution_count": 3,
   "id": "a34ca0cb-fcb0-402f-a564-ceae7b29945a",
   "metadata": {
    "colab": {
     "base_uri": "https://localhost:8080/"
    },
    "execution": {
     "iopub.execute_input": "2023-06-17T14:55:21.681315Z",
     "iopub.status.busy": "2023-06-17T14:55:21.679237Z",
     "iopub.status.idle": "2023-06-17T14:55:35.012869Z",
     "shell.execute_reply": "2023-06-17T14:55:35.012208Z",
     "shell.execute_reply.started": "2023-06-17T14:55:21.681271Z"
    },
    "executionInfo": {
     "elapsed": 16727,
     "status": "ok",
     "timestamp": 1686256022749,
     "user": {
      "displayName": "Familie Klippstein",
      "userId": "08973939190628445877"
     },
     "user_tz": -120
    },
    "id": "n3WFMAGxOvsI",
    "outputId": "64989a50-9319-47e9-e8b0-d29a06e19abe"
   },
   "outputs": [],
   "source": [
    "# import \n",
    "import yaml\n",
    "import pandas as pd\n",
    "import pandasklar as pak\n",
    "grid = pak.grid\n",
    "import bludwig"
   ]
  },
  {
   "cell_type": "markdown",
   "id": "afc9517b-8c66-4934-abc6-1d1640bbaaf2",
   "metadata": {
    "execution": {
     "iopub.execute_input": "2023-06-17T05:21:13.426409Z",
     "iopub.status.busy": "2023-06-17T05:21:13.425212Z",
     "iopub.status.idle": "2023-06-17T05:21:13.488749Z",
     "shell.execute_reply": "2023-06-17T05:21:13.488234Z",
     "shell.execute_reply.started": "2023-06-17T05:21:13.426296Z"
    }
   },
   "source": [
    "## load_dataset()"
   ]
  },
  {
   "cell_type": "code",
   "execution_count": 4,
   "id": "0d954c2f-a896-4591-9aad-b8250190eaed",
   "metadata": {
    "execution": {
     "iopub.execute_input": "2023-06-17T14:55:35.014223Z",
     "iopub.status.busy": "2023-06-17T14:55:35.013658Z",
     "iopub.status.idle": "2023-06-17T14:55:35.112249Z",
     "shell.execute_reply": "2023-06-17T14:55:35.111001Z",
     "shell.execute_reply.started": "2023-06-17T14:55:35.014199Z"
    }
   },
   "outputs": [
    {
     "data": {
      "text/plain": [
       "\u001b[0;31mSignature:\u001b[0m \u001b[0mbludwig\u001b[0m\u001b[0;34m.\u001b[0m\u001b[0mload_dataset\u001b[0m\u001b[0;34m(\u001b[0m\u001b[0mdataset_name\u001b[0m\u001b[0;34m,\u001b[0m \u001b[0mverbose\u001b[0m\u001b[0;34m=\u001b[0m\u001b[0;32mTrue\u001b[0m\u001b[0;34m)\u001b[0m\u001b[0;34m\u001b[0m\u001b[0;34m\u001b[0m\u001b[0m\n",
       "\u001b[0;31mDocstring:\u001b[0m\n",
       "Loads a dataset from Ludwig's dataset zoo. \n",
       "* dataset_name: Name of the dataset. Valid names are listed by list_datasets().\n",
       "Returns a DataFrame with training data and a ludwig.dataset_loader.\n",
       "\u001b[0;31mFile:\u001b[0m      ~/Data_Linux/Dropbox/31_Projekte/01_Python/git/bludwig/src/bludwig/helper.py\n",
       "\u001b[0;31mType:\u001b[0m      function"
      ]
     },
     "metadata": {},
     "output_type": "display_data"
    }
   ],
   "source": [
    "?bludwig.load_dataset"
   ]
  },
  {
   "cell_type": "code",
   "execution_count": 5,
   "id": "0857851c-1a5b-4638-9f26-c098fd88a2c3",
   "metadata": {
    "execution": {
     "iopub.execute_input": "2023-06-17T14:55:35.120832Z",
     "iopub.status.busy": "2023-06-17T14:55:35.119543Z",
     "iopub.status.idle": "2023-06-17T14:55:36.725803Z",
     "shell.execute_reply": "2023-06-17T14:55:36.725087Z",
     "shell.execute_reply.started": "2023-06-17T14:55:35.120732Z"
    }
   },
   "outputs": [
    {
     "name": "stdout",
     "output_type": "stream",
     "text": [
      "\n",
      "adult_census_income 1.0\n",
      "Predict whether income exceeds $50K/yr based on census data\n",
      "https://archive.ics.uci.edu/ml/datasets/adult\n",
      "\n",
      "output_features: [{'name': 'income', 'type': 'binary'}]\n"
     ]
    },
    {
     "data": {
      "text/html": [
       "<div>\n",
       "<style scoped>\n",
       "    .dataframe tbody tr th:only-of-type {\n",
       "        vertical-align: middle;\n",
       "    }\n",
       "\n",
       "    .dataframe tbody tr th {\n",
       "        vertical-align: top;\n",
       "    }\n",
       "\n",
       "    .dataframe thead th {\n",
       "        text-align: right;\n",
       "    }\n",
       "</style>\n",
       "<table border=\"1\" class=\"dataframe\">\n",
       "  <thead>\n",
       "    <tr style=\"text-align: right;\">\n",
       "      <th></th>\n",
       "      <th>income</th>\n",
       "      <th>age</th>\n",
       "      <th>workclass</th>\n",
       "      <th>fnlwgt</th>\n",
       "      <th>education</th>\n",
       "      <th>education-num</th>\n",
       "      <th>marital-status</th>\n",
       "      <th>occupation</th>\n",
       "      <th>relationship</th>\n",
       "      <th>race</th>\n",
       "      <th>sex</th>\n",
       "      <th>capital-gain</th>\n",
       "      <th>capital-loss</th>\n",
       "      <th>hours-per-week</th>\n",
       "      <th>native-country</th>\n",
       "      <th>split</th>\n",
       "    </tr>\n",
       "  </thead>\n",
       "  <tbody>\n",
       "    <tr>\n",
       "      <th>0</th>\n",
       "      <td>&lt;=50K</td>\n",
       "      <td>50</td>\n",
       "      <td>Self-emp-not-inc</td>\n",
       "      <td>83311</td>\n",
       "      <td>Bachelors</td>\n",
       "      <td>13</td>\n",
       "      <td>Married-civ-spouse</td>\n",
       "      <td>Exec-managerial</td>\n",
       "      <td>Husband</td>\n",
       "      <td>White</td>\n",
       "      <td>Male</td>\n",
       "      <td>0</td>\n",
       "      <td>0</td>\n",
       "      <td>13</td>\n",
       "      <td>United-States</td>\n",
       "      <td>0</td>\n",
       "    </tr>\n",
       "    <tr>\n",
       "      <th>1</th>\n",
       "      <td>&lt;=50K</td>\n",
       "      <td>38</td>\n",
       "      <td>Private</td>\n",
       "      <td>215646</td>\n",
       "      <td>HS-grad</td>\n",
       "      <td>9</td>\n",
       "      <td>Divorced</td>\n",
       "      <td>Handlers-cleaners</td>\n",
       "      <td>Not-in-family</td>\n",
       "      <td>White</td>\n",
       "      <td>Male</td>\n",
       "      <td>0</td>\n",
       "      <td>0</td>\n",
       "      <td>40</td>\n",
       "      <td>United-States</td>\n",
       "      <td>0</td>\n",
       "    </tr>\n",
       "    <tr>\n",
       "      <th>2</th>\n",
       "      <td>&lt;=50K</td>\n",
       "      <td>53</td>\n",
       "      <td>Private</td>\n",
       "      <td>234721</td>\n",
       "      <td>11th</td>\n",
       "      <td>7</td>\n",
       "      <td>Married-civ-spouse</td>\n",
       "      <td>Handlers-cleaners</td>\n",
       "      <td>Husband</td>\n",
       "      <td>Black</td>\n",
       "      <td>Male</td>\n",
       "      <td>0</td>\n",
       "      <td>0</td>\n",
       "      <td>40</td>\n",
       "      <td>United-States</td>\n",
       "      <td>0</td>\n",
       "    </tr>\n",
       "    <tr>\n",
       "      <th>3</th>\n",
       "      <td>&lt;=50K</td>\n",
       "      <td>28</td>\n",
       "      <td>Private</td>\n",
       "      <td>338409</td>\n",
       "      <td>Bachelors</td>\n",
       "      <td>13</td>\n",
       "      <td>Married-civ-spouse</td>\n",
       "      <td>Prof-specialty</td>\n",
       "      <td>Wife</td>\n",
       "      <td>Black</td>\n",
       "      <td>Female</td>\n",
       "      <td>0</td>\n",
       "      <td>0</td>\n",
       "      <td>40</td>\n",
       "      <td>Cuba</td>\n",
       "      <td>0</td>\n",
       "    </tr>\n",
       "    <tr>\n",
       "      <th>4</th>\n",
       "      <td>&lt;=50K</td>\n",
       "      <td>37</td>\n",
       "      <td>Private</td>\n",
       "      <td>284582</td>\n",
       "      <td>Masters</td>\n",
       "      <td>14</td>\n",
       "      <td>Married-civ-spouse</td>\n",
       "      <td>Exec-managerial</td>\n",
       "      <td>Wife</td>\n",
       "      <td>White</td>\n",
       "      <td>Female</td>\n",
       "      <td>0</td>\n",
       "      <td>0</td>\n",
       "      <td>40</td>\n",
       "      <td>United-States</td>\n",
       "      <td>0</td>\n",
       "    </tr>\n",
       "    <tr>\n",
       "      <th>...</th>\n",
       "      <td>...</td>\n",
       "      <td>...</td>\n",
       "      <td>...</td>\n",
       "      <td>...</td>\n",
       "      <td>...</td>\n",
       "      <td>...</td>\n",
       "      <td>...</td>\n",
       "      <td>...</td>\n",
       "      <td>...</td>\n",
       "      <td>...</td>\n",
       "      <td>...</td>\n",
       "      <td>...</td>\n",
       "      <td>...</td>\n",
       "      <td>...</td>\n",
       "      <td>...</td>\n",
       "      <td>...</td>\n",
       "    </tr>\n",
       "    <tr>\n",
       "      <th>48835</th>\n",
       "      <td>&lt;=50K</td>\n",
       "      <td>39</td>\n",
       "      <td>Private</td>\n",
       "      <td>215419</td>\n",
       "      <td>Bachelors</td>\n",
       "      <td>13</td>\n",
       "      <td>Divorced</td>\n",
       "      <td>Prof-specialty</td>\n",
       "      <td>Not-in-family</td>\n",
       "      <td>White</td>\n",
       "      <td>Female</td>\n",
       "      <td>0</td>\n",
       "      <td>0</td>\n",
       "      <td>36</td>\n",
       "      <td>United-States</td>\n",
       "      <td>2</td>\n",
       "    </tr>\n",
       "    <tr>\n",
       "      <th>48836</th>\n",
       "      <td>&lt;=50K</td>\n",
       "      <td>64</td>\n",
       "      <td>?</td>\n",
       "      <td>321403</td>\n",
       "      <td>HS-grad</td>\n",
       "      <td>9</td>\n",
       "      <td>Widowed</td>\n",
       "      <td>?</td>\n",
       "      <td>Other-relative</td>\n",
       "      <td>Black</td>\n",
       "      <td>Male</td>\n",
       "      <td>0</td>\n",
       "      <td>0</td>\n",
       "      <td>40</td>\n",
       "      <td>United-States</td>\n",
       "      <td>2</td>\n",
       "    </tr>\n",
       "    <tr>\n",
       "      <th>48837</th>\n",
       "      <td>&lt;=50K</td>\n",
       "      <td>38</td>\n",
       "      <td>Private</td>\n",
       "      <td>374983</td>\n",
       "      <td>Bachelors</td>\n",
       "      <td>13</td>\n",
       "      <td>Married-civ-spouse</td>\n",
       "      <td>Prof-specialty</td>\n",
       "      <td>Husband</td>\n",
       "      <td>White</td>\n",
       "      <td>Male</td>\n",
       "      <td>0</td>\n",
       "      <td>0</td>\n",
       "      <td>50</td>\n",
       "      <td>United-States</td>\n",
       "      <td>2</td>\n",
       "    </tr>\n",
       "    <tr>\n",
       "      <th>48838</th>\n",
       "      <td>&lt;=50K</td>\n",
       "      <td>44</td>\n",
       "      <td>Private</td>\n",
       "      <td>83891</td>\n",
       "      <td>Bachelors</td>\n",
       "      <td>13</td>\n",
       "      <td>Divorced</td>\n",
       "      <td>Adm-clerical</td>\n",
       "      <td>Own-child</td>\n",
       "      <td>Asian-Pac-Islander</td>\n",
       "      <td>Male</td>\n",
       "      <td>5455</td>\n",
       "      <td>0</td>\n",
       "      <td>40</td>\n",
       "      <td>United-States</td>\n",
       "      <td>2</td>\n",
       "    </tr>\n",
       "    <tr>\n",
       "      <th>48839</th>\n",
       "      <td>&gt;50K</td>\n",
       "      <td>35</td>\n",
       "      <td>Self-emp-inc</td>\n",
       "      <td>182148</td>\n",
       "      <td>Bachelors</td>\n",
       "      <td>13</td>\n",
       "      <td>Married-civ-spouse</td>\n",
       "      <td>Exec-managerial</td>\n",
       "      <td>Husband</td>\n",
       "      <td>White</td>\n",
       "      <td>Male</td>\n",
       "      <td>0</td>\n",
       "      <td>0</td>\n",
       "      <td>60</td>\n",
       "      <td>United-States</td>\n",
       "      <td>2</td>\n",
       "    </tr>\n",
       "  </tbody>\n",
       "</table>\n",
       "<p>48840 rows × 16 columns</p>\n",
       "</div>"
      ],
      "text/plain": [
       "      income  age          workclass  fnlwgt   education  education-num  \\\n",
       "0      <=50K   50   Self-emp-not-inc   83311   Bachelors             13   \n",
       "1      <=50K   38            Private  215646     HS-grad              9   \n",
       "2      <=50K   53            Private  234721        11th              7   \n",
       "3      <=50K   28            Private  338409   Bachelors             13   \n",
       "4      <=50K   37            Private  284582     Masters             14   \n",
       "...      ...  ...                ...     ...         ...            ...   \n",
       "48835  <=50K   39            Private  215419   Bachelors             13   \n",
       "48836  <=50K   64                  ?  321403     HS-grad              9   \n",
       "48837  <=50K   38            Private  374983   Bachelors             13   \n",
       "48838  <=50K   44            Private   83891   Bachelors             13   \n",
       "48839   >50K   35       Self-emp-inc  182148   Bachelors             13   \n",
       "\n",
       "            marital-status          occupation     relationship  \\\n",
       "0       Married-civ-spouse     Exec-managerial          Husband   \n",
       "1                 Divorced   Handlers-cleaners    Not-in-family   \n",
       "2       Married-civ-spouse   Handlers-cleaners          Husband   \n",
       "3       Married-civ-spouse      Prof-specialty             Wife   \n",
       "4       Married-civ-spouse     Exec-managerial             Wife   \n",
       "...                    ...                 ...              ...   \n",
       "48835             Divorced      Prof-specialty    Not-in-family   \n",
       "48836              Widowed                   ?   Other-relative   \n",
       "48837   Married-civ-spouse      Prof-specialty          Husband   \n",
       "48838             Divorced        Adm-clerical        Own-child   \n",
       "48839   Married-civ-spouse     Exec-managerial          Husband   \n",
       "\n",
       "                      race      sex  capital-gain  capital-loss  \\\n",
       "0                    White     Male             0             0   \n",
       "1                    White     Male             0             0   \n",
       "2                    Black     Male             0             0   \n",
       "3                    Black   Female             0             0   \n",
       "4                    White   Female             0             0   \n",
       "...                    ...      ...           ...           ...   \n",
       "48835                White   Female             0             0   \n",
       "48836                Black     Male             0             0   \n",
       "48837                White     Male             0             0   \n",
       "48838   Asian-Pac-Islander     Male          5455             0   \n",
       "48839                White     Male             0             0   \n",
       "\n",
       "       hours-per-week  native-country  split  \n",
       "0                  13   United-States      0  \n",
       "1                  40   United-States      0  \n",
       "2                  40   United-States      0  \n",
       "3                  40            Cuba      0  \n",
       "4                  40   United-States      0  \n",
       "...               ...             ...    ...  \n",
       "48835              36   United-States      2  \n",
       "48836              40   United-States      2  \n",
       "48837              50   United-States      2  \n",
       "48838              40   United-States      2  \n",
       "48839              60   United-States      2  \n",
       "\n",
       "[48840 rows x 16 columns]"
      ]
     },
     "execution_count": 5,
     "metadata": {},
     "output_type": "execute_result"
    }
   ],
   "source": [
    "# load_dataset\n",
    "data_df, dataset_loader = bludwig.load_dataset(dataset_name)\n",
    "data_df"
   ]
  },
  {
   "cell_type": "markdown",
   "id": "9f92cbda-7af7-4d08-8be9-7eb6fd4ef0e0",
   "metadata": {
    "execution": {
     "iopub.execute_input": "2023-06-17T05:21:13.426409Z",
     "iopub.status.busy": "2023-06-17T05:21:13.425212Z",
     "iopub.status.idle": "2023-06-17T05:21:13.488749Z",
     "shell.execute_reply": "2023-06-17T05:21:13.488234Z",
     "shell.execute_reply.started": "2023-06-17T05:21:13.426296Z"
    }
   },
   "source": [
    "## analyse_cols()"
   ]
  },
  {
   "cell_type": "code",
   "execution_count": 6,
   "id": "67d11fe0-501c-4b9a-a73c-b0183d25fd9f",
   "metadata": {
    "execution": {
     "iopub.execute_input": "2023-06-17T14:55:36.728945Z",
     "iopub.status.busy": "2023-06-17T14:55:36.728448Z",
     "iopub.status.idle": "2023-06-17T14:55:36.793325Z",
     "shell.execute_reply": "2023-06-17T14:55:36.789833Z",
     "shell.execute_reply.started": "2023-06-17T14:55:36.728920Z"
    }
   },
   "outputs": [
    {
     "data": {
      "text/plain": [
       "\u001b[0;31mSignature:\u001b[0m \u001b[0mbludwig\u001b[0m\u001b[0;34m.\u001b[0m\u001b[0manalyse_cols\u001b[0m\u001b[0;34m(\u001b[0m\u001b[0mdata_df\u001b[0m\u001b[0;34m,\u001b[0m \u001b[0mdataset_loader\u001b[0m\u001b[0;34m=\u001b[0m\u001b[0;32mNone\u001b[0m\u001b[0;34m,\u001b[0m \u001b[0moutput_features_size\u001b[0m\u001b[0;34m=\u001b[0m\u001b[0;36m1\u001b[0m\u001b[0;34m)\u001b[0m\u001b[0;34m\u001b[0m\u001b[0;34m\u001b[0m\u001b[0m\n",
       "\u001b[0;31mDocstring:\u001b[0m\n",
       "Analyses training data. \n",
       "The information whether a column is input_feature or output_feature comes either from\n",
       "* dataset_loader (provided by load_dataset), or from\n",
       "* output_features_size (then it is the first n columns of the DataFrame).\n",
       "If a dataset_loader is provided, output_features_type is taken from config. Otherwise it's guessed.\n",
       "\u001b[0;31mFile:\u001b[0m      ~/Data_Linux/Dropbox/31_Projekte/01_Python/git/bludwig/src/bludwig/helper.py\n",
       "\u001b[0;31mType:\u001b[0m      function"
      ]
     },
     "metadata": {},
     "output_type": "display_data"
    }
   ],
   "source": [
    "?bludwig.analyse_cols"
   ]
  },
  {
   "cell_type": "code",
   "execution_count": 7,
   "id": "ac5713c6-7b6d-4531-a118-f92e9e2bf496",
   "metadata": {
    "execution": {
     "iopub.execute_input": "2023-06-17T14:55:36.796317Z",
     "iopub.status.busy": "2023-06-17T14:55:36.795366Z",
     "iopub.status.idle": "2023-06-17T14:55:38.080688Z",
     "shell.execute_reply": "2023-06-17T14:55:38.079912Z",
     "shell.execute_reply.started": "2023-06-17T14:55:36.796238Z"
    }
   },
   "outputs": [
    {
     "name": "stdout",
     "output_type": "stream",
     "text": [
      "15 rows\n"
     ]
    },
    {
     "data": {
      "text/html": [
       "\n",
       "        <iframe\n",
       "            width=\"100%\"\n",
       "            height=\"475\"\n",
       "            src=\"http://pop-os:40002/dtale/iframe/1\"\n",
       "            frameborder=\"0\"\n",
       "            allowfullscreen\n",
       "            \n",
       "        ></iframe>\n",
       "        "
      ],
      "text/plain": [
       "<IPython.lib.display.IFrame at 0x7f528ab6c460>"
      ]
     },
     "metadata": {},
     "output_type": "display_data"
    },
    {
     "data": {
      "text/plain": []
     },
     "execution_count": 7,
     "metadata": {},
     "output_type": "execute_result"
    }
   ],
   "source": [
    "# analyse_cols with dataset_loader\n",
    "analyse = bludwig.analyse_cols(data_df, dataset_loader)\n",
    "grid(analyse)"
   ]
  },
  {
   "cell_type": "code",
   "execution_count": 14,
   "id": "819dd085-9b7e-4c32-8015-cf4e4100db70",
   "metadata": {
    "execution": {
     "iopub.execute_input": "2023-06-17T14:55:47.957362Z",
     "iopub.status.busy": "2023-06-17T14:55:47.954688Z",
     "iopub.status.idle": "2023-06-17T14:55:48.016800Z",
     "shell.execute_reply": "2023-06-17T14:55:48.015888Z",
     "shell.execute_reply.started": "2023-06-17T14:55:47.957300Z"
    }
   },
   "outputs": [
    {
     "name": "stderr",
     "output_type": "stream",
     "text": [
      "2023-06-17 17:55:41,564 - INFO     - Executing shutdown due to inactivity...\n",
      "2023-06-17 17:55:41,576 - INFO     - Executing shutdown...\n",
      "2023-06-17 17:55:41,577 - ERROR    - Exception on /shutdown [GET]\n",
      "Traceback (most recent call last):\n",
      "  File \"/home/me/mambaforge/envs/python_07/lib/python3.10/site-packages/flask/app.py\", line 2529, in wsgi_app\n",
      "    response = self.full_dispatch_request()\n",
      "  File \"/home/me/mambaforge/envs/python_07/lib/python3.10/site-packages/flask/app.py\", line 1825, in full_dispatch_request\n",
      "    rv = self.handle_user_exception(e)\n",
      "  File \"/home/me/mambaforge/envs/python_07/lib/python3.10/site-packages/flask/app.py\", line 1823, in full_dispatch_request\n",
      "    rv = self.dispatch_request()\n",
      "  File \"/home/me/mambaforge/envs/python_07/lib/python3.10/site-packages/flask/app.py\", line 1799, in dispatch_request\n",
      "    return self.ensure_sync(self.view_functions[rule.endpoint])(**view_args)\n",
      "  File \"/home/me/mambaforge/envs/python_07/lib/python3.10/site-packages/dtale/app.py\", line 438, in shutdown\n",
      "    shutdown_server()\n",
      "  File \"/home/me/mambaforge/envs/python_07/lib/python3.10/site-packages/dtale/app.py\", line 424, in shutdown_server\n",
      "    raise RuntimeError(\"Not running with the Werkzeug Server\")\n",
      "RuntimeError: Not running with the Werkzeug Server\n"
     ]
    }
   ],
   "source": [
    "# analyse_cols with output_features_size\n",
    "#analyse = bludwig.analyse_cols(data_df, output_features_size=1)\n",
    "#grid(analyse)"
   ]
  },
  {
   "cell_type": "markdown",
   "id": "10a9f3bb-b904-4555-a88a-1d106bef7ac1",
   "metadata": {
    "execution": {
     "iopub.execute_input": "2023-06-17T05:21:13.426409Z",
     "iopub.status.busy": "2023-06-17T05:21:13.425212Z",
     "iopub.status.idle": "2023-06-17T05:21:13.488749Z",
     "shell.execute_reply": "2023-06-17T05:21:13.488234Z",
     "shell.execute_reply.started": "2023-06-17T05:21:13.426296Z"
    }
   },
   "source": [
    "## config0()"
   ]
  },
  {
   "cell_type": "code",
   "execution_count": 9,
   "id": "d9bc2c20-cc88-437a-9835-a7e1b2790a20",
   "metadata": {
    "execution": {
     "iopub.execute_input": "2023-06-17T14:55:40.186289Z",
     "iopub.status.busy": "2023-06-17T14:55:40.186017Z",
     "iopub.status.idle": "2023-06-17T14:55:40.279845Z",
     "shell.execute_reply": "2023-06-17T14:55:40.278474Z",
     "shell.execute_reply.started": "2023-06-17T14:55:40.186266Z"
    }
   },
   "outputs": [
    {
     "data": {
      "text/plain": [
       "\u001b[0;31mSignature:\u001b[0m\n",
       "\u001b[0mbludwig\u001b[0m\u001b[0;34m.\u001b[0m\u001b[0mconfig0\u001b[0m\u001b[0;34m(\u001b[0m\u001b[0;34m\u001b[0m\n",
       "\u001b[0;34m\u001b[0m    \u001b[0mdata_df\u001b[0m\u001b[0;34m,\u001b[0m\u001b[0;34m\u001b[0m\n",
       "\u001b[0;34m\u001b[0m    \u001b[0mdataset_loader\u001b[0m\u001b[0;34m=\u001b[0m\u001b[0;32mNone\u001b[0m\u001b[0;34m,\u001b[0m\u001b[0;34m\u001b[0m\n",
       "\u001b[0;34m\u001b[0m    \u001b[0moutput_features_size\u001b[0m\u001b[0;34m=\u001b[0m\u001b[0;36m1\u001b[0m\u001b[0;34m,\u001b[0m\u001b[0;34m\u001b[0m\n",
       "\u001b[0;34m\u001b[0m    \u001b[0muse_yaml\u001b[0m\u001b[0;34m=\u001b[0m\u001b[0;32mTrue\u001b[0m\u001b[0;34m,\u001b[0m\u001b[0;34m\u001b[0m\n",
       "\u001b[0;34m\u001b[0m\u001b[0;34m)\u001b[0m\u001b[0;34m\u001b[0m\u001b[0;34m\u001b[0m\u001b[0m\n",
       "\u001b[0;31mDocstring:\u001b[0m\n",
       "Creates a default config for a given DataFrame. To identify the output_features, use\n",
       "* dataset_loader or \n",
       "* output_features_size as in analyse_cols().\n",
       "\u001b[0;31mFile:\u001b[0m      ~/Data_Linux/Dropbox/31_Projekte/01_Python/git/bludwig/src/bludwig/helper.py\n",
       "\u001b[0;31mType:\u001b[0m      function"
      ]
     },
     "metadata": {},
     "output_type": "display_data"
    }
   ],
   "source": [
    "?bludwig.config0"
   ]
  },
  {
   "cell_type": "code",
   "execution_count": 10,
   "id": "69df8aa7-c281-4b59-b0cb-65484ddf18d5",
   "metadata": {
    "execution": {
     "iopub.execute_input": "2023-06-17T14:55:40.284643Z",
     "iopub.status.busy": "2023-06-17T14:55:40.284041Z",
     "iopub.status.idle": "2023-06-17T14:55:41.986923Z",
     "shell.execute_reply": "2023-06-17T14:55:41.984518Z",
     "shell.execute_reply.started": "2023-06-17T14:55:40.284606Z"
    }
   },
   "outputs": [
    {
     "name": "stdout",
     "output_type": "stream",
     "text": [
      "input_features:\n",
      "- name: age\n",
      "  type: number\n",
      "- name: workclass\n",
      "  type: category\n",
      "- name: fnlwgt\n",
      "  type: number\n",
      "- name: education\n",
      "  type: category\n",
      "- name: education-num\n",
      "  type: category\n",
      "- name: marital-status\n",
      "  type: category\n",
      "- name: occupation\n",
      "  type: category\n",
      "- name: relationship\n",
      "  type: category\n",
      "- name: race\n",
      "  type: category\n",
      "- name: sex\n",
      "  type: binary\n",
      "- name: capital-gain\n",
      "  type: number\n",
      "- name: capital-loss\n",
      "  type: number\n",
      "- name: hours-per-week\n",
      "  type: number\n",
      "- name: native-country\n",
      "  type: category\n",
      "output_features:\n",
      "- name: income\n",
      "  type: binary\n",
      "\n"
     ]
    }
   ],
   "source": [
    "# config0 with dataset_loader\n",
    "print(bludwig.config0(data_df, dataset_loader))"
   ]
  },
  {
   "cell_type": "code",
   "execution_count": 11,
   "id": "6503fc2c-ebe7-410e-be99-4165703df54e",
   "metadata": {
    "execution": {
     "iopub.execute_input": "2023-06-17T14:55:41.989913Z",
     "iopub.status.busy": "2023-06-17T14:55:41.989448Z",
     "iopub.status.idle": "2023-06-17T14:55:42.053246Z",
     "shell.execute_reply": "2023-06-17T14:55:42.051581Z",
     "shell.execute_reply.started": "2023-06-17T14:55:41.989884Z"
    }
   },
   "outputs": [],
   "source": [
    "# config0 with output_features_size\n",
    "#print(bludwig.config0(data_df, output_features_size=6))"
   ]
  },
  {
   "cell_type": "markdown",
   "id": "71a77351-f84c-4ee4-818b-affcc17a70e0",
   "metadata": {
    "execution": {
     "iopub.execute_input": "2023-06-17T05:21:13.426409Z",
     "iopub.status.busy": "2023-06-17T05:21:13.425212Z",
     "iopub.status.idle": "2023-06-17T05:21:13.488749Z",
     "shell.execute_reply": "2023-06-17T05:21:13.488234Z",
     "shell.execute_reply.started": "2023-06-17T05:21:13.426296Z"
    }
   },
   "source": [
    "## config1()"
   ]
  },
  {
   "cell_type": "code",
   "execution_count": 12,
   "id": "7fcec866-428a-4242-b3c0-28e1d4fa3e0a",
   "metadata": {
    "execution": {
     "iopub.execute_input": "2023-06-17T14:55:42.055226Z",
     "iopub.status.busy": "2023-06-17T14:55:42.054637Z",
     "iopub.status.idle": "2023-06-17T14:55:42.118706Z",
     "shell.execute_reply": "2023-06-17T14:55:42.117319Z",
     "shell.execute_reply.started": "2023-06-17T14:55:42.055165Z"
    }
   },
   "outputs": [
    {
     "data": {
      "text/plain": [
       "\u001b[0;31mSignature:\u001b[0m \u001b[0mbludwig\u001b[0m\u001b[0;34m.\u001b[0m\u001b[0mconfig1\u001b[0m\u001b[0;34m(\u001b[0m\u001b[0mdataset_loader\u001b[0m\u001b[0;34m,\u001b[0m \u001b[0muse_yaml\u001b[0m\u001b[0;34m=\u001b[0m\u001b[0;32mTrue\u001b[0m\u001b[0;34m)\u001b[0m\u001b[0;34m\u001b[0m\u001b[0;34m\u001b[0m\u001b[0m\n",
       "\u001b[0;31mDocstring:\u001b[0m Wrapper for default_model_config from dataset_loader\n",
       "\u001b[0;31mFile:\u001b[0m      ~/Data_Linux/Dropbox/31_Projekte/01_Python/git/bludwig/src/bludwig/helper.py\n",
       "\u001b[0;31mType:\u001b[0m      function"
      ]
     },
     "metadata": {},
     "output_type": "display_data"
    }
   ],
   "source": [
    "?bludwig.config1"
   ]
  },
  {
   "cell_type": "code",
   "execution_count": 13,
   "id": "ac7de3d8-2e6a-41e7-a6de-d7695aefff37",
   "metadata": {
    "execution": {
     "iopub.execute_input": "2023-06-17T14:55:42.119788Z",
     "iopub.status.busy": "2023-06-17T14:55:42.119539Z",
     "iopub.status.idle": "2023-06-17T14:55:42.226090Z",
     "shell.execute_reply": "2023-06-17T14:55:42.223972Z",
     "shell.execute_reply.started": "2023-06-17T14:55:42.119767Z"
    }
   },
   "outputs": [
    {
     "name": "stdout",
     "output_type": "stream",
     "text": [
      "combiner:\n",
      "  dropout: 0.1\n",
      "  fc_size: 128\n",
      "  num_fc_layers: 3\n",
      "  type: concat\n",
      "input_features:\n",
      "- name: age\n",
      "  type: number\n",
      "- name: workclass\n",
      "  type: category\n",
      "- name: fnlwgt\n",
      "  type: number\n",
      "- name: education\n",
      "  type: category\n",
      "- name: education-num\n",
      "  type: number\n",
      "- name: marital-status\n",
      "  type: category\n",
      "- name: occupation\n",
      "  type: category\n",
      "- name: relationship\n",
      "  type: category\n",
      "- name: race\n",
      "  type: category\n",
      "- name: sex\n",
      "  type: category\n",
      "- name: capital-gain\n",
      "  type: number\n",
      "- name: capital-loss\n",
      "  type: number\n",
      "- name: hours-per-week\n",
      "  type: number\n",
      "- name: native-country\n",
      "  type: category\n",
      "output_features:\n",
      "- name: income\n",
      "  type: category\n",
      "training:\n",
      "  batch_size: 256\n",
      "  epochs: 1\n",
      "  learning_rate: 0.001\n",
      "  steps_per_checkpoint: 1\n",
      "\n"
     ]
    }
   ],
   "source": [
    "# config1 with dataset_loader\n",
    "print(bludwig.config1(dataset_loader))"
   ]
  }
 ],
 "metadata": {
  "kernelspec": {
   "display_name": "Python 3 (ipykernel)",
   "language": "python",
   "name": "python3"
  },
  "language_info": {
   "codemirror_mode": {
    "name": "ipython",
    "version": 3
   },
   "file_extension": ".py",
   "mimetype": "text/x-python",
   "name": "python",
   "nbconvert_exporter": "python",
   "pygments_lexer": "ipython3",
   "version": "3.10.11"
  }
 },
 "nbformat": 4,
 "nbformat_minor": 5
}

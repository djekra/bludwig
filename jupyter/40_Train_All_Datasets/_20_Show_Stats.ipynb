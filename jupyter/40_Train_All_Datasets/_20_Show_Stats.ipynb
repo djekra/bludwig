{
 "cells": [
  {
   "cell_type": "markdown",
   "metadata": {},
   "source": [
    "__[Open and try this file online (Colab)](https://colab.research.google.com/github/djekra/bludwig/blob/main/jupyter/40_Train_All_Datasets/_20_Show_Stats.ipynb)__"
   ]
  },
  {
   "cell_type": "code",
   "execution_count": 1,
   "metadata": {
    "colab": {
     "base_uri": "https://localhost:8080/",
     "height": 86
    },
    "execution": {
     "iopub.execute_input": "2023-06-20T20:42:47.640762Z",
     "iopub.status.busy": "2023-06-20T20:42:47.640631Z",
     "iopub.status.idle": "2023-06-20T20:42:48.093064Z",
     "shell.execute_reply": "2023-06-20T20:42:48.092574Z",
     "shell.execute_reply.started": "2023-06-20T20:42:47.640747Z"
    },
    "executionInfo": {
     "elapsed": 363,
     "status": "ok",
     "timestamp": 1686173310843,
     "user": {
      "displayName": "Familie Klippstein",
      "userId": "08973939190628445877"
     },
     "user_tz": -120
    },
    "id": "DgB2Td0tOvr7",
    "outputId": "62803628-9556-4941-c241-ac3ddf910539"
   },
   "outputs": [
    {
     "name": "stdout",
     "output_type": "stream",
     "text": [
      "blab init\n",
      "environment['in_colab']     = False\n",
      "environment['dropbox_path'] = /home/me/Dropbox\n",
      "environment['lib_path']     = /home/me/Dropbox/31_Projekte/01_Python/libs\n",
      "Start Time: 22:42:47\n"
     ]
    },
    {
     "data": {
      "text/html": [
       "<img src onerror=\"var cell = this.closest('.jp-CodeCell');var editor = cell.querySelector('.jp-Editor');editor.style.background='Beige';this.parentNode.removeChild(this)\">"
      ],
      "text/plain": [
       "<IPython.core.display.HTML object>"
      ]
     },
     "metadata": {},
     "output_type": "display_data"
    }
   ],
   "source": [
    "# blab init\n",
    "try:\n",
    "    import blab\n",
    "except ImportError as e:\n",
    "    !pip install --quiet blab\n",
    "    import blab    \n",
    "startup_notebook = blab.blab_startup()\n",
    "%run $startup_notebook "
   ]
  },
  {
   "cell_type": "markdown",
   "metadata": {
    "id": "dqW_BZ60kyWP"
   },
   "source": [
    "# Show Stats\n",
    "* Shows Stats from a given experiment_name\n",
    "* Needs training results in result directory"
   ]
  },
  {
   "cell_type": "code",
   "execution_count": 2,
   "metadata": {
    "execution": {
     "iopub.execute_input": "2023-06-20T20:42:48.094881Z",
     "iopub.status.busy": "2023-06-20T20:42:48.094419Z",
     "iopub.status.idle": "2023-06-20T20:42:48.105953Z",
     "shell.execute_reply": "2023-06-20T20:42:48.105433Z",
     "shell.execute_reply.started": "2023-06-20T20:42:48.094844Z"
    },
    "executionInfo": {
     "elapsed": 463,
     "status": "ok",
     "timestamp": 1686173335567,
     "user": {
      "displayName": "Familie Klippstein",
      "userId": "08973939190628445877"
     },
     "user_tz": -120
    },
    "id": "wj1f-u_vOvsK"
   },
   "outputs": [
    {
     "data": {
      "text/html": [
       "<img src onerror=\"var cell = this.closest('.jp-CodeCell');var editor = cell.querySelector('.jp-Editor');editor.style.background='Beige';this.parentNode.removeChild(this)\">"
      ],
      "text/plain": [
       "<IPython.core.display.HTML object>"
      ]
     },
     "metadata": {},
     "output_type": "display_data"
    }
   ],
   "source": [
    "# Settings\n",
    "\n",
    "experiment_name    = 'adult_census_income'   # Which dataset shall be loaded?\n",
    "#experiment_name    = 'iris'                  # Which dataset shall be loaded?\n",
    "mode            = 'S'                     # mode: S=show, C=cleanup, \n",
    "verbose         = False    \n",
    "predicts_size   = 100                     # How many predictions should be created?\n",
    "\n",
    "gdrive_base     = 'drive/MyDrive/Colab'\n",
    "bgc('Beige')"
   ]
  },
  {
   "cell_type": "code",
   "execution_count": 3,
   "metadata": {
    "colab": {
     "base_uri": "https://localhost:8080/"
    },
    "execution": {
     "iopub.execute_input": "2023-06-20T20:42:48.106922Z",
     "iopub.status.busy": "2023-06-20T20:42:48.106565Z",
     "iopub.status.idle": "2023-06-20T20:42:48.118407Z",
     "shell.execute_reply": "2023-06-20T20:42:48.117845Z",
     "shell.execute_reply.started": "2023-06-20T20:42:48.106900Z"
    },
    "executionInfo": {
     "elapsed": 23608,
     "status": "ok",
     "timestamp": 1686173335132,
     "user": {
      "displayName": "Familie Klippstein",
      "userId": "08973939190628445877"
     },
     "user_tz": -120
    },
    "id": "DiBUpR-GPcys",
    "outputId": "c57587a6-02d9-4fb1-cced-852f95d6c5f7"
   },
   "outputs": [],
   "source": [
    "# Colab? >> Install the latest version of Ludwig\n",
    "if environment['in_colab']:\n",
    "  !pip uninstall -y tensorflow --quiet\n",
    "  !python -m pip install git+https://github.com/ludwig-ai/ludwig.git --quiet \n",
    "  !pip install ptitprince --quiet \n",
    "  !pip install bludwig --quiet "
   ]
  },
  {
   "cell_type": "code",
   "execution_count": 4,
   "metadata": {
    "colab": {
     "base_uri": "https://localhost:8080/"
    },
    "execution": {
     "iopub.execute_input": "2023-06-20T20:42:48.119421Z",
     "iopub.status.busy": "2023-06-20T20:42:48.119100Z",
     "iopub.status.idle": "2023-06-20T20:42:48.133645Z",
     "shell.execute_reply": "2023-06-20T20:42:48.133018Z",
     "shell.execute_reply.started": "2023-06-20T20:42:48.119399Z"
    },
    "executionInfo": {
     "elapsed": 30,
     "status": "ok",
     "timestamp": 1686256005696,
     "user": {
      "displayName": "Familie Klippstein",
      "userId": "08973939190628445877"
     },
     "user_tz": -120
    },
    "id": "HnYdSdJXOvsC",
    "outputId": "d726faf8-b46a-4253-b985-bee1199a157c"
   },
   "outputs": [
    {
     "data": {
      "text/html": [
       "<img src onerror=\"var cell = this.closest('.jp-CodeCell');var editor = cell.querySelector('.jp-Editor');editor.style.background='WhiteSmoke';this.parentNode.removeChild(this)\">"
      ],
      "text/plain": [
       "<IPython.core.display.HTML object>"
      ]
     },
     "metadata": {},
     "output_type": "display_data"
    }
   ],
   "source": [
    "# cleanup?\n",
    "if mode == 'C': \n",
    "    try:\n",
    "        !rm -rf results\n",
    "        !rm *.meta.json\n",
    "        !rm *.hdf5    \n",
    "        !rm *.temp.pickle        \n",
    "        !rm .lock_preprocessing\n",
    "    except:\n",
    "        pass\n",
    " \n",
    "\n",
    "if mode == 'C':\n",
    "    raise Stop\n",
    "else:\n",
    "    bgc('WhiteSmoke')"
   ]
  },
  {
   "cell_type": "code",
   "execution_count": 5,
   "metadata": {
    "colab": {
     "base_uri": "https://localhost:8080/"
    },
    "execution": {
     "iopub.execute_input": "2023-06-20T20:42:48.134602Z",
     "iopub.status.busy": "2023-06-20T20:42:48.134374Z",
     "iopub.status.idle": "2023-06-20T20:42:54.644300Z",
     "shell.execute_reply": "2023-06-20T20:42:54.643736Z",
     "shell.execute_reply.started": "2023-06-20T20:42:48.134580Z"
    },
    "executionInfo": {
     "elapsed": 16727,
     "status": "ok",
     "timestamp": 1686256022749,
     "user": {
      "displayName": "Familie Klippstein",
      "userId": "08973939190628445877"
     },
     "user_tz": -120
    },
    "id": "n3WFMAGxOvsI",
    "outputId": "64989a50-9319-47e9-e8b0-d29a06e19abe"
   },
   "outputs": [],
   "source": [
    "# import \n",
    "import pandas as pd\n",
    "import pandasklar as pak\n",
    "grid = pak.grid\n",
    "import bludwig"
   ]
  },
  {
   "cell_type": "markdown",
   "metadata": {
    "id": "hW9kA_qSOvsN"
   },
   "source": [
    "## Data"
   ]
  },
  {
   "cell_type": "code",
   "execution_count": 6,
   "metadata": {
    "execution": {
     "iopub.execute_input": "2023-06-20T20:42:54.645193Z",
     "iopub.status.busy": "2023-06-20T20:42:54.644857Z",
     "iopub.status.idle": "2023-06-20T20:42:55.829506Z",
     "shell.execute_reply": "2023-06-20T20:42:55.828976Z",
     "shell.execute_reply.started": "2023-06-20T20:42:54.645178Z"
    }
   },
   "outputs": [
    {
     "name": "stdout",
     "output_type": "stream",
     "text": [
      "\n",
      "adult_census_income 1.0\n",
      "Predict whether income exceeds $50K/yr based on census data\n",
      "https://archive.ics.uci.edu/ml/datasets/adult\n",
      "\n",
      "output_features: [{'name': 'income', 'type': 'binary'}]\n"
     ]
    }
   ],
   "source": [
    "# load_dataset\n",
    "data_df, dataset_loader = bludwig.load_dataset(experiment_name)"
   ]
  },
  {
   "cell_type": "code",
   "execution_count": 7,
   "metadata": {
    "colab": {
     "base_uri": "https://localhost:8080/"
    },
    "execution": {
     "iopub.execute_input": "2023-06-20T20:42:55.831289Z",
     "iopub.status.busy": "2023-06-20T20:42:55.831094Z",
     "iopub.status.idle": "2023-06-20T20:42:56.258970Z",
     "shell.execute_reply": "2023-06-20T20:42:56.258407Z",
     "shell.execute_reply.started": "2023-06-20T20:42:55.831274Z"
    },
    "executionInfo": {
     "elapsed": 39,
     "status": "ok",
     "timestamp": 1686173337398,
     "user": {
      "displayName": "Familie Klippstein",
      "userId": "08973939190628445877"
     },
     "user_tz": -120
    },
    "id": "5vmJL7v1iAdM",
    "outputId": "327fab1c-e3ff-4d5e-aec6-dc500b0f60b8"
   },
   "outputs": [
    {
     "name": "stdout",
     "output_type": "stream",
     "text": [
      "48840 records for training, validation and test\n"
     ]
    },
    {
     "data": {
      "text/html": [
       "<div>\n",
       "<style scoped>\n",
       "    .dataframe tbody tr th:only-of-type {\n",
       "        vertical-align: middle;\n",
       "    }\n",
       "\n",
       "    .dataframe tbody tr th {\n",
       "        vertical-align: top;\n",
       "    }\n",
       "\n",
       "    .dataframe thead th {\n",
       "        text-align: right;\n",
       "    }\n",
       "</style>\n",
       "<table border=\"1\" class=\"dataframe\">\n",
       "  <thead>\n",
       "    <tr style=\"text-align: right;\">\n",
       "      <th></th>\n",
       "      <th>income</th>\n",
       "      <th>age</th>\n",
       "      <th>workclass</th>\n",
       "      <th>fnlwgt</th>\n",
       "      <th>education</th>\n",
       "      <th>education-num</th>\n",
       "      <th>marital-status</th>\n",
       "      <th>occupation</th>\n",
       "      <th>relationship</th>\n",
       "      <th>race</th>\n",
       "      <th>sex</th>\n",
       "      <th>capital-gain</th>\n",
       "      <th>capital-loss</th>\n",
       "      <th>hours-per-week</th>\n",
       "      <th>native-country</th>\n",
       "      <th>split</th>\n",
       "    </tr>\n",
       "  </thead>\n",
       "  <tbody>\n",
       "    <tr>\n",
       "      <th>0</th>\n",
       "      <td>&lt;=50K</td>\n",
       "      <td>50</td>\n",
       "      <td>Self-emp-not-inc</td>\n",
       "      <td>83311</td>\n",
       "      <td>Bachelors</td>\n",
       "      <td>13</td>\n",
       "      <td>Married-civ-spouse</td>\n",
       "      <td>Exec-managerial</td>\n",
       "      <td>Husband</td>\n",
       "      <td>White</td>\n",
       "      <td>Male</td>\n",
       "      <td>0</td>\n",
       "      <td>0</td>\n",
       "      <td>13</td>\n",
       "      <td>United-States</td>\n",
       "      <td>0</td>\n",
       "    </tr>\n",
       "    <tr>\n",
       "      <th>188</th>\n",
       "      <td>&gt;50K</td>\n",
       "      <td>58</td>\n",
       "      <td>State-gov</td>\n",
       "      <td>109567</td>\n",
       "      <td>Doctorate</td>\n",
       "      <td>16</td>\n",
       "      <td>Married-civ-spouse</td>\n",
       "      <td>Prof-specialty</td>\n",
       "      <td>Husband</td>\n",
       "      <td>White</td>\n",
       "      <td>Male</td>\n",
       "      <td>0</td>\n",
       "      <td>0</td>\n",
       "      <td>1</td>\n",
       "      <td>United-States</td>\n",
       "      <td>0</td>\n",
       "    </tr>\n",
       "    <tr>\n",
       "      <th>933</th>\n",
       "      <td>&gt;50K</td>\n",
       "      <td>37</td>\n",
       "      <td>Private</td>\n",
       "      <td>186934</td>\n",
       "      <td>11th</td>\n",
       "      <td>7</td>\n",
       "      <td>Married-civ-spouse</td>\n",
       "      <td>Machine-op-inspct</td>\n",
       "      <td>Husband</td>\n",
       "      <td>White</td>\n",
       "      <td>Male</td>\n",
       "      <td>3103</td>\n",
       "      <td>0</td>\n",
       "      <td>44</td>\n",
       "      <td>United-States</td>\n",
       "      <td>0</td>\n",
       "    </tr>\n",
       "    <tr>\n",
       "      <th>934</th>\n",
       "      <td>&gt;50K</td>\n",
       "      <td>37</td>\n",
       "      <td>Private</td>\n",
       "      <td>176900</td>\n",
       "      <td>HS-grad</td>\n",
       "      <td>9</td>\n",
       "      <td>Married-civ-spouse</td>\n",
       "      <td>Craft-repair</td>\n",
       "      <td>Husband</td>\n",
       "      <td>White</td>\n",
       "      <td>Male</td>\n",
       "      <td>0</td>\n",
       "      <td>0</td>\n",
       "      <td>99</td>\n",
       "      <td>United-States</td>\n",
       "      <td>0</td>\n",
       "    </tr>\n",
       "    <tr>\n",
       "      <th>1024</th>\n",
       "      <td>&lt;=50K</td>\n",
       "      <td>56</td>\n",
       "      <td>Private</td>\n",
       "      <td>169133</td>\n",
       "      <td>HS-grad</td>\n",
       "      <td>9</td>\n",
       "      <td>Married-civ-spouse</td>\n",
       "      <td>Other-service</td>\n",
       "      <td>Husband</td>\n",
       "      <td>White</td>\n",
       "      <td>Male</td>\n",
       "      <td>0</td>\n",
       "      <td>0</td>\n",
       "      <td>50</td>\n",
       "      <td>Yugoslavia</td>\n",
       "      <td>0</td>\n",
       "    </tr>\n",
       "    <tr>\n",
       "      <th>1245</th>\n",
       "      <td>&gt;50K</td>\n",
       "      <td>54</td>\n",
       "      <td>Self-emp-inc</td>\n",
       "      <td>166459</td>\n",
       "      <td>Prof-school</td>\n",
       "      <td>15</td>\n",
       "      <td>Married-civ-spouse</td>\n",
       "      <td>Prof-specialty</td>\n",
       "      <td>Husband</td>\n",
       "      <td>White</td>\n",
       "      <td>Male</td>\n",
       "      <td>99999</td>\n",
       "      <td>0</td>\n",
       "      <td>60</td>\n",
       "      <td>United-States</td>\n",
       "      <td>0</td>\n",
       "    </tr>\n",
       "    <tr>\n",
       "      <th>8962</th>\n",
       "      <td>&lt;=50K</td>\n",
       "      <td>90</td>\n",
       "      <td>?</td>\n",
       "      <td>77053</td>\n",
       "      <td>HS-grad</td>\n",
       "      <td>9</td>\n",
       "      <td>Widowed</td>\n",
       "      <td>?</td>\n",
       "      <td>Not-in-family</td>\n",
       "      <td>White</td>\n",
       "      <td>Female</td>\n",
       "      <td>0</td>\n",
       "      <td>4356</td>\n",
       "      <td>40</td>\n",
       "      <td>United-States</td>\n",
       "      <td>0</td>\n",
       "    </tr>\n",
       "    <tr>\n",
       "      <th>17095</th>\n",
       "      <td>&lt;=50K</td>\n",
       "      <td>25</td>\n",
       "      <td>?</td>\n",
       "      <td>12285</td>\n",
       "      <td>Some-college</td>\n",
       "      <td>10</td>\n",
       "      <td>Never-married</td>\n",
       "      <td>?</td>\n",
       "      <td>Not-in-family</td>\n",
       "      <td>Amer-Indian-Eskimo</td>\n",
       "      <td>Female</td>\n",
       "      <td>0</td>\n",
       "      <td>0</td>\n",
       "      <td>20</td>\n",
       "      <td>United-States</td>\n",
       "      <td>0</td>\n",
       "    </tr>\n",
       "    <tr>\n",
       "      <th>40533</th>\n",
       "      <td>&lt;=50K</td>\n",
       "      <td>27</td>\n",
       "      <td>Private</td>\n",
       "      <td>1490400</td>\n",
       "      <td>Some-college</td>\n",
       "      <td>10</td>\n",
       "      <td>Married-civ-spouse</td>\n",
       "      <td>Exec-managerial</td>\n",
       "      <td>Husband</td>\n",
       "      <td>White</td>\n",
       "      <td>Male</td>\n",
       "      <td>0</td>\n",
       "      <td>0</td>\n",
       "      <td>40</td>\n",
       "      <td>United-States</td>\n",
       "      <td>2</td>\n",
       "    </tr>\n",
       "    <tr>\n",
       "      <th>41015</th>\n",
       "      <td>&lt;=50K</td>\n",
       "      <td>37</td>\n",
       "      <td>Private</td>\n",
       "      <td>182148</td>\n",
       "      <td>Bachelors</td>\n",
       "      <td>13</td>\n",
       "      <td>Never-married</td>\n",
       "      <td>Other-service</td>\n",
       "      <td>Not-in-family</td>\n",
       "      <td>White</td>\n",
       "      <td>Male</td>\n",
       "      <td>0</td>\n",
       "      <td>0</td>\n",
       "      <td>39</td>\n",
       "      <td>United-States</td>\n",
       "      <td>2</td>\n",
       "    </tr>\n",
       "  </tbody>\n",
       "</table>\n",
       "</div>"
      ],
      "text/plain": [
       "      income  age          workclass   fnlwgt      education  education-num  \\\n",
       "0      <=50K   50   Self-emp-not-inc    83311      Bachelors             13   \n",
       "188     >50K   58          State-gov   109567      Doctorate             16   \n",
       "933     >50K   37            Private   186934           11th              7   \n",
       "934     >50K   37            Private   176900        HS-grad              9   \n",
       "1024   <=50K   56            Private   169133        HS-grad              9   \n",
       "1245    >50K   54       Self-emp-inc   166459    Prof-school             15   \n",
       "8962   <=50K   90                  ?    77053        HS-grad              9   \n",
       "17095  <=50K   25                  ?    12285   Some-college             10   \n",
       "40533  <=50K   27            Private  1490400   Some-college             10   \n",
       "41015  <=50K   37            Private   182148      Bachelors             13   \n",
       "\n",
       "            marital-status          occupation    relationship  \\\n",
       "0       Married-civ-spouse     Exec-managerial         Husband   \n",
       "188     Married-civ-spouse      Prof-specialty         Husband   \n",
       "933     Married-civ-spouse   Machine-op-inspct         Husband   \n",
       "934     Married-civ-spouse        Craft-repair         Husband   \n",
       "1024    Married-civ-spouse       Other-service         Husband   \n",
       "1245    Married-civ-spouse      Prof-specialty         Husband   \n",
       "8962               Widowed                   ?   Not-in-family   \n",
       "17095        Never-married                   ?   Not-in-family   \n",
       "40533   Married-civ-spouse     Exec-managerial         Husband   \n",
       "41015        Never-married       Other-service   Not-in-family   \n",
       "\n",
       "                      race      sex  capital-gain  capital-loss  \\\n",
       "0                    White     Male             0             0   \n",
       "188                  White     Male             0             0   \n",
       "933                  White     Male          3103             0   \n",
       "934                  White     Male             0             0   \n",
       "1024                 White     Male             0             0   \n",
       "1245                 White     Male         99999             0   \n",
       "8962                 White   Female             0          4356   \n",
       "17095   Amer-Indian-Eskimo   Female             0             0   \n",
       "40533                White     Male             0             0   \n",
       "41015                White     Male             0             0   \n",
       "\n",
       "       hours-per-week  native-country  split  \n",
       "0                  13   United-States      0  \n",
       "188                 1   United-States      0  \n",
       "933                44   United-States      0  \n",
       "934                99   United-States      0  \n",
       "1024               50      Yugoslavia      0  \n",
       "1245               60   United-States      0  \n",
       "8962               40   United-States      0  \n",
       "17095              20   United-States      0  \n",
       "40533              40   United-States      2  \n",
       "41015              39   United-States      2  "
      ]
     },
     "execution_count": 7,
     "metadata": {},
     "output_type": "execute_result"
    }
   ],
   "source": [
    "# examine\n",
    "print(data_df.shape[0], 'records for training, validation and test')\n",
    "pak.sample(data_df,10)"
   ]
  },
  {
   "cell_type": "code",
   "execution_count": 8,
   "metadata": {
    "execution": {
     "iopub.execute_input": "2023-06-20T20:42:56.260141Z",
     "iopub.status.busy": "2023-06-20T20:42:56.259849Z",
     "iopub.status.idle": "2023-06-20T20:42:56.929817Z",
     "shell.execute_reply": "2023-06-20T20:42:56.929243Z",
     "shell.execute_reply.started": "2023-06-20T20:42:56.260120Z"
    }
   },
   "outputs": [
    {
     "data": {
      "text/html": [
       "<div>\n",
       "<style scoped>\n",
       "    .dataframe tbody tr th:only-of-type {\n",
       "        vertical-align: middle;\n",
       "    }\n",
       "\n",
       "    .dataframe tbody tr th {\n",
       "        vertical-align: top;\n",
       "    }\n",
       "\n",
       "    .dataframe thead th {\n",
       "        text-align: right;\n",
       "    }\n",
       "</style>\n",
       "<table border=\"1\" class=\"dataframe\">\n",
       "  <thead>\n",
       "    <tr style=\"text-align: right;\">\n",
       "      <th></th>\n",
       "      <th>col_name</th>\n",
       "      <th>is_output_feature</th>\n",
       "      <th>feature_type</th>\n",
       "      <th>datatype_short</th>\n",
       "      <th>datatype_identified</th>\n",
       "      <th>mem_usage</th>\n",
       "      <th>nunique</th>\n",
       "      <th>ndups</th>\n",
       "      <th>vmin</th>\n",
       "      <th>vmax</th>\n",
       "      <th>n</th>\n",
       "    </tr>\n",
       "  </thead>\n",
       "  <tbody>\n",
       "    <tr>\n",
       "      <th>0</th>\n",
       "      <td>income</td>\n",
       "      <td>True</td>\n",
       "      <td>binary</td>\n",
       "      <td>string</td>\n",
       "      <td>string</td>\n",
       "      <td>618</td>\n",
       "      <td>2</td>\n",
       "      <td>9998</td>\n",
       "      <td>&lt;=50K</td>\n",
       "      <td>&gt;50K</td>\n",
       "      <td>10000</td>\n",
       "    </tr>\n",
       "    <tr>\n",
       "      <th>1</th>\n",
       "      <td>age</td>\n",
       "      <td>False</td>\n",
       "      <td>number</td>\n",
       "      <td>Int8</td>\n",
       "      <td>int</td>\n",
       "      <td>20</td>\n",
       "      <td>71</td>\n",
       "      <td>9929</td>\n",
       "      <td>17.0</td>\n",
       "      <td>90.0</td>\n",
       "      <td>10000</td>\n",
       "    </tr>\n",
       "    <tr>\n",
       "      <th>2</th>\n",
       "      <td>workclass</td>\n",
       "      <td>False</td>\n",
       "      <td>category</td>\n",
       "      <td>string</td>\n",
       "      <td>string</td>\n",
       "      <td>662</td>\n",
       "      <td>9</td>\n",
       "      <td>9991</td>\n",
       "      <td>?</td>\n",
       "      <td>Without-pay</td>\n",
       "      <td>10000</td>\n",
       "    </tr>\n",
       "    <tr>\n",
       "      <th>3</th>\n",
       "      <td>fnlwgt</td>\n",
       "      <td>False</td>\n",
       "      <td>number</td>\n",
       "      <td>Int32</td>\n",
       "      <td>int</td>\n",
       "      <td>50</td>\n",
       "      <td>8534</td>\n",
       "      <td>1466</td>\n",
       "      <td>12285.0</td>\n",
       "      <td>1490400.0</td>\n",
       "      <td>10000</td>\n",
       "    </tr>\n",
       "    <tr>\n",
       "      <th>4</th>\n",
       "      <td>education</td>\n",
       "      <td>False</td>\n",
       "      <td>category</td>\n",
       "      <td>string</td>\n",
       "      <td>string</td>\n",
       "      <td>663</td>\n",
       "      <td>16</td>\n",
       "      <td>9984</td>\n",
       "      <td>10th</td>\n",
       "      <td>Some-college</td>\n",
       "      <td>10000</td>\n",
       "    </tr>\n",
       "    <tr>\n",
       "      <th>5</th>\n",
       "      <td>education-num</td>\n",
       "      <td>False</td>\n",
       "      <td>category</td>\n",
       "      <td>Int8</td>\n",
       "      <td>int</td>\n",
       "      <td>20</td>\n",
       "      <td>16</td>\n",
       "      <td>9984</td>\n",
       "      <td>1.0</td>\n",
       "      <td>16.0</td>\n",
       "      <td>10000</td>\n",
       "    </tr>\n",
       "    <tr>\n",
       "      <th>6</th>\n",
       "      <td>marital-status</td>\n",
       "      <td>False</td>\n",
       "      <td>category</td>\n",
       "      <td>string</td>\n",
       "      <td>string</td>\n",
       "      <td>710</td>\n",
       "      <td>7</td>\n",
       "      <td>9993</td>\n",
       "      <td>Divorced</td>\n",
       "      <td>Widowed</td>\n",
       "      <td>10000</td>\n",
       "    </tr>\n",
       "    <tr>\n",
       "      <th>7</th>\n",
       "      <td>occupation</td>\n",
       "      <td>False</td>\n",
       "      <td>category</td>\n",
       "      <td>string</td>\n",
       "      <td>string</td>\n",
       "      <td>700</td>\n",
       "      <td>14</td>\n",
       "      <td>9986</td>\n",
       "      <td>?</td>\n",
       "      <td>Transport-moving</td>\n",
       "      <td>10000</td>\n",
       "    </tr>\n",
       "    <tr>\n",
       "      <th>8</th>\n",
       "      <td>relationship</td>\n",
       "      <td>False</td>\n",
       "      <td>category</td>\n",
       "      <td>string</td>\n",
       "      <td>string</td>\n",
       "      <td>682</td>\n",
       "      <td>6</td>\n",
       "      <td>9994</td>\n",
       "      <td>Husband</td>\n",
       "      <td>Wife</td>\n",
       "      <td>10000</td>\n",
       "    </tr>\n",
       "    <tr>\n",
       "      <th>9</th>\n",
       "      <td>race</td>\n",
       "      <td>False</td>\n",
       "      <td>category</td>\n",
       "      <td>string</td>\n",
       "      <td>string</td>\n",
       "      <td>643</td>\n",
       "      <td>5</td>\n",
       "      <td>9995</td>\n",
       "      <td>Amer-Indian-Eskimo</td>\n",
       "      <td>White</td>\n",
       "      <td>10000</td>\n",
       "    </tr>\n",
       "    <tr>\n",
       "      <th>10</th>\n",
       "      <td>sex</td>\n",
       "      <td>False</td>\n",
       "      <td>binary</td>\n",
       "      <td>string</td>\n",
       "      <td>string</td>\n",
       "      <td>626</td>\n",
       "      <td>2</td>\n",
       "      <td>9998</td>\n",
       "      <td>Female</td>\n",
       "      <td>Male</td>\n",
       "      <td>10000</td>\n",
       "    </tr>\n",
       "    <tr>\n",
       "      <th>11</th>\n",
       "      <td>capital-gain</td>\n",
       "      <td>False</td>\n",
       "      <td>number</td>\n",
       "      <td>Int32</td>\n",
       "      <td>int</td>\n",
       "      <td>50</td>\n",
       "      <td>102</td>\n",
       "      <td>9898</td>\n",
       "      <td>0.0</td>\n",
       "      <td>99999.0</td>\n",
       "      <td>10000</td>\n",
       "    </tr>\n",
       "    <tr>\n",
       "      <th>12</th>\n",
       "      <td>capital-loss</td>\n",
       "      <td>False</td>\n",
       "      <td>number</td>\n",
       "      <td>Int16</td>\n",
       "      <td>int</td>\n",
       "      <td>30</td>\n",
       "      <td>71</td>\n",
       "      <td>9929</td>\n",
       "      <td>0.0</td>\n",
       "      <td>4356.0</td>\n",
       "      <td>10000</td>\n",
       "    </tr>\n",
       "    <tr>\n",
       "      <th>13</th>\n",
       "      <td>hours-per-week</td>\n",
       "      <td>False</td>\n",
       "      <td>number</td>\n",
       "      <td>Int8</td>\n",
       "      <td>int</td>\n",
       "      <td>20</td>\n",
       "      <td>83</td>\n",
       "      <td>9917</td>\n",
       "      <td>1.0</td>\n",
       "      <td>99.0</td>\n",
       "      <td>10000</td>\n",
       "    </tr>\n",
       "    <tr>\n",
       "      <th>14</th>\n",
       "      <td>native-country</td>\n",
       "      <td>False</td>\n",
       "      <td>category</td>\n",
       "      <td>string</td>\n",
       "      <td>string</td>\n",
       "      <td>704</td>\n",
       "      <td>40</td>\n",
       "      <td>9960</td>\n",
       "      <td>?</td>\n",
       "      <td>Yugoslavia</td>\n",
       "      <td>10000</td>\n",
       "    </tr>\n",
       "  </tbody>\n",
       "</table>\n",
       "</div>"
      ],
      "text/plain": [
       "          col_name  is_output_feature feature_type datatype_short  \\\n",
       "0           income               True       binary         string   \n",
       "1              age              False       number           Int8   \n",
       "2        workclass              False     category         string   \n",
       "3           fnlwgt              False       number          Int32   \n",
       "4        education              False     category         string   \n",
       "5    education-num              False     category           Int8   \n",
       "6   marital-status              False     category         string   \n",
       "7       occupation              False     category         string   \n",
       "8     relationship              False     category         string   \n",
       "9             race              False     category         string   \n",
       "10             sex              False       binary         string   \n",
       "11    capital-gain              False       number          Int32   \n",
       "12    capital-loss              False       number          Int16   \n",
       "13  hours-per-week              False       number           Int8   \n",
       "14  native-country              False     category         string   \n",
       "\n",
       "   datatype_identified  mem_usage  nunique  ndups                 vmin  \\\n",
       "0               string        618        2   9998                <=50K   \n",
       "1                  int         20       71   9929                 17.0   \n",
       "2               string        662        9   9991                    ?   \n",
       "3                  int         50     8534   1466              12285.0   \n",
       "4               string        663       16   9984                 10th   \n",
       "5                  int         20       16   9984                  1.0   \n",
       "6               string        710        7   9993             Divorced   \n",
       "7               string        700       14   9986                    ?   \n",
       "8               string        682        6   9994              Husband   \n",
       "9               string        643        5   9995   Amer-Indian-Eskimo   \n",
       "10              string        626        2   9998               Female   \n",
       "11                 int         50      102   9898                  0.0   \n",
       "12                 int         30       71   9929                  0.0   \n",
       "13                 int         20       83   9917                  1.0   \n",
       "14              string        704       40   9960                    ?   \n",
       "\n",
       "                 vmax      n  \n",
       "0                >50K  10000  \n",
       "1                90.0  10000  \n",
       "2         Without-pay  10000  \n",
       "3           1490400.0  10000  \n",
       "4        Some-college  10000  \n",
       "5                16.0  10000  \n",
       "6             Widowed  10000  \n",
       "7    Transport-moving  10000  \n",
       "8                Wife  10000  \n",
       "9               White  10000  \n",
       "10               Male  10000  \n",
       "11            99999.0  10000  \n",
       "12             4356.0  10000  \n",
       "13               99.0  10000  \n",
       "14         Yugoslavia  10000  "
      ]
     },
     "execution_count": 8,
     "metadata": {},
     "output_type": "execute_result"
    }
   ],
   "source": [
    "# analyse_cols\n",
    "analyse = bludwig.analyse_cols(data_df, dataset_loader)\n",
    "analyse"
   ]
  },
  {
   "cell_type": "markdown",
   "metadata": {},
   "source": [
    "## Initialize"
   ]
  },
  {
   "cell_type": "code",
   "execution_count": 9,
   "metadata": {
    "colab": {
     "base_uri": "https://localhost:8080/"
    },
    "execution": {
     "iopub.execute_input": "2023-06-20T20:42:56.930819Z",
     "iopub.status.busy": "2023-06-20T20:42:56.930583Z",
     "iopub.status.idle": "2023-06-20T20:42:57.000749Z",
     "shell.execute_reply": "2023-06-20T20:42:57.000197Z",
     "shell.execute_reply.started": "2023-06-20T20:42:56.930799Z"
    },
    "executionInfo": {
     "elapsed": 16727,
     "status": "ok",
     "timestamp": 1686256022749,
     "user": {
      "displayName": "Familie Klippstein",
      "userId": "08973939190628445877"
     },
     "user_tz": -120
    },
    "id": "n3WFMAGxOvsI",
    "outputId": "64989a50-9319-47e9-e8b0-d29a06e19abe"
   },
   "outputs": [],
   "source": [
    "# bludwig initialize and load\n",
    "if mode == 'S':  \n",
    "    ludwig_job = bludwig.LudwigJob(experiment_name=experiment_name) \n",
    "    ludwig_job.load_from_results(experiment_name)\n",
    "    #print(ludwig_job)"
   ]
  },
  {
   "cell_type": "code",
   "execution_count": 10,
   "metadata": {
    "execution": {
     "iopub.execute_input": "2023-06-20T20:42:57.001697Z",
     "iopub.status.busy": "2023-06-20T20:42:57.001503Z",
     "iopub.status.idle": "2023-06-20T20:42:57.034630Z",
     "shell.execute_reply": "2023-06-20T20:42:57.034061Z",
     "shell.execute_reply.started": "2023-06-20T20:42:57.001678Z"
    }
   },
   "outputs": [
    {
     "name": "stdout",
     "output_type": "stream",
     "text": [
      "LudwigJob object\n",
      "        experiment_name:     adult_census_income\n",
      "        output_feature_name: income\n",
      "        train_jobs:          [0, 1]\n",
      "        model_names:         ['adult_census_income_0', 'adult_census_income_1']\n",
      "        model_paths:         ['results/adult_census_income_0_run/model', 'results/adult_census_income_1_run/model']        \n",
      "        output_dirs:         ['results/adult_census_income_0_run', 'results/adult_census_income_1_run']\n",
      "        model_no:            None   \n",
      "        cuda:                None             \n",
      "        \n"
     ]
    }
   ],
   "source": [
    "print(ludwig_job)"
   ]
  },
  {
   "cell_type": "markdown",
   "metadata": {
    "execution": {
     "iopub.execute_input": "2023-06-03T08:59:23.598513Z",
     "iopub.status.busy": "2023-06-03T08:59:23.597960Z",
     "iopub.status.idle": "2023-06-03T08:59:23.640510Z",
     "shell.execute_reply": "2023-06-03T08:59:23.639738Z",
     "shell.execute_reply.started": "2023-06-03T08:59:23.598494Z"
    },
    "id": "CFJ2xCetOvsZ"
   },
   "source": [
    "## Evaluate"
   ]
  },
  {
   "cell_type": "code",
   "execution_count": 11,
   "metadata": {
    "execution": {
     "iopub.execute_input": "2023-06-20T20:42:57.035608Z",
     "iopub.status.busy": "2023-06-20T20:42:57.035358Z",
     "iopub.status.idle": "2023-06-20T20:42:57.316783Z",
     "shell.execute_reply": "2023-06-20T20:42:57.316232Z",
     "shell.execute_reply.started": "2023-06-20T20:42:57.035588Z"
    }
   },
   "outputs": [
    {
     "data": {
      "image/png": "[encoded data removed]",
      "text/plain": [
       "<Figure size 640x480 with 1 Axes>"
      ]
     },
     "metadata": {},
     "output_type": "display_data"
    }
   ],
   "source": [
    "# compare_performance\n",
    "ludwig_job.compare_performance()"
   ]
  },
  {
   "cell_type": "code",
   "execution_count": 12,
   "metadata": {
    "execution": {
     "iopub.execute_input": "2023-06-20T20:42:57.317816Z",
     "iopub.status.busy": "2023-06-20T20:42:57.317463Z",
     "iopub.status.idle": "2023-06-20T20:42:57.691946Z",
     "shell.execute_reply": "2023-06-20T20:42:57.691330Z",
     "shell.execute_reply.started": "2023-06-20T20:42:57.317795Z"
    }
   },
   "outputs": [
    {
     "data": {
      "image/png": "[encoded data removed]",
      "text/plain": [
       "<Figure size 640x480 with 1 Axes>"
      ]
     },
     "metadata": {},
     "output_type": "display_data"
    },
    {
     "data": {
      "image/png": "[encoded data removed]",
      "text/plain": [
       "<Figure size 640x480 with 1 Axes>"
      ]
     },
     "metadata": {},
     "output_type": "display_data"
    }
   ],
   "source": [
    "# learning_curves\n",
    "ludwig_job.learning_curves()"
   ]
  },
  {
   "cell_type": "code",
   "execution_count": 13,
   "metadata": {
    "execution": {
     "iopub.execute_input": "2023-06-20T20:42:57.692861Z",
     "iopub.status.busy": "2023-06-20T20:42:57.692635Z",
     "iopub.status.idle": "2023-06-20T20:43:02.765137Z",
     "shell.execute_reply": "2023-06-20T20:43:02.764651Z",
     "shell.execute_reply.started": "2023-06-20T20:42:57.692839Z"
    }
   },
   "outputs": [
    {
     "data": {
      "image/png": "[encoded data removed]",
      "text/plain": [
       "<Figure size 640x480 with 2 Axes>"
      ]
     },
     "metadata": {},
     "output_type": "display_data"
    },
    {
     "data": {
      "image/png": "[encoded data removed]",
      "text/plain": [
       "<Figure size 640x480 with 1 Axes>"
      ]
     },
     "metadata": {},
     "output_type": "display_data"
    },
    {
     "data": {
      "image/png": "[encoded data removed]",
      "text/plain": [
       "<Figure size 640x480 with 2 Axes>"
      ]
     },
     "metadata": {},
     "output_type": "display_data"
    },
    {
     "data": {
      "image/png": "[encoded data removed]",
      "text/plain": [
       "<Figure size 640x480 with 1 Axes>"
      ]
     },
     "metadata": {},
     "output_type": "display_data"
    }
   ],
   "source": [
    "# confusion_matrix\n",
    "#ludwig_job.load_model(0)\n",
    "ludwig_job.confusion_matrix()"
   ]
  },
  {
   "cell_type": "code",
   "execution_count": 14,
   "metadata": {
    "execution": {
     "iopub.execute_input": "2023-06-20T20:43:02.765847Z",
     "iopub.status.busy": "2023-06-20T20:43:02.765672Z",
     "iopub.status.idle": "2023-06-20T20:43:02.799248Z",
     "shell.execute_reply": "2023-06-20T20:43:02.798732Z",
     "shell.execute_reply.started": "2023-06-20T20:43:02.765832Z"
    }
   },
   "outputs": [
    {
     "name": "stdout",
     "output_type": "stream",
     "text": [
      "No roc_curve found\n"
     ]
    }
   ],
   "source": [
    "# roc_curves\n",
    "ludwig_job.roc_curves()"
   ]
  },
  {
   "cell_type": "markdown",
   "metadata": {},
   "source": [
    "## print_models"
   ]
  },
  {
   "cell_type": "code",
   "execution_count": 15,
   "metadata": {
    "execution": {
     "iopub.execute_input": "2023-06-20T20:43:02.799958Z",
     "iopub.status.busy": "2023-06-20T20:43:02.799806Z",
     "iopub.status.idle": "2023-06-20T20:43:02.832755Z",
     "shell.execute_reply": "2023-06-20T20:43:02.832258Z",
     "shell.execute_reply.started": "2023-06-20T20:43:02.799943Z"
    }
   },
   "outputs": [
    {
     "name": "stdout",
     "output_type": "stream",
     "text": [
      "LudwigJob object\n",
      "        experiment_name:     adult_census_income\n",
      "        output_feature_name: income\n",
      "        train_jobs:          [0, 1]\n",
      "        model_names:         ['adult_census_income_0', 'adult_census_income_1']\n",
      "        model_paths:         ['results/adult_census_income_0_run/model', 'results/adult_census_income_1_run/model']        \n",
      "        output_dirs:         ['results/adult_census_income_0_run', 'results/adult_census_income_1_run']\n",
      "        model_no:            0   \n",
      "        cuda:                True             \n",
      "        \n"
     ]
    }
   ],
   "source": [
    "# print \n",
    "print(ludwig_job)"
   ]
  },
  {
   "cell_type": "code",
   "execution_count": 16,
   "metadata": {
    "execution": {
     "iopub.execute_input": "2023-06-20T20:43:02.833389Z",
     "iopub.status.busy": "2023-06-20T20:43:02.833244Z",
     "iopub.status.idle": "2023-06-20T20:43:04.442682Z",
     "shell.execute_reply": "2023-06-20T20:43:04.442193Z",
     "shell.execute_reply.started": "2023-06-20T20:43:02.833375Z"
    }
   },
   "outputs": [
    {
     "name": "stdout",
     "output_type": "stream",
     "text": [
      "### adult_census_income_0 ###\n",
      "======================================================================================================================================================\n",
      "Layer (type:depth-idx)                             Input Shape               Output Shape              Param #                   Trainable\n",
      "======================================================================================================================================================\n",
      "ECD                                                [2]                       [2]                       --                        True\n",
      "├─LudwigFeatureDict: 1-1                           --                        --                        --                        True\n",
      "│    └─ModuleDict: 2-1                             --                        --                        --                        True\n",
      "│    │    └─NumberInputFeature: 3-1                [2]                       [2, 1]                    --                        --\n",
      "│    │    │    └─PassthroughEncoder: 4-1           [2, 1]                    [2, 1]                    --                        --\n",
      "│    │    └─CategoryInputFeature: 3-2              [2, 1]                    [2, 9]                    --                        True\n",
      "│    │    │    └─CategoricalEmbedEncoder: 4-2      [2, 1]                    [2, 9]                    --                        True\n",
      "│    │    │    │    └─Embed: 5-1                   [2, 1]                    [2, 9]                    --                        True\n",
      "│    │    │    │    │    └─Embedding: 6-1          [2, 1]                    [2, 1, 9]                 81                        True\n",
      "│    │    └─NumberInputFeature: 3-3                [2]                       [2, 1]                    --                        --\n",
      "│    │    │    └─PassthroughEncoder: 4-3           [2, 1]                    [2, 1]                    --                        --\n",
      "│    │    └─CategoryInputFeature: 3-4              [2, 1]                    [2, 16]                   --                        True\n",
      "│    │    │    └─CategoricalEmbedEncoder: 4-4      [2, 1]                    [2, 16]                   --                        True\n",
      "│    │    │    │    └─Embed: 5-2                   [2, 1]                    [2, 16]                   --                        True\n",
      "│    │    │    │    │    └─Embedding: 6-2          [2, 1]                    [2, 1, 16]                256                       True\n",
      "│    │    └─CategoryInputFeature: 3-5              [2, 1]                    [2, 16]                   --                        True\n",
      "│    │    │    └─CategoricalEmbedEncoder: 4-5      [2, 1]                    [2, 16]                   --                        True\n",
      "│    │    │    │    └─Embed: 5-3                   [2, 1]                    [2, 16]                   --                        True\n",
      "│    │    │    │    │    └─Embedding: 6-3          [2, 1]                    [2, 1, 16]                256                       True\n",
      "│    │    └─CategoryInputFeature: 3-6              [2, 1]                    [2, 7]                    --                        True\n",
      "│    │    │    └─CategoricalEmbedEncoder: 4-6      [2, 1]                    [2, 7]                    --                        True\n",
      "│    │    │    │    └─Embed: 5-4                   [2, 1]                    [2, 7]                    --                        True\n",
      "│    │    │    │    │    └─Embedding: 6-4          [2, 1]                    [2, 1, 7]                 49                        True\n",
      "│    │    └─CategoryInputFeature: 3-7              [2, 1]                    [2, 15]                   --                        True\n",
      "│    │    │    └─CategoricalEmbedEncoder: 4-7      [2, 1]                    [2, 15]                   --                        True\n",
      "│    │    │    │    └─Embed: 5-5                   [2, 1]                    [2, 15]                   --                        True\n",
      "│    │    │    │    │    └─Embedding: 6-5          [2, 1]                    [2, 1, 15]                225                       True\n",
      "│    │    └─CategoryInputFeature: 3-8              [2, 1]                    [2, 6]                    --                        True\n",
      "│    │    │    └─CategoricalEmbedEncoder: 4-8      [2, 1]                    [2, 6]                    --                        True\n",
      "│    │    │    │    └─Embed: 5-6                   [2, 1]                    [2, 6]                    --                        True\n",
      "│    │    │    │    │    └─Embedding: 6-6          [2, 1]                    [2, 1, 6]                 36                        True\n",
      "│    │    └─CategoryInputFeature: 3-9              [2, 1]                    [2, 5]                    --                        True\n",
      "│    │    │    └─CategoricalEmbedEncoder: 4-9      [2, 1]                    [2, 5]                    --                        True\n",
      "│    │    │    │    └─Embed: 5-7                   [2, 1]                    [2, 5]                    --                        True\n",
      "│    │    │    │    │    └─Embedding: 6-7          [2, 1]                    [2, 1, 5]                 25                        True\n",
      "│    │    └─BinaryInputFeature: 3-10               [2]                       [2, 1]                    --                        --\n",
      "│    │    │    └─PassthroughEncoder: 4-10          [2, 1]                    [2, 1]                    --                        --\n",
      "│    │    └─NumberInputFeature: 3-11               [2]                       [2, 1]                    --                        --\n",
      "│    │    │    └─PassthroughEncoder: 4-11          [2, 1]                    [2, 1]                    --                        --\n",
      "│    │    └─NumberInputFeature: 3-12               [2]                       [2, 1]                    --                        --\n",
      "│    │    │    └─PassthroughEncoder: 4-12          [2, 1]                    [2, 1]                    --                        --\n",
      "│    │    └─NumberInputFeature: 3-13               [2]                       [2, 1]                    --                        --\n",
      "│    │    │    └─PassthroughEncoder: 4-13          [2, 1]                    [2, 1]                    --                        --\n",
      "│    │    └─CategoryInputFeature: 3-14             [2, 1]                    [2, 42]                   --                        True\n",
      "│    │    │    └─CategoricalEmbedEncoder: 4-14     [2, 1]                    [2, 42]                   --                        True\n",
      "│    │    │    │    └─Embed: 5-8                   [2, 1]                    [2, 42]                   --                        True\n",
      "│    │    │    │    │    └─Embedding: 6-8          [2, 1]                    [2, 1, 42]                1,764                     True\n",
      "├─ConcatCombiner: 1-2                              [2, 1]                    [2, 122]                  --                        --\n",
      "│    └─FCStack: 2-2                                [2, 122]                  [2, 122]                  --                        --\n",
      "├─LudwigFeatureDict: 1-3                           --                        --                        --                        True\n",
      "│    └─ModuleDict: 2-3                             --                        --                        --                        True\n",
      "│    │    └─BinaryOutputFeature: 3-15              [2, 122]                  [2]                       --                        True\n",
      "│    │    │    └─FCStack: 4-15                     [2, 122]                  [2, 122]                  --                        --\n",
      "│    │    │    └─Regressor: 4-16                   [2, 122]                  [2]                       --                        True\n",
      "│    │    │    │    └─Dense: 5-9                   [2, 122]                  [2]                       --                        True\n",
      "│    │    │    │    │    └─Linear: 6-9             [2, 122]                  [2, 1]                    123                       True\n",
      "======================================================================================================================================================\n",
      "Total params: 2,815\n",
      "Trainable params: 2,815\n",
      "Non-trainable params: 0\n",
      "Total mult-adds (M): 0.01\n",
      "======================================================================================================================================================\n",
      "Input size (MB): 0.00\n",
      "Forward/backward pass size (MB): 0.00\n",
      "Params size (MB): 0.01\n",
      "Estimated Total Size (MB): 0.01\n",
      "======================================================================================================================================================\n",
      "\n",
      "\n",
      "\n",
      "\n",
      "### adult_census_income_1 ###\n",
      "======================================================================================================================================================\n",
      "Layer (type:depth-idx)                             Input Shape               Output Shape              Param #                   Trainable\n",
      "======================================================================================================================================================\n",
      "ECD                                                [2]                       [2, 256]                  --                        True\n",
      "├─LudwigFeatureDict: 1-1                           --                        --                        --                        True\n",
      "│    └─ModuleDict: 2-1                             --                        --                        --                        True\n",
      "│    │    └─NumberInputFeature: 3-1                [2]                       [2, 1]                    --                        --\n",
      "│    │    │    └─PassthroughEncoder: 4-1           [2, 1]                    [2, 1]                    --                        --\n",
      "│    │    └─CategoryInputFeature: 3-2              [2, 1]                    [2, 9]                    --                        True\n",
      "│    │    │    └─CategoricalEmbedEncoder: 4-2      [2, 1]                    [2, 9]                    --                        True\n",
      "│    │    │    │    └─Embed: 5-1                   [2, 1]                    [2, 9]                    --                        True\n",
      "│    │    │    │    │    └─Embedding: 6-1          [2, 1]                    [2, 1, 9]                 81                        True\n",
      "│    │    └─NumberInputFeature: 3-3                [2]                       [2, 1]                    --                        --\n",
      "│    │    │    └─PassthroughEncoder: 4-3           [2, 1]                    [2, 1]                    --                        --\n",
      "│    │    └─CategoryInputFeature: 3-4              [2, 1]                    [2, 16]                   --                        True\n",
      "│    │    │    └─CategoricalEmbedEncoder: 4-4      [2, 1]                    [2, 16]                   --                        True\n",
      "│    │    │    │    └─Embed: 5-2                   [2, 1]                    [2, 16]                   --                        True\n",
      "│    │    │    │    │    └─Embedding: 6-2          [2, 1]                    [2, 1, 16]                256                       True\n",
      "│    │    └─NumberInputFeature: 3-5                [2]                       [2, 1]                    --                        --\n",
      "│    │    │    └─PassthroughEncoder: 4-5           [2, 1]                    [2, 1]                    --                        --\n",
      "│    │    └─CategoryInputFeature: 3-6              [2, 1]                    [2, 7]                    --                        True\n",
      "│    │    │    └─CategoricalEmbedEncoder: 4-6      [2, 1]                    [2, 7]                    --                        True\n",
      "│    │    │    │    └─Embed: 5-3                   [2, 1]                    [2, 7]                    --                        True\n",
      "│    │    │    │    │    └─Embedding: 6-3          [2, 1]                    [2, 1, 7]                 49                        True\n",
      "│    │    └─CategoryInputFeature: 3-7              [2, 1]                    [2, 15]                   --                        True\n",
      "│    │    │    └─CategoricalEmbedEncoder: 4-7      [2, 1]                    [2, 15]                   --                        True\n",
      "│    │    │    │    └─Embed: 5-4                   [2, 1]                    [2, 15]                   --                        True\n",
      "│    │    │    │    │    └─Embedding: 6-4          [2, 1]                    [2, 1, 15]                225                       True\n",
      "│    │    └─CategoryInputFeature: 3-8              [2, 1]                    [2, 6]                    --                        True\n",
      "│    │    │    └─CategoricalEmbedEncoder: 4-8      [2, 1]                    [2, 6]                    --                        True\n",
      "│    │    │    │    └─Embed: 5-5                   [2, 1]                    [2, 6]                    --                        True\n",
      "│    │    │    │    │    └─Embedding: 6-5          [2, 1]                    [2, 1, 6]                 36                        True\n",
      "│    │    └─CategoryInputFeature: 3-9              [2, 1]                    [2, 5]                    --                        True\n",
      "│    │    │    └─CategoricalEmbedEncoder: 4-9      [2, 1]                    [2, 5]                    --                        True\n",
      "│    │    │    │    └─Embed: 5-6                   [2, 1]                    [2, 5]                    --                        True\n",
      "│    │    │    │    │    └─Embedding: 6-6          [2, 1]                    [2, 1, 5]                 25                        True\n",
      "│    │    └─CategoryInputFeature: 3-10             [2, 1]                    [2, 2]                    --                        True\n",
      "│    │    │    └─CategoricalEmbedEncoder: 4-10     [2, 1]                    [2, 2]                    --                        True\n",
      "│    │    │    │    └─Embed: 5-7                   [2, 1]                    [2, 2]                    --                        True\n",
      "│    │    │    │    │    └─Embedding: 6-7          [2, 1]                    [2, 1, 2]                 4                         True\n",
      "│    │    └─NumberInputFeature: 3-11               [2]                       [2, 1]                    --                        --\n",
      "│    │    │    └─PassthroughEncoder: 4-11          [2, 1]                    [2, 1]                    --                        --\n",
      "│    │    └─NumberInputFeature: 3-12               [2]                       [2, 1]                    --                        --\n",
      "│    │    │    └─PassthroughEncoder: 4-12          [2, 1]                    [2, 1]                    --                        --\n",
      "│    │    └─NumberInputFeature: 3-13               [2]                       [2, 1]                    --                        --\n",
      "│    │    │    └─PassthroughEncoder: 4-13          [2, 1]                    [2, 1]                    --                        --\n",
      "│    │    └─CategoryInputFeature: 3-14             [2, 1]                    [2, 42]                   --                        True\n",
      "│    │    │    └─CategoricalEmbedEncoder: 4-14     [2, 1]                    [2, 42]                   --                        True\n",
      "│    │    │    │    └─Embed: 5-8                   [2, 1]                    [2, 42]                   --                        True\n",
      "│    │    │    │    │    └─Embedding: 6-8          [2, 1]                    [2, 1, 42]                1,764                     True\n",
      "├─ConcatCombiner: 1-2                              [2, 1]                    [2, 256]                  --                        True\n",
      "│    └─FCStack: 2-2                                [2, 108]                  [2, 256]                  --                        True\n",
      "│    │    └─Dropout: 3-15                          [2, 108]                  [2, 108]                  --                        --\n",
      "│    │    └─ModuleList: 3-16                       --                        --                        --                        True\n",
      "│    │    │    └─FCLayer: 4-15                     [2, 108]                  [2, 256]                  --                        True\n",
      "│    │    │    │    └─ModuleList: 5-9              --                        --                        --                        True\n",
      "│    │    │    │    │    └─Linear: 6-9             [2, 108]                  [2, 256]                  27,904                    True\n",
      "│    │    │    │    │    └─ReLU: 6-10              [2, 256]                  [2, 256]                  --                        --\n",
      "│    │    │    │    │    └─Dropout: 6-11           [2, 256]                  [2, 256]                  --                        --\n",
      "│    │    │    └─FCLayer: 4-16                     [2, 256]                  [2, 256]                  --                        True\n",
      "│    │    │    │    └─ModuleList: 5-10             --                        --                        --                        True\n",
      "│    │    │    │    │    └─Linear: 6-12            [2, 256]                  [2, 256]                  65,792                    True\n",
      "│    │    │    │    │    └─ReLU: 6-13              [2, 256]                  [2, 256]                  --                        --\n",
      "│    │    │    │    │    └─Dropout: 6-14           [2, 256]                  [2, 256]                  --                        --\n",
      "│    │    │    └─FCLayer: 4-17                     [2, 256]                  [2, 256]                  --                        True\n",
      "│    │    │    │    └─ModuleList: 5-11             --                        --                        --                        True\n",
      "│    │    │    │    │    └─Linear: 6-15            [2, 256]                  [2, 256]                  65,792                    True\n",
      "│    │    │    │    │    └─ReLU: 6-16              [2, 256]                  [2, 256]                  --                        --\n",
      "│    │    │    │    │    └─Dropout: 6-17           [2, 256]                  [2, 256]                  --                        --\n",
      "├─LudwigFeatureDict: 1-3                           --                        --                        --                        True\n",
      "│    └─ModuleDict: 2-3                             --                        --                        --                        True\n",
      "│    │    └─CategoryOutputFeature: 3-17            [2, 256]                  [2, 256]                  --                        True\n",
      "│    │    │    └─FCStack: 4-18                     [2, 256]                  [2, 256]                  --                        --\n",
      "│    │    │    └─Classifier: 4-19                  [2, 256]                  [2, 2]                    --                        True\n",
      "│    │    │    │    └─Dense: 5-12                  [2, 256]                  [2, 2]                    --                        True\n",
      "│    │    │    │    │    └─Linear: 6-18            [2, 256]                  [2, 2]                    514                       True\n",
      "======================================================================================================================================================\n",
      "Total params: 162,442\n",
      "Trainable params: 162,442\n",
      "Non-trainable params: 0\n",
      "Total mult-adds (M): 0.32\n",
      "======================================================================================================================================================\n",
      "Input size (MB): 0.00\n",
      "Forward/backward pass size (MB): 0.01\n",
      "Params size (MB): 0.65\n",
      "Estimated Total Size (MB): 0.66\n",
      "======================================================================================================================================================\n",
      "\n",
      "\n",
      "\n",
      "\n"
     ]
    }
   ],
   "source": [
    "ludwig_job.print_models()"
   ]
  },
  {
   "cell_type": "markdown",
   "metadata": {},
   "source": [
    "## Predict"
   ]
  },
  {
   "cell_type": "code",
   "execution_count": 21,
   "metadata": {
    "execution": {
     "iopub.execute_input": "2023-06-20T20:44:22.087353Z",
     "iopub.status.busy": "2023-06-20T20:44:22.087163Z",
     "iopub.status.idle": "2023-06-20T20:44:23.633418Z",
     "shell.execute_reply": "2023-06-20T20:44:23.632891Z",
     "shell.execute_reply.started": "2023-06-20T20:44:22.087337Z"
    }
   },
   "outputs": [
    {
     "name": "stdout",
     "output_type": "stream",
     "text": [
      "predict_model: 1\n"
     ]
    },
    {
     "data": {
      "text/html": [
       "<div>\n",
       "<style scoped>\n",
       "    .dataframe tbody tr th:only-of-type {\n",
       "        vertical-align: middle;\n",
       "    }\n",
       "\n",
       "    .dataframe tbody tr th {\n",
       "        vertical-align: top;\n",
       "    }\n",
       "\n",
       "    .dataframe thead th {\n",
       "        text-align: right;\n",
       "    }\n",
       "</style>\n",
       "<table border=\"1\" class=\"dataframe\">\n",
       "  <thead>\n",
       "    <tr style=\"text-align: right;\">\n",
       "      <th></th>\n",
       "      <th>income</th>\n",
       "      <th>income_pred</th>\n",
       "      <th>age</th>\n",
       "      <th>workclass</th>\n",
       "      <th>fnlwgt</th>\n",
       "      <th>education</th>\n",
       "      <th>education-num</th>\n",
       "      <th>marital-status</th>\n",
       "      <th>occupation</th>\n",
       "      <th>relationship</th>\n",
       "      <th>...</th>\n",
       "      <th>sex</th>\n",
       "      <th>capital-gain</th>\n",
       "      <th>capital-loss</th>\n",
       "      <th>hours-per-week</th>\n",
       "      <th>native-country</th>\n",
       "      <th>split</th>\n",
       "      <th>income_prob</th>\n",
       "      <th>income_prob</th>\n",
       "      <th>income_prob_&lt;=50K</th>\n",
       "      <th>income_prob_&gt;50K</th>\n",
       "    </tr>\n",
       "  </thead>\n",
       "  <tbody>\n",
       "    <tr>\n",
       "      <th>0</th>\n",
       "      <td>&lt;=50K</td>\n",
       "      <td>&gt;50K</td>\n",
       "      <td>50</td>\n",
       "      <td>Self-emp-not-inc</td>\n",
       "      <td>83311</td>\n",
       "      <td>Bachelors</td>\n",
       "      <td>13</td>\n",
       "      <td>Married-civ-spouse</td>\n",
       "      <td>Exec-managerial</td>\n",
       "      <td>Husband</td>\n",
       "      <td>...</td>\n",
       "      <td>Male</td>\n",
       "      <td>0</td>\n",
       "      <td>0</td>\n",
       "      <td>13</td>\n",
       "      <td>United-States</td>\n",
       "      <td>0</td>\n",
       "      <td>[0.29728376865386963, 0.7027162313461304]</td>\n",
       "      <td>0.702716</td>\n",
       "      <td>0.297284</td>\n",
       "      <td>0.702716</td>\n",
       "    </tr>\n",
       "    <tr>\n",
       "      <th>3</th>\n",
       "      <td>&lt;=50K</td>\n",
       "      <td>&gt;50K</td>\n",
       "      <td>28</td>\n",
       "      <td>Private</td>\n",
       "      <td>338409</td>\n",
       "      <td>Bachelors</td>\n",
       "      <td>13</td>\n",
       "      <td>Married-civ-spouse</td>\n",
       "      <td>Prof-specialty</td>\n",
       "      <td>Wife</td>\n",
       "      <td>...</td>\n",
       "      <td>Female</td>\n",
       "      <td>0</td>\n",
       "      <td>0</td>\n",
       "      <td>40</td>\n",
       "      <td>Cuba</td>\n",
       "      <td>0</td>\n",
       "      <td>[0.3828846216201782, 0.617115318775177]</td>\n",
       "      <td>0.617115</td>\n",
       "      <td>0.382885</td>\n",
       "      <td>0.617115</td>\n",
       "    </tr>\n",
       "    <tr>\n",
       "      <th>11</th>\n",
       "      <td>&lt;=50K</td>\n",
       "      <td>&lt;=50K</td>\n",
       "      <td>23</td>\n",
       "      <td>Private</td>\n",
       "      <td>122272</td>\n",
       "      <td>Bachelors</td>\n",
       "      <td>13</td>\n",
       "      <td>Never-married</td>\n",
       "      <td>Adm-clerical</td>\n",
       "      <td>Own-child</td>\n",
       "      <td>...</td>\n",
       "      <td>Female</td>\n",
       "      <td>0</td>\n",
       "      <td>0</td>\n",
       "      <td>30</td>\n",
       "      <td>United-States</td>\n",
       "      <td>0</td>\n",
       "      <td>[0.9876763820648193, 0.012323640286922455]</td>\n",
       "      <td>0.987676</td>\n",
       "      <td>0.987676</td>\n",
       "      <td>0.012324</td>\n",
       "    </tr>\n",
       "    <tr>\n",
       "      <th>13</th>\n",
       "      <td>&gt;50K</td>\n",
       "      <td>&lt;=50K</td>\n",
       "      <td>40</td>\n",
       "      <td>Private</td>\n",
       "      <td>121772</td>\n",
       "      <td>Assoc-voc</td>\n",
       "      <td>11</td>\n",
       "      <td>Married-civ-spouse</td>\n",
       "      <td>Craft-repair</td>\n",
       "      <td>Husband</td>\n",
       "      <td>...</td>\n",
       "      <td>Male</td>\n",
       "      <td>0</td>\n",
       "      <td>0</td>\n",
       "      <td>40</td>\n",
       "      <td>?</td>\n",
       "      <td>0</td>\n",
       "      <td>[0.8065140247344971, 0.19348594546318054]</td>\n",
       "      <td>0.806514</td>\n",
       "      <td>0.806514</td>\n",
       "      <td>0.193486</td>\n",
       "    </tr>\n",
       "    <tr>\n",
       "      <th>14</th>\n",
       "      <td>&lt;=50K</td>\n",
       "      <td>&lt;=50K</td>\n",
       "      <td>34</td>\n",
       "      <td>Private</td>\n",
       "      <td>245487</td>\n",
       "      <td>7th-8th</td>\n",
       "      <td>4</td>\n",
       "      <td>Married-civ-spouse</td>\n",
       "      <td>Transport-moving</td>\n",
       "      <td>Husband</td>\n",
       "      <td>...</td>\n",
       "      <td>Male</td>\n",
       "      <td>0</td>\n",
       "      <td>0</td>\n",
       "      <td>45</td>\n",
       "      <td>Mexico</td>\n",
       "      <td>0</td>\n",
       "      <td>[0.9304035902023315, 0.06959637254476547]</td>\n",
       "      <td>0.930404</td>\n",
       "      <td>0.930404</td>\n",
       "      <td>0.069596</td>\n",
       "    </tr>\n",
       "    <tr>\n",
       "      <th>...</th>\n",
       "      <td>...</td>\n",
       "      <td>...</td>\n",
       "      <td>...</td>\n",
       "      <td>...</td>\n",
       "      <td>...</td>\n",
       "      <td>...</td>\n",
       "      <td>...</td>\n",
       "      <td>...</td>\n",
       "      <td>...</td>\n",
       "      <td>...</td>\n",
       "      <td>...</td>\n",
       "      <td>...</td>\n",
       "      <td>...</td>\n",
       "      <td>...</td>\n",
       "      <td>...</td>\n",
       "      <td>...</td>\n",
       "      <td>...</td>\n",
       "      <td>...</td>\n",
       "      <td>...</td>\n",
       "      <td>...</td>\n",
       "      <td>...</td>\n",
       "    </tr>\n",
       "    <tr>\n",
       "      <th>45593</th>\n",
       "      <td>&gt;50K</td>\n",
       "      <td>&gt;50K</td>\n",
       "      <td>69</td>\n",
       "      <td>Self-emp-not-inc</td>\n",
       "      <td>187332</td>\n",
       "      <td>Prof-school</td>\n",
       "      <td>15</td>\n",
       "      <td>Married-civ-spouse</td>\n",
       "      <td>Prof-specialty</td>\n",
       "      <td>Husband</td>\n",
       "      <td>...</td>\n",
       "      <td>Male</td>\n",
       "      <td>20051</td>\n",
       "      <td>0</td>\n",
       "      <td>45</td>\n",
       "      <td>United-States</td>\n",
       "      <td>2</td>\n",
       "      <td>[0.05307492986321449, 0.9469250440597534]</td>\n",
       "      <td>0.946925</td>\n",
       "      <td>0.053075</td>\n",
       "      <td>0.946925</td>\n",
       "    </tr>\n",
       "    <tr>\n",
       "      <th>45895</th>\n",
       "      <td>&lt;=50K</td>\n",
       "      <td>&lt;=50K</td>\n",
       "      <td>58</td>\n",
       "      <td>Private</td>\n",
       "      <td>128258</td>\n",
       "      <td>HS-grad</td>\n",
       "      <td>9</td>\n",
       "      <td>Divorced</td>\n",
       "      <td>Sales</td>\n",
       "      <td>Not-in-family</td>\n",
       "      <td>...</td>\n",
       "      <td>Female</td>\n",
       "      <td>0</td>\n",
       "      <td>0</td>\n",
       "      <td>24</td>\n",
       "      <td>United-States</td>\n",
       "      <td>2</td>\n",
       "      <td>[0.9865099787712097, 0.013489998877048492]</td>\n",
       "      <td>0.986510</td>\n",
       "      <td>0.986510</td>\n",
       "      <td>0.013490</td>\n",
       "    </tr>\n",
       "    <tr>\n",
       "      <th>47854</th>\n",
       "      <td>&lt;=50K</td>\n",
       "      <td>&lt;=50K</td>\n",
       "      <td>42</td>\n",
       "      <td>Self-emp-not-inc</td>\n",
       "      <td>210013</td>\n",
       "      <td>Some-college</td>\n",
       "      <td>10</td>\n",
       "      <td>Married-civ-spouse</td>\n",
       "      <td>Craft-repair</td>\n",
       "      <td>Husband</td>\n",
       "      <td>...</td>\n",
       "      <td>Male</td>\n",
       "      <td>0</td>\n",
       "      <td>0</td>\n",
       "      <td>45</td>\n",
       "      <td>United-States</td>\n",
       "      <td>2</td>\n",
       "      <td>[0.5640255212783813, 0.43597447872161865]</td>\n",
       "      <td>0.564026</td>\n",
       "      <td>0.564026</td>\n",
       "      <td>0.435974</td>\n",
       "    </tr>\n",
       "    <tr>\n",
       "      <th>47997</th>\n",
       "      <td>&lt;=50K</td>\n",
       "      <td>&lt;=50K</td>\n",
       "      <td>28</td>\n",
       "      <td>Private</td>\n",
       "      <td>336951</td>\n",
       "      <td>HS-grad</td>\n",
       "      <td>9</td>\n",
       "      <td>Married-civ-spouse</td>\n",
       "      <td>Craft-repair</td>\n",
       "      <td>Husband</td>\n",
       "      <td>...</td>\n",
       "      <td>Male</td>\n",
       "      <td>0</td>\n",
       "      <td>0</td>\n",
       "      <td>40</td>\n",
       "      <td>United-States</td>\n",
       "      <td>2</td>\n",
       "      <td>[0.7870173454284668, 0.21298262476921082]</td>\n",
       "      <td>0.787017</td>\n",
       "      <td>0.787017</td>\n",
       "      <td>0.212983</td>\n",
       "    </tr>\n",
       "    <tr>\n",
       "      <th>48839</th>\n",
       "      <td>&gt;50K</td>\n",
       "      <td>&gt;50K</td>\n",
       "      <td>35</td>\n",
       "      <td>Self-emp-inc</td>\n",
       "      <td>182148</td>\n",
       "      <td>Bachelors</td>\n",
       "      <td>13</td>\n",
       "      <td>Married-civ-spouse</td>\n",
       "      <td>Exec-managerial</td>\n",
       "      <td>Husband</td>\n",
       "      <td>...</td>\n",
       "      <td>Male</td>\n",
       "      <td>0</td>\n",
       "      <td>0</td>\n",
       "      <td>60</td>\n",
       "      <td>United-States</td>\n",
       "      <td>2</td>\n",
       "      <td>[0.061124447733163834, 0.9388755559921265]</td>\n",
       "      <td>0.938876</td>\n",
       "      <td>0.061124</td>\n",
       "      <td>0.938876</td>\n",
       "    </tr>\n",
       "  </tbody>\n",
       "</table>\n",
       "<p>100 rows × 21 columns</p>\n",
       "</div>"
      ],
      "text/plain": [
       "      income income_pred  age          workclass  fnlwgt      education  \\\n",
       "0      <=50K        >50K   50   Self-emp-not-inc   83311      Bachelors   \n",
       "3      <=50K        >50K   28            Private  338409      Bachelors   \n",
       "11     <=50K       <=50K   23            Private  122272      Bachelors   \n",
       "13      >50K       <=50K   40            Private  121772      Assoc-voc   \n",
       "14     <=50K       <=50K   34            Private  245487        7th-8th   \n",
       "...      ...         ...  ...                ...     ...            ...   \n",
       "45593   >50K        >50K   69   Self-emp-not-inc  187332    Prof-school   \n",
       "45895  <=50K       <=50K   58            Private  128258        HS-grad   \n",
       "47854  <=50K       <=50K   42   Self-emp-not-inc  210013   Some-college   \n",
       "47997  <=50K       <=50K   28            Private  336951        HS-grad   \n",
       "48839   >50K        >50K   35       Self-emp-inc  182148      Bachelors   \n",
       "\n",
       "       education-num       marital-status         occupation    relationship  \\\n",
       "0                 13   Married-civ-spouse    Exec-managerial         Husband   \n",
       "3                 13   Married-civ-spouse     Prof-specialty            Wife   \n",
       "11                13        Never-married       Adm-clerical       Own-child   \n",
       "13                11   Married-civ-spouse       Craft-repair         Husband   \n",
       "14                 4   Married-civ-spouse   Transport-moving         Husband   \n",
       "...              ...                  ...                ...             ...   \n",
       "45593             15   Married-civ-spouse     Prof-specialty         Husband   \n",
       "45895              9             Divorced              Sales   Not-in-family   \n",
       "47854             10   Married-civ-spouse       Craft-repair         Husband   \n",
       "47997              9   Married-civ-spouse       Craft-repair         Husband   \n",
       "48839             13   Married-civ-spouse    Exec-managerial         Husband   \n",
       "\n",
       "       ...      sex capital-gain  capital-loss  hours-per-week  \\\n",
       "0      ...     Male            0             0              13   \n",
       "3      ...   Female            0             0              40   \n",
       "11     ...   Female            0             0              30   \n",
       "13     ...     Male            0             0              40   \n",
       "14     ...     Male            0             0              45   \n",
       "...    ...      ...          ...           ...             ...   \n",
       "45593  ...     Male        20051             0              45   \n",
       "45895  ...   Female            0             0              24   \n",
       "47854  ...     Male            0             0              45   \n",
       "47997  ...     Male            0             0              40   \n",
       "48839  ...     Male            0             0              60   \n",
       "\n",
       "       native-country split                                 income_prob  \\\n",
       "0       United-States     0   [0.29728376865386963, 0.7027162313461304]   \n",
       "3                Cuba     0     [0.3828846216201782, 0.617115318775177]   \n",
       "11      United-States     0  [0.9876763820648193, 0.012323640286922455]   \n",
       "13                  ?     0   [0.8065140247344971, 0.19348594546318054]   \n",
       "14             Mexico     0   [0.9304035902023315, 0.06959637254476547]   \n",
       "...               ...   ...                                         ...   \n",
       "45593   United-States     2   [0.05307492986321449, 0.9469250440597534]   \n",
       "45895   United-States     2  [0.9865099787712097, 0.013489998877048492]   \n",
       "47854   United-States     2   [0.5640255212783813, 0.43597447872161865]   \n",
       "47997   United-States     2   [0.7870173454284668, 0.21298262476921082]   \n",
       "48839   United-States     2  [0.061124447733163834, 0.9388755559921265]   \n",
       "\n",
       "      income_prob  income_prob_<=50K  income_prob_>50K  \n",
       "0        0.702716           0.297284          0.702716  \n",
       "3        0.617115           0.382885          0.617115  \n",
       "11       0.987676           0.987676          0.012324  \n",
       "13       0.806514           0.806514          0.193486  \n",
       "14       0.930404           0.930404          0.069596  \n",
       "...           ...                ...               ...  \n",
       "45593    0.946925           0.053075          0.946925  \n",
       "45895    0.986510           0.986510          0.013490  \n",
       "47854    0.564026           0.564026          0.435974  \n",
       "47997    0.787017           0.787017          0.212983  \n",
       "48839    0.938876           0.061124          0.938876  \n",
       "\n",
       "[100 rows x 21 columns]"
      ]
     },
     "execution_count": 21,
     "metadata": {},
     "output_type": "execute_result"
    }
   ],
   "source": [
    "# load_model\n",
    "predict_model = ludwig_job.train_jobs[-1]\n",
    "print('predict_model:',predict_model)\n",
    "ludwig_job.load_model(predict_model)\n",
    "\n",
    "# data\n",
    "data_sample = pak.sample(data_df, predicts_size)\n",
    "\n",
    "# predict\n",
    "data_sample = ludwig_job.predict(data_sample)\n",
    "data_sample"
   ]
  },
  {
   "cell_type": "markdown",
   "metadata": {
    "id": "fJQNbEcpl-nm"
   },
   "source": [
    "## Colab: Copy back"
   ]
  },
  {
   "cell_type": "code",
   "execution_count": 22,
   "metadata": {
    "execution": {
     "iopub.execute_input": "2023-06-20T20:44:23.634396Z",
     "iopub.status.busy": "2023-06-20T20:44:23.634242Z",
     "iopub.status.idle": "2023-06-20T20:44:23.670598Z",
     "shell.execute_reply": "2023-06-20T20:44:23.669627Z",
     "shell.execute_reply.started": "2023-06-20T20:44:23.634382Z"
    }
   },
   "outputs": [
    {
     "name": "stdout",
     "output_type": "stream",
     "text": [
      "Stop Time:  22:44:23\n",
      "Elapsed:    1 min, 35 secs\n"
     ]
    },
    {
     "data": {
      "text/html": [
       "<img src onerror=\"var cell = this.closest('.jp-CodeCell');var editor = cell.querySelector('.jp-Editor');editor.style.background='DarkGray';this.parentNode.removeChild(this)\">"
      ],
      "text/plain": [
       "<IPython.core.display.HTML object>"
      ]
     },
     "metadata": {},
     "output_type": "display_data"
    }
   ],
   "source": [
    "if not environment['in_colab']:\n",
    "    raise Stop"
   ]
  },
  {
   "cell_type": "code",
   "execution_count": null,
   "metadata": {
    "colab": {
     "base_uri": "https://localhost:8080/"
    },
    "execution": {
     "iopub.status.busy": "2023-06-20T20:44:23.670986Z",
     "iopub.status.idle": "2023-06-20T20:44:23.671181Z",
     "shell.execute_reply": "2023-06-20T20:44:23.671097Z",
     "shell.execute_reply.started": "2023-06-20T20:44:23.671086Z"
    },
    "executionInfo": {
     "elapsed": 1692,
     "status": "ok",
     "timestamp": 1686256133157,
     "user": {
      "displayName": "Familie Klippstein",
      "userId": "08973939190628445877"
     },
     "user_tz": -120
    },
    "id": "uHW7Ko-NslUa",
    "outputId": "590edae0-b15b-401a-c208-1c701e4668f5"
   },
   "outputs": [],
   "source": [
    "# mount\n",
    "if environment['in_colab']:\n",
    "    from google.colab import drive\n",
    "    drive.mount('/content/drive')  "
   ]
  },
  {
   "cell_type": "code",
   "execution_count": null,
   "metadata": {
    "colab": {
     "base_uri": "https://localhost:8080/"
    },
    "execution": {
     "iopub.status.busy": "2023-06-20T20:44:23.671951Z",
     "iopub.status.idle": "2023-06-20T20:44:23.672253Z",
     "shell.execute_reply": "2023-06-20T20:44:23.672115Z",
     "shell.execute_reply.started": "2023-06-20T20:44:23.672097Z"
    },
    "executionInfo": {
     "elapsed": 1575,
     "status": "ok",
     "timestamp": 1686256600179,
     "user": {
      "displayName": "Familie Klippstein",
      "userId": "08973939190628445877"
     },
     "user_tz": -120
    },
    "id": "meeL3dGNmCaL",
    "outputId": "4becf288-c76a-4978-8524-5d4b3c4e0175"
   },
   "outputs": [],
   "source": [
    "# mount\n",
    "if environment['in_colab']:\n",
    "    from google.colab import drive\n",
    "    drive.mount('/content/drive')  "
   ]
  },
  {
   "cell_type": "code",
   "execution_count": null,
   "metadata": {
    "colab": {
     "base_uri": "https://localhost:8080/"
    },
    "execution": {
     "iopub.status.busy": "2023-06-20T20:44:23.673069Z",
     "iopub.status.idle": "2023-06-20T20:44:23.673280Z",
     "shell.execute_reply": "2023-06-20T20:44:23.673197Z",
     "shell.execute_reply.started": "2023-06-20T20:44:23.673173Z"
    },
    "executionInfo": {
     "elapsed": 380,
     "status": "ok",
     "timestamp": 1686256600550,
     "user": {
      "displayName": "Familie Klippstein",
      "userId": "08973939190628445877"
     },
     "user_tz": -120
    },
    "id": "OVs054v5nE-W",
    "outputId": "9ca81e32-dca0-47a7-bdb8-253feb45c119"
   },
   "outputs": [],
   "source": [
    "if environment['in_colab']:\n",
    "    !ls"
   ]
  },
  {
   "cell_type": "code",
   "execution_count": null,
   "metadata": {
    "colab": {
     "base_uri": "https://localhost:8080/"
    },
    "execution": {
     "iopub.status.busy": "2023-06-20T20:44:23.673908Z",
     "iopub.status.idle": "2023-06-20T20:44:23.674114Z",
     "shell.execute_reply": "2023-06-20T20:44:23.674032Z",
     "shell.execute_reply.started": "2023-06-20T20:44:23.674009Z"
    },
    "executionInfo": {
     "elapsed": 23,
     "status": "ok",
     "timestamp": 1686256600552,
     "user": {
      "displayName": "Familie Klippstein",
      "userId": "08973939190628445877"
     },
     "user_tz": -120
    },
    "id": "M0AjzScGnJKF",
    "outputId": "c8524dfc-63c4-47c7-b88a-5b87bb2c8e2f"
   },
   "outputs": [],
   "source": [
    "if environment['in_colab']:\n",
    "    !ls results"
   ]
  },
  {
   "cell_type": "code",
   "execution_count": null,
   "metadata": {
    "execution": {
     "iopub.status.busy": "2023-06-20T20:44:23.674834Z",
     "iopub.status.idle": "2023-06-20T20:44:23.675094Z",
     "shell.execute_reply": "2023-06-20T20:44:23.675010Z",
     "shell.execute_reply.started": "2023-06-20T20:44:23.674999Z"
    },
    "executionInfo": {
     "elapsed": 2378,
     "status": "ok",
     "timestamp": 1686256602921,
     "user": {
      "displayName": "Familie Klippstein",
      "userId": "08973939190628445877"
     },
     "user_tz": -120
    },
    "id": "fPesu0Nhm06i"
   },
   "outputs": [],
   "source": [
    "# results: copy to GDrive\n",
    "if environment['in_colab']:\n",
    "  results_path = gdrive_base + '/results'\n",
    "  !cp -a results $results_path \n",
    "  !cp train_log*.csv $gdrive_base "
   ]
  },
  {
   "cell_type": "code",
   "execution_count": null,
   "metadata": {
    "colab": {
     "base_uri": "https://localhost:8080/"
    },
    "execution": {
     "iopub.status.busy": "2023-06-20T20:44:23.675582Z",
     "iopub.status.idle": "2023-06-20T20:44:23.675763Z",
     "shell.execute_reply": "2023-06-20T20:44:23.675679Z",
     "shell.execute_reply.started": "2023-06-20T20:44:23.675668Z"
    },
    "executionInfo": {
     "elapsed": 14,
     "status": "ok",
     "timestamp": 1686256964163,
     "user": {
      "displayName": "Familie Klippstein",
      "userId": "08973939190628445877"
     },
     "user_tz": -120
    },
    "id": "-GyVispFp1fh",
    "outputId": "db117307-3146-4688-d909-c5c419e7c637"
   },
   "outputs": [],
   "source": [
    "if environment['in_colab']:\n",
    "    print('Copy back manually:')\n",
    "    print('1) This ipynb-File, if changed')\n",
    "    print('2) results directory')\n",
    "    print('3) train_log file')    \n",
    "else:\n",
    "    print('finished')"
   ]
  },
  {
   "cell_type": "code",
   "execution_count": null,
   "metadata": {
    "colab": {
     "base_uri": "https://localhost:8080/",
     "height": 115
    },
    "execution": {
     "iopub.status.busy": "2023-06-20T20:44:23.676178Z",
     "iopub.status.idle": "2023-06-20T20:44:23.676359Z",
     "shell.execute_reply": "2023-06-20T20:44:23.676276Z",
     "shell.execute_reply.started": "2023-06-20T20:44:23.676266Z"
    },
    "executionInfo": {
     "elapsed": 32,
     "status": "error",
     "timestamp": 1686256603816,
     "user": {
      "displayName": "Familie Klippstein",
      "userId": "08973939190628445877"
     },
     "user_tz": -120
    },
    "id": "QmJKsnOlrJl_",
    "outputId": "4eb142c5-8f2f-4b60-b8a8-bdbd2682e5b3"
   },
   "outputs": [],
   "source": [
    "raise Stop"
   ]
  }
 ],
 "metadata": {
  "accelerator": "GPU",
  "colab": {
   "provenance": []
  },
  "kernelspec": {
   "display_name": "Python 3 (ipykernel)",
   "language": "python",
   "name": "python3"
  },
  "language_info": {
   "codemirror_mode": {
    "name": "ipython",
    "version": 3
   },
   "file_extension": ".py",
   "mimetype": "text/x-python",
   "name": "python",
   "nbconvert_exporter": "python",
   "pygments_lexer": "ipython3",
   "version": "3.9.15"
  }
 },
 "nbformat": 4,
 "nbformat_minor": 4
}

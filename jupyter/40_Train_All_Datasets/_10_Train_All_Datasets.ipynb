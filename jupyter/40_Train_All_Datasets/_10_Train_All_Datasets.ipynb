{
 "cells": [
  {
   "cell_type": "markdown",
   "metadata": {},
   "source": [
    "__[Open and try this file online (Colab)](https://colab.research.google.com/github/djekra/bludwig/blob/main/jupyter/40_Train_All_Datasets/_10_Train_All_Datasets.ipynb)__"
   ]
  },
  {
   "cell_type": "code",
   "execution_count": 1,
   "metadata": {
    "colab": {
     "base_uri": "https://localhost:8080/",
     "height": 86
    },
    "execution": {
     "iopub.execute_input": "2023-06-21T14:39:12.898434Z",
     "iopub.status.busy": "2023-06-21T14:39:12.896792Z",
     "iopub.status.idle": "2023-06-21T14:39:13.970109Z",
     "shell.execute_reply": "2023-06-21T14:39:13.968967Z",
     "shell.execute_reply.started": "2023-06-21T14:39:12.898367Z"
    },
    "executionInfo": {
     "elapsed": 363,
     "status": "ok",
     "timestamp": 1686173310843,
     "user": {
      "displayName": "Familie Klippstein",
      "userId": "08973939190628445877"
     },
     "user_tz": -120
    },
    "id": "DgB2Td0tOvr7",
    "outputId": "62803628-9556-4941-c241-ac3ddf910539"
   },
   "outputs": [
    {
     "name": "stdout",
     "output_type": "stream",
     "text": [
      "blab init\n",
      "environment['in_colab']     = False\n",
      "environment['dropbox_path'] = /home/me/Data_Linux/Dropbox\n",
      "environment['lib_path']     = /home/me/Data_Linux/Dropbox/31_Projekte/01_Python/libs\n",
      "Start Time: 16:39:13\n"
     ]
    },
    {
     "data": {
      "text/html": [
       "<img src onerror=\"var cell = this.closest('.jp-CodeCell');var editor = cell.querySelector('.jp-Editor');editor.style.background='Beige';this.parentNode.removeChild(this)\">"
      ],
      "text/plain": [
       "<IPython.core.display.HTML object>"
      ]
     },
     "metadata": {},
     "output_type": "display_data"
    }
   ],
   "source": [
    "# blab init\n",
    "try:\n",
    "    import blab\n",
    "except ImportError as e:\n",
    "    !pip install --quiet blab\n",
    "    import blab    \n",
    "startup_notebook = blab.blab_startup()\n",
    "%run $startup_notebook "
   ]
  },
  {
   "cell_type": "markdown",
   "metadata": {
    "id": "dqW_BZ60kyWP"
   },
   "source": [
    "# Train All Datasets\n",
    "* Continuable if interrupted\n",
    "* Cleanup / Restart: Start the notebook with mode='C'"
   ]
  },
  {
   "cell_type": "code",
   "execution_count": 2,
   "metadata": {
    "execution": {
     "iopub.execute_input": "2023-06-21T14:39:13.971604Z",
     "iopub.status.busy": "2023-06-21T14:39:13.971292Z",
     "iopub.status.idle": "2023-06-21T14:39:13.989071Z",
     "shell.execute_reply": "2023-06-21T14:39:13.988388Z",
     "shell.execute_reply.started": "2023-06-21T14:39:13.971583Z"
    },
    "executionInfo": {
     "elapsed": 463,
     "status": "ok",
     "timestamp": 1686173335567,
     "user": {
      "displayName": "Familie Klippstein",
      "userId": "08973939190628445877"
     },
     "user_tz": -120
    },
    "id": "wj1f-u_vOvsK"
   },
   "outputs": [
    {
     "data": {
      "text/html": [
       "<img src onerror=\"var cell = this.closest('.jp-CodeCell');var editor = cell.querySelector('.jp-Editor');editor.style.background='Beige';this.parentNode.removeChild(this)\">"
      ],
      "text/plain": [
       "<IPython.core.display.HTML object>"
      ]
     },
     "metadata": {},
     "output_type": "display_data"
    }
   ],
   "source": [
    "# Settings\n",
    "\n",
    "mode            = 'T'                      # mode: C=Cleanup, T=Train\n",
    "use_cache       = True                     # for scan_datasets. The cache is scan_datasets.temp.pickle\n",
    "rows_max        = 99999999                 # datasets bigger than max rows are ignored\n",
    "\n",
    "# do_not_scan\n",
    "very_big        = ['amazon_review_polarity','amazon_reviews','jigsaw_unintended_bias','mercari_price_suggestion', 'yahoo_answers', 'synthetic_fraud']  \n",
    "very_long       = ['melbourne_airbnb']  \n",
    "very_bad        = ['goodbooks_books_0']  \n",
    "error_train     = ['reuters_cmu', 'ohsumed_cmu', 'flickr8k', 'california_house_price', 'goemotions']\n",
    "other_problems  = ['higgs','alpaca','news_popularity2']  \n",
    "do_not_scan     = very_big + very_long + very_bad + error_train + other_problems\n",
    "\n",
    "gdrive_base   = 'drive/MyDrive/Colab'\n",
    "bgc('Beige')"
   ]
  },
  {
   "cell_type": "code",
   "execution_count": 3,
   "metadata": {
    "colab": {
     "base_uri": "https://localhost:8080/"
    },
    "execution": {
     "iopub.execute_input": "2023-06-21T14:39:13.990106Z",
     "iopub.status.busy": "2023-06-21T14:39:13.989862Z",
     "iopub.status.idle": "2023-06-21T14:39:14.005502Z",
     "shell.execute_reply": "2023-06-21T14:39:14.004682Z",
     "shell.execute_reply.started": "2023-06-21T14:39:13.990084Z"
    },
    "executionInfo": {
     "elapsed": 23608,
     "status": "ok",
     "timestamp": 1686173335132,
     "user": {
      "displayName": "Familie Klippstein",
      "userId": "08973939190628445877"
     },
     "user_tz": -120
    },
    "id": "DiBUpR-GPcys",
    "outputId": "c57587a6-02d9-4fb1-cced-852f95d6c5f7"
   },
   "outputs": [],
   "source": [
    "# Colab? >> Install the latest version of Ludwig\n",
    "if environment['in_colab']:\n",
    "  !pip uninstall -y tensorflow --quiet\n",
    "  !python -m pip install git+https://github.com/ludwig-ai/ludwig.git --quiet \n",
    "  !pip install ptitprince --quiet \n",
    "  !pip install bludwig --quiet "
   ]
  },
  {
   "cell_type": "code",
   "execution_count": 4,
   "metadata": {
    "colab": {
     "base_uri": "https://localhost:8080/"
    },
    "execution": {
     "iopub.execute_input": "2023-06-21T14:39:14.007850Z",
     "iopub.status.busy": "2023-06-21T14:39:14.007365Z",
     "iopub.status.idle": "2023-06-21T14:39:15.903771Z",
     "shell.execute_reply": "2023-06-21T14:39:15.901059Z",
     "shell.execute_reply.started": "2023-06-21T14:39:14.007825Z"
    },
    "executionInfo": {
     "elapsed": 30,
     "status": "ok",
     "timestamp": 1686256005696,
     "user": {
      "displayName": "Familie Klippstein",
      "userId": "08973939190628445877"
     },
     "user_tz": -120
    },
    "id": "HnYdSdJXOvsC",
    "outputId": "d726faf8-b46a-4253-b985-bee1199a157c"
   },
   "outputs": [
    {
     "name": "stdout",
     "output_type": "stream",
     "text": [
      "Stop Time:  16:39:15\n",
      "Elapsed:    2 secs\n"
     ]
    },
    {
     "data": {
      "text/html": [
       "<img src onerror=\"var cell = this.closest('.jp-CodeCell');var editor = cell.querySelector('.jp-Editor');editor.style.background='DarkGray';this.parentNode.removeChild(this)\">"
      ],
      "text/plain": [
       "<IPython.core.display.HTML object>"
      ]
     },
     "metadata": {},
     "output_type": "display_data"
    }
   ],
   "source": [
    "# cleanup?\n",
    "if mode == 'C': \n",
    "    try:\n",
    "        !rm -rf results\n",
    "        !rm *.meta.json\n",
    "        !rm *.hdf5    \n",
    "        !rm *.temp.pickle        \n",
    "        !rm .lock_preprocessing\n",
    "        !rm train_log*.csv\n",
    "        !rm datasets.csv        \n",
    "    except:\n",
    "        pass\n",
    " \n",
    "\n",
    "if mode == 'C':\n",
    "    raise Stop\n",
    "else:\n",
    "    bgc('WhiteSmoke')"
   ]
  },
  {
   "cell_type": "code",
   "execution_count": null,
   "metadata": {
    "colab": {
     "base_uri": "https://localhost:8080/"
    },
    "execution": {
     "iopub.status.busy": "2023-06-21T14:39:15.906108Z",
     "iopub.status.idle": "2023-06-21T14:39:15.914391Z",
     "shell.execute_reply": "2023-06-21T14:39:15.914093Z",
     "shell.execute_reply.started": "2023-06-21T14:39:15.914055Z"
    },
    "executionInfo": {
     "elapsed": 16727,
     "status": "ok",
     "timestamp": 1686256022749,
     "user": {
      "displayName": "Familie Klippstein",
      "userId": "08973939190628445877"
     },
     "user_tz": -120
    },
    "id": "n3WFMAGxOvsI",
    "outputId": "64989a50-9319-47e9-e8b0-d29a06e19abe"
   },
   "outputs": [],
   "source": [
    "# import \n",
    "import pandas as pd\n",
    "import pandasklar as pak\n",
    "grid = pak.grid\n",
    "import ludwig\n",
    "import bludwig"
   ]
  },
  {
   "cell_type": "markdown",
   "metadata": {
    "id": "hW9kA_qSOvsN"
   },
   "source": [
    "## Define Datasets to Train"
   ]
  },
  {
   "cell_type": "code",
   "execution_count": null,
   "metadata": {
    "execution": {
     "iopub.status.busy": "2023-06-21T14:39:15.918898Z",
     "iopub.status.idle": "2023-06-21T14:39:15.920908Z",
     "shell.execute_reply": "2023-06-21T14:39:15.920689Z",
     "shell.execute_reply.started": "2023-06-21T14:39:15.920664Z"
    }
   },
   "outputs": [],
   "source": [
    "# get all datasets available\n",
    "dataset_names = ludwig.datasets.list_datasets()\n",
    "dataset_names = [x for x in dataset_names if x not in do_not_scan]\n",
    "print(len(dataset_names),'datasets found')"
   ]
  },
  {
   "cell_type": "code",
   "execution_count": null,
   "metadata": {
    "execution": {
     "iopub.status.busy": "2023-06-21T14:39:15.922003Z",
     "iopub.status.idle": "2023-06-21T14:39:15.926649Z",
     "shell.execute_reply": "2023-06-21T14:39:15.926400Z",
     "shell.execute_reply.started": "2023-06-21T14:39:15.926368Z"
    }
   },
   "outputs": [],
   "source": [
    "# scan_datasets\n",
    "datasets = bludwig.scan_datasets(dataset_names, use_cache=use_cache)"
   ]
  },
  {
   "cell_type": "code",
   "execution_count": null,
   "metadata": {
    "execution": {
     "iopub.status.busy": "2023-06-21T14:39:15.927830Z",
     "iopub.status.idle": "2023-06-21T14:39:15.934149Z",
     "shell.execute_reply": "2023-06-21T14:39:15.933909Z",
     "shell.execute_reply.started": "2023-06-21T14:39:15.933881Z"
    }
   },
   "outputs": [],
   "source": [
    "# sort_values\n",
    "datasets = datasets.sort_values(['status','rows'], ascending=[False,True])\n",
    "datasets = pak.reset_index(datasets)"
   ]
  },
  {
   "cell_type": "code",
   "execution_count": null,
   "metadata": {
    "execution": {
     "iopub.status.busy": "2023-06-21T14:39:15.935331Z",
     "iopub.status.idle": "2023-06-21T14:39:15.935991Z",
     "shell.execute_reply": "2023-06-21T14:39:15.935817Z",
     "shell.execute_reply.started": "2023-06-21T14:39:15.935795Z"
    }
   },
   "outputs": [],
   "source": [
    "# already done?\n",
    "try:\n",
    "    done = set(pd.read_csv('train_log_big.csv').set_index('name').T.experiment_name)\n",
    "    print('done:',done)\n",
    "    mask = datasets.dataset_name.isin(done)\n",
    "    datasets.loc[mask,'status'] = 'done'    \n",
    "except:\n",
    "    print('nothing')\n",
    "    done = []"
   ]
  },
  {
   "cell_type": "code",
   "execution_count": null,
   "metadata": {
    "execution": {
     "iopub.status.busy": "2023-06-21T14:39:15.937056Z",
     "iopub.status.idle": "2023-06-21T14:39:15.937701Z",
     "shell.execute_reply": "2023-06-21T14:39:15.937528Z",
     "shell.execute_reply.started": "2023-06-21T14:39:15.937505Z"
    }
   },
   "outputs": [],
   "source": [
    "# Examine datasets ok so far\n",
    "mask = datasets.status == 'ok'\n",
    "grid(datasets[mask])"
   ]
  },
  {
   "cell_type": "code",
   "execution_count": null,
   "metadata": {
    "execution": {
     "iopub.status.busy": "2023-06-21T14:39:15.938784Z",
     "iopub.status.idle": "2023-06-21T14:39:15.939473Z",
     "shell.execute_reply": "2023-06-21T14:39:15.939294Z",
     "shell.execute_reply.started": "2023-06-21T14:39:15.939271Z"
    }
   },
   "outputs": [],
   "source": [
    "# Examine datasets done / errors\n",
    "mask = datasets.status != 'ok'\n",
    "grid(datasets[mask])"
   ]
  },
  {
   "cell_type": "markdown",
   "metadata": {
    "id": "hW9kA_qSOvsN"
   },
   "source": [
    "## Train"
   ]
  },
  {
   "cell_type": "code",
   "execution_count": null,
   "metadata": {
    "execution": {
     "iopub.status.busy": "2023-06-21T14:39:15.946839Z",
     "iopub.status.idle": "2023-06-21T14:39:15.947503Z",
     "shell.execute_reply": "2023-06-21T14:39:15.947328Z",
     "shell.execute_reply.started": "2023-06-21T14:39:15.947308Z"
    }
   },
   "outputs": [],
   "source": [
    "# try to continue train_log_all\n",
    "try:\n",
    "    train_log_all = pd.read_csv('train_log_raw.csv')\n",
    "except:\n",
    "    train_log_all = pd.DataFrame()"
   ]
  },
  {
   "cell_type": "code",
   "execution_count": null,
   "metadata": {
    "execution": {
     "iopub.status.busy": "2023-06-21T14:39:15.948605Z",
     "iopub.status.idle": "2023-06-21T14:39:15.949247Z",
     "shell.execute_reply": "2023-06-21T14:39:15.949083Z",
     "shell.execute_reply.started": "2023-06-21T14:39:15.949064Z"
    }
   },
   "outputs": [],
   "source": [
    "# main loop\n",
    "\n",
    "for i, dataset in datasets.iterrows():\n",
    "    \n",
    "    experiment_name = dataset.dataset_name\n",
    "    \n",
    "    if dataset.rows <= 0:\n",
    "        continue\n",
    "\n",
    "    if dataset.status in ['done']:\n",
    "        continue      \n",
    "\n",
    "    if experiment_name in do_not_scan:\n",
    "        continue      \n",
    "\n",
    "    if dataset.rows > rows_max:\n",
    "        mask = datasets.dataset_name == experiment_name\n",
    "        datasets.loc[mask, 'status'] = 'too big'        \n",
    "        continue        \n",
    "\n",
    "    print('\\n\\n\\nTrain', experiment_name)\n",
    "\n",
    "    # load_dataset\n",
    "    try:\n",
    "        data_df, dataset_loader = bludwig.load_dataset(experiment_name)\n",
    "        print(data_df.shape[0], 'records for training, validation and test')\n",
    "        mask = datasets.dataset_name == experiment_name\n",
    "        datasets.loc[mask, 'status'] = 'ok load'\n",
    "\n",
    "        \n",
    "    except:\n",
    "        mask = datasets.dataset_name == experiment_name\n",
    "        datasets.loc[mask, 'status'] = 'Error load'\n",
    "        continue\n",
    "    \n",
    "\n",
    "    # configs & initialize\n",
    "    try:\n",
    "        configs = bludwig.configs(data_df, dataset_loader)\n",
    "        for i, c in enumerate(configs):\n",
    "            print('\\n====== config for model {} ======\\n'.format( experiment_name + '_' + str(i)))\n",
    "            print(c)\n",
    "            print('\\n\\n')\n",
    "        ludwig_job = bludwig.LudwigJob( configs=configs, experiment_name=experiment_name, verbose=False) \n",
    "        mask = datasets.dataset_name == experiment_name\n",
    "        datasets.loc[mask, 'status'] = 'ok init'\n",
    "\n",
    "        \n",
    "    except:\n",
    "        mask = datasets.dataset_name == experiment_name\n",
    "        datasets.loc[mask, 'status'] = 'Error init'\n",
    "        continue        \n",
    "\n",
    "          \n",
    "\n",
    "    # train & log\n",
    "    try:\n",
    "        \n",
    "        ludwig_job.experiment(data_df)\n",
    "        train_log_all = pak.add_rows( train_log_all, ludwig_job.train_log )\n",
    "        bludwig.train_log_to_csv(train_log_all)  \n",
    "\n",
    "        # datasets\n",
    "        mask = datasets.dataset_name == experiment_name\n",
    "        datasets.loc[mask, 'status'] = 'ok train'\n",
    "        for feld in ['epochs','train_secs','train_time','loss']:\n",
    "            mask_log = ludwig_job.train_log.name == feld\n",
    "            value = ludwig_job.train_log[mask_log].iloc[0].value\n",
    "            datasets.loc[mask, feld] = value\n",
    "        datasets.to_csv( 'datasets.csv', index=False) \n",
    "\n",
    "    except:\n",
    "        mask = datasets.dataset_name == experiment_name\n",
    "        datasets.loc[mask, 'status'] = 'Error train'\n",
    "        datasets.to_csv( 'datasets.csv', index=False)         \n",
    "        continue            "
   ]
  },
  {
   "cell_type": "markdown",
   "metadata": {},
   "source": [
    "## Small Cleanup"
   ]
  },
  {
   "cell_type": "code",
   "execution_count": null,
   "metadata": {},
   "outputs": [],
   "source": [
    "try:\n",
    "    !rm *.meta.json\n",
    "    !rm *.hdf5     \n",
    "    !rm .lock_preprocessing     \n",
    "except:\n",
    "    pass"
   ]
  },
  {
   "cell_type": "markdown",
   "metadata": {},
   "source": [
    "## Examine datasets"
   ]
  },
  {
   "cell_type": "code",
   "execution_count": null,
   "metadata": {
    "execution": {
     "iopub.status.busy": "2023-06-21T14:39:15.950324Z",
     "iopub.status.idle": "2023-06-21T14:39:15.950939Z",
     "shell.execute_reply": "2023-06-21T14:39:15.950780Z",
     "shell.execute_reply.started": "2023-06-21T14:39:15.950761Z"
    }
   },
   "outputs": [],
   "source": [
    "# Errors\n",
    "grid(datasets)"
   ]
  },
  {
   "cell_type": "code",
   "execution_count": null,
   "metadata": {
    "execution": {
     "iopub.status.busy": "2023-06-21T14:39:15.951897Z",
     "iopub.status.idle": "2023-06-21T14:39:15.952450Z",
     "shell.execute_reply": "2023-06-21T14:39:15.952308Z",
     "shell.execute_reply.started": "2023-06-21T14:39:15.952290Z"
    }
   },
   "outputs": [],
   "source": [
    "# Error train\n",
    "mask = datasets.status == 'Error train'\n",
    "datasets[mask]"
   ]
  },
  {
   "cell_type": "code",
   "execution_count": null,
   "metadata": {
    "execution": {
     "iopub.status.busy": "2023-06-21T14:39:15.953351Z",
     "iopub.status.idle": "2023-06-21T14:39:15.955301Z",
     "shell.execute_reply": "2023-06-21T14:39:15.954960Z",
     "shell.execute_reply.started": "2023-06-21T14:39:15.954928Z"
    }
   },
   "outputs": [],
   "source": [
    "# Inkonsistent\n",
    "mask = train_log_all.name == 'experiment_name'\n",
    "experiment_names = set(train_log_all[mask].value)\n",
    "#experiment_names\n",
    "\n",
    "mask1 = ~datasets.dataset_name.isin(experiment_names)\n",
    "mask2 = ~datasets.status.isin(['Error train','Error loading'])\n",
    "mask = mask1  &  mask2\n",
    "datasets[mask]"
   ]
  },
  {
   "cell_type": "markdown",
   "metadata": {
    "id": "fJQNbEcpl-nm"
   },
   "source": [
    "## Examine logs"
   ]
  },
  {
   "cell_type": "code",
   "execution_count": null,
   "metadata": {
    "execution": {
     "iopub.status.busy": "2023-06-21T14:39:15.961444Z",
     "iopub.status.idle": "2023-06-21T14:39:15.964281Z",
     "shell.execute_reply": "2023-06-21T14:39:15.964059Z",
     "shell.execute_reply.started": "2023-06-21T14:39:15.964031Z"
    }
   },
   "outputs": [],
   "source": [
    "train_log = bludwig.train_log( train_log_all, T=True )\n",
    "train_log.sort_values(['validation_metric','model'])"
   ]
  },
  {
   "cell_type": "code",
   "execution_count": null,
   "metadata": {
    "execution": {
     "iopub.status.busy": "2023-06-21T14:39:15.971184Z",
     "iopub.status.idle": "2023-06-21T14:39:15.971871Z",
     "shell.execute_reply": "2023-06-21T14:39:15.971684Z",
     "shell.execute_reply.started": "2023-06-21T14:39:15.971661Z"
    }
   },
   "outputs": [],
   "source": [
    "train_log_big = bludwig.train_log_big( train_log_all )\n",
    "train_log_big"
   ]
  },
  {
   "cell_type": "code",
   "execution_count": null,
   "metadata": {
    "execution": {
     "iopub.status.busy": "2023-06-21T14:39:15.972968Z",
     "iopub.status.idle": "2023-06-21T14:39:15.973645Z",
     "shell.execute_reply": "2023-06-21T14:39:15.973466Z",
     "shell.execute_reply.started": "2023-06-21T14:39:15.973442Z"
    }
   },
   "outputs": [],
   "source": [
    "?pak.add_rows"
   ]
  },
  {
   "cell_type": "code",
   "execution_count": null,
   "metadata": {
    "execution": {
     "iopub.status.busy": "2023-06-21T14:39:15.974749Z",
     "iopub.status.idle": "2023-06-21T14:39:15.975421Z",
     "shell.execute_reply": "2023-06-21T14:39:15.975241Z",
     "shell.execute_reply.started": "2023-06-21T14:39:15.975221Z"
    }
   },
   "outputs": [],
   "source": [
    "train_log_raw = train_log_all\n",
    "mask = train_log_raw.name == 'validation_metric'  \n",
    "validation_metrics = train_log_raw[mask]\n",
    "\n",
    "mask = pak.isin(train_log_raw, validation_metrics, left_on=['model_name','name'], right_on=['model_name','value'])\n",
    "df = train_log_raw[mask].copy()\n",
    "df['name'] = 'target_value'\n",
    "train_log_raw = pak.add_rows(train_log_raw, df, only_new=['model_name','name','value'])"
   ]
  },
  {
   "cell_type": "code",
   "execution_count": null,
   "metadata": {
    "execution": {
     "iopub.status.busy": "2023-06-21T14:39:15.976644Z",
     "iopub.status.idle": "2023-06-21T14:39:15.977342Z",
     "shell.execute_reply": "2023-06-21T14:39:15.977161Z",
     "shell.execute_reply.started": "2023-06-21T14:39:15.977139Z"
    }
   },
   "outputs": [],
   "source": [
    "train_log_raw"
   ]
  },
  {
   "cell_type": "markdown",
   "metadata": {
    "id": "fJQNbEcpl-nm"
   },
   "source": [
    "## Colab: Copy back"
   ]
  },
  {
   "cell_type": "code",
   "execution_count": null,
   "metadata": {
    "execution": {
     "iopub.status.busy": "2023-06-21T14:39:15.978415Z",
     "iopub.status.idle": "2023-06-21T14:39:15.979065Z",
     "shell.execute_reply": "2023-06-21T14:39:15.978891Z",
     "shell.execute_reply.started": "2023-06-21T14:39:15.978871Z"
    }
   },
   "outputs": [],
   "source": [
    "if not environment['in_colab']:\n",
    "    raise Stop"
   ]
  },
  {
   "cell_type": "code",
   "execution_count": null,
   "metadata": {
    "colab": {
     "base_uri": "https://localhost:8080/"
    },
    "execution": {
     "iopub.status.busy": "2023-06-21T14:39:15.982248Z",
     "iopub.status.idle": "2023-06-21T14:39:15.982975Z",
     "shell.execute_reply": "2023-06-21T14:39:15.982815Z",
     "shell.execute_reply.started": "2023-06-21T14:39:15.982796Z"
    },
    "executionInfo": {
     "elapsed": 1692,
     "status": "ok",
     "timestamp": 1686256133157,
     "user": {
      "displayName": "Familie Klippstein",
      "userId": "08973939190628445877"
     },
     "user_tz": -120
    },
    "id": "uHW7Ko-NslUa",
    "outputId": "590edae0-b15b-401a-c208-1c701e4668f5"
   },
   "outputs": [],
   "source": [
    "# mount\n",
    "if environment['in_colab']:\n",
    "    from google.colab import drive\n",
    "    drive.mount('/content/drive')  "
   ]
  },
  {
   "cell_type": "code",
   "execution_count": null,
   "metadata": {
    "colab": {
     "base_uri": "https://localhost:8080/"
    },
    "execution": {
     "iopub.status.busy": "2023-06-21T14:39:15.984010Z",
     "iopub.status.idle": "2023-06-21T14:39:15.986651Z",
     "shell.execute_reply": "2023-06-21T14:39:15.986412Z",
     "shell.execute_reply.started": "2023-06-21T14:39:15.986382Z"
    },
    "executionInfo": {
     "elapsed": 1575,
     "status": "ok",
     "timestamp": 1686256600179,
     "user": {
      "displayName": "Familie Klippstein",
      "userId": "08973939190628445877"
     },
     "user_tz": -120
    },
    "id": "meeL3dGNmCaL",
    "outputId": "4becf288-c76a-4978-8524-5d4b3c4e0175"
   },
   "outputs": [],
   "source": [
    "# mount\n",
    "if environment['in_colab']:\n",
    "    from google.colab import drive\n",
    "    drive.mount('/content/drive')  "
   ]
  },
  {
   "cell_type": "code",
   "execution_count": null,
   "metadata": {
    "colab": {
     "base_uri": "https://localhost:8080/"
    },
    "execution": {
     "iopub.status.busy": "2023-06-21T14:39:15.987990Z",
     "iopub.status.idle": "2023-06-21T14:39:15.988838Z",
     "shell.execute_reply": "2023-06-21T14:39:15.988622Z",
     "shell.execute_reply.started": "2023-06-21T14:39:15.988592Z"
    },
    "executionInfo": {
     "elapsed": 380,
     "status": "ok",
     "timestamp": 1686256600550,
     "user": {
      "displayName": "Familie Klippstein",
      "userId": "08973939190628445877"
     },
     "user_tz": -120
    },
    "id": "OVs054v5nE-W",
    "outputId": "9ca81e32-dca0-47a7-bdb8-253feb45c119"
   },
   "outputs": [],
   "source": [
    "if environment['in_colab']:\n",
    "    !ls"
   ]
  },
  {
   "cell_type": "code",
   "execution_count": null,
   "metadata": {
    "colab": {
     "base_uri": "https://localhost:8080/"
    },
    "execution": {
     "iopub.status.busy": "2023-06-21T14:39:15.995266Z",
     "iopub.status.idle": "2023-06-21T14:39:15.996093Z",
     "shell.execute_reply": "2023-06-21T14:39:15.995884Z",
     "shell.execute_reply.started": "2023-06-21T14:39:15.995861Z"
    },
    "executionInfo": {
     "elapsed": 23,
     "status": "ok",
     "timestamp": 1686256600552,
     "user": {
      "displayName": "Familie Klippstein",
      "userId": "08973939190628445877"
     },
     "user_tz": -120
    },
    "id": "M0AjzScGnJKF",
    "outputId": "c8524dfc-63c4-47c7-b88a-5b87bb2c8e2f"
   },
   "outputs": [],
   "source": [
    "if environment['in_colab']:\n",
    "    !ls results"
   ]
  },
  {
   "cell_type": "code",
   "execution_count": null,
   "metadata": {
    "execution": {
     "iopub.status.busy": "2023-06-21T14:39:15.997404Z",
     "iopub.status.idle": "2023-06-21T14:39:15.998195Z",
     "shell.execute_reply": "2023-06-21T14:39:15.998012Z",
     "shell.execute_reply.started": "2023-06-21T14:39:15.997988Z"
    },
    "executionInfo": {
     "elapsed": 2378,
     "status": "ok",
     "timestamp": 1686256602921,
     "user": {
      "displayName": "Familie Klippstein",
      "userId": "08973939190628445877"
     },
     "user_tz": -120
    },
    "id": "fPesu0Nhm06i"
   },
   "outputs": [],
   "source": [
    "# results: copy to GDrive\n",
    "if environment['in_colab']:\n",
    "  results_path = gdrive_base + '/results'\n",
    "  !cp -a results $results_path \n",
    "  !cp train_log*.csv $gdrive_base "
   ]
  },
  {
   "cell_type": "code",
   "execution_count": null,
   "metadata": {
    "colab": {
     "base_uri": "https://localhost:8080/"
    },
    "execution": {
     "iopub.status.busy": "2023-06-21T14:39:15.999629Z",
     "iopub.status.idle": "2023-06-21T14:39:16.000547Z",
     "shell.execute_reply": "2023-06-21T14:39:16.000314Z",
     "shell.execute_reply.started": "2023-06-21T14:39:16.000286Z"
    },
    "executionInfo": {
     "elapsed": 14,
     "status": "ok",
     "timestamp": 1686256964163,
     "user": {
      "displayName": "Familie Klippstein",
      "userId": "08973939190628445877"
     },
     "user_tz": -120
    },
    "id": "-GyVispFp1fh",
    "outputId": "db117307-3146-4688-d909-c5c419e7c637"
   },
   "outputs": [],
   "source": [
    "if environment['in_colab']:\n",
    "    print('Copy back manually:')\n",
    "    print('1) This ipynb-File, if changed')\n",
    "    print('2) results directory')\n",
    "    print('3) train_log file')    \n",
    "else:\n",
    "    print('finished')"
   ]
  },
  {
   "cell_type": "code",
   "execution_count": null,
   "metadata": {
    "colab": {
     "base_uri": "https://localhost:8080/",
     "height": 115
    },
    "execution": {
     "iopub.status.busy": "2023-06-21T14:39:16.001811Z",
     "iopub.status.idle": "2023-06-21T14:39:16.002551Z",
     "shell.execute_reply": "2023-06-21T14:39:16.002345Z",
     "shell.execute_reply.started": "2023-06-21T14:39:16.002321Z"
    },
    "executionInfo": {
     "elapsed": 32,
     "status": "error",
     "timestamp": 1686256603816,
     "user": {
      "displayName": "Familie Klippstein",
      "userId": "08973939190628445877"
     },
     "user_tz": -120
    },
    "id": "QmJKsnOlrJl_",
    "outputId": "4eb142c5-8f2f-4b60-b8a8-bdbd2682e5b3"
   },
   "outputs": [],
   "source": [
    "raise Stop"
   ]
  }
 ],
 "metadata": {
  "accelerator": "GPU",
  "colab": {
   "provenance": []
  },
  "kernelspec": {
   "display_name": "Python 3 (ipykernel)",
   "language": "python",
   "name": "python3"
  },
  "language_info": {
   "codemirror_mode": {
    "name": "ipython",
    "version": 3
   },
   "file_extension": ".py",
   "mimetype": "text/x-python",
   "name": "python",
   "nbconvert_exporter": "python",
   "pygments_lexer": "ipython3",
   "version": "3.9.15"
  }
 },
 "nbformat": 4,
 "nbformat_minor": 4
}
